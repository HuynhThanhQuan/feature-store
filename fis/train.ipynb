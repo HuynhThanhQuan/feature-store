{
 "cells": [
  {
   "cell_type": "code",
   "execution_count": 1,
   "id": "7e55f153-27d5-4aec-a2b0-d2972aba12be",
   "metadata": {
    "tags": []
   },
   "outputs": [],
   "source": [
    "from xgboost import XGBClassifier\n",
    "import pandas as pd"
   ]
  },
  {
   "cell_type": "code",
   "execution_count": 2,
   "id": "ae3c6d2f-5764-42b2-8c47-a516b11c5d69",
   "metadata": {
    "tags": []
   },
   "outputs": [],
   "source": [
    "alg = XGBClassifier(use_label_encoder=False, learning_rate=0.05)"
   ]
  },
  {
   "cell_type": "code",
   "execution_count": 3,
   "id": "ebd0c296-3a1d-4a91-9c4e-9cc37f9c4743",
   "metadata": {
    "tags": []
   },
   "outputs": [],
   "source": [
    "feat_list = pd.read_pickle('feat_list')"
   ]
  },
  {
   "cell_type": "code",
   "execution_count": 4,
   "id": "a885afcf-a2bf-499d-95fc-aa25e05f42cb",
   "metadata": {
    "tags": []
   },
   "outputs": [
    {
     "data": {
      "text/plain": [
       "0                              CASA_HOLD\n",
       "1                       CARD_CREDIT_HOLD\n",
       "2                         AREA_VN0010007\n",
       "3                                    LOR\n",
       "4                         AREA_VN0010005\n",
       "5                         AREA_VN0010006\n",
       "6       EB_SACOMPAY_DAY_SINCE_LTST_LOGIN\n",
       "7                         AREA_VN0010004\n",
       "8                       EB_SACOMPAY_HOLD\n",
       "9                         AREA_VN0010001\n",
       "10                            LIFE_STG_1\n",
       "11                          EB_MBIB_HOLD\n",
       "12               CASA_DAY_SINCE_LTST_TXN\n",
       "13                            LIFE_STG_5\n",
       "14              EB_MBIB_DAY_SINCE_ACTIVE\n",
       "15                            LIFE_STG_4\n",
       "16                      CASA_SUM_BAL_NOW\n",
       "17                            LIFE_STG_2\n",
       "18                        AREA_VN0010002\n",
       "19              CARD_CREDIT_CT_OTHER_BNK\n",
       "20    CARD_CREDIT_MAX_CLASS_OTHER_BANK_0\n",
       "21     CARD_CREDIT_SUM_BAL_AMT_OTHER_BNK\n",
       "22                 CARD_CREDIT_MAX_LIMIT\n",
       "23    CARD_CREDIT_MAX_CLASS_OTHER_BANK_3\n",
       "24        EB_SACOMPAY_DAY_SINCE_LTST_TXN\n",
       "25                            LIFE_STG_3\n",
       "26                DIST_CUST_FAV_POS_TOP1\n",
       "27    CARD_CREDIT_MAX_CLASS_OTHER_BANK_1\n",
       "28                        AREA_VN0010003\n",
       "29    CARD_CREDIT_MAX_CLASS_OTHER_BANK_4\n",
       "30    CARD_CREDIT_MAX_CLASS_OTHER_BANK_2\n",
       "31                     DIST_CUST_FAV_ATM\n",
       "32    CARD_CREDIT_MAX_CLASS_OTHER_BANK_5\n",
       "33                          CREDIT_SCORE\n",
       "34               CARD_CREDIT_SUM_BAL_NOW\n",
       "Name: feature_name, dtype: object"
      ]
     },
     "execution_count": 4,
     "metadata": {},
     "output_type": "execute_result"
    }
   ],
   "source": [
    "feat_list"
   ]
  },
  {
   "cell_type": "code",
   "execution_count": 5,
   "id": "efb42fb6-8ae1-4a57-b8fc-8fc53d86e125",
   "metadata": {
    "tags": []
   },
   "outputs": [],
   "source": [
    "## After sampling\n",
    "# X_balanced = pd.read_pickle('X_balanced.pkl', 'gzip')\n",
    "# y_balanced = pd.read_pickle('y_balanced.pkl', 'gzip')\n",
    "# alg.fit(X_balanced[feat_list], y_balanced)"
   ]
  },
  {
   "cell_type": "code",
   "execution_count": 24,
   "id": "4e9d2b62-6d35-426d-947c-410a4d076de8",
   "metadata": {
    "tags": []
   },
   "outputs": [],
   "source": [
    "# Raw \n",
    "X_train = pd.read_pickle('X_train.pkl', 'gzip')\n",
    "y_train = pd.read_pickle('y_train.pkl', 'gzip')\n",
    "X_val = pd.read_pickle('X_val.pkl', 'gzip')\n",
    "y_val = pd.read_pickle('y_val.pkl', 'gzip')\n",
    "X_test = pd.read_pickle('X_test.pkl', 'gzip')\n",
    "y_test = pd.read_pickle('y_test.pkl', 'gzip')"
   ]
  },
  {
   "cell_type": "code",
   "execution_count": 25,
   "id": "ab5f57ab-9522-4703-898f-ee577e59cdc6",
   "metadata": {
    "tags": []
   },
   "outputs": [
    {
     "data": {
      "text/plain": [
       "RPT_DT\n",
       "01-07-2022    2788101\n",
       "01-08-2022    2760845\n",
       "Name: CUSTOMER_CDE, dtype: int64"
      ]
     },
     "execution_count": 25,
     "metadata": {},
     "output_type": "execute_result"
    }
   ],
   "source": [
    "X_train = X_train.reset_index()\n",
    "X_train.groupby('RPT_DT')['CUSTOMER_CDE'].nunique()"
   ]
  },
  {
   "cell_type": "code",
   "execution_count": 29,
   "id": "68f2f35b-a7f7-4414-a885-2c346aeb677c",
   "metadata": {
    "tags": []
   },
   "outputs": [
    {
     "data": {
      "text/plain": [
       "0    0.956128\n",
       "1    0.043872\n",
       "Name: REACTIVATED, dtype: float64"
      ]
     },
     "execution_count": 29,
     "metadata": {},
     "output_type": "execute_result"
    }
   ],
   "source": [
    "y_train.value_counts(normalize=True)"
   ]
  },
  {
   "cell_type": "code",
   "execution_count": 26,
   "id": "24138d47-cd54-46be-bcd5-63f651904a9a",
   "metadata": {
    "tags": []
   },
   "outputs": [
    {
     "data": {
      "text/plain": [
       "RPT_DT\n",
       "01-09-2022    2754627\n",
       "Name: CUSTOMER_CDE, dtype: int64"
      ]
     },
     "execution_count": 26,
     "metadata": {},
     "output_type": "execute_result"
    }
   ],
   "source": [
    "X_val = X_val.reset_index()\n",
    "X_val.groupby('RPT_DT')['CUSTOMER_CDE'].nunique()"
   ]
  },
  {
   "cell_type": "code",
   "execution_count": 30,
   "id": "456822e0-86f1-45c7-bc2d-9533ce5d2210",
   "metadata": {
    "tags": []
   },
   "outputs": [
    {
     "data": {
      "text/plain": [
       "0    0.970125\n",
       "1    0.029875\n",
       "Name: REACTIVATED, dtype: float64"
      ]
     },
     "execution_count": 30,
     "metadata": {},
     "output_type": "execute_result"
    }
   ],
   "source": [
    "y_val.value_counts(normalize=True)"
   ]
  },
  {
   "cell_type": "code",
   "execution_count": 27,
   "id": "cbf4b1b0-b490-4c3b-b2fd-8c6723ea6f06",
   "metadata": {
    "tags": []
   },
   "outputs": [
    {
     "data": {
      "text/plain": [
       "RPT_DT\n",
       "01-10-2022    2772006\n",
       "Name: CUSTOMER_CDE, dtype: int64"
      ]
     },
     "execution_count": 27,
     "metadata": {},
     "output_type": "execute_result"
    }
   ],
   "source": [
    "X_test = X_test.reset_index()\n",
    "X_test.groupby('RPT_DT')['CUSTOMER_CDE'].nunique()"
   ]
  },
  {
   "cell_type": "code",
   "execution_count": 31,
   "id": "819cbaae-4ff6-48de-9449-cfe7291208cb",
   "metadata": {
    "tags": []
   },
   "outputs": [
    {
     "data": {
      "text/plain": [
       "0    0.965544\n",
       "1    0.034456\n",
       "Name: REACTIVATED, dtype: float64"
      ]
     },
     "execution_count": 31,
     "metadata": {},
     "output_type": "execute_result"
    }
   ],
   "source": [
    "y_test.value_counts(normalize=True)"
   ]
  },
  {
   "cell_type": "code",
   "execution_count": null,
   "id": "6f3710fd-7972-421f-bb27-8930a1b1c4ce",
   "metadata": {},
   "outputs": [],
   "source": []
  },
  {
   "cell_type": "code",
   "execution_count": 7,
   "id": "844762c8-bfba-4189-b6a3-f4510e51f0f4",
   "metadata": {
    "tags": []
   },
   "outputs": [],
   "source": [
    "# X_train.to_parquet('X_train.parquet')\n",
    "# y_train.to_parquet('y_train.parquet')\n",
    "# X_val.to_parquet('X_val.parquet')\n",
    "# y_val.to_parquet('y_val.parquet')\n",
    "# X_test.to_parquet('X_test.parquet')\n",
    "# y_test.to_parquet('y_test.parquet')"
   ]
  },
  {
   "cell_type": "code",
   "execution_count": 8,
   "id": "a8e3faf4-d4c4-46ad-a7ae-11fd98d7dd65",
   "metadata": {
    "tags": []
   },
   "outputs": [
    {
     "data": {
      "text/html": [
       "<style>#sk-container-id-1 {color: black;}#sk-container-id-1 pre{padding: 0;}#sk-container-id-1 div.sk-toggleable {background-color: white;}#sk-container-id-1 label.sk-toggleable__label {cursor: pointer;display: block;width: 100%;margin-bottom: 0;padding: 0.3em;box-sizing: border-box;text-align: center;}#sk-container-id-1 label.sk-toggleable__label-arrow:before {content: \"▸\";float: left;margin-right: 0.25em;color: #696969;}#sk-container-id-1 label.sk-toggleable__label-arrow:hover:before {color: black;}#sk-container-id-1 div.sk-estimator:hover label.sk-toggleable__label-arrow:before {color: black;}#sk-container-id-1 div.sk-toggleable__content {max-height: 0;max-width: 0;overflow: hidden;text-align: left;background-color: #f0f8ff;}#sk-container-id-1 div.sk-toggleable__content pre {margin: 0.2em;color: black;border-radius: 0.25em;background-color: #f0f8ff;}#sk-container-id-1 input.sk-toggleable__control:checked~div.sk-toggleable__content {max-height: 200px;max-width: 100%;overflow: auto;}#sk-container-id-1 input.sk-toggleable__control:checked~label.sk-toggleable__label-arrow:before {content: \"▾\";}#sk-container-id-1 div.sk-estimator input.sk-toggleable__control:checked~label.sk-toggleable__label {background-color: #d4ebff;}#sk-container-id-1 div.sk-label input.sk-toggleable__control:checked~label.sk-toggleable__label {background-color: #d4ebff;}#sk-container-id-1 input.sk-hidden--visually {border: 0;clip: rect(1px 1px 1px 1px);clip: rect(1px, 1px, 1px, 1px);height: 1px;margin: -1px;overflow: hidden;padding: 0;position: absolute;width: 1px;}#sk-container-id-1 div.sk-estimator {font-family: monospace;background-color: #f0f8ff;border: 1px dotted black;border-radius: 0.25em;box-sizing: border-box;margin-bottom: 0.5em;}#sk-container-id-1 div.sk-estimator:hover {background-color: #d4ebff;}#sk-container-id-1 div.sk-parallel-item::after {content: \"\";width: 100%;border-bottom: 1px solid gray;flex-grow: 1;}#sk-container-id-1 div.sk-label:hover label.sk-toggleable__label {background-color: #d4ebff;}#sk-container-id-1 div.sk-serial::before {content: \"\";position: absolute;border-left: 1px solid gray;box-sizing: border-box;top: 0;bottom: 0;left: 50%;z-index: 0;}#sk-container-id-1 div.sk-serial {display: flex;flex-direction: column;align-items: center;background-color: white;padding-right: 0.2em;padding-left: 0.2em;position: relative;}#sk-container-id-1 div.sk-item {position: relative;z-index: 1;}#sk-container-id-1 div.sk-parallel {display: flex;align-items: stretch;justify-content: center;background-color: white;position: relative;}#sk-container-id-1 div.sk-item::before, #sk-container-id-1 div.sk-parallel-item::before {content: \"\";position: absolute;border-left: 1px solid gray;box-sizing: border-box;top: 0;bottom: 0;left: 50%;z-index: -1;}#sk-container-id-1 div.sk-parallel-item {display: flex;flex-direction: column;z-index: 1;position: relative;background-color: white;}#sk-container-id-1 div.sk-parallel-item:first-child::after {align-self: flex-end;width: 50%;}#sk-container-id-1 div.sk-parallel-item:last-child::after {align-self: flex-start;width: 50%;}#sk-container-id-1 div.sk-parallel-item:only-child::after {width: 0;}#sk-container-id-1 div.sk-dashed-wrapped {border: 1px dashed gray;margin: 0 0.4em 0.5em 0.4em;box-sizing: border-box;padding-bottom: 0.4em;background-color: white;}#sk-container-id-1 div.sk-label label {font-family: monospace;font-weight: bold;display: inline-block;line-height: 1.2em;}#sk-container-id-1 div.sk-label-container {text-align: center;}#sk-container-id-1 div.sk-container {/* jupyter's `normalize.less` sets `[hidden] { display: none; }` but bootstrap.min.css set `[hidden] { display: none !important; }` so we also need the `!important` here to be able to override the default hidden behavior on the sphinx rendered scikit-learn.org. See: https://github.com/scikit-learn/scikit-learn/issues/21755 */display: inline-block !important;position: relative;}#sk-container-id-1 div.sk-text-repr-fallback {display: none;}</style><div id=\"sk-container-id-1\" class=\"sk-top-container\"><div class=\"sk-text-repr-fallback\"><pre>XGBClassifier(base_score=None, booster=None, callbacks=None,\n",
       "              colsample_bylevel=None, colsample_bynode=None,\n",
       "              colsample_bytree=None, device=None, early_stopping_rounds=None,\n",
       "              enable_categorical=False, eval_metric=None, feature_types=None,\n",
       "              gamma=None, grow_policy=None, importance_type=None,\n",
       "              interaction_constraints=None, learning_rate=0.05, max_bin=None,\n",
       "              max_cat_threshold=None, max_cat_to_onehot=None,\n",
       "              max_delta_step=None, max_depth=None, max_leaves=None,\n",
       "              min_child_weight=None, missing=nan, monotone_constraints=None,\n",
       "              multi_strategy=None, n_estimators=None, n_jobs=None,\n",
       "              num_parallel_tree=None, random_state=None, ...)</pre><b>In a Jupyter environment, please rerun this cell to show the HTML representation or trust the notebook. <br />On GitHub, the HTML representation is unable to render, please try loading this page with nbviewer.org.</b></div><div class=\"sk-container\" hidden><div class=\"sk-item\"><div class=\"sk-estimator sk-toggleable\"><input class=\"sk-toggleable__control sk-hidden--visually\" id=\"sk-estimator-id-1\" type=\"checkbox\" checked><label for=\"sk-estimator-id-1\" class=\"sk-toggleable__label sk-toggleable__label-arrow\">XGBClassifier</label><div class=\"sk-toggleable__content\"><pre>XGBClassifier(base_score=None, booster=None, callbacks=None,\n",
       "              colsample_bylevel=None, colsample_bynode=None,\n",
       "              colsample_bytree=None, device=None, early_stopping_rounds=None,\n",
       "              enable_categorical=False, eval_metric=None, feature_types=None,\n",
       "              gamma=None, grow_policy=None, importance_type=None,\n",
       "              interaction_constraints=None, learning_rate=0.05, max_bin=None,\n",
       "              max_cat_threshold=None, max_cat_to_onehot=None,\n",
       "              max_delta_step=None, max_depth=None, max_leaves=None,\n",
       "              min_child_weight=None, missing=nan, monotone_constraints=None,\n",
       "              multi_strategy=None, n_estimators=None, n_jobs=None,\n",
       "              num_parallel_tree=None, random_state=None, ...)</pre></div></div></div></div></div>"
      ],
      "text/plain": [
       "XGBClassifier(base_score=None, booster=None, callbacks=None,\n",
       "              colsample_bylevel=None, colsample_bynode=None,\n",
       "              colsample_bytree=None, device=None, early_stopping_rounds=None,\n",
       "              enable_categorical=False, eval_metric=None, feature_types=None,\n",
       "              gamma=None, grow_policy=None, importance_type=None,\n",
       "              interaction_constraints=None, learning_rate=0.05, max_bin=None,\n",
       "              max_cat_threshold=None, max_cat_to_onehot=None,\n",
       "              max_delta_step=None, max_depth=None, max_leaves=None,\n",
       "              min_child_weight=None, missing=nan, monotone_constraints=None,\n",
       "              multi_strategy=None, n_estimators=None, n_jobs=None,\n",
       "              num_parallel_tree=None, random_state=None, ...)"
      ]
     },
     "execution_count": 8,
     "metadata": {},
     "output_type": "execute_result"
    }
   ],
   "source": [
    "alg.fit(X_train, y_train)"
   ]
  },
  {
   "cell_type": "code",
   "execution_count": null,
   "id": "490c11b2-4458-49b5-a956-4bb7b6495460",
   "metadata": {},
   "outputs": [],
   "source": []
  }
 ],
 "metadata": {
  "kernelspec": {
   "display_name": "Python 3 (ipykernel)",
   "language": "python",
   "name": "python3"
  },
  "language_info": {
   "codemirror_mode": {
    "name": "ipython",
    "version": 3
   },
   "file_extension": ".py",
   "mimetype": "text/x-python",
   "name": "python",
   "nbconvert_exporter": "python",
   "pygments_lexer": "ipython3",
   "version": "3.8.13"
  }
 },
 "nbformat": 4,
 "nbformat_minor": 5
}
