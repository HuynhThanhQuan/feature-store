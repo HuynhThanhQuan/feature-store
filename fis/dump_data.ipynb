{
 "cells": [
  {
   "cell_type": "code",
   "execution_count": 7,
   "id": "de59489b-06bf-4892-8259-2d92be9dd01b",
   "metadata": {
    "tags": []
   },
   "outputs": [],
   "source": [
    "import joblib, pickle, cloudpickle"
   ]
  },
  {
   "cell_type": "code",
   "execution_count": 5,
   "id": "1fac2ffd-6add-4560-b60c-6dd371fd146e",
   "metadata": {
    "tags": []
   },
   "outputs": [
    {
     "name": "stderr",
     "output_type": "stream",
     "text": [
      "/opt/bitnami/miniconda/lib/python3.8/site-packages/xgboost/core.py:160: UserWarning: [07:17:01] WARNING: /workspace/src/learner.cc:873: Found JSON model saved before XGBoost 1.6, please save the model using current version again. The support for old JSON model will be discontinued in XGBoost 2.3.\n",
      "  warnings.warn(smsg, UserWarning)\n"
     ]
    }
   ],
   "source": [
    "alg = joblib.load('REACTIVE_CLASSIFICATION_354')"
   ]
  },
  {
   "cell_type": "code",
   "execution_count": 13,
   "id": "d8b106e8-b844-4751-be52-1ef97fc4cb82",
   "metadata": {
    "tags": []
   },
   "outputs": [],
   "source": [
    "p_obj = pickle.dump(alg, open('reactive-xgboost.pkl','wb'))"
   ]
  },
  {
   "cell_type": "code",
   "execution_count": null,
   "id": "8f1ae52b-997c-4cb8-8584-b6f290915a59",
   "metadata": {},
   "outputs": [],
   "source": []
  }
 ],
 "metadata": {
  "kernelspec": {
   "display_name": "Python 3 (ipykernel)",
   "language": "python",
   "name": "python3"
  },
  "language_info": {
   "codemirror_mode": {
    "name": "ipython",
    "version": 3
   },
   "file_extension": ".py",
   "mimetype": "text/x-python",
   "name": "python",
   "nbconvert_exporter": "python",
   "pygments_lexer": "ipython3",
   "version": "3.8.13"
  }
 },
 "nbformat": 4,
 "nbformat_minor": 5
}
