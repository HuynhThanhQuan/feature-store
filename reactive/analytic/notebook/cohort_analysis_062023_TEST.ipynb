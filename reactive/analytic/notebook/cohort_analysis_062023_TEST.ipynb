{
 "cells": [
  {
   "cell_type": "code",
   "execution_count": 1,
   "metadata": {},
   "outputs": [
    {
     "name": "stdout",
     "output_type": "stream",
     "text": [
      "['Solarize_Light2', '_classic_test_patch', '_mpl-gallery', '_mpl-gallery-nogrid', 'bmh', 'classic', 'dark_background', 'fast', 'fivethirtyeight', 'ggplot', 'grayscale', 'seaborn-v0_8', 'seaborn-v0_8-bright', 'seaborn-v0_8-colorblind', 'seaborn-v0_8-dark', 'seaborn-v0_8-dark-palette', 'seaborn-v0_8-darkgrid', 'seaborn-v0_8-deep', 'seaborn-v0_8-muted', 'seaborn-v0_8-notebook', 'seaborn-v0_8-paper', 'seaborn-v0_8-pastel', 'seaborn-v0_8-poster', 'seaborn-v0_8-talk', 'seaborn-v0_8-ticks', 'seaborn-v0_8-white', 'seaborn-v0_8-whitegrid', 'tableau-colorblind10']\n",
      "Connected DB CINS_SMY - conn\n",
      "Connected oraDW_ANALYTICS - conn_aly\n"
     ]
    }
   ],
   "source": [
    "from util import *"
   ]
  },
  {
   "cell_type": "code",
   "execution_count": null,
   "metadata": {},
   "outputs": [],
   "source": [
    "cohort06_query = \"\"\"WITH \n",
    "T0 AS (\n",
    "    SELECT * FROM CINS_REACTIVATED_SCORE_01062023\n",
    "),\n",
    "T1 AS (\n",
    "    SELECT * FROM CINS_FEATURE_STORE_REACTIVATED_01062023\n",
    "    WHERE FTR_NM = 'REACTIVATED'\n",
    "),\n",
    "T2 AS (\n",
    "    SELECT T0.*, T1.FTR_VAL AS REACTIVATED\n",
    "    FROM T0 LEFT JOIN T1 ON T0.CUSTOMER_CDE = T1.CUSTOMER_CDE\n",
    "    WHERE T0.CUSTOMER_CDE IS NOT NULL)\n",
    "SELECT * FROM T2\"\"\""
   ]
  },
  {
   "cell_type": "code",
   "execution_count": null,
   "metadata": {},
   "outputs": [],
   "source": [
    "cohort07_query = \"\"\"WITH \n",
    "T0 AS (\n",
    "    SELECT * FROM CINS_REACTIVATED_SCORE_01072023\n",
    "),\n",
    "T1 AS (\n",
    "    SELECT * FROM CINS_FEATURE_STORE_REACTIVATED_01072023\n",
    "    WHERE FTR_NM = 'REACTIVATED'\n",
    "),\n",
    "T2 AS (\n",
    "    SELECT T0.*, T1.FTR_VAL AS REACTIVATED\n",
    "    FROM T0 LEFT JOIN T1 ON T0.CUSTOMER_CDE = T1.CUSTOMER_CDE\n",
    "    WHERE T0.CUSTOMER_CDE IS NOT NULL)\n",
    "SELECT * FROM T2\"\"\""
   ]
  },
  {
   "cell_type": "code",
   "execution_count": null,
   "metadata": {},
   "outputs": [],
   "source": [
    "cohort08_query = \"\"\"WITH \n",
    "T0 AS (\n",
    "    SELECT * FROM CINS_REACTIVATED_SCORE_01082023\n",
    "),\n",
    "T1 AS (\n",
    "    SELECT * FROM CINS_FEATURE_STORE_REACTIVATED_01082023\n",
    "    WHERE FTR_NM = 'REACTIVATED'\n",
    "),\n",
    "T2 AS (\n",
    "    SELECT T0.*, T1.FTR_VAL AS REACTIVATED\n",
    "    FROM T0 LEFT JOIN T1 ON T0.CUSTOMER_CDE = T1.CUSTOMER_CDE\n",
    "    WHERE T0.CUSTOMER_CDE IS NOT NULL)\n",
    "SELECT * FROM T2\"\"\""
   ]
  },
  {
   "cell_type": "code",
   "execution_count": null,
   "metadata": {},
   "outputs": [],
   "source": [
    "# cohort06 = download_or_reload('data/COHORT_06_TEST', cohort06_query)\n",
    "# cohort06.columns = [i +'_06' for i in cohort06.columns]\n",
    "# cohort07 = download_or_reload('data/COHORT_07_TEST', cohort07_query)\n",
    "# cohort07.columns = [i +'_07' for i in cohort07.columns]\n",
    "# cohort08 = download_or_reload('data/COHORT_08_TEST', cohort08_query)\n",
    "# cohort08.columns = [i +'_08' for i in cohort08.columns]\n",
    "# df = cohort06.merge(cohort07, how='inner', left_on='CUSTOMER_CDE_06', right_on='CUSTOMER_CDE_07')\n",
    "# df = df.merge(cohort08, how='inner', left_on='CUSTOMER_CDE_06', right_on='CUSTOMER_CDE_08')\n",
    "# df.to_parquet('data/COHORT_06_ALY')"
   ]
  },
  {
   "cell_type": "code",
   "execution_count": 2,
   "metadata": {},
   "outputs": [],
   "source": [
    "df = pd.read_parquet('data/COHORT_06_ALY')"
   ]
  },
  {
   "cell_type": "code",
   "execution_count": 3,
   "metadata": {},
   "outputs": [
    {
     "data": {
      "text/html": [
       "<div>\n",
       "<style scoped>\n",
       "    .dataframe tbody tr th:only-of-type {\n",
       "        vertical-align: middle;\n",
       "    }\n",
       "\n",
       "    .dataframe tbody tr th {\n",
       "        vertical-align: top;\n",
       "    }\n",
       "\n",
       "    .dataframe thead th {\n",
       "        text-align: right;\n",
       "    }\n",
       "</style>\n",
       "<table border=\"1\" class=\"dataframe\">\n",
       "  <thead>\n",
       "    <tr style=\"text-align: right;\">\n",
       "      <th></th>\n",
       "      <th>CUSTOMER_CDE_06</th>\n",
       "      <th>SCORE_06</th>\n",
       "      <th>REACTIVATED_06</th>\n",
       "      <th>CUSTOMER_CDE_07</th>\n",
       "      <th>SCORE_07</th>\n",
       "      <th>REACTIVATED_07</th>\n",
       "      <th>CUSTOMER_CDE_08</th>\n",
       "      <th>SCORE_08</th>\n",
       "      <th>REACTIVATED_08</th>\n",
       "    </tr>\n",
       "  </thead>\n",
       "  <tbody>\n",
       "    <tr>\n",
       "      <th>0</th>\n",
       "      <td>18116728</td>\n",
       "      <td>1.000000</td>\n",
       "      <td>None</td>\n",
       "      <td>18116728</td>\n",
       "      <td>1.000000</td>\n",
       "      <td>None</td>\n",
       "      <td>18116728</td>\n",
       "      <td>0.999999</td>\n",
       "      <td>None</td>\n",
       "    </tr>\n",
       "    <tr>\n",
       "      <th>1</th>\n",
       "      <td>17975189</td>\n",
       "      <td>1.000000</td>\n",
       "      <td>None</td>\n",
       "      <td>17975189</td>\n",
       "      <td>1.000000</td>\n",
       "      <td>None</td>\n",
       "      <td>17975189</td>\n",
       "      <td>0.999999</td>\n",
       "      <td>None</td>\n",
       "    </tr>\n",
       "    <tr>\n",
       "      <th>2</th>\n",
       "      <td>17994788</td>\n",
       "      <td>1.000000</td>\n",
       "      <td>None</td>\n",
       "      <td>17994788</td>\n",
       "      <td>0.999999</td>\n",
       "      <td>None</td>\n",
       "      <td>17994788</td>\n",
       "      <td>0.999999</td>\n",
       "      <td>None</td>\n",
       "    </tr>\n",
       "    <tr>\n",
       "      <th>3</th>\n",
       "      <td>18129908</td>\n",
       "      <td>1.000000</td>\n",
       "      <td>None</td>\n",
       "      <td>18129908</td>\n",
       "      <td>1.000000</td>\n",
       "      <td>None</td>\n",
       "      <td>18129908</td>\n",
       "      <td>0.999999</td>\n",
       "      <td>None</td>\n",
       "    </tr>\n",
       "    <tr>\n",
       "      <th>4</th>\n",
       "      <td>5412267</td>\n",
       "      <td>1.000000</td>\n",
       "      <td>None</td>\n",
       "      <td>5412267</td>\n",
       "      <td>1.000000</td>\n",
       "      <td>None</td>\n",
       "      <td>5412267</td>\n",
       "      <td>1.000000</td>\n",
       "      <td>None</td>\n",
       "    </tr>\n",
       "    <tr>\n",
       "      <th>...</th>\n",
       "      <td>...</td>\n",
       "      <td>...</td>\n",
       "      <td>...</td>\n",
       "      <td>...</td>\n",
       "      <td>...</td>\n",
       "      <td>...</td>\n",
       "      <td>...</td>\n",
       "      <td>...</td>\n",
       "      <td>...</td>\n",
       "    </tr>\n",
       "    <tr>\n",
       "      <th>16593954</th>\n",
       "      <td>18435254</td>\n",
       "      <td>0.000044</td>\n",
       "      <td>None</td>\n",
       "      <td>18435254</td>\n",
       "      <td>0.000044</td>\n",
       "      <td>None</td>\n",
       "      <td>18435254</td>\n",
       "      <td>0.000044</td>\n",
       "      <td>None</td>\n",
       "    </tr>\n",
       "    <tr>\n",
       "      <th>16593955</th>\n",
       "      <td>18722356</td>\n",
       "      <td>0.000044</td>\n",
       "      <td>None</td>\n",
       "      <td>18722356</td>\n",
       "      <td>0.000044</td>\n",
       "      <td>None</td>\n",
       "      <td>18722356</td>\n",
       "      <td>0.000044</td>\n",
       "      <td>None</td>\n",
       "    </tr>\n",
       "    <tr>\n",
       "      <th>16593956</th>\n",
       "      <td>18211613</td>\n",
       "      <td>0.000044</td>\n",
       "      <td>None</td>\n",
       "      <td>18211613</td>\n",
       "      <td>0.000044</td>\n",
       "      <td>None</td>\n",
       "      <td>18211613</td>\n",
       "      <td>0.999976</td>\n",
       "      <td>None</td>\n",
       "    </tr>\n",
       "    <tr>\n",
       "      <th>16593957</th>\n",
       "      <td>18160608</td>\n",
       "      <td>0.000044</td>\n",
       "      <td>None</td>\n",
       "      <td>18160608</td>\n",
       "      <td>0.008312</td>\n",
       "      <td>None</td>\n",
       "      <td>18160608</td>\n",
       "      <td>0.003813</td>\n",
       "      <td>None</td>\n",
       "    </tr>\n",
       "    <tr>\n",
       "      <th>16593958</th>\n",
       "      <td>18635204</td>\n",
       "      <td>0.000044</td>\n",
       "      <td>None</td>\n",
       "      <td>18635204</td>\n",
       "      <td>0.000044</td>\n",
       "      <td>None</td>\n",
       "      <td>18635204</td>\n",
       "      <td>0.000044</td>\n",
       "      <td>None</td>\n",
       "    </tr>\n",
       "  </tbody>\n",
       "</table>\n",
       "<p>16593959 rows × 9 columns</p>\n",
       "</div>"
      ],
      "text/plain": [
       "         CUSTOMER_CDE_06  SCORE_06 REACTIVATED_06 CUSTOMER_CDE_07  SCORE_07  \\\n",
       "0               18116728  1.000000           None        18116728  1.000000   \n",
       "1               17975189  1.000000           None        17975189  1.000000   \n",
       "2               17994788  1.000000           None        17994788  0.999999   \n",
       "3               18129908  1.000000           None        18129908  1.000000   \n",
       "4                5412267  1.000000           None         5412267  1.000000   \n",
       "...                  ...       ...            ...             ...       ...   \n",
       "16593954        18435254  0.000044           None        18435254  0.000044   \n",
       "16593955        18722356  0.000044           None        18722356  0.000044   \n",
       "16593956        18211613  0.000044           None        18211613  0.000044   \n",
       "16593957        18160608  0.000044           None        18160608  0.008312   \n",
       "16593958        18635204  0.000044           None        18635204  0.000044   \n",
       "\n",
       "         REACTIVATED_07 CUSTOMER_CDE_08  SCORE_08 REACTIVATED_08  \n",
       "0                  None        18116728  0.999999           None  \n",
       "1                  None        17975189  0.999999           None  \n",
       "2                  None        17994788  0.999999           None  \n",
       "3                  None        18129908  0.999999           None  \n",
       "4                  None         5412267  1.000000           None  \n",
       "...                 ...             ...       ...            ...  \n",
       "16593954           None        18435254  0.000044           None  \n",
       "16593955           None        18722356  0.000044           None  \n",
       "16593956           None        18211613  0.999976           None  \n",
       "16593957           None        18160608  0.003813           None  \n",
       "16593958           None        18635204  0.000044           None  \n",
       "\n",
       "[16593959 rows x 9 columns]"
      ]
     },
     "execution_count": 3,
     "metadata": {},
     "output_type": "execute_result"
    }
   ],
   "source": [
    "df"
   ]
  },
  {
   "cell_type": "code",
   "execution_count": 9,
   "metadata": {},
   "outputs": [
    {
     "name": "stdout",
     "output_type": "stream",
     "text": [
      "<class 'pandas.core.frame.DataFrame'>\n",
      "Int64Index: 16593959 entries, 0 to 16593958\n",
      "Data columns (total 9 columns):\n",
      " #   Column           Dtype  \n",
      "---  ------           -----  \n",
      " 0   CUSTOMER_CDE_06  object \n",
      " 1   SCORE_06         float64\n",
      " 2   REACTIVATED_06   object \n",
      " 3   CUSTOMER_CDE_07  object \n",
      " 4   SCORE_07         float64\n",
      " 5   REACTIVATED_07   object \n",
      " 6   CUSTOMER_CDE_08  object \n",
      " 7   SCORE_08         float64\n",
      " 8   REACTIVATED_08   object \n",
      "dtypes: float64(3), object(6)\n",
      "memory usage: 1.2+ GB\n"
     ]
    }
   ],
   "source": [
    "df.info()"
   ]
  },
  {
   "cell_type": "code",
   "execution_count": 15,
   "metadata": {},
   "outputs": [],
   "source": [
    "df1 = df[df['REACTIVATED_06']!='1'].sort_values(by='SCORE_06', ascending=False)[:500000]"
   ]
  },
  {
   "cell_type": "code",
   "execution_count": 16,
   "metadata": {},
   "outputs": [
    {
     "data": {
      "text/plain": [
       "None    500000\n",
       "Name: REACTIVATED_06, dtype: int64"
      ]
     },
     "execution_count": 16,
     "metadata": {},
     "output_type": "execute_result"
    }
   ],
   "source": [
    "df1['REACTIVATED_06'].value_counts(dropna=False)"
   ]
  },
  {
   "cell_type": "code",
   "execution_count": 17,
   "metadata": {},
   "outputs": [
    {
     "data": {
      "text/plain": [
       "None    500000\n",
       "Name: REACTIVATED_07, dtype: int64"
      ]
     },
     "execution_count": 17,
     "metadata": {},
     "output_type": "execute_result"
    }
   ],
   "source": [
    "df1['REACTIVATED_07'].value_counts(dropna=False)"
   ]
  },
  {
   "cell_type": "code",
   "execution_count": null,
   "metadata": {},
   "outputs": [],
   "source": []
  }
 ],
 "metadata": {
  "kernelspec": {
   "display_name": "Python 3",
   "language": "python",
   "name": "python3"
  },
  "language_info": {
   "codemirror_mode": {
    "name": "ipython",
    "version": 3
   },
   "file_extension": ".py",
   "mimetype": "text/x-python",
   "name": "python",
   "nbconvert_exporter": "python",
   "pygments_lexer": "ipython3",
   "version": "3.9.17"
  }
 },
 "nbformat": 4,
 "nbformat_minor": 2
}
