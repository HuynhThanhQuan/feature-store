{
 "cells": [
  {
   "cell_type": "code",
   "execution_count": 78,
   "id": "dabb17db-e01c-4bc1-a528-63a878895be9",
   "metadata": {
    "tags": []
   },
   "outputs": [],
   "source": [
    "import pandas as pd\n",
    "import seaborn as sns\n",
    "import matplotlib.pyplot as plt"
   ]
  },
  {
   "cell_type": "code",
   "execution_count": 2,
   "id": "f2581c1e-5d29-4ddc-8691-3ff6319ef99b",
   "metadata": {
    "tags": []
   },
   "outputs": [],
   "source": [
    "import xgboost"
   ]
  },
  {
   "cell_type": "code",
   "execution_count": 3,
   "id": "7960af87-b77c-4d3a-9e44-5a9275873f22",
   "metadata": {
    "tags": []
   },
   "outputs": [],
   "source": [
    "import pickle"
   ]
  },
  {
   "cell_type": "markdown",
   "id": "f959d725-851b-4d93-b74d-42dfc9f18349",
   "metadata": {},
   "source": [
    "# GET REPORT_DATE"
   ]
  },
  {
   "cell_type": "code",
   "execution_count": 4,
   "id": "5d72d922-0a6b-4ef8-a77a-3c5fdcab4af4",
   "metadata": {
    "tags": []
   },
   "outputs": [],
   "source": [
    "REPORT_DATE = '01-06-2023'"
   ]
  },
  {
   "cell_type": "markdown",
   "id": "9f5f027f-bd59-4271-9dc2-0b0d596eb529",
   "metadata": {
    "tags": []
   },
   "source": [
    "## GET FORMATTED AND SCORE"
   ]
  },
  {
   "cell_type": "code",
   "execution_count": 36,
   "id": "e869f40e-0276-4d29-9efe-c95715b9e53b",
   "metadata": {
    "tags": []
   },
   "outputs": [],
   "source": [
    "df =  pd.read_parquet(f'../data/{REPORT_DATE}/CASA_DAY_SINCE_LAST_TXN_CT_36M')\n",
    "df1 = pd.read_parquet(f'../data/{REPORT_DATE}/SCORE_REACTIVE')\n",
    "df2 = pd.read_parquet(f'../data/{REPORT_DATE}/REACTIVATED')"
   ]
  },
  {
   "cell_type": "code",
   "execution_count": 37,
   "metadata": {},
   "outputs": [
    {
     "data": {
      "text/html": [
       "<div>\n",
       "<style scoped>\n",
       "    .dataframe tbody tr th:only-of-type {\n",
       "        vertical-align: middle;\n",
       "    }\n",
       "\n",
       "    .dataframe tbody tr th {\n",
       "        vertical-align: top;\n",
       "    }\n",
       "\n",
       "    .dataframe thead th {\n",
       "        text-align: right;\n",
       "    }\n",
       "</style>\n",
       "<table border=\"1\" class=\"dataframe\">\n",
       "  <thead>\n",
       "    <tr style=\"text-align: right;\">\n",
       "      <th></th>\n",
       "      <th>CUSTOMER_CDE</th>\n",
       "      <th>FTR_NM</th>\n",
       "      <th>FTR_VAL</th>\n",
       "      <th>RPT_DT</th>\n",
       "    </tr>\n",
       "  </thead>\n",
       "  <tbody>\n",
       "    <tr>\n",
       "      <th>0</th>\n",
       "      <td>8979429</td>\n",
       "      <td>CASA_DAY_SINCE_LAST_TXN_CT_36M</td>\n",
       "      <td>1095</td>\n",
       "      <td>01-JUN-23</td>\n",
       "    </tr>\n",
       "    <tr>\n",
       "      <th>1</th>\n",
       "      <td>3387448</td>\n",
       "      <td>CASA_DAY_SINCE_LAST_TXN_CT_36M</td>\n",
       "      <td>1095</td>\n",
       "      <td>01-JUN-23</td>\n",
       "    </tr>\n",
       "    <tr>\n",
       "      <th>2</th>\n",
       "      <td>7861234</td>\n",
       "      <td>CASA_DAY_SINCE_LAST_TXN_CT_36M</td>\n",
       "      <td>1095</td>\n",
       "      <td>01-JUN-23</td>\n",
       "    </tr>\n",
       "    <tr>\n",
       "      <th>3</th>\n",
       "      <td>2766001</td>\n",
       "      <td>CASA_DAY_SINCE_LAST_TXN_CT_36M</td>\n",
       "      <td>1095</td>\n",
       "      <td>01-JUN-23</td>\n",
       "    </tr>\n",
       "    <tr>\n",
       "      <th>4</th>\n",
       "      <td>9205769</td>\n",
       "      <td>CASA_DAY_SINCE_LAST_TXN_CT_36M</td>\n",
       "      <td>1095</td>\n",
       "      <td>01-JUN-23</td>\n",
       "    </tr>\n",
       "  </tbody>\n",
       "</table>\n",
       "</div>"
      ],
      "text/plain": [
       "  CUSTOMER_CDE                          FTR_NM FTR_VAL     RPT_DT\n",
       "0      8979429  CASA_DAY_SINCE_LAST_TXN_CT_36M    1095  01-JUN-23\n",
       "1      3387448  CASA_DAY_SINCE_LAST_TXN_CT_36M    1095  01-JUN-23\n",
       "2      7861234  CASA_DAY_SINCE_LAST_TXN_CT_36M    1095  01-JUN-23\n",
       "3      2766001  CASA_DAY_SINCE_LAST_TXN_CT_36M    1095  01-JUN-23\n",
       "4      9205769  CASA_DAY_SINCE_LAST_TXN_CT_36M    1095  01-JUN-23"
      ]
     },
     "execution_count": 37,
     "metadata": {},
     "output_type": "execute_result"
    }
   ],
   "source": [
    "df.head()"
   ]
  },
  {
   "cell_type": "code",
   "execution_count": 38,
   "metadata": {},
   "outputs": [
    {
     "data": {
      "text/html": [
       "<div>\n",
       "<style scoped>\n",
       "    .dataframe tbody tr th:only-of-type {\n",
       "        vertical-align: middle;\n",
       "    }\n",
       "\n",
       "    .dataframe tbody tr th {\n",
       "        vertical-align: top;\n",
       "    }\n",
       "\n",
       "    .dataframe thead th {\n",
       "        text-align: right;\n",
       "    }\n",
       "</style>\n",
       "<table border=\"1\" class=\"dataframe\">\n",
       "  <thead>\n",
       "    <tr style=\"text-align: right;\">\n",
       "      <th></th>\n",
       "      <th>CUSTOMER_CDE</th>\n",
       "      <th>SCORE</th>\n",
       "    </tr>\n",
       "  </thead>\n",
       "  <tbody>\n",
       "    <tr>\n",
       "      <th>0</th>\n",
       "      <td>16900235</td>\n",
       "      <td>1.0</td>\n",
       "    </tr>\n",
       "    <tr>\n",
       "      <th>1</th>\n",
       "      <td>16920995</td>\n",
       "      <td>1.0</td>\n",
       "    </tr>\n",
       "    <tr>\n",
       "      <th>2</th>\n",
       "      <td>3752230</td>\n",
       "      <td>1.0</td>\n",
       "    </tr>\n",
       "    <tr>\n",
       "      <th>3</th>\n",
       "      <td>18069792</td>\n",
       "      <td>1.0</td>\n",
       "    </tr>\n",
       "    <tr>\n",
       "      <th>4</th>\n",
       "      <td>16881085</td>\n",
       "      <td>1.0</td>\n",
       "    </tr>\n",
       "  </tbody>\n",
       "</table>\n",
       "</div>"
      ],
      "text/plain": [
       "  CUSTOMER_CDE  SCORE\n",
       "0     16900235    1.0\n",
       "1     16920995    1.0\n",
       "2      3752230    1.0\n",
       "3     18069792    1.0\n",
       "4     16881085    1.0"
      ]
     },
     "execution_count": 38,
     "metadata": {},
     "output_type": "execute_result"
    }
   ],
   "source": [
    "df1.head()"
   ]
  },
  {
   "cell_type": "code",
   "execution_count": 39,
   "metadata": {},
   "outputs": [
    {
     "data": {
      "text/html": [
       "<div>\n",
       "<style scoped>\n",
       "    .dataframe tbody tr th:only-of-type {\n",
       "        vertical-align: middle;\n",
       "    }\n",
       "\n",
       "    .dataframe tbody tr th {\n",
       "        vertical-align: top;\n",
       "    }\n",
       "\n",
       "    .dataframe thead th {\n",
       "        text-align: right;\n",
       "    }\n",
       "</style>\n",
       "<table border=\"1\" class=\"dataframe\">\n",
       "  <thead>\n",
       "    <tr style=\"text-align: right;\">\n",
       "      <th></th>\n",
       "      <th>CUSTOMER_CDE</th>\n",
       "      <th>FTR_NM</th>\n",
       "      <th>FTR_VAL</th>\n",
       "      <th>RPT_DT</th>\n",
       "    </tr>\n",
       "  </thead>\n",
       "  <tbody>\n",
       "    <tr>\n",
       "      <th>0</th>\n",
       "      <td>11278218</td>\n",
       "      <td>REACTIVATED</td>\n",
       "      <td>0</td>\n",
       "      <td>01-JUN-23</td>\n",
       "    </tr>\n",
       "    <tr>\n",
       "      <th>1</th>\n",
       "      <td>1127822</td>\n",
       "      <td>REACTIVATED</td>\n",
       "      <td>0</td>\n",
       "      <td>01-JUN-23</td>\n",
       "    </tr>\n",
       "    <tr>\n",
       "      <th>2</th>\n",
       "      <td>11278223</td>\n",
       "      <td>REACTIVATED</td>\n",
       "      <td>0</td>\n",
       "      <td>01-JUN-23</td>\n",
       "    </tr>\n",
       "    <tr>\n",
       "      <th>3</th>\n",
       "      <td>11278225</td>\n",
       "      <td>REACTIVATED</td>\n",
       "      <td>0</td>\n",
       "      <td>01-JUN-23</td>\n",
       "    </tr>\n",
       "    <tr>\n",
       "      <th>4</th>\n",
       "      <td>11278226</td>\n",
       "      <td>REACTIVATED</td>\n",
       "      <td>0</td>\n",
       "      <td>01-JUN-23</td>\n",
       "    </tr>\n",
       "  </tbody>\n",
       "</table>\n",
       "</div>"
      ],
      "text/plain": [
       "  CUSTOMER_CDE       FTR_NM FTR_VAL     RPT_DT\n",
       "0     11278218  REACTIVATED       0  01-JUN-23\n",
       "1      1127822  REACTIVATED       0  01-JUN-23\n",
       "2     11278223  REACTIVATED       0  01-JUN-23\n",
       "3     11278225  REACTIVATED       0  01-JUN-23\n",
       "4     11278226  REACTIVATED       0  01-JUN-23"
      ]
     },
     "execution_count": 39,
     "metadata": {},
     "output_type": "execute_result"
    }
   ],
   "source": [
    "df2.head()"
   ]
  },
  {
   "cell_type": "code",
   "execution_count": 40,
   "metadata": {},
   "outputs": [
    {
     "data": {
      "text/plain": [
       "(16593962, 16593962, 7547617)"
      ]
     },
     "execution_count": 40,
     "metadata": {},
     "output_type": "execute_result"
    }
   ],
   "source": [
    "len(df), len(df1), len(df2)"
   ]
  },
  {
   "cell_type": "code",
   "execution_count": 42,
   "metadata": {},
   "outputs": [],
   "source": [
    "df['CUSTOMER_CDE'] = df['CUSTOMER_CDE'].astype(int)\n",
    "df1['CUSTOMER_CDE'] = df1['CUSTOMER_CDE'].astype(int)\n",
    "df2['CUSTOMER_CDE'] = df2['CUSTOMER_CDE'].astype(int)"
   ]
  },
  {
   "cell_type": "code",
   "execution_count": 41,
   "metadata": {},
   "outputs": [
    {
     "data": {
      "text/plain": [
       "(dtype('O'), dtype('O'), dtype('O'))"
      ]
     },
     "execution_count": 41,
     "metadata": {},
     "output_type": "execute_result"
    }
   ],
   "source": [
    "df['CUSTOMER_CDE'].dtype, df1['CUSTOMER_CDE'].dtype, df2['CUSTOMER_CDE'].dtype"
   ]
  },
  {
   "cell_type": "code",
   "execution_count": 43,
   "metadata": {},
   "outputs": [
    {
     "data": {
      "text/plain": [
       "'CASA_DAY_SINCE_LAST_TXN_CT_36M'"
      ]
     },
     "execution_count": 43,
     "metadata": {},
     "output_type": "execute_result"
    }
   ],
   "source": [
    "FTR_NM = df['FTR_NM'].tolist()[0]\n",
    "FTR_NM"
   ]
  },
  {
   "cell_type": "code",
   "execution_count": 47,
   "metadata": {},
   "outputs": [],
   "source": [
    "df = df.rename(columns={'FTR_VAL': FTR_NM})\n",
    "df2 = df2.rename(columns={'FTR_VAL': 'REACTIVATED'})"
   ]
  },
  {
   "cell_type": "code",
   "execution_count": 48,
   "id": "4f7aa688-24f2-4c11-95ea-d330c8c4a46c",
   "metadata": {
    "tags": []
   },
   "outputs": [
    {
     "data": {
      "text/plain": [
       "(Index(['CUSTOMER_CDE', 'FTR_NM', 'CASA_DAY_SINCE_LAST_TXN_CT_36M', 'RPT_DT'], dtype='object'),\n",
       " Index(['CUSTOMER_CDE', 'SCORE'], dtype='object'),\n",
       " Index(['CUSTOMER_CDE', 'FTR_NM', 'REACTIVATED', 'RPT_DT'], dtype='object'))"
      ]
     },
     "execution_count": 48,
     "metadata": {},
     "output_type": "execute_result"
    }
   ],
   "source": [
    "df.columns, df1.columns, df2.columns"
   ]
  },
  {
   "cell_type": "markdown",
   "id": "6b936e02-c12f-47d8-b036-27101e1a9e43",
   "metadata": {},
   "source": [
    "## MERGE together"
   ]
  },
  {
   "cell_type": "code",
   "execution_count": 49,
   "id": "e892998e-b53d-4277-b536-d6d405709309",
   "metadata": {
    "tags": []
   },
   "outputs": [
    {
     "data": {
      "text/html": [
       "<div>\n",
       "<style scoped>\n",
       "    .dataframe tbody tr th:only-of-type {\n",
       "        vertical-align: middle;\n",
       "    }\n",
       "\n",
       "    .dataframe tbody tr th {\n",
       "        vertical-align: top;\n",
       "    }\n",
       "\n",
       "    .dataframe thead th {\n",
       "        text-align: right;\n",
       "    }\n",
       "</style>\n",
       "<table border=\"1\" class=\"dataframe\">\n",
       "  <thead>\n",
       "    <tr style=\"text-align: right;\">\n",
       "      <th></th>\n",
       "      <th>CUSTOMER_CDE</th>\n",
       "      <th>CASA_DAY_SINCE_LAST_TXN_CT_36M</th>\n",
       "      <th>SCORE</th>\n",
       "      <th>REACTIVATED</th>\n",
       "    </tr>\n",
       "  </thead>\n",
       "  <tbody>\n",
       "    <tr>\n",
       "      <th>0</th>\n",
       "      <td>8979429</td>\n",
       "      <td>1095</td>\n",
       "      <td>0.000259</td>\n",
       "      <td>0</td>\n",
       "    </tr>\n",
       "    <tr>\n",
       "      <th>1</th>\n",
       "      <td>3387448</td>\n",
       "      <td>1095</td>\n",
       "      <td>0.000260</td>\n",
       "      <td>0</td>\n",
       "    </tr>\n",
       "    <tr>\n",
       "      <th>2</th>\n",
       "      <td>7861234</td>\n",
       "      <td>1095</td>\n",
       "      <td>0.000503</td>\n",
       "      <td>0</td>\n",
       "    </tr>\n",
       "    <tr>\n",
       "      <th>3</th>\n",
       "      <td>2766001</td>\n",
       "      <td>1095</td>\n",
       "      <td>0.000228</td>\n",
       "      <td>0</td>\n",
       "    </tr>\n",
       "    <tr>\n",
       "      <th>4</th>\n",
       "      <td>9205769</td>\n",
       "      <td>1095</td>\n",
       "      <td>0.000291</td>\n",
       "      <td>0</td>\n",
       "    </tr>\n",
       "  </tbody>\n",
       "</table>\n",
       "</div>"
      ],
      "text/plain": [
       "   CUSTOMER_CDE CASA_DAY_SINCE_LAST_TXN_CT_36M     SCORE REACTIVATED\n",
       "0       8979429                           1095  0.000259           0\n",
       "1       3387448                           1095  0.000260           0\n",
       "2       7861234                           1095  0.000503           0\n",
       "3       2766001                           1095  0.000228           0\n",
       "4       9205769                           1095  0.000291           0"
      ]
     },
     "execution_count": 49,
     "metadata": {},
     "output_type": "execute_result"
    }
   ],
   "source": [
    "df_merge = df[['CUSTOMER_CDE', FTR_NM]].merge(df1[['CUSTOMER_CDE','SCORE']],how='inner', left_on='CUSTOMER_CDE', right_on='CUSTOMER_CDE')\n",
    "df_merge = df_merge.merge(df2[['CUSTOMER_CDE','REACTIVATED']],how='inner', left_on='CUSTOMER_CDE', right_on='CUSTOMER_CDE')\n",
    "df_merge.head()"
   ]
  },
  {
   "cell_type": "code",
   "execution_count": 50,
   "id": "ae5a1918-eaed-4415-bc23-72358bc6ae82",
   "metadata": {
    "tags": []
   },
   "outputs": [
    {
     "data": {
      "text/plain": [
       "7547617"
      ]
     },
     "execution_count": 50,
     "metadata": {},
     "output_type": "execute_result"
    }
   ],
   "source": [
    "len(df_merge)"
   ]
  },
  {
   "cell_type": "markdown",
   "metadata": {},
   "source": [
    "# ANALYSIS"
   ]
  },
  {
   "cell_type": "code",
   "execution_count": 51,
   "metadata": {},
   "outputs": [
    {
     "data": {
      "text/html": [
       "<div>\n",
       "<style scoped>\n",
       "    .dataframe tbody tr th:only-of-type {\n",
       "        vertical-align: middle;\n",
       "    }\n",
       "\n",
       "    .dataframe tbody tr th {\n",
       "        vertical-align: top;\n",
       "    }\n",
       "\n",
       "    .dataframe thead th {\n",
       "        text-align: right;\n",
       "    }\n",
       "</style>\n",
       "<table border=\"1\" class=\"dataframe\">\n",
       "  <thead>\n",
       "    <tr style=\"text-align: right;\">\n",
       "      <th></th>\n",
       "      <th>CUSTOMER_CDE</th>\n",
       "      <th>CASA_DAY_SINCE_LAST_TXN_CT_36M</th>\n",
       "      <th>SCORE</th>\n",
       "      <th>REACTIVATED</th>\n",
       "    </tr>\n",
       "  </thead>\n",
       "  <tbody>\n",
       "    <tr>\n",
       "      <th>0</th>\n",
       "      <td>8979429</td>\n",
       "      <td>1095</td>\n",
       "      <td>0.000259</td>\n",
       "      <td>0</td>\n",
       "    </tr>\n",
       "    <tr>\n",
       "      <th>1</th>\n",
       "      <td>3387448</td>\n",
       "      <td>1095</td>\n",
       "      <td>0.000260</td>\n",
       "      <td>0</td>\n",
       "    </tr>\n",
       "    <tr>\n",
       "      <th>2</th>\n",
       "      <td>7861234</td>\n",
       "      <td>1095</td>\n",
       "      <td>0.000503</td>\n",
       "      <td>0</td>\n",
       "    </tr>\n",
       "    <tr>\n",
       "      <th>3</th>\n",
       "      <td>2766001</td>\n",
       "      <td>1095</td>\n",
       "      <td>0.000228</td>\n",
       "      <td>0</td>\n",
       "    </tr>\n",
       "    <tr>\n",
       "      <th>4</th>\n",
       "      <td>9205769</td>\n",
       "      <td>1095</td>\n",
       "      <td>0.000291</td>\n",
       "      <td>0</td>\n",
       "    </tr>\n",
       "    <tr>\n",
       "      <th>...</th>\n",
       "      <td>...</td>\n",
       "      <td>...</td>\n",
       "      <td>...</td>\n",
       "      <td>...</td>\n",
       "    </tr>\n",
       "    <tr>\n",
       "      <th>7547612</th>\n",
       "      <td>40408</td>\n",
       "      <td>1095</td>\n",
       "      <td>0.000219</td>\n",
       "      <td>0</td>\n",
       "    </tr>\n",
       "    <tr>\n",
       "      <th>7547613</th>\n",
       "      <td>10086570</td>\n",
       "      <td>1095</td>\n",
       "      <td>0.000460</td>\n",
       "      <td>0</td>\n",
       "    </tr>\n",
       "    <tr>\n",
       "      <th>7547614</th>\n",
       "      <td>8162282</td>\n",
       "      <td>1095</td>\n",
       "      <td>0.000047</td>\n",
       "      <td>0</td>\n",
       "    </tr>\n",
       "    <tr>\n",
       "      <th>7547615</th>\n",
       "      <td>8599624</td>\n",
       "      <td>1095</td>\n",
       "      <td>0.000695</td>\n",
       "      <td>0</td>\n",
       "    </tr>\n",
       "    <tr>\n",
       "      <th>7547616</th>\n",
       "      <td>17272067</td>\n",
       "      <td>1095</td>\n",
       "      <td>0.000228</td>\n",
       "      <td>0</td>\n",
       "    </tr>\n",
       "  </tbody>\n",
       "</table>\n",
       "<p>7547617 rows × 4 columns</p>\n",
       "</div>"
      ],
      "text/plain": [
       "         CUSTOMER_CDE CASA_DAY_SINCE_LAST_TXN_CT_36M     SCORE REACTIVATED\n",
       "0             8979429                           1095  0.000259           0\n",
       "1             3387448                           1095  0.000260           0\n",
       "2             7861234                           1095  0.000503           0\n",
       "3             2766001                           1095  0.000228           0\n",
       "4             9205769                           1095  0.000291           0\n",
       "...               ...                            ...       ...         ...\n",
       "7547612         40408                           1095  0.000219           0\n",
       "7547613      10086570                           1095  0.000460           0\n",
       "7547614       8162282                           1095  0.000047           0\n",
       "7547615       8599624                           1095  0.000695           0\n",
       "7547616      17272067                           1095  0.000228           0\n",
       "\n",
       "[7547617 rows x 4 columns]"
      ]
     },
     "execution_count": 51,
     "metadata": {},
     "output_type": "execute_result"
    }
   ],
   "source": [
    "df_merge"
   ]
  },
  {
   "cell_type": "code",
   "execution_count": 54,
   "metadata": {},
   "outputs": [
    {
     "data": {
      "text/plain": [
       "(0    0.99484\n",
       " 1    0.00516\n",
       " Name: REACTIVATED, dtype: float64,\n",
       " 0    7508672\n",
       " 1      38945\n",
       " Name: REACTIVATED, dtype: int64)"
      ]
     },
     "execution_count": 54,
     "metadata": {},
     "output_type": "execute_result"
    }
   ],
   "source": [
    "df_merge['REACTIVATED'].value_counts(normalize=True), df_merge['REACTIVATED'].value_counts(normalize=False)"
   ]
  },
  {
   "cell_type": "code",
   "execution_count": 58,
   "metadata": {},
   "outputs": [],
   "source": [
    "df_merge['CASA_DAY_SINCE_LAST_TXN_CT_36M'] = df_merge['CASA_DAY_SINCE_LAST_TXN_CT_36M'].astype(int)"
   ]
  },
  {
   "cell_type": "code",
   "execution_count": 59,
   "metadata": {},
   "outputs": [
    {
     "data": {
      "text/plain": [
       "CUSTOMER_CDE                        int64\n",
       "CASA_DAY_SINCE_LAST_TXN_CT_36M      int64\n",
       "SCORE                             float32\n",
       "REACTIVATED                        object\n",
       "dtype: object"
      ]
     },
     "execution_count": 59,
     "metadata": {},
     "output_type": "execute_result"
    }
   ],
   "source": [
    "df_merge.dtypes"
   ]
  },
  {
   "cell_type": "code",
   "execution_count": 63,
   "metadata": {},
   "outputs": [
    {
     "data": {
      "text/plain": [
       "<Axes: xlabel='CASA_DAY_SINCE_LAST_TXN_CT_36M', ylabel='Density'>"
      ]
     },
     "execution_count": 63,
     "metadata": {},
     "output_type": "execute_result"
    },
    {
     "data": {
      "image/png": "[encoded data removed]",
      "text/plain": [
       "<Figure size 640x480 with 1 Axes>"
      ]
     },
     "metadata": {},
     "output_type": "display_data"
    }
   ],
   "source": [
    "sns.kdeplot(df_merge, x=FTR_NM, hue='REACTIVATED', common_norm=False)"
   ]
  },
  {
   "cell_type": "code",
   "execution_count": 64,
   "metadata": {},
   "outputs": [
    {
     "data": {
      "text/plain": [
       "<Axes: xlabel='CASA_DAY_SINCE_LAST_TXN_CT_36M', ylabel='REACTIVATED'>"
      ]
     },
     "execution_count": 64,
     "metadata": {},
     "output_type": "execute_result"
    },
    {
     "data": {
      "image/png": "[encoded data removed]",
      "text/plain": [
       "<Figure size 640x480 with 1 Axes>"
      ]
     },
     "metadata": {},
     "output_type": "display_data"
    }
   ],
   "source": [
    "sns.violinplot(df_merge, x=FTR_NM, y='REACTIVATED')"
   ]
  },
  {
   "cell_type": "code",
   "execution_count": 80,
   "metadata": {},
   "outputs": [
    {
     "data": {
      "image/png": "[encoded data removed]",
      "text/plain": [
       "<Figure size 1400x500 with 2 Axes>"
      ]
     },
     "metadata": {},
     "output_type": "display_data"
    }
   ],
   "source": [
    "fig, axs = plt.subplots(1,2,figsize=(14,5))\n",
    "sns.kdeplot(df_merge[df_merge['REACTIVATED']=='1'], x=FTR_NM,  ax=axs[0])\n",
    "sns.kdeplot(df_merge[df_merge['REACTIVATED']=='1'], x='SCORE',  ax=axs[1])\n",
    "plt.show()"
   ]
  }
 ],
 "metadata": {
  "kernelspec": {
   "display_name": "Python 3 (ipykernel)",
   "language": "python",
   "name": "python3"
  },
  "language_info": {
   "codemirror_mode": {
    "name": "ipython",
    "version": 3
   },
   "file_extension": ".py",
   "mimetype": "text/x-python",
   "name": "python",
   "nbconvert_exporter": "python",
   "pygments_lexer": "ipython3",
   "version": "3.9.17"
  }
 },
 "nbformat": 4,
 "nbformat_minor": 5
}
