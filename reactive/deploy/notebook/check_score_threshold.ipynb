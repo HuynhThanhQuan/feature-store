{
 "cells": [
  {
   "cell_type": "code",
   "execution_count": 1,
   "id": "dabb17db-e01c-4bc1-a528-63a878895be9",
   "metadata": {
    "tags": []
   },
   "outputs": [],
   "source": [
    "import pandas as pd\n",
    "import seaborn as sns"
   ]
  },
  {
   "cell_type": "code",
   "execution_count": 4,
   "id": "f2581c1e-5d29-4ddc-8691-3ff6319ef99b",
   "metadata": {
    "tags": []
   },
   "outputs": [],
   "source": [
    "import xgboost"
   ]
  },
  {
   "cell_type": "code",
   "execution_count": 3,
   "id": "7960af87-b77c-4d3a-9e44-5a9275873f22",
   "metadata": {
    "tags": []
   },
   "outputs": [],
   "source": [
    "import pickle"
   ]
  },
  {
   "cell_type": "markdown",
   "id": "f959d725-851b-4d93-b74d-42dfc9f18349",
   "metadata": {},
   "source": [
    "# GET REPORT_DATE"
   ]
  },
  {
   "cell_type": "code",
   "execution_count": 5,
   "id": "5d72d922-0a6b-4ef8-a77a-3c5fdcab4af4",
   "metadata": {
    "tags": []
   },
   "outputs": [],
   "source": [
    "REPORT_DATE = '01-06-2023'"
   ]
  },
  {
   "cell_type": "markdown",
   "id": "9f5f027f-bd59-4271-9dc2-0b0d596eb529",
   "metadata": {
    "tags": []
   },
   "source": [
    "## GET FORMATTED AND SCORE"
   ]
  },
  {
   "cell_type": "code",
   "execution_count": 5,
   "id": "e869f40e-0276-4d29-9efe-c95715b9e53b",
   "metadata": {
    "tags": []
   },
   "outputs": [],
   "source": [
    "df = pd.read_parquet(f'../data/{REPORT_DATE}/FORMATTED_FEATURE_DATA')"
   ]
  },
  {
   "cell_type": "code",
   "execution_count": 24,
   "id": "efad0c29-7627-40b2-b5d1-8d90714c8748",
   "metadata": {
    "tags": []
   },
   "outputs": [
    {
     "data": {
      "text/plain": [
       "16593962"
      ]
     },
     "execution_count": 24,
     "metadata": {},
     "output_type": "execute_result"
    }
   ],
   "source": [
    "len(df)"
   ]
  },
  {
   "cell_type": "code",
   "execution_count": 6,
   "id": "5603c8ec-4c27-4954-bf91-2f4d0b076aa6",
   "metadata": {
    "tags": []
   },
   "outputs": [],
   "source": [
    "df1 = pd.read_parquet(f'../out/SCORE_{REPORT_DATE}')\n",
    "df1['CUSTOMER_CDE'] = df1['CUSTOMER_CDE'].astype(int)"
   ]
  },
  {
   "cell_type": "code",
   "execution_count": 25,
   "id": "8107ce41-30e4-4445-9567-2f9a790e81a4",
   "metadata": {
    "tags": []
   },
   "outputs": [
    {
     "data": {
      "text/plain": [
       "16593962"
      ]
     },
     "execution_count": 25,
     "metadata": {},
     "output_type": "execute_result"
    }
   ],
   "source": [
    "len(df1)"
   ]
  },
  {
   "cell_type": "code",
   "execution_count": 7,
   "id": "4f7aa688-24f2-4c11-95ea-d330c8c4a46c",
   "metadata": {
    "tags": []
   },
   "outputs": [
    {
     "data": {
      "text/plain": [
       "Index(['CASA_HOLD', 'CARD_CREDIT_HOLD', 'EB_SACOMPAY_HOLD', 'EB_MBIB_HOLD',\n",
       "       'LOR', 'CREDIT_SCORE', 'CASA_BAL_SUM_NOW',\n",
       "       'CASA_DAY_SINCE_LAST_TXN_CT_36M', 'CARD_CREDIT_MAX_LIMIT',\n",
       "       'CARD_CREDIT_SUM_BAL_NOW', 'EB_SACOMPAY_DAY_SINCE_LTST_LOGIN',\n",
       "       'EB_SACOMPAY_DAY_SINCE_LTST_TXN', 'EB_MBIB_DAY_SINCE_ACTIVE',\n",
       "       'LIFE_STG', 'AREA'],\n",
       "      dtype='object')"
      ]
     },
     "execution_count": 7,
     "metadata": {},
     "output_type": "execute_result"
    }
   ],
   "source": [
    "df.columns"
   ]
  },
  {
   "cell_type": "code",
   "execution_count": 8,
   "id": "7a2a7000-0d2a-48de-80cc-12d58c22de69",
   "metadata": {
    "tags": []
   },
   "outputs": [
    {
     "data": {
      "text/plain": [
       "Index(['CUSTOMER_CDE', 'SCORE'], dtype='object')"
      ]
     },
     "execution_count": 8,
     "metadata": {},
     "output_type": "execute_result"
    }
   ],
   "source": [
    "df1.columns"
   ]
  },
  {
   "cell_type": "code",
   "execution_count": 9,
   "id": "cdb1c64d-0d72-4e59-a234-1fcd80d8eb33",
   "metadata": {
    "tags": []
   },
   "outputs": [],
   "source": [
    "# Fix index\n",
    "df.index = df1['CUSTOMER_CDE']\n",
    "df = df.reset_index()"
   ]
  },
  {
   "cell_type": "code",
   "execution_count": 10,
   "id": "113d3501-5ae5-4385-bbf2-7f09a7b1571f",
   "metadata": {
    "tags": []
   },
   "outputs": [],
   "source": [
    "# df = df.sample(n=100000).reset_index(drop=True)"
   ]
  },
  {
   "cell_type": "code",
   "execution_count": 12,
   "id": "3450064b-16ab-4536-abbd-215ce307eb43",
   "metadata": {
    "tags": []
   },
   "outputs": [
    {
     "data": {
      "text/plain": [
       "(dtype('int64'), dtype('int64'))"
      ]
     },
     "execution_count": 12,
     "metadata": {},
     "output_type": "execute_result"
    }
   ],
   "source": [
    "df['CUSTOMER_CDE'].dtype, df1['CUSTOMER_CDE'].dtype"
   ]
  },
  {
   "cell_type": "markdown",
   "id": "6b936e02-c12f-47d8-b036-27101e1a9e43",
   "metadata": {},
   "source": [
    "## MERGE together"
   ]
  },
  {
   "cell_type": "code",
   "execution_count": 13,
   "id": "e892998e-b53d-4277-b536-d6d405709309",
   "metadata": {
    "tags": []
   },
   "outputs": [],
   "source": [
    "df2 = df1[['CUSTOMER_CDE', 'SCORE']].merge(df,how='inner', left_on='CUSTOMER_CDE', right_on='CUSTOMER_CDE')"
   ]
  },
  {
   "cell_type": "code",
   "execution_count": 16,
   "id": "a4a96e13-02d0-46f1-a486-b4dc66cd3667",
   "metadata": {
    "tags": []
   },
   "outputs": [
    {
     "data": {
      "text/html": [
       "<div>\n",
       "<style scoped>\n",
       "    .dataframe tbody tr th:only-of-type {\n",
       "        vertical-align: middle;\n",
       "    }\n",
       "\n",
       "    .dataframe tbody tr th {\n",
       "        vertical-align: top;\n",
       "    }\n",
       "\n",
       "    .dataframe thead th {\n",
       "        text-align: right;\n",
       "    }\n",
       "</style>\n",
       "<table border=\"1\" class=\"dataframe\">\n",
       "  <thead>\n",
       "    <tr style=\"text-align: right;\">\n",
       "      <th></th>\n",
       "      <th>CUSTOMER_CDE</th>\n",
       "      <th>SCORE</th>\n",
       "      <th>CASA_HOLD</th>\n",
       "      <th>CARD_CREDIT_HOLD</th>\n",
       "      <th>EB_SACOMPAY_HOLD</th>\n",
       "      <th>EB_MBIB_HOLD</th>\n",
       "      <th>LOR</th>\n",
       "      <th>CREDIT_SCORE</th>\n",
       "      <th>CASA_BAL_SUM_NOW</th>\n",
       "      <th>CASA_DAY_SINCE_LAST_TXN_CT_36M</th>\n",
       "      <th>CARD_CREDIT_MAX_LIMIT</th>\n",
       "      <th>CARD_CREDIT_SUM_BAL_NOW</th>\n",
       "      <th>EB_SACOMPAY_DAY_SINCE_LTST_LOGIN</th>\n",
       "      <th>EB_SACOMPAY_DAY_SINCE_LTST_TXN</th>\n",
       "      <th>EB_MBIB_DAY_SINCE_ACTIVE</th>\n",
       "      <th>LIFE_STG</th>\n",
       "      <th>AREA</th>\n",
       "    </tr>\n",
       "  </thead>\n",
       "  <tbody>\n",
       "    <tr>\n",
       "      <th>0</th>\n",
       "      <td>14557591</td>\n",
       "      <td>0.994378</td>\n",
       "      <td>NaN</td>\n",
       "      <td>NaN</td>\n",
       "      <td>NaN</td>\n",
       "      <td>NaN</td>\n",
       "      <td>2557.0</td>\n",
       "      <td>NaN</td>\n",
       "      <td>NaN</td>\n",
       "      <td>1095</td>\n",
       "      <td>NaN</td>\n",
       "      <td>NaN</td>\n",
       "      <td>NaN</td>\n",
       "      <td>NaN</td>\n",
       "      <td>NaN</td>\n",
       "      <td>Lập gia đình</td>\n",
       "      <td>VN0010005</td>\n",
       "    </tr>\n",
       "    <tr>\n",
       "      <th>1</th>\n",
       "      <td>1071696</td>\n",
       "      <td>0.991121</td>\n",
       "      <td>NaN</td>\n",
       "      <td>NaN</td>\n",
       "      <td>NaN</td>\n",
       "      <td>NaN</td>\n",
       "      <td>2771.0</td>\n",
       "      <td>NaN</td>\n",
       "      <td>NaN</td>\n",
       "      <td>1095</td>\n",
       "      <td>NaN</td>\n",
       "      <td>NaN</td>\n",
       "      <td>NaN</td>\n",
       "      <td>NaN</td>\n",
       "      <td>NaN</td>\n",
       "      <td>Lập gia đình</td>\n",
       "      <td>VN0010003</td>\n",
       "    </tr>\n",
       "    <tr>\n",
       "      <th>2</th>\n",
       "      <td>8356085</td>\n",
       "      <td>0.991121</td>\n",
       "      <td>1.0</td>\n",
       "      <td>NaN</td>\n",
       "      <td>NaN</td>\n",
       "      <td>NaN</td>\n",
       "      <td>3815.0</td>\n",
       "      <td>NaN</td>\n",
       "      <td>11291.0</td>\n",
       "      <td>1</td>\n",
       "      <td>NaN</td>\n",
       "      <td>NaN</td>\n",
       "      <td>NaN</td>\n",
       "      <td>NaN</td>\n",
       "      <td>NaN</td>\n",
       "      <td>Cuối sự nghiệp</td>\n",
       "      <td>VN0010005</td>\n",
       "    </tr>\n",
       "    <tr>\n",
       "      <th>3</th>\n",
       "      <td>14741827</td>\n",
       "      <td>0.991019</td>\n",
       "      <td>1.0</td>\n",
       "      <td>NaN</td>\n",
       "      <td>1.0</td>\n",
       "      <td>NaN</td>\n",
       "      <td>3752.0</td>\n",
       "      <td>NaN</td>\n",
       "      <td>118121.0</td>\n",
       "      <td>1</td>\n",
       "      <td>NaN</td>\n",
       "      <td>NaN</td>\n",
       "      <td>NaN</td>\n",
       "      <td>21.0</td>\n",
       "      <td>NaN</td>\n",
       "      <td>Thiết lập tài sản</td>\n",
       "      <td>VN0010006</td>\n",
       "    </tr>\n",
       "    <tr>\n",
       "      <th>4</th>\n",
       "      <td>6742801</td>\n",
       "      <td>0.990698</td>\n",
       "      <td>1.0</td>\n",
       "      <td>NaN</td>\n",
       "      <td>NaN</td>\n",
       "      <td>NaN</td>\n",
       "      <td>1787.0</td>\n",
       "      <td>NaN</td>\n",
       "      <td>54721.0</td>\n",
       "      <td>1</td>\n",
       "      <td>NaN</td>\n",
       "      <td>NaN</td>\n",
       "      <td>NaN</td>\n",
       "      <td>NaN</td>\n",
       "      <td>NaN</td>\n",
       "      <td>Thiết lập tài sản</td>\n",
       "      <td>VN0010004</td>\n",
       "    </tr>\n",
       "  </tbody>\n",
       "</table>\n",
       "</div>"
      ],
      "text/plain": [
       "   CUSTOMER_CDE     SCORE  CASA_HOLD  CARD_CREDIT_HOLD  EB_SACOMPAY_HOLD  \\\n",
       "0      14557591  0.994378        NaN               NaN               NaN   \n",
       "1       1071696  0.991121        NaN               NaN               NaN   \n",
       "2       8356085  0.991121        1.0               NaN               NaN   \n",
       "3      14741827  0.991019        1.0               NaN               1.0   \n",
       "4       6742801  0.990698        1.0               NaN               NaN   \n",
       "\n",
       "   EB_MBIB_HOLD     LOR  CREDIT_SCORE  CASA_BAL_SUM_NOW  \\\n",
       "0           NaN  2557.0           NaN               NaN   \n",
       "1           NaN  2771.0           NaN               NaN   \n",
       "2           NaN  3815.0           NaN           11291.0   \n",
       "3           NaN  3752.0           NaN          118121.0   \n",
       "4           NaN  1787.0           NaN           54721.0   \n",
       "\n",
       "   CASA_DAY_SINCE_LAST_TXN_CT_36M  CARD_CREDIT_MAX_LIMIT  \\\n",
       "0                            1095                    NaN   \n",
       "1                            1095                    NaN   \n",
       "2                               1                    NaN   \n",
       "3                               1                    NaN   \n",
       "4                               1                    NaN   \n",
       "\n",
       "   CARD_CREDIT_SUM_BAL_NOW  EB_SACOMPAY_DAY_SINCE_LTST_LOGIN  \\\n",
       "0                      NaN                               NaN   \n",
       "1                      NaN                               NaN   \n",
       "2                      NaN                               NaN   \n",
       "3                      NaN                               NaN   \n",
       "4                      NaN                               NaN   \n",
       "\n",
       "   EB_SACOMPAY_DAY_SINCE_LTST_TXN  EB_MBIB_DAY_SINCE_ACTIVE  \\\n",
       "0                             NaN                       NaN   \n",
       "1                             NaN                       NaN   \n",
       "2                             NaN                       NaN   \n",
       "3                            21.0                       NaN   \n",
       "4                             NaN                       NaN   \n",
       "\n",
       "            LIFE_STG       AREA  \n",
       "0       Lập gia đình  VN0010005  \n",
       "1       Lập gia đình  VN0010003  \n",
       "2     Cuối sự nghiệp  VN0010005  \n",
       "3  Thiết lập tài sản  VN0010006  \n",
       "4  Thiết lập tài sản  VN0010004  "
      ]
     },
     "execution_count": 16,
     "metadata": {},
     "output_type": "execute_result"
    }
   ],
   "source": [
    "df2.head()"
   ]
  },
  {
   "cell_type": "code",
   "execution_count": 14,
   "id": "ae5a1918-eaed-4415-bc23-72358bc6ae82",
   "metadata": {
    "tags": []
   },
   "outputs": [
    {
     "data": {
      "text/plain": [
       "16593962"
      ]
     },
     "execution_count": 14,
     "metadata": {},
     "output_type": "execute_result"
    }
   ],
   "source": [
    "len(df2)"
   ]
  },
  {
   "cell_type": "markdown",
   "id": "53a0e85e-2c6a-4e38-844f-41f1e967fba9",
   "metadata": {},
   "source": [
    "## GET THRESHOLD OPTIONS of each PRODUCTS"
   ]
  },
  {
   "cell_type": "code",
   "execution_count": 19,
   "id": "c9c340c5-0963-46c7-a9b8-0af15f906253",
   "metadata": {
    "tags": []
   },
   "outputs": [
    {
     "name": "stdout",
     "output_type": "stream",
     "text": [
      "CASA_HOLD\n",
      "\tTotal customers gt 0.5\t: 28247\n",
      "\tThreshold at 100k\t: 0.14381897\n",
      "CARD_CREDIT_HOLD\n",
      "\tTotal customers gt 0.5\t: 3306\n",
      "\tThreshold at 100k\t: 0.021131735\n",
      "EB_SACOMPAY_HOLD\n",
      "\tTotal customers gt 0.5\t: 9968\n",
      "\tThreshold at 100k\t: 0.05019249\n",
      "EB_MBIB_HOLD\n",
      "\tTotal customers gt 0.5\t: 9143\n",
      "\tThreshold at 100k\t: 0.04605497\n"
     ]
    }
   ],
   "source": [
    "for s in ['CASA_HOLD', 'CARD_CREDIT_HOLD', 'EB_SACOMPAY_HOLD', 'EB_MBIB_HOLD']:\n",
    "    df3 = df2[df2[s]==1]\n",
    "    print(f'{s}\\n\\tTotal customers gt 0.5\\t:', len(df3[df3['SCORE']>=0.5]))\n",
    "    print('\\tThreshold at 100k\\t:', df3.iloc[100000]['SCORE'])"
   ]
  },
  {
   "cell_type": "markdown",
   "id": "1ade944e-8636-4ff5-9bd2-bd18730ed6c4",
   "metadata": {},
   "source": [
    "## GET THRESHOLD at 100k"
   ]
  },
  {
   "cell_type": "code",
   "execution_count": 23,
   "id": "79877408-b3c3-475e-be82-1ac9e5ac27fa",
   "metadata": {
    "tags": []
   },
   "outputs": [
    {
     "data": {
      "text/plain": [
       "0.32027942"
      ]
     },
     "execution_count": 23,
     "metadata": {},
     "output_type": "execute_result"
    }
   ],
   "source": [
    "df2.iloc[100000]['SCORE']"
   ]
  },
  {
   "cell_type": "code",
   "execution_count": null,
   "id": "3894a4a2-d6bb-4bb5-9a6a-d23fdc828b6f",
   "metadata": {},
   "outputs": [],
   "source": [
    "TO_DATE('01-06-23','DD-MM-YY')"
   ]
  }
 ],
 "metadata": {
  "kernelspec": {
   "display_name": "Python 3 (ipykernel)",
   "language": "python",
   "name": "python3"
  },
  "language_info": {
   "codemirror_mode": {
    "name": "ipython",
    "version": 3
   },
   "file_extension": ".py",
   "mimetype": "text/x-python",
   "name": "python",
   "nbconvert_exporter": "python",
   "pygments_lexer": "ipython3",
   "version": "3.9.17"
  }
 },
 "nbformat": 4,
 "nbformat_minor": 5
}
