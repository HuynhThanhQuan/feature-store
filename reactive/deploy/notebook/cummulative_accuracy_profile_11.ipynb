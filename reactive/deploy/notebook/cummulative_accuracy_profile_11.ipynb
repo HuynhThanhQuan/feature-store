{
 "cells": [
  {
   "cell_type": "code",
   "execution_count": 1,
   "id": "e1344017-33cd-45d3-865f-5027b462a559",
   "metadata": {
    "tags": []
   },
   "outputs": [],
   "source": [
    "import pandas as pd\n",
    "import seaborn as sns"
   ]
  },
  {
   "cell_type": "code",
   "execution_count": 2,
   "id": "adc82c7f-a043-4308-b896-6367ef3fa3e4",
   "metadata": {
    "tags": []
   },
   "outputs": [],
   "source": [
    "import xgboost"
   ]
  },
  {
   "cell_type": "code",
   "execution_count": 3,
   "id": "28053885-8d66-49a7-9597-59dbb350382c",
   "metadata": {
    "tags": []
   },
   "outputs": [],
   "source": [
    "import pickle"
   ]
  },
  {
   "cell_type": "code",
   "execution_count": 4,
   "id": "e1a4b629-742c-4bc9-b6a5-b67bf52a8f15",
   "metadata": {
    "tags": []
   },
   "outputs": [],
   "source": [
    "import util"
   ]
  },
  {
   "cell_type": "code",
   "execution_count": 5,
   "id": "fe2693d7-075e-487c-b0f0-9a64dc66c09b",
   "metadata": {
    "tags": []
   },
   "outputs": [],
   "source": [
    "import matplotlib.pyplot as plt"
   ]
  },
  {
   "cell_type": "code",
   "execution_count": 6,
   "id": "30d8415b-c75e-4594-a9da-439b353b63e0",
   "metadata": {
    "tags": []
   },
   "outputs": [],
   "source": [
    "import numpy as np"
   ]
  },
  {
   "cell_type": "markdown",
   "id": "f50f1d3d-e965-417d-8500-aa6ac96d99f8",
   "metadata": {},
   "source": [
    "# 1. Get Score from Model"
   ]
  },
  {
   "cell_type": "code",
   "execution_count": 7,
   "id": "83958036-61b9-4843-ba85-6aafce97469e",
   "metadata": {
    "tags": []
   },
   "outputs": [],
   "source": [
    "query1 = \"\"\"\n",
    "WITH \n",
    "T1 AS (\n",
    "    SELECT * FROM CINS_REACTIVATED_SCORE_01112023),\n",
    "T2 AS (\n",
    "    SELECT * FROM DW_ANALYTICS.DW_CUST_PRODUCT_LOC_FCT),\n",
    "T3 AS (\n",
    "    SELECT DISTINCT T1.*\n",
    "    FROM T1\n",
    "    INNER JOIN T2 ON T1.CUSTOMER_CDE = T2.CUSTOMER_CDE\n",
    "    WHERE T2.PROCESS_DT = TO_DATE('31-10-23','DD-MM-YY')\n",
    "    )\n",
    "SELECT * FROM T3\n",
    "\"\"\""
   ]
  },
  {
   "cell_type": "code",
   "execution_count": 8,
   "id": "7d7f0227-6cd9-40d8-91f7-1d55f3c33ab3",
   "metadata": {
    "tags": []
   },
   "outputs": [],
   "source": [
    "df = util.download_or_reload('SCORE_11', query1)"
   ]
  },
  {
   "cell_type": "code",
   "execution_count": 9,
   "id": "2726b8e0-41b5-402f-afb3-f0d05abfe18c",
   "metadata": {
    "tags": []
   },
   "outputs": [
    {
     "data": {
      "text/plain": [
       "16266622"
      ]
     },
     "execution_count": 9,
     "metadata": {},
     "output_type": "execute_result"
    }
   ],
   "source": [
    "df['CUSTOMER_CDE'].nunique()"
   ]
  },
  {
   "cell_type": "code",
   "execution_count": 10,
   "id": "9e42876b-5978-4647-9777-689acf989275",
   "metadata": {
    "tags": []
   },
   "outputs": [],
   "source": [
    "df3 = df"
   ]
  },
  {
   "cell_type": "markdown",
   "id": "5ff94349-1999-4233-b3a1-4f3200aed083",
   "metadata": {},
   "source": [
    "# 2. Get label"
   ]
  },
  {
   "cell_type": "code",
   "execution_count": 11,
   "id": "437fc0c0-66a4-4106-9098-be929fd1096d",
   "metadata": {
    "tags": []
   },
   "outputs": [],
   "source": [
    "query2 = \"\"\"WITH\n",
    "T0 AS (\n",
    "    SELECT * FROM CINS_TMP_CUSTOMER_01112023\n",
    "),\n",
    "T1 AS (\n",
    "    SELECT * FROM DW_ANALYTICS.DW_CUST_PRODUCT_LOC_FCT\n",
    "    WHERE PROCESS_DT = TO_DATE('31-10-2023', 'DD-MM-YY')\n",
    "    OR PROCESS_DT = TO_DATE('30-09-2023', 'DD-MM-YY')\n",
    "),\n",
    "T2 AS (\n",
    "    SELECT T0.CUSTOMER_CDE, T1.PROCESS_DT AS RPT_DT,\n",
    "        MAX(CASE\n",
    "            WHEN T1.CUST_STATUS = 'HOAT DONG' THEN 2\n",
    "            WHEN T1.CUST_STATUS = 'NGU DONG' THEN 1\n",
    "            WHEN T1.CUST_STATUS = 'DONG BANG' THEN 0\n",
    "        END) AS CUST_STT\n",
    "    FROM T0 \n",
    "    INNER JOIN T1 ON T0.CUSTOMER_CDE = T1.CUSTOMER_CDE\n",
    "    GROUP BY T0.CUSTOMER_CDE, PROCESS_DT\n",
    "),\n",
    "T3 AS (\n",
    "    SELECT CUSTOMER_CDE, \n",
    "    RPT_DT, LAG(RPT_DT) OVER (PARTITION BY CUSTOMER_CDE ORDER BY RPT_DT) AS RPT_DT_LAG, \n",
    "    CUST_STT, LAG(CUST_STT) OVER (PARTITION BY CUSTOMER_CDE ORDER BY RPT_DT) AS CUST_STT_LAG\n",
    "    FROM T2\n",
    "),\n",
    "T4 AS (\n",
    "    SELECT CUSTOMER_CDE, \n",
    "    RPT_DT, RPT_DT_LAG,\n",
    "    CUST_STT, CUST_STT_LAG, CUST_STT - CUST_STT_LAG AS CUST_STT_CHG\n",
    "    FROM T3 \n",
    "    WHERE RPT_DT = TO_DATE('31-10-2023', 'DD-MM-YY')\n",
    "),\n",
    "T5 AS (\n",
    "    SELECT CUSTOMER_CDE, RPT_DT, RPT_DT_LAG, CUST_STT, CUST_STT_LAG, CUST_STT_CHG,\n",
    "    CASE \n",
    "        WHEN CUST_STT = 2 AND CUST_STT_CHG >= 1 THEN 1\n",
    "        WHEN CUST_STT <= 1 AND CUST_STT_LAG <= 1 THEN 0\n",
    "    END AS REACTIVATED\n",
    "    FROM T4\n",
    "),\n",
    "T6 AS (\n",
    "    SELECT CUSTOMER_CDE,\n",
    "    'REACTIVATED' AS FTR_NM,\n",
    "    REACTIVATED AS FTR_VAL,\n",
    "    TO_DATE('01-11-2023', 'DD-MM-YY') AS RPT_DT,\n",
    "    CURRENT_TIMESTAMP ADD_TSTP\n",
    "    FROM T5\n",
    "    WHERE REACTIVATED IS NOT NULL\n",
    ")\n",
    "SELECT * FROM T6\"\"\""
   ]
  },
  {
   "cell_type": "code",
   "execution_count": 12,
   "id": "a79dd275-efd4-488e-894b-c7bc0a97ea8a",
   "metadata": {
    "tags": []
   },
   "outputs": [],
   "source": [
    "gt = util.download_or_reload('LABEL_11', query2)"
   ]
  },
  {
   "cell_type": "code",
   "execution_count": 13,
   "id": "596b2ba2-7ff2-4621-b001-3600db6c7bec",
   "metadata": {
    "tags": []
   },
   "outputs": [
    {
     "data": {
      "text/plain": [
       "7680297"
      ]
     },
     "execution_count": 13,
     "metadata": {},
     "output_type": "execute_result"
    }
   ],
   "source": [
    "len(gt)"
   ]
  },
  {
   "cell_type": "code",
   "execution_count": 14,
   "id": "7d28ac6f-b667-40f4-a82f-519f245fc00e",
   "metadata": {
    "tags": []
   },
   "outputs": [
    {
     "data": {
      "text/plain": [
       "0    7635271\n",
       "1      45026\n",
       "Name: FTR_VAL, dtype: int64"
      ]
     },
     "execution_count": 14,
     "metadata": {},
     "output_type": "execute_result"
    }
   ],
   "source": [
    "gt['FTR_VAL'].value_counts()"
   ]
  },
  {
   "cell_type": "code",
   "execution_count": 15,
   "id": "c4a36016-5d2b-4a6a-a3ed-3e3df889ddf8",
   "metadata": {
    "tags": []
   },
   "outputs": [],
   "source": [
    "df4 = df3.merge(gt[['CUSTOMER_CDE', 'FTR_VAL']], how='left', left_on='CUSTOMER_CDE', right_on='CUSTOMER_CDE')\n",
    "df4 = df4.rename(columns={'FTR_VAL': 'REACTIVATED'})"
   ]
  },
  {
   "cell_type": "code",
   "execution_count": 16,
   "id": "68a742c6-af8a-4df3-9eb6-89fa0f7fb4d5",
   "metadata": {},
   "outputs": [],
   "source": [
    "df4 = df4.dropna()"
   ]
  },
  {
   "cell_type": "markdown",
   "id": "98337439-c8e7-4b17-ab8c-23d842eecdf3",
   "metadata": {},
   "source": [
    "# Plot histogram"
   ]
  },
  {
   "cell_type": "code",
   "execution_count": 17,
   "id": "060f9b1e-d4b1-4999-b984-fe2ce01b87b3",
   "metadata": {
    "tags": []
   },
   "outputs": [],
   "source": [
    "import seaborn as sns"
   ]
  },
  {
   "cell_type": "code",
   "execution_count": 18,
   "id": "bd1bb4a6-c1d5-4031-b093-c4ac4586952a",
   "metadata": {
    "tags": []
   },
   "outputs": [],
   "source": [
    "# sns.kdeplot(df4, hue='REACTIVATED', x='SCORE', common_norm=False)"
   ]
  },
  {
   "cell_type": "code",
   "execution_count": 19,
   "id": "45fcb390-941a-405a-b781-670d59813c26",
   "metadata": {
    "tags": []
   },
   "outputs": [],
   "source": [
    "from sklearn import metrics"
   ]
  },
  {
   "cell_type": "code",
   "execution_count": 20,
   "id": "1b91426d-f050-421e-a8e5-6ce39061f835",
   "metadata": {
    "tags": []
   },
   "outputs": [],
   "source": [
    "y_true = df4['REACTIVATED'].values\n",
    "y_pred = df4['SCORE'].values"
   ]
  },
  {
   "cell_type": "code",
   "execution_count": 21,
   "id": "767180b6-bc3d-435a-9754-ed3b9915d1a4",
   "metadata": {
    "tags": []
   },
   "outputs": [
    {
     "data": {
      "text/plain": [
       "0.9694735907724524"
      ]
     },
     "execution_count": 21,
     "metadata": {},
     "output_type": "execute_result"
    }
   ],
   "source": [
    "fpr, tpr, thresholds = metrics.roc_curve(y_true, y_pred)\n",
    "metrics.auc(fpr, tpr)"
   ]
  },
  {
   "cell_type": "markdown",
   "id": "3ec94a66-2b9c-4607-8846-bb73c4c54578",
   "metadata": {},
   "source": [
    "## Plot AUC"
   ]
  },
  {
   "cell_type": "code",
   "execution_count": 22,
   "id": "2e7d5779-7b26-42f8-87ad-c41d74964a9d",
   "metadata": {
    "tags": []
   },
   "outputs": [
    {
     "data": {
      "image/png": "[encoded data removed]",
      "text/plain": [
       "<Figure size 640x480 with 1 Axes>"
      ]
     },
     "metadata": {},
     "output_type": "display_data"
    }
   ],
   "source": [
    "display = metrics.RocCurveDisplay.from_predictions(y_true, y_pred, plot_chance_level=True)"
   ]
  },
  {
   "cell_type": "code",
   "execution_count": 23,
   "id": "f3e8268e-1631-4a27-bbf3-388055cd5b2b",
   "metadata": {},
   "outputs": [
    {
     "name": "stdout",
     "output_type": "stream",
     "text": [
      "<class 'pandas.core.frame.DataFrame'>\n",
      "Int64Index: 7680297 entries, 136 to 16266621\n",
      "Data columns (total 3 columns):\n",
      " #   Column        Dtype  \n",
      "---  ------        -----  \n",
      " 0   CUSTOMER_CDE  object \n",
      " 1   SCORE         float64\n",
      " 2   REACTIVATED   float64\n",
      "dtypes: float64(2), object(1)\n",
      "memory usage: 234.4+ MB\n"
     ]
    }
   ],
   "source": [
    "df4.info()"
   ]
  },
  {
   "cell_type": "markdown",
   "id": "ae5ce70f-8f46-41cd-aa06-ea86cc519523",
   "metadata": {
    "tags": []
   },
   "source": [
    "# CAP & Gini & Lift"
   ]
  },
  {
   "cell_type": "code",
   "execution_count": 24,
   "id": "aa7f093e-86bc-437a-a498-35605ddde654",
   "metadata": {
    "tags": []
   },
   "outputs": [],
   "source": [
    "df = df4.copy()\n",
    "df = df.rename(columns={'SCORE': 'PROBA_REACTIVE', 'REACTIVATED': 'LABEL'})\n",
    "df['PROBA_NOREACTIVE'] = 1 - df['PROBA_REACTIVE']\n",
    "df['LABEL'] = df['LABEL'].apply(lambda x: 'REACTIVATED' if x == 1 else 'NOT_REACTIVATED')"
   ]
  },
  {
   "cell_type": "code",
   "execution_count": 25,
   "id": "e2cbbd2d-d998-4647-b14b-81b2699771c9",
   "metadata": {
    "tags": []
   },
   "outputs": [],
   "source": [
    "df = df.sort_values(by='PROBA_NOREACTIVE')"
   ]
  },
  {
   "cell_type": "code",
   "execution_count": 26,
   "id": "b563a6bd-7bc8-4a10-a72e-996d13fe6fbd",
   "metadata": {
    "tags": []
   },
   "outputs": [],
   "source": [
    "# df['bin'] = pd.qcut(df['PROBA_NOREACTIVE'], q=100, labels=False)\n",
    "num_bins = 1000\n",
    "bucket_size = len(df) // num_bins\n",
    "buckets = [i for i in range(num_bins) for j in range(bucket_size)] + [num_bins-1] * (len(df) % num_bins)\n",
    "df['bin'] = buckets"
   ]
  },
  {
   "cell_type": "code",
   "execution_count": 27,
   "id": "efb987d0-f648-4733-a309-9971788e03f8",
   "metadata": {
    "tags": []
   },
   "outputs": [],
   "source": [
    "df = df.groupby('bin')['LABEL'].value_counts().to_frame(name='count').reset_index().pivot(index='bin', columns='LABEL', values='count')\n",
    "df['NOT_REACTIVATED'] = df['NOT_REACTIVATED'].fillna(0)"
   ]
  },
  {
   "cell_type": "code",
   "execution_count": 28,
   "id": "13050ce5-9de9-4896-ba75-fdb460c02cfb",
   "metadata": {
    "tags": []
   },
   "outputs": [],
   "source": [
    "df['total_lead'] = df['REACTIVATED'] + df['NOT_REACTIVATED']"
   ]
  },
  {
   "cell_type": "code",
   "execution_count": 29,
   "id": "1394187d-0a67-42ea-b5c8-fa58a8d4f967",
   "metadata": {
    "tags": []
   },
   "outputs": [
    {
     "data": {
      "text/plain": [
       "(6965760.0, 45026.0)"
      ]
     },
     "execution_count": 29,
     "metadata": {},
     "output_type": "execute_result"
    }
   ],
   "source": [
    "total_reactivated = df['REACTIVATED'].sum()\n",
    "total_leads = df['total_lead'].sum()\n",
    "total_leads, total_reactivated"
   ]
  },
  {
   "cell_type": "code",
   "execution_count": 30,
   "id": "072d9ff0-a2fc-43ae-b401-18e5b7bde035",
   "metadata": {
    "tags": []
   },
   "outputs": [],
   "source": [
    "df['perc_REACTIVATED'] = df['REACTIVATED'] / total_reactivated * 100\n",
    "df['cumsum_REACTIVATED'] = df['REACTIVATED'].cumsum()\n",
    "df['perc_cumsum_REACTIVATED'] = df['cumsum_REACTIVATED'] / total_reactivated * 100\n",
    "df['lift'] = df['perc_cumsum_REACTIVATED'] / (df['total_lead'].cumsum() / total_leads)  / 100"
   ]
  },
  {
   "cell_type": "code",
   "execution_count": 31,
   "id": "34f75f1e-fb6a-4f40-8308-bf87795dcdf3",
   "metadata": {
    "tags": []
   },
   "outputs": [],
   "source": [
    "df = df[['total_lead', 'REACTIVATED', 'cumsum_REACTIVATED', 'perc_REACTIVATED', 'perc_cumsum_REACTIVATED', 'lift']]"
   ]
  },
  {
   "cell_type": "code",
   "execution_count": 32,
   "id": "6dd208bb-17f9-42e1-9691-c18d064c0a36",
   "metadata": {
    "tags": []
   },
   "outputs": [],
   "source": [
    "df = df.reset_index()"
   ]
  },
  {
   "cell_type": "code",
   "execution_count": 33,
   "id": "d3f207a1-472a-4613-8c31-afb72ab14b19",
   "metadata": {
    "tags": []
   },
   "outputs": [
    {
     "data": {
      "text/html": [
       "<div>\n",
       "<style scoped>\n",
       "    .dataframe tbody tr th:only-of-type {\n",
       "        vertical-align: middle;\n",
       "    }\n",
       "\n",
       "    .dataframe tbody tr th {\n",
       "        vertical-align: top;\n",
       "    }\n",
       "\n",
       "    .dataframe thead th {\n",
       "        text-align: right;\n",
       "    }\n",
       "</style>\n",
       "<table border=\"1\" class=\"dataframe\">\n",
       "  <thead>\n",
       "    <tr style=\"text-align: right;\">\n",
       "      <th>LABEL</th>\n",
       "      <th>bin</th>\n",
       "      <th>total_lead</th>\n",
       "      <th>REACTIVATED</th>\n",
       "      <th>cumsum_REACTIVATED</th>\n",
       "      <th>perc_REACTIVATED</th>\n",
       "      <th>perc_cumsum_REACTIVATED</th>\n",
       "      <th>lift</th>\n",
       "    </tr>\n",
       "  </thead>\n",
       "  <tbody>\n",
       "    <tr>\n",
       "      <th>0</th>\n",
       "      <td>0</td>\n",
       "      <td>7680.0</td>\n",
       "      <td>7680.0</td>\n",
       "      <td>7680.0</td>\n",
       "      <td>17.056812</td>\n",
       "      <td>17.056812</td>\n",
       "      <td>154.705281</td>\n",
       "    </tr>\n",
       "    <tr>\n",
       "      <th>1</th>\n",
       "      <td>1</td>\n",
       "      <td>7680.0</td>\n",
       "      <td>7680.0</td>\n",
       "      <td>15360.0</td>\n",
       "      <td>17.056812</td>\n",
       "      <td>34.113623</td>\n",
       "      <td>154.705281</td>\n",
       "    </tr>\n",
       "    <tr>\n",
       "      <th>2</th>\n",
       "      <td>2</td>\n",
       "      <td>7680.0</td>\n",
       "      <td>7680.0</td>\n",
       "      <td>23040.0</td>\n",
       "      <td>17.056812</td>\n",
       "      <td>51.170435</td>\n",
       "      <td>154.705281</td>\n",
       "    </tr>\n",
       "    <tr>\n",
       "      <th>3</th>\n",
       "      <td>3</td>\n",
       "      <td>7680.0</td>\n",
       "      <td>7680.0</td>\n",
       "      <td>30720.0</td>\n",
       "      <td>17.056812</td>\n",
       "      <td>68.227246</td>\n",
       "      <td>154.705281</td>\n",
       "    </tr>\n",
       "    <tr>\n",
       "      <th>4</th>\n",
       "      <td>4</td>\n",
       "      <td>7680.0</td>\n",
       "      <td>6872.0</td>\n",
       "      <td>37592.0</td>\n",
       "      <td>15.262293</td>\n",
       "      <td>83.489539</td>\n",
       "      <td>151.450024</td>\n",
       "    </tr>\n",
       "    <tr>\n",
       "      <th>...</th>\n",
       "      <td>...</td>\n",
       "      <td>...</td>\n",
       "      <td>...</td>\n",
       "      <td>...</td>\n",
       "      <td>...</td>\n",
       "      <td>...</td>\n",
       "      <td>...</td>\n",
       "    </tr>\n",
       "    <tr>\n",
       "      <th>995</th>\n",
       "      <td>995</td>\n",
       "      <td>NaN</td>\n",
       "      <td>NaN</td>\n",
       "      <td>NaN</td>\n",
       "      <td>NaN</td>\n",
       "      <td>NaN</td>\n",
       "      <td>NaN</td>\n",
       "    </tr>\n",
       "    <tr>\n",
       "      <th>996</th>\n",
       "      <td>996</td>\n",
       "      <td>7680.0</td>\n",
       "      <td>2.0</td>\n",
       "      <td>45024.0</td>\n",
       "      <td>0.004442</td>\n",
       "      <td>99.995558</td>\n",
       "      <td>1.001059</td>\n",
       "    </tr>\n",
       "    <tr>\n",
       "      <th>997</th>\n",
       "      <td>997</td>\n",
       "      <td>7680.0</td>\n",
       "      <td>2.0</td>\n",
       "      <td>45026.0</td>\n",
       "      <td>0.004442</td>\n",
       "      <td>100.000000</td>\n",
       "      <td>1.000000</td>\n",
       "    </tr>\n",
       "    <tr>\n",
       "      <th>998</th>\n",
       "      <td>998</td>\n",
       "      <td>NaN</td>\n",
       "      <td>NaN</td>\n",
       "      <td>NaN</td>\n",
       "      <td>NaN</td>\n",
       "      <td>NaN</td>\n",
       "      <td>NaN</td>\n",
       "    </tr>\n",
       "    <tr>\n",
       "      <th>999</th>\n",
       "      <td>999</td>\n",
       "      <td>NaN</td>\n",
       "      <td>NaN</td>\n",
       "      <td>NaN</td>\n",
       "      <td>NaN</td>\n",
       "      <td>NaN</td>\n",
       "      <td>NaN</td>\n",
       "    </tr>\n",
       "  </tbody>\n",
       "</table>\n",
       "<p>1000 rows × 7 columns</p>\n",
       "</div>"
      ],
      "text/plain": [
       "LABEL  bin  total_lead  REACTIVATED  cumsum_REACTIVATED  perc_REACTIVATED  \\\n",
       "0        0      7680.0       7680.0              7680.0         17.056812   \n",
       "1        1      7680.0       7680.0             15360.0         17.056812   \n",
       "2        2      7680.0       7680.0             23040.0         17.056812   \n",
       "3        3      7680.0       7680.0             30720.0         17.056812   \n",
       "4        4      7680.0       6872.0             37592.0         15.262293   \n",
       "..     ...         ...          ...                 ...               ...   \n",
       "995    995         NaN          NaN                 NaN               NaN   \n",
       "996    996      7680.0          2.0             45024.0          0.004442   \n",
       "997    997      7680.0          2.0             45026.0          0.004442   \n",
       "998    998         NaN          NaN                 NaN               NaN   \n",
       "999    999         NaN          NaN                 NaN               NaN   \n",
       "\n",
       "LABEL  perc_cumsum_REACTIVATED        lift  \n",
       "0                    17.056812  154.705281  \n",
       "1                    34.113623  154.705281  \n",
       "2                    51.170435  154.705281  \n",
       "3                    68.227246  154.705281  \n",
       "4                    83.489539  151.450024  \n",
       "..                         ...         ...  \n",
       "995                        NaN         NaN  \n",
       "996                  99.995558    1.001059  \n",
       "997                 100.000000    1.000000  \n",
       "998                        NaN         NaN  \n",
       "999                        NaN         NaN  \n",
       "\n",
       "[1000 rows x 7 columns]"
      ]
     },
     "execution_count": 33,
     "metadata": {},
     "output_type": "execute_result"
    }
   ],
   "source": [
    "df"
   ]
  },
  {
   "cell_type": "code",
   "execution_count": 34,
   "id": "f677d70a-11e4-4fa7-94bd-8707df292563",
   "metadata": {},
   "outputs": [
    {
     "name": "stdout",
     "output_type": "stream",
     "text": [
      "1.0\n",
      "0.8813574379247546\n",
      "0.903477990494381\n",
      "0.9179363034691067\n"
     ]
    }
   ],
   "source": [
    "total_react = df['REACTIVATED'].sum()\n",
    "for i in [10000, 50000, 100000, 300000]:\n",
    "    df1 = df[:int(np.ceil(i/df.iloc[0]['total_lead']))]\n",
    "    max_act = df1['total_lead'].sum() if df1['total_lead'].sum() < total_react else total_react\n",
    "    acc_pct = df1['REACTIVATED'].sum() / max_act\n",
    "    print(acc_pct)"
   ]
  },
  {
   "cell_type": "code",
   "execution_count": 35,
   "id": "9e5a2576-37f7-4816-92eb-e59ac4222a4c",
   "metadata": {},
   "outputs": [
    {
     "data": {
      "image/png": "[encoded data removed]",
      "text/plain": [
       "<Figure size 640x480 with 1 Axes>"
      ]
     },
     "metadata": {},
     "output_type": "display_data"
    }
   ],
   "source": [
    "ax = sns.lineplot(df[['bin', 'perc_cumsum_REACTIVATED']], x='bin', y='perc_cumsum_REACTIVATED')\n",
    "ax.set_ylim(0, 100)\n",
    "plt.show()"
   ]
  },
  {
   "cell_type": "code",
   "execution_count": null,
   "id": "db961fa8-d46d-454d-b55b-4ad05e3f2584",
   "metadata": {},
   "outputs": [],
   "source": []
  }
 ],
 "metadata": {
  "kernelspec": {
   "display_name": "Python 3 (ipykernel)",
   "language": "python",
   "name": "python3"
  },
  "language_info": {
   "codemirror_mode": {
    "name": "ipython",
    "version": 3
   },
   "file_extension": ".py",
   "mimetype": "text/x-python",
   "name": "python",
   "nbconvert_exporter": "python",
   "pygments_lexer": "ipython3",
   "version": "3.8.13"
  }
 },
 "nbformat": 4,
 "nbformat_minor": 5
}
