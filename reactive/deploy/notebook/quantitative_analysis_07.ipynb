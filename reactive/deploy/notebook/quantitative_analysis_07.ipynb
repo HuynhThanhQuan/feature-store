{
 "cells": [
  {
   "cell_type": "code",
   "execution_count": 1,
   "id": "e1344017-33cd-45d3-865f-5027b462a559",
   "metadata": {
    "tags": []
   },
   "outputs": [],
   "source": [
    "import pandas as pd\n",
    "import seaborn as sns"
   ]
  },
  {
   "cell_type": "code",
   "execution_count": 2,
   "id": "adc82c7f-a043-4308-b896-6367ef3fa3e4",
   "metadata": {
    "tags": []
   },
   "outputs": [],
   "source": [
    "import xgboost"
   ]
  },
  {
   "cell_type": "code",
   "execution_count": 3,
   "id": "28053885-8d66-49a7-9597-59dbb350382c",
   "metadata": {
    "tags": []
   },
   "outputs": [],
   "source": [
    "import pickle"
   ]
  },
  {
   "cell_type": "code",
   "execution_count": 4,
   "id": "e1a4b629-742c-4bc9-b6a5-b67bf52a8f15",
   "metadata": {
    "tags": []
   },
   "outputs": [],
   "source": [
    "import util"
   ]
  },
  {
   "cell_type": "code",
   "execution_count": 5,
   "id": "fe2693d7-075e-487c-b0f0-9a64dc66c09b",
   "metadata": {
    "tags": []
   },
   "outputs": [],
   "source": [
    "import matplotlib.pyplot as plt"
   ]
  },
  {
   "cell_type": "code",
   "execution_count": 6,
   "id": "30d8415b-c75e-4594-a9da-439b353b63e0",
   "metadata": {
    "tags": []
   },
   "outputs": [],
   "source": [
    "import numpy as np"
   ]
  },
  {
   "cell_type": "markdown",
   "id": "f50f1d3d-e965-417d-8500-aa6ac96d99f8",
   "metadata": {},
   "source": [
    "# 1. Get Score from Model 07, 08"
   ]
  },
  {
   "cell_type": "code",
   "execution_count": 7,
   "id": "7d7f0227-6cd9-40d8-91f7-1d55f3c33ab3",
   "metadata": {
    "tags": []
   },
   "outputs": [],
   "source": [
    "pred07 = util.reload('SCORE_07')\n",
    "pred08 = util.reload('SCORE_08')"
   ]
  },
  {
   "cell_type": "code",
   "execution_count": 9,
   "id": "2726b8e0-41b5-402f-afb3-f0d05abfe18c",
   "metadata": {
    "tags": []
   },
   "outputs": [
    {
     "data": {
      "text/plain": [
       "(15950734, 16022576)"
      ]
     },
     "execution_count": 9,
     "metadata": {},
     "output_type": "execute_result"
    }
   ],
   "source": [
    "pred07['CUSTOMER_CDE'].nunique(), pred08['CUSTOMER_CDE'].nunique()"
   ]
  },
  {
   "cell_type": "markdown",
   "id": "5ff94349-1999-4233-b3a1-4f3200aed083",
   "metadata": {},
   "source": [
    "# 2. Get label"
   ]
  },
  {
   "cell_type": "code",
   "execution_count": 10,
   "id": "a79dd275-efd4-488e-894b-c7bc0a97ea8a",
   "metadata": {
    "tags": []
   },
   "outputs": [],
   "source": [
    "gt07 = util.reload('LABEL_07')\n",
    "gt08 = util.reload('LABEL_08')"
   ]
  },
  {
   "cell_type": "code",
   "execution_count": 11,
   "id": "c4a36016-5d2b-4a6a-a3ed-3e3df889ddf8",
   "metadata": {
    "tags": []
   },
   "outputs": [],
   "source": [
    "df07 = pred07.merge(gt07[['CUSTOMER_CDE', 'FTR_VAL']], how='left', left_on='CUSTOMER_CDE', right_on='CUSTOMER_CDE')\n",
    "df07 = df07.rename(columns={'FTR_VAL': 'REACTIVATED'})\n",
    "df07 = df07.dropna()\n",
    "\n",
    "df08 = pred08.merge(gt08[['CUSTOMER_CDE', 'FTR_VAL']], how='left', left_on='CUSTOMER_CDE', right_on='CUSTOMER_CDE')\n",
    "df08 = df08.rename(columns={'FTR_VAL': 'REACTIVATED'})\n",
    "df08 = df08.dropna()"
   ]
  },
  {
   "cell_type": "code",
   "execution_count": 13,
   "id": "68a742c6-af8a-4df3-9eb6-89fa0f7fb4d5",
   "metadata": {},
   "outputs": [
    {
     "data": {
      "text/plain": [
       "(0.0    7526338\n",
       " 1.0      62660\n",
       " Name: REACTIVATED, dtype: int64,\n",
       " 0.0    7545668\n",
       " 1.0      33998\n",
       " Name: REACTIVATED, dtype: int64)"
      ]
     },
     "execution_count": 13,
     "metadata": {},
     "output_type": "execute_result"
    }
   ],
   "source": [
    "df07['REACTIVATED'].value_counts(), df08['REACTIVATED'].value_counts()"
   ]
  },
  {
   "cell_type": "code",
   "execution_count": 14,
   "id": "ad084169-6287-4412-81db-98e7fa5618cd",
   "metadata": {
    "tags": []
   },
   "outputs": [
    {
     "data": {
      "text/plain": [
       "(0.0    0.991743\n",
       " 1.0    0.008257\n",
       " Name: REACTIVATED, dtype: float64,\n",
       " 0.0    0.995515\n",
       " 1.0    0.004485\n",
       " Name: REACTIVATED, dtype: float64)"
      ]
     },
     "execution_count": 14,
     "metadata": {},
     "output_type": "execute_result"
    }
   ],
   "source": [
    "df07['REACTIVATED'].value_counts(normalize=True), df08['REACTIVATED'].value_counts(normalize=True)"
   ]
  },
  {
   "cell_type": "markdown",
   "id": "98337439-c8e7-4b17-ab8c-23d842eecdf3",
   "metadata": {},
   "source": [
    "# Plot histogram"
   ]
  },
  {
   "cell_type": "code",
   "execution_count": 15,
   "id": "060f9b1e-d4b1-4999-b984-fe2ce01b87b3",
   "metadata": {
    "tags": []
   },
   "outputs": [],
   "source": [
    "import seaborn as sns"
   ]
  },
  {
   "cell_type": "code",
   "execution_count": 16,
   "id": "bd1bb4a6-c1d5-4031-b093-c4ac4586952a",
   "metadata": {
    "tags": []
   },
   "outputs": [],
   "source": [
    "# sns.kdeplot(df4, hue='REACTIVATED', x='SCORE', common_norm=False)"
   ]
  },
  {
   "cell_type": "code",
   "execution_count": 17,
   "id": "45fcb390-941a-405a-b781-670d59813c26",
   "metadata": {
    "tags": []
   },
   "outputs": [],
   "source": [
    "from sklearn import metrics"
   ]
  },
  {
   "cell_type": "code",
   "execution_count": 18,
   "id": "1b91426d-f050-421e-a8e5-6ce39061f835",
   "metadata": {
    "tags": []
   },
   "outputs": [],
   "source": [
    "y_true = df07['REACTIVATED'].values\n",
    "y_pred = df07['SCORE'].values"
   ]
  },
  {
   "cell_type": "code",
   "execution_count": 19,
   "id": "767180b6-bc3d-435a-9754-ed3b9915d1a4",
   "metadata": {
    "tags": []
   },
   "outputs": [
    {
     "data": {
      "text/plain": [
       "0.9801699335983436"
      ]
     },
     "execution_count": 19,
     "metadata": {},
     "output_type": "execute_result"
    }
   ],
   "source": [
    "fpr, tpr, thresholds = metrics.roc_curve(y_true, y_pred)\n",
    "metrics.auc(fpr, tpr)"
   ]
  },
  {
   "cell_type": "code",
   "execution_count": 20,
   "id": "13a884ab-346e-4c7e-9512-127577ab146a",
   "metadata": {
    "tags": []
   },
   "outputs": [
    {
     "data": {
      "text/plain": [
       "0.9569338189915221"
      ]
     },
     "execution_count": 20,
     "metadata": {},
     "output_type": "execute_result"
    }
   ],
   "source": [
    "fpr, tpr, thresholds = metrics.roc_curve(df08['REACTIVATED'].values, df08['SCORE'].values)\n",
    "metrics.auc(fpr, tpr)"
   ]
  },
  {
   "cell_type": "markdown",
   "id": "3ec94a66-2b9c-4607-8846-bb73c4c54578",
   "metadata": {},
   "source": [
    "## Plot AUC"
   ]
  },
  {
   "cell_type": "code",
   "execution_count": 21,
   "id": "2e7d5779-7b26-42f8-87ad-c41d74964a9d",
   "metadata": {
    "tags": []
   },
   "outputs": [
    {
     "data": {
      "image/png": "[encoded data removed]",
      "text/plain": [
       "<Figure size 640x480 with 1 Axes>"
      ]
     },
     "metadata": {},
     "output_type": "display_data"
    }
   ],
   "source": [
    "display = metrics.RocCurveDisplay.from_predictions(y_true, y_pred, plot_chance_level=True)"
   ]
  },
  {
   "cell_type": "code",
   "execution_count": 23,
   "id": "f3e8268e-1631-4a27-bbf3-388055cd5b2b",
   "metadata": {},
   "outputs": [
    {
     "name": "stdout",
     "output_type": "stream",
     "text": [
      "<class 'pandas.core.frame.DataFrame'>\n",
      "Int64Index: 7588998 entries, 0 to 15950733\n",
      "Data columns (total 3 columns):\n",
      " #   Column        Dtype  \n",
      "---  ------        -----  \n",
      " 0   CUSTOMER_CDE  object \n",
      " 1   SCORE         float64\n",
      " 2   REACTIVATED   float64\n",
      "dtypes: float64(2), object(1)\n",
      "memory usage: 231.6+ MB\n"
     ]
    }
   ],
   "source": [
    "df07.info()"
   ]
  },
  {
   "cell_type": "code",
   "execution_count": 24,
   "id": "a8f85aa2-0f57-4a9e-b570-3f1576b47762",
   "metadata": {
    "tags": []
   },
   "outputs": [
    {
     "name": "stdout",
     "output_type": "stream",
     "text": [
      "<class 'pandas.core.frame.DataFrame'>\n",
      "Int64Index: 7579666 entries, 86 to 16022574\n",
      "Data columns (total 3 columns):\n",
      " #   Column        Dtype  \n",
      "---  ------        -----  \n",
      " 0   CUSTOMER_CDE  object \n",
      " 1   SCORE         float64\n",
      " 2   REACTIVATED   float64\n",
      "dtypes: float64(2), object(1)\n",
      "memory usage: 231.3+ MB\n"
     ]
    }
   ],
   "source": [
    "df08.info()"
   ]
  },
  {
   "cell_type": "markdown",
   "id": "ae5ce70f-8f46-41cd-aa06-ea86cc519523",
   "metadata": {
    "tags": []
   },
   "source": [
    "# CAP & Gini & Lift"
   ]
  },
  {
   "cell_type": "code",
   "execution_count": 94,
   "id": "aa7f093e-86bc-437a-a498-35605ddde654",
   "metadata": {
    "tags": []
   },
   "outputs": [],
   "source": [
    "df = df07.copy()\n",
    "df = df.rename(columns={'SCORE': 'PROBA_REACTIVE', 'REACTIVATED': 'LABEL'})\n",
    "df['PROBA_NOREACTIVE'] = 1 - df['PROBA_REACTIVE']\n",
    "df['LABEL'] = df['LABEL'].apply(lambda x: 'REACTIVATED' if x == 1 else 'NOT_REACTIVATED')"
   ]
  },
  {
   "cell_type": "code",
   "execution_count": 95,
   "id": "e2cbbd2d-d998-4647-b14b-81b2699771c9",
   "metadata": {
    "tags": []
   },
   "outputs": [],
   "source": [
    "df = df.sort_values(by='PROBA_NOREACTIVE')"
   ]
  },
  {
   "cell_type": "code",
   "execution_count": 96,
   "id": "2edaa9b2-044c-44e6-a631-e9aba5b78ef6",
   "metadata": {
    "tags": []
   },
   "outputs": [],
   "source": [
    "qcuts, bins = pd.qcut(df['PROBA_NOREACTIVE'], q=100, labels=False, retbins=True)"
   ]
  },
  {
   "cell_type": "code",
   "execution_count": 97,
   "id": "b563a6bd-7bc8-4a10-a72e-996d13fe6fbd",
   "metadata": {
    "tags": []
   },
   "outputs": [],
   "source": [
    "df['bin'] = qcuts\n",
    "\n",
    "# num_bins = 100\n",
    "# bucket_size = len(df) // num_bins\n",
    "# buckets = [i for i in range(num_bins) for j in range(bucket_size)] + [num_bins-1] * (len(df) % num_bins)\n",
    "# df['bin'] = buckets"
   ]
  },
  {
   "cell_type": "code",
   "execution_count": 98,
   "id": "efb987d0-f648-4733-a309-9971788e03f8",
   "metadata": {
    "tags": []
   },
   "outputs": [],
   "source": [
    "df = df.groupby('bin')['LABEL'].value_counts().to_frame(name='count').reset_index().pivot(index='bin', columns='LABEL', values='count')\n",
    "df['NOT_REACTIVATED'] = df['NOT_REACTIVATED'].fillna(0)"
   ]
  },
  {
   "cell_type": "code",
   "execution_count": 99,
   "id": "13050ce5-9de9-4896-ba75-fdb460c02cfb",
   "metadata": {
    "tags": []
   },
   "outputs": [],
   "source": [
    "df['total_lead'] = df['REACTIVATED'] + df['NOT_REACTIVATED']"
   ]
  },
  {
   "cell_type": "code",
   "execution_count": 100,
   "id": "1394187d-0a67-42ea-b5c8-fa58a8d4f967",
   "metadata": {
    "tags": []
   },
   "outputs": [
    {
     "data": {
      "text/plain": [
       "(7588998, 62660)"
      ]
     },
     "execution_count": 100,
     "metadata": {},
     "output_type": "execute_result"
    }
   ],
   "source": [
    "total_reactivated = df['REACTIVATED'].sum()\n",
    "total_leads = df['total_lead'].sum()\n",
    "total_leads, total_reactivated"
   ]
  },
  {
   "cell_type": "code",
   "execution_count": 101,
   "id": "072d9ff0-a2fc-43ae-b401-18e5b7bde035",
   "metadata": {
    "tags": []
   },
   "outputs": [],
   "source": [
    "df['perc_REACTIVATED'] = df['REACTIVATED'] / total_reactivated * 100\n",
    "df['cumsum_REACTIVATED'] = df['REACTIVATED'].cumsum()\n",
    "df['perc_cumsum_REACTIVATED'] = df['cumsum_REACTIVATED'] / total_reactivated * 100\n",
    "df['lift'] = df['perc_cumsum_REACTIVATED'] / (df['total_lead'].cumsum() / total_leads)  / 100"
   ]
  },
  {
   "cell_type": "code",
   "execution_count": 102,
   "id": "34f75f1e-fb6a-4f40-8308-bf87795dcdf3",
   "metadata": {
    "tags": []
   },
   "outputs": [],
   "source": [
    "df = df[['total_lead', 'REACTIVATED', 'cumsum_REACTIVATED', 'perc_REACTIVATED', 'perc_cumsum_REACTIVATED', 'lift']]"
   ]
  },
  {
   "cell_type": "code",
   "execution_count": 103,
   "id": "6dd208bb-17f9-42e1-9691-c18d064c0a36",
   "metadata": {
    "tags": []
   },
   "outputs": [],
   "source": [
    "df = df.reset_index()"
   ]
  },
  {
   "cell_type": "code",
   "execution_count": 104,
   "id": "d3f207a1-472a-4613-8c31-afb72ab14b19",
   "metadata": {
    "tags": []
   },
   "outputs": [
    {
     "data": {
      "text/html": [
       "<div>\n",
       "<style scoped>\n",
       "    .dataframe tbody tr th:only-of-type {\n",
       "        vertical-align: middle;\n",
       "    }\n",
       "\n",
       "    .dataframe tbody tr th {\n",
       "        vertical-align: top;\n",
       "    }\n",
       "\n",
       "    .dataframe thead th {\n",
       "        text-align: right;\n",
       "    }\n",
       "</style>\n",
       "<table border=\"1\" class=\"dataframe\">\n",
       "  <thead>\n",
       "    <tr style=\"text-align: right;\">\n",
       "      <th>LABEL</th>\n",
       "      <th>bin</th>\n",
       "      <th>total_lead</th>\n",
       "      <th>REACTIVATED</th>\n",
       "      <th>cumsum_REACTIVATED</th>\n",
       "      <th>perc_REACTIVATED</th>\n",
       "      <th>perc_cumsum_REACTIVATED</th>\n",
       "      <th>lift</th>\n",
       "    </tr>\n",
       "  </thead>\n",
       "  <tbody>\n",
       "    <tr>\n",
       "      <th>0</th>\n",
       "      <td>0</td>\n",
       "      <td>75890</td>\n",
       "      <td>58112</td>\n",
       "      <td>58112</td>\n",
       "      <td>92.741781</td>\n",
       "      <td>92.741781</td>\n",
       "      <td>92.741757</td>\n",
       "    </tr>\n",
       "    <tr>\n",
       "      <th>1</th>\n",
       "      <td>1</td>\n",
       "      <td>75891</td>\n",
       "      <td>738</td>\n",
       "      <td>58850</td>\n",
       "      <td>1.177785</td>\n",
       "      <td>93.919566</td>\n",
       "      <td>46.959461</td>\n",
       "    </tr>\n",
       "    <tr>\n",
       "      <th>2</th>\n",
       "      <td>2</td>\n",
       "      <td>75889</td>\n",
       "      <td>257</td>\n",
       "      <td>59107</td>\n",
       "      <td>0.410150</td>\n",
       "      <td>94.329716</td>\n",
       "      <td>31.443230</td>\n",
       "    </tr>\n",
       "    <tr>\n",
       "      <th>3</th>\n",
       "      <td>3</td>\n",
       "      <td>75890</td>\n",
       "      <td>137</td>\n",
       "      <td>59244</td>\n",
       "      <td>0.218640</td>\n",
       "      <td>94.548356</td>\n",
       "      <td>23.637083</td>\n",
       "    </tr>\n",
       "    <tr>\n",
       "      <th>4</th>\n",
       "      <td>4</td>\n",
       "      <td>75912</td>\n",
       "      <td>113</td>\n",
       "      <td>59357</td>\n",
       "      <td>0.180338</td>\n",
       "      <td>94.728695</td>\n",
       "      <td>18.944636</td>\n",
       "    </tr>\n",
       "    <tr>\n",
       "      <th>...</th>\n",
       "      <td>...</td>\n",
       "      <td>...</td>\n",
       "      <td>...</td>\n",
       "      <td>...</td>\n",
       "      <td>...</td>\n",
       "      <td>...</td>\n",
       "      <td>...</td>\n",
       "    </tr>\n",
       "    <tr>\n",
       "      <th>95</th>\n",
       "      <td>95</td>\n",
       "      <td>77036</td>\n",
       "      <td>8</td>\n",
       "      <td>62615</td>\n",
       "      <td>0.012767</td>\n",
       "      <td>99.928184</td>\n",
       "      <td>1.040755</td>\n",
       "    </tr>\n",
       "    <tr>\n",
       "      <th>96</th>\n",
       "      <td>96</td>\n",
       "      <td>75728</td>\n",
       "      <td>13</td>\n",
       "      <td>62628</td>\n",
       "      <td>0.020747</td>\n",
       "      <td>99.948931</td>\n",
       "      <td>1.030263</td>\n",
       "    </tr>\n",
       "    <tr>\n",
       "      <th>97</th>\n",
       "      <td>97</td>\n",
       "      <td>75167</td>\n",
       "      <td>9</td>\n",
       "      <td>62637</td>\n",
       "      <td>0.014363</td>\n",
       "      <td>99.963294</td>\n",
       "      <td>1.019998</td>\n",
       "    </tr>\n",
       "    <tr>\n",
       "      <th>98</th>\n",
       "      <td>98</td>\n",
       "      <td>76059</td>\n",
       "      <td>8</td>\n",
       "      <td>62645</td>\n",
       "      <td>0.012767</td>\n",
       "      <td>99.976061</td>\n",
       "      <td>1.009801</td>\n",
       "    </tr>\n",
       "    <tr>\n",
       "      <th>99</th>\n",
       "      <td>99</td>\n",
       "      <td>75459</td>\n",
       "      <td>15</td>\n",
       "      <td>62660</td>\n",
       "      <td>0.023939</td>\n",
       "      <td>100.000000</td>\n",
       "      <td>1.000000</td>\n",
       "    </tr>\n",
       "  </tbody>\n",
       "</table>\n",
       "<p>100 rows × 7 columns</p>\n",
       "</div>"
      ],
      "text/plain": [
       "LABEL  bin  total_lead  REACTIVATED  cumsum_REACTIVATED  perc_REACTIVATED  \\\n",
       "0        0       75890        58112               58112         92.741781   \n",
       "1        1       75891          738               58850          1.177785   \n",
       "2        2       75889          257               59107          0.410150   \n",
       "3        3       75890          137               59244          0.218640   \n",
       "4        4       75912          113               59357          0.180338   \n",
       "..     ...         ...          ...                 ...               ...   \n",
       "95      95       77036            8               62615          0.012767   \n",
       "96      96       75728           13               62628          0.020747   \n",
       "97      97       75167            9               62637          0.014363   \n",
       "98      98       76059            8               62645          0.012767   \n",
       "99      99       75459           15               62660          0.023939   \n",
       "\n",
       "LABEL  perc_cumsum_REACTIVATED       lift  \n",
       "0                    92.741781  92.741757  \n",
       "1                    93.919566  46.959461  \n",
       "2                    94.329716  31.443230  \n",
       "3                    94.548356  23.637083  \n",
       "4                    94.728695  18.944636  \n",
       "..                         ...        ...  \n",
       "95                   99.928184   1.040755  \n",
       "96                   99.948931   1.030263  \n",
       "97                   99.963294   1.019998  \n",
       "98                   99.976061   1.009801  \n",
       "99                  100.000000   1.000000  \n",
       "\n",
       "[100 rows x 7 columns]"
      ]
     },
     "execution_count": 104,
     "metadata": {},
     "output_type": "execute_result"
    }
   ],
   "source": [
    "df"
   ]
  },
  {
   "cell_type": "code",
   "execution_count": 105,
   "id": "9e5a2576-37f7-4816-92eb-e59ac4222a4c",
   "metadata": {},
   "outputs": [
    {
     "data": {
      "image/png": "[encoded data removed]",
      "text/plain": [
       "<Figure size 640x480 with 1 Axes>"
      ]
     },
     "metadata": {},
     "output_type": "display_data"
    }
   ],
   "source": [
    "ax = sns.lineplot(df[['bin', 'perc_cumsum_REACTIVATED']], x='bin', y='perc_cumsum_REACTIVATED')\n",
    "ax.set_ylim(0, 100)\n",
    "plt.show()"
   ]
  },
  {
   "cell_type": "markdown",
   "id": "ac6ce6ba-28cb-44d2-9c35-c57843dbe673",
   "metadata": {},
   "source": [
    "## Make Prediction on Backtest 08"
   ]
  },
  {
   "cell_type": "code",
   "execution_count": 106,
   "id": "5029dd0b-38ce-4d86-bc79-a0d3962227c8",
   "metadata": {
    "tags": []
   },
   "outputs": [],
   "source": [
    "df1 = df08.copy()\n",
    "df1 = df1.rename(columns={'SCORE': 'PROBA_REACTIVE', 'REACTIVATED': 'LABEL'})\n",
    "df1['PROBA_NOREACTIVE'] = 1 - df1['PROBA_REACTIVE']\n",
    "df1['LABEL'] = df1['LABEL'].apply(lambda x: 'REACTIVATED' if x == 1 else 'NOT_REACTIVATED')"
   ]
  },
  {
   "cell_type": "code",
   "execution_count": 107,
   "id": "5ccfc3f9-7f4d-47e6-a10b-5952978584a2",
   "metadata": {
    "tags": []
   },
   "outputs": [],
   "source": [
    "df1 = df1.sort_values(by='PROBA_NOREACTIVE')"
   ]
  },
  {
   "cell_type": "code",
   "execution_count": 108,
   "id": "6097427c-5d4a-4c24-8b56-d69575d6790d",
   "metadata": {
    "tags": []
   },
   "outputs": [],
   "source": [
    "df1['bin'] = pd.cut(df1['PROBA_NOREACTIVE'], bins=bins, labels=False)"
   ]
  },
  {
   "cell_type": "code",
   "execution_count": 109,
   "id": "4b8e02eb-751c-4ef9-839c-111e58a95f05",
   "metadata": {
    "tags": []
   },
   "outputs": [],
   "source": [
    "df1 = df1.groupby('bin')['LABEL'].value_counts().to_frame(name='count').reset_index().pivot(index='bin', columns='LABEL', values='count')\n",
    "df1['NOT_REACTIVATED'] = df1['NOT_REACTIVATED'].fillna(0)"
   ]
  },
  {
   "cell_type": "code",
   "execution_count": 110,
   "id": "35fb0a2c-c927-41de-8247-878ee94cc990",
   "metadata": {
    "tags": []
   },
   "outputs": [],
   "source": [
    "df1['total_lead'] = df1['REACTIVATED'] + df1['NOT_REACTIVATED']"
   ]
  },
  {
   "cell_type": "code",
   "execution_count": 111,
   "id": "277c09df-2b5b-44c7-882c-099650b7be46",
   "metadata": {
    "tags": []
   },
   "outputs": [
    {
     "data": {
      "text/plain": [
       "(7579662, 33995)"
      ]
     },
     "execution_count": 111,
     "metadata": {},
     "output_type": "execute_result"
    }
   ],
   "source": [
    "total_reactivated = df1['REACTIVATED'].sum()\n",
    "total_leads = df1['total_lead'].sum()\n",
    "total_leads, total_reactivated"
   ]
  },
  {
   "cell_type": "code",
   "execution_count": 112,
   "id": "9223620b-a932-471e-b15d-1eab71153976",
   "metadata": {
    "tags": []
   },
   "outputs": [],
   "source": [
    "df1['perc_REACTIVATED'] = df1['REACTIVATED'] / total_reactivated * 100\n",
    "df1['cumsum_REACTIVATED'] = df1['REACTIVATED'].cumsum()\n",
    "df1['perc_cumsum_REACTIVATED'] = df1['cumsum_REACTIVATED'] / total_reactivated * 100\n",
    "df1['lift'] = df1['perc_cumsum_REACTIVATED'] / (df1['total_lead'].cumsum() / total_leads)  / 100"
   ]
  },
  {
   "cell_type": "code",
   "execution_count": 113,
   "id": "36be2193-50a4-4f20-8eb5-d12837ad7f91",
   "metadata": {
    "tags": []
   },
   "outputs": [],
   "source": [
    "df1 = df1[['total_lead', 'REACTIVATED', 'cumsum_REACTIVATED', 'perc_REACTIVATED', 'perc_cumsum_REACTIVATED', 'lift']]"
   ]
  },
  {
   "cell_type": "code",
   "execution_count": 114,
   "id": "23e44b49-8329-42c7-a737-bf7abe5edc24",
   "metadata": {
    "tags": []
   },
   "outputs": [],
   "source": [
    "df1 = df1.reset_index()"
   ]
  },
  {
   "cell_type": "code",
   "execution_count": 115,
   "id": "ddee04d1-3df3-4e70-824a-9569dfa03621",
   "metadata": {
    "tags": []
   },
   "outputs": [
    {
     "data": {
      "text/html": [
       "<div>\n",
       "<style scoped>\n",
       "    .dataframe tbody tr th:only-of-type {\n",
       "        vertical-align: middle;\n",
       "    }\n",
       "\n",
       "    .dataframe tbody tr th {\n",
       "        vertical-align: top;\n",
       "    }\n",
       "\n",
       "    .dataframe thead th {\n",
       "        text-align: right;\n",
       "    }\n",
       "</style>\n",
       "<table border=\"1\" class=\"dataframe\">\n",
       "  <thead>\n",
       "    <tr style=\"text-align: right;\">\n",
       "      <th>LABEL</th>\n",
       "      <th>bin</th>\n",
       "      <th>total_lead</th>\n",
       "      <th>REACTIVATED</th>\n",
       "      <th>cumsum_REACTIVATED</th>\n",
       "      <th>perc_REACTIVATED</th>\n",
       "      <th>perc_cumsum_REACTIVATED</th>\n",
       "      <th>lift</th>\n",
       "    </tr>\n",
       "  </thead>\n",
       "  <tbody>\n",
       "    <tr>\n",
       "      <th>0</th>\n",
       "      <td>0.0</td>\n",
       "      <td>47001</td>\n",
       "      <td>29154</td>\n",
       "      <td>29154</td>\n",
       "      <td>85.759671</td>\n",
       "      <td>85.759671</td>\n",
       "      <td>138.301167</td>\n",
       "    </tr>\n",
       "    <tr>\n",
       "      <th>1</th>\n",
       "      <td>1.0</td>\n",
       "      <td>74173</td>\n",
       "      <td>606</td>\n",
       "      <td>29760</td>\n",
       "      <td>1.782615</td>\n",
       "      <td>87.542286</td>\n",
       "      <td>54.759349</td>\n",
       "    </tr>\n",
       "    <tr>\n",
       "      <th>2</th>\n",
       "      <td>2.0</td>\n",
       "      <td>74599</td>\n",
       "      <td>243</td>\n",
       "      <td>30003</td>\n",
       "      <td>0.714811</td>\n",
       "      <td>88.257097</td>\n",
       "      <td>34.170134</td>\n",
       "    </tr>\n",
       "    <tr>\n",
       "      <th>3</th>\n",
       "      <td>3.0</td>\n",
       "      <td>77827</td>\n",
       "      <td>160</td>\n",
       "      <td>30163</td>\n",
       "      <td>0.470657</td>\n",
       "      <td>88.727754</td>\n",
       "      <td>24.580643</td>\n",
       "    </tr>\n",
       "    <tr>\n",
       "      <th>4</th>\n",
       "      <td>4.0</td>\n",
       "      <td>76149</td>\n",
       "      <td>155</td>\n",
       "      <td>30318</td>\n",
       "      <td>0.455949</td>\n",
       "      <td>89.183703</td>\n",
       "      <td>19.327641</td>\n",
       "    </tr>\n",
       "    <tr>\n",
       "      <th>...</th>\n",
       "      <td>...</td>\n",
       "      <td>...</td>\n",
       "      <td>...</td>\n",
       "      <td>...</td>\n",
       "      <td>...</td>\n",
       "      <td>...</td>\n",
       "      <td>...</td>\n",
       "    </tr>\n",
       "    <tr>\n",
       "      <th>95</th>\n",
       "      <td>95.0</td>\n",
       "      <td>80869</td>\n",
       "      <td>21</td>\n",
       "      <td>33937</td>\n",
       "      <td>0.061774</td>\n",
       "      <td>99.829387</td>\n",
       "      <td>1.040160</td>\n",
       "    </tr>\n",
       "    <tr>\n",
       "      <th>96</th>\n",
       "      <td>96.0</td>\n",
       "      <td>72004</td>\n",
       "      <td>12</td>\n",
       "      <td>33949</td>\n",
       "      <td>0.035299</td>\n",
       "      <td>99.864686</td>\n",
       "      <td>1.030330</td>\n",
       "    </tr>\n",
       "    <tr>\n",
       "      <th>97</th>\n",
       "      <td>97.0</td>\n",
       "      <td>74123</td>\n",
       "      <td>13</td>\n",
       "      <td>33962</td>\n",
       "      <td>0.038241</td>\n",
       "      <td>99.902927</td>\n",
       "      <td>1.020429</td>\n",
       "    </tr>\n",
       "    <tr>\n",
       "      <th>98</th>\n",
       "      <td>98.0</td>\n",
       "      <td>80635</td>\n",
       "      <td>18</td>\n",
       "      <td>33980</td>\n",
       "      <td>0.052949</td>\n",
       "      <td>99.955876</td>\n",
       "      <td>1.009995</td>\n",
       "    </tr>\n",
       "    <tr>\n",
       "      <th>99</th>\n",
       "      <td>99.0</td>\n",
       "      <td>78317</td>\n",
       "      <td>15</td>\n",
       "      <td>33995</td>\n",
       "      <td>0.044124</td>\n",
       "      <td>100.000000</td>\n",
       "      <td>1.000000</td>\n",
       "    </tr>\n",
       "  </tbody>\n",
       "</table>\n",
       "<p>100 rows × 7 columns</p>\n",
       "</div>"
      ],
      "text/plain": [
       "LABEL   bin  total_lead  REACTIVATED  cumsum_REACTIVATED  perc_REACTIVATED  \\\n",
       "0       0.0       47001        29154               29154         85.759671   \n",
       "1       1.0       74173          606               29760          1.782615   \n",
       "2       2.0       74599          243               30003          0.714811   \n",
       "3       3.0       77827          160               30163          0.470657   \n",
       "4       4.0       76149          155               30318          0.455949   \n",
       "..      ...         ...          ...                 ...               ...   \n",
       "95     95.0       80869           21               33937          0.061774   \n",
       "96     96.0       72004           12               33949          0.035299   \n",
       "97     97.0       74123           13               33962          0.038241   \n",
       "98     98.0       80635           18               33980          0.052949   \n",
       "99     99.0       78317           15               33995          0.044124   \n",
       "\n",
       "LABEL  perc_cumsum_REACTIVATED        lift  \n",
       "0                    85.759671  138.301167  \n",
       "1                    87.542286   54.759349  \n",
       "2                    88.257097   34.170134  \n",
       "3                    88.727754   24.580643  \n",
       "4                    89.183703   19.327641  \n",
       "..                         ...         ...  \n",
       "95                   99.829387    1.040160  \n",
       "96                   99.864686    1.030330  \n",
       "97                   99.902927    1.020429  \n",
       "98                   99.955876    1.009995  \n",
       "99                  100.000000    1.000000  \n",
       "\n",
       "[100 rows x 7 columns]"
      ]
     },
     "execution_count": 115,
     "metadata": {},
     "output_type": "execute_result"
    }
   ],
   "source": [
    "df1"
   ]
  },
  {
   "cell_type": "code",
   "execution_count": 116,
   "id": "0a5a648a-9e73-47e4-92a1-4498b863963d",
   "metadata": {},
   "outputs": [
    {
     "data": {
      "image/png": "[encoded data removed]",
      "text/plain": [
       "<Figure size 640x480 with 1 Axes>"
      ]
     },
     "metadata": {},
     "output_type": "display_data"
    }
   ],
   "source": [
    "ax = sns.lineplot(df1[['bin', 'perc_cumsum_REACTIVATED']], x='bin', y='perc_cumsum_REACTIVATED')\n",
    "ax.set_ylim(0, 100)\n",
    "ax.set_xlim(0, 10)\n",
    "plt.show()"
   ]
  },
  {
   "cell_type": "code",
   "execution_count": null,
   "id": "93fe7456-5965-4f15-91c5-587867ee3f2b",
   "metadata": {},
   "outputs": [],
   "source": []
  }
 ],
 "metadata": {
  "kernelspec": {
   "display_name": "Python 3 (ipykernel)",
   "language": "python",
   "name": "python3"
  },
  "language_info": {
   "codemirror_mode": {
    "name": "ipython",
    "version": 3
   },
   "file_extension": ".py",
   "mimetype": "text/x-python",
   "name": "python",
   "nbconvert_exporter": "python",
   "pygments_lexer": "ipython3",
   "version": "3.8.13"
  }
 },
 "nbformat": 4,
 "nbformat_minor": 5
}
