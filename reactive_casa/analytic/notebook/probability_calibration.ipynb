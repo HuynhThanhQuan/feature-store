{
 "cells": [
  {
   "cell_type": "code",
   "execution_count": 1,
   "metadata": {},
   "outputs": [
    {
     "name": "stdout",
     "output_type": "stream",
     "text": [
      "['Solarize_Light2', '_classic_test_patch', '_mpl-gallery', '_mpl-gallery-nogrid', 'bmh', 'classic', 'dark_background', 'fast', 'fivethirtyeight', 'ggplot', 'grayscale', 'seaborn-v0_8', 'seaborn-v0_8-bright', 'seaborn-v0_8-colorblind', 'seaborn-v0_8-dark', 'seaborn-v0_8-dark-palette', 'seaborn-v0_8-darkgrid', 'seaborn-v0_8-deep', 'seaborn-v0_8-muted', 'seaborn-v0_8-notebook', 'seaborn-v0_8-paper', 'seaborn-v0_8-pastel', 'seaborn-v0_8-poster', 'seaborn-v0_8-talk', 'seaborn-v0_8-ticks', 'seaborn-v0_8-white', 'seaborn-v0_8-whitegrid', 'tableau-colorblind10']\n",
      "Connected DB CINS_SMY - conn\n",
      "Connected oraDW_ANALYTICS - conn_aly\n"
     ]
    }
   ],
   "source": [
    "from util import *"
   ]
  },
  {
   "cell_type": "code",
   "execution_count": 2,
   "metadata": {},
   "outputs": [],
   "source": [
    "from sklearn.compose import ColumnTransformer\n",
    "from sklearn.impute import SimpleImputer\n",
    "from sklearn.pipeline import Pipeline\n",
    "from sklearn.model_selection import train_test_split\n",
    "from sklearn.preprocessing import OneHotEncoder, StandardScaler, FunctionTransformer\n",
    "from sklearn import metrics\n",
    "from sklearn.ensemble import RandomForestClassifier\n",
    "from sklearn.linear_model import LogisticRegression\n",
    "from xgboost import XGBClassifier"
   ]
  },
  {
   "cell_type": "code",
   "execution_count": 3,
   "metadata": {},
   "outputs": [],
   "source": [
    "from sklearn.calibration import CalibratedClassifierCV, CalibrationDisplay\n",
    "from sklearn.naive_bayes import GaussianNB"
   ]
  },
  {
   "cell_type": "code",
   "execution_count": 4,
   "metadata": {},
   "outputs": [],
   "source": [
    "from matplotlib.gridspec import GridSpec"
   ]
  },
  {
   "cell_type": "markdown",
   "metadata": {},
   "source": [
    "# DATA"
   ]
  },
  {
   "cell_type": "code",
   "execution_count": 5,
   "metadata": {},
   "outputs": [],
   "source": [
    "train_df = pd.read_parquet('/config/workspace/feature-store/reactive_casa/deploy/data/01-07-2023/DATA_LABEL')\n",
    "valid_df = pd.read_parquet('/config/workspace/feature-store/reactive_casa/deploy/data/01-08-2023/DATA_LABEL')\n",
    "test_df = pd.read_parquet('/config/workspace/feature-store/reactive_casa/deploy/data/01-11-2023/DATA_LABEL')"
   ]
  },
  {
   "cell_type": "code",
   "execution_count": 6,
   "metadata": {},
   "outputs": [],
   "source": [
    "x_train, y_train = train_df.drop(columns=['REACTIVATED_CASA']), train_df['REACTIVATED_CASA']\n",
    "x_valid, y_valid = valid_df.drop(columns=['REACTIVATED_CASA']), valid_df['REACTIVATED_CASA']"
   ]
  },
  {
   "cell_type": "code",
   "execution_count": 7,
   "metadata": {},
   "outputs": [],
   "source": [
    "num1feat_cols = [\n",
    "            'CASA_BAL_SUM_LATEST',\n",
    "            'LOAN_SUM_LATEST',\n",
    "            'CASA_BAL_SUM_36M',\n",
    "            'CASA_TXN_AMT_SUM_36M',\n",
    "            ]\n",
    "num2feat_cols = [\n",
    "    'AGE',\n",
    "    'LOR',\n",
    "    'CREDIT_SCORE',\n",
    "    ]\n",
    "\n",
    "catfeat_cols = ['AREA','PROFESSION','GEN_GRP','LIFE_STG']\n",
    "\n",
    "# Pipeline + Model\n",
    "num1_transformer = Pipeline(steps=[\n",
    "    ('imputer', SimpleImputer(strategy='constant', fill_value=1)), \n",
    "    ('log_tf', FunctionTransformer(func=np.log1p, feature_names_out='one-to-one')), \n",
    "    ('scaler', StandardScaler())\n",
    "])\n",
    "num2_transformer = Pipeline(steps=[\n",
    "    ('imputer', SimpleImputer(strategy='median')), \n",
    "    # ('scaler', StandardScaler())\n",
    "])\n",
    "categorical_transformer = Pipeline(steps=[('encoder', OneHotEncoder(handle_unknown='ignore'))])\n",
    "transformer = ColumnTransformer(\n",
    "    transformers=[\n",
    "        ('num1', num1_transformer, num1feat_cols),\n",
    "        ('num2', num2_transformer, num2feat_cols),\n",
    "        ('cat', categorical_transformer, catfeat_cols)]\n",
    ")"
   ]
  },
  {
   "cell_type": "code",
   "execution_count": 8,
   "metadata": {},
   "outputs": [],
   "source": [
    "pipeline1 = Pipeline([\n",
    "        (\"transform\", transformer),\n",
    "        (\"model\", XGBClassifier())\n",
    "    ])"
   ]
  },
  {
   "cell_type": "code",
   "execution_count": 9,
   "metadata": {},
   "outputs": [],
   "source": [
    "pipeline2 = Pipeline([\n",
    "        (\"transform\", transformer),\n",
    "        (\"model\", LogisticRegression())\n",
    "    ])"
   ]
  },
  {
   "cell_type": "code",
   "execution_count": 10,
   "metadata": {},
   "outputs": [],
   "source": [
    "pipeline3 = Pipeline([\n",
    "        (\"transform\", transformer),\n",
    "        (\"model\", RandomForestClassifier(max_depth=5))\n",
    "    ])"
   ]
  },
  {
   "cell_type": "code",
   "execution_count": 11,
   "metadata": {},
   "outputs": [],
   "source": [
    "gnb = GaussianNB()\n",
    "gnb_isotonic = CalibratedClassifierCV(gnb, cv=2, method='isotonic')\n",
    "gnb_sigmoid = CalibratedClassifierCV(gnb, cv=2, method='sigmoid')"
   ]
  },
  {
   "cell_type": "code",
   "execution_count": 12,
   "metadata": {},
   "outputs": [
    {
     "ename": "NameError",
     "evalue": "name 'AdaBoostClassifier' is not defined",
     "output_type": "error",
     "traceback": [
      "\u001b[0;31m---------------------------------------------------------------------------\u001b[0m",
      "\u001b[0;31mNameError\u001b[0m                                 Traceback (most recent call last)",
      "\u001b[1;32m/config/workspace/feature-store/reactive_casa/analytic/notebook/probability_calibration.ipynb Cell 13\u001b[0m line \u001b[0;36m3\n\u001b[1;32m      <a href='vscode-notebook-cell://quan-workspace-mlrun.apps.uat-cloud.sacombank.local/config/workspace/feature-store/reactive_casa/analytic/notebook/probability_calibration.ipynb#X53sdnNjb2RlLXJlbW90ZQ%3D%3D?line=0'>1</a>\u001b[0m pipeline4 \u001b[39m=\u001b[39m Pipeline([\n\u001b[1;32m      <a href='vscode-notebook-cell://quan-workspace-mlrun.apps.uat-cloud.sacombank.local/config/workspace/feature-store/reactive_casa/analytic/notebook/probability_calibration.ipynb#X53sdnNjb2RlLXJlbW90ZQ%3D%3D?line=1'>2</a>\u001b[0m         (\u001b[39m\"\u001b[39m\u001b[39mtransform\u001b[39m\u001b[39m\"\u001b[39m, transformer),\n\u001b[0;32m----> <a href='vscode-notebook-cell://quan-workspace-mlrun.apps.uat-cloud.sacombank.local/config/workspace/feature-store/reactive_casa/analytic/notebook/probability_calibration.ipynb#X53sdnNjb2RlLXJlbW90ZQ%3D%3D?line=2'>3</a>\u001b[0m         (\u001b[39m\"\u001b[39m\u001b[39mmodel\u001b[39m\u001b[39m\"\u001b[39m, AdaBoostClassifier())\n\u001b[1;32m      <a href='vscode-notebook-cell://quan-workspace-mlrun.apps.uat-cloud.sacombank.local/config/workspace/feature-store/reactive_casa/analytic/notebook/probability_calibration.ipynb#X53sdnNjb2RlLXJlbW90ZQ%3D%3D?line=3'>4</a>\u001b[0m     ])\n\u001b[1;32m      <a href='vscode-notebook-cell://quan-workspace-mlrun.apps.uat-cloud.sacombank.local/config/workspace/feature-store/reactive_casa/analytic/notebook/probability_calibration.ipynb#X53sdnNjb2RlLXJlbW90ZQ%3D%3D?line=4'>5</a>\u001b[0m pipeline5 \u001b[39m=\u001b[39m Pipeline([\n\u001b[1;32m      <a href='vscode-notebook-cell://quan-workspace-mlrun.apps.uat-cloud.sacombank.local/config/workspace/feature-store/reactive_casa/analytic/notebook/probability_calibration.ipynb#X53sdnNjb2RlLXJlbW90ZQ%3D%3D?line=5'>6</a>\u001b[0m         (\u001b[39m\"\u001b[39m\u001b[39mtransform\u001b[39m\u001b[39m\"\u001b[39m, transformer),\n\u001b[1;32m      <a href='vscode-notebook-cell://quan-workspace-mlrun.apps.uat-cloud.sacombank.local/config/workspace/feature-store/reactive_casa/analytic/notebook/probability_calibration.ipynb#X53sdnNjb2RlLXJlbW90ZQ%3D%3D?line=6'>7</a>\u001b[0m         (\u001b[39m\"\u001b[39m\u001b[39mmodel\u001b[39m\u001b[39m\"\u001b[39m, MLPClassifier(alpha\u001b[39m=\u001b[39m\u001b[39m1\u001b[39m, max_iter\u001b[39m=\u001b[39m\u001b[39m1000\u001b[39m))\n\u001b[1;32m      <a href='vscode-notebook-cell://quan-workspace-mlrun.apps.uat-cloud.sacombank.local/config/workspace/feature-store/reactive_casa/analytic/notebook/probability_calibration.ipynb#X53sdnNjb2RlLXJlbW90ZQ%3D%3D?line=7'>8</a>\u001b[0m     ])\n\u001b[1;32m      <a href='vscode-notebook-cell://quan-workspace-mlrun.apps.uat-cloud.sacombank.local/config/workspace/feature-store/reactive_casa/analytic/notebook/probability_calibration.ipynb#X53sdnNjb2RlLXJlbW90ZQ%3D%3D?line=8'>9</a>\u001b[0m pipeline6 \u001b[39m=\u001b[39m Pipeline([\n\u001b[1;32m     <a href='vscode-notebook-cell://quan-workspace-mlrun.apps.uat-cloud.sacombank.local/config/workspace/feature-store/reactive_casa/analytic/notebook/probability_calibration.ipynb#X53sdnNjb2RlLXJlbW90ZQ%3D%3D?line=9'>10</a>\u001b[0m         (\u001b[39m\"\u001b[39m\u001b[39mtransform\u001b[39m\u001b[39m\"\u001b[39m, transformer),\n\u001b[1;32m     <a href='vscode-notebook-cell://quan-workspace-mlrun.apps.uat-cloud.sacombank.local/config/workspace/feature-store/reactive_casa/analytic/notebook/probability_calibration.ipynb#X53sdnNjb2RlLXJlbW90ZQ%3D%3D?line=10'>11</a>\u001b[0m         (\u001b[39m\"\u001b[39m\u001b[39mmodel\u001b[39m\u001b[39m\"\u001b[39m, DecisionTreeClassifier(max_depth\u001b[39m=\u001b[39m\u001b[39m5\u001b[39m))\n\u001b[1;32m     <a href='vscode-notebook-cell://quan-workspace-mlrun.apps.uat-cloud.sacombank.local/config/workspace/feature-store/reactive_casa/analytic/notebook/probability_calibration.ipynb#X53sdnNjb2RlLXJlbW90ZQ%3D%3D?line=11'>12</a>\u001b[0m     ])\n",
      "\u001b[0;31mNameError\u001b[0m: name 'AdaBoostClassifier' is not defined"
     ]
    }
   ],
   "source": [
    "pipeline4 = Pipeline([\n",
    "        (\"transform\", transformer),\n",
    "        (\"model\", AdaBoostClassifier())\n",
    "    ])\n",
    "pipeline5 = Pipeline([\n",
    "        (\"transform\", transformer),\n",
    "        (\"model\", MLPClassifier(alpha=1, max_iter=1000))\n",
    "    ])\n",
    "pipeline6 = Pipeline([\n",
    "        (\"transform\", transformer),\n",
    "        (\"model\", DecisionTreeClassifier(max_depth=5))\n",
    "    ])"
   ]
  },
  {
   "cell_type": "markdown",
   "metadata": {},
   "source": [
    "# CALIBRATION PLOT"
   ]
  },
  {
   "cell_type": "code",
   "execution_count": null,
   "metadata": {},
   "outputs": [],
   "source": [
    "pipeline_list = [\n",
    "    ('xgboost', pipeline1),\n",
    "    ('logit', pipeline2),\n",
    "    ('rf', pipeline3),\n",
    "    ('adaboost', pipeline4),\n",
    "    ('MLP', pipeline5),\n",
    "    ('decision-tree', pipeline6),\n",
    "]"
   ]
  },
  {
   "cell_type": "code",
   "execution_count": null,
   "metadata": {},
   "outputs": [],
   "source": [
    "fig = plt.figure(figsize=(10, 10))\n",
    "gs = GridSpec(4,2)\n",
    "colors = plt.get_cmap('Dark2')\n",
    "ax_calibration = fig.add_subplot(gs[:2, :2])\n",
    "cal_display = {}\n",
    "\n",
    "result = {}\n",
    "\n",
    "for i, (name, clf) in enumerate(pipeline_list):\n",
    "    print(name)\n",
    "    clf.fit(x_train, y_train)\n",
    "    y_prob=clf.predict_proba(x_valid)\n",
    "    y_pred=clf.predict(x_valid)\n",
    "    result[name] = (y_pred, y_prob)\n",
    "    display = CalibrationDisplay.from_predictions(y_valid, y_prob[:,1], n_bins=10, name=name, ax=ax_calibration, color=colors(i))\n",
    "    cal_display[name] = display\n",
    "ax_calibration.grid()\n",
    "ax_calibration.set_title('Calibration plots')\n",
    "\n",
    "# g_pos = [(2,0), (2,1), (3,0), (3,1)]\n",
    "# for i, (_, name) in enumerate(pipeline_list):\n",
    "#     row, col = g_pos[i]\n",
    "#     ax = fig.add_subplot(gs[row, col])\n",
    "#     ax.hist(\n",
    "#         cal_display[name].y_prob,\n",
    "#         range=(0, 1),\n",
    "#         bins=10,\n",
    "#         label=name,\n",
    "#         color=colors(i)\n",
    "#     )\n",
    "#     ax.set(title=name, xlabel='Mean predicted probability', ylabel='count')\n",
    "# plt.tight_layout()\n",
    "plt.show()"
   ]
  },
  {
   "cell_type": "code",
   "execution_count": null,
   "metadata": {},
   "outputs": [],
   "source": [
    "from collections import defaultdict\n",
    "from sklearn.metrics import brier_score_loss, log_loss, f1_score, precision_score, recall_score, roc_auc_score"
   ]
  },
  {
   "cell_type": "code",
   "execution_count": null,
   "metadata": {},
   "outputs": [],
   "source": [
    "scores = defaultdict(list)\n",
    "for i, (name, clf) in enumerate(pipeline_list):\n",
    "    y_pred=result[name][0]\n",
    "    y_prob=result[name][1]\n",
    "    scores['Classifier'].append(name)\n",
    "\n",
    "    for metric in [brier_score_loss, log_loss, roc_auc_score]:\n",
    "        score_name = metric.__name__\n",
    "        scores[score_name].append(metric(y_valid, y_prob[:, 1]))\n",
    "    for metric in [precision_score, recall_score, f1_score]:\n",
    "        score_name = metric.__name__\n",
    "        scores[score_name].append(metric(y_valid, y_pred))\n",
    "\n",
    "    score_df = pd.DataFrame(scores).set_index('Classifier')\n",
    "    score_df.round(decimals=3)"
   ]
  },
  {
   "cell_type": "code",
   "execution_count": null,
   "metadata": {},
   "outputs": [],
   "source": [
    "score_df"
   ]
  },
  {
   "cell_type": "code",
   "execution_count": null,
   "metadata": {},
   "outputs": [],
   "source": [
    "from sklearn.ensemble import AdaBoostClassifier\n",
    "# from sklearn.gaussian_process import GaussianProcessClassifier\n",
    "# from sklearn.gaussian_process.kernels import RBF\n",
    "from sklearn.neural_network import MLPClassifier\n",
    "from sklearn.tree import DecisionTreeClassifier"
   ]
  },
  {
   "cell_type": "code",
   "execution_count": null,
   "metadata": {},
   "outputs": [],
   "source": [
    "\n",
    "# pipeline_dummy = Pipeline([\n",
    "#         (\"transform\", transformer),\n",
    "#         (\"model\", DecisionTreeClassifier(max_depth=5))\n",
    "#     ])\n",
    "\n",
    "# pipeline_dummy.fit(x_train, y_train)\n",
    "# y_pred = pipeline_dummy.predict(x_valid)\n",
    "# y_prob = pipeline_dummy.predict_proba(x_valid)"
   ]
  },
  {
   "cell_type": "code",
   "execution_count": 18,
   "metadata": {},
   "outputs": [],
   "source": [
    "l = ['01', '02', '03', '04', '05', '06', '07','08', '09','10','11','12']"
   ]
  },
  {
   "cell_type": "code",
   "execution_count": 21,
   "metadata": {},
   "outputs": [
    {
     "name": "stdout",
     "output_type": "stream",
     "text": [
      "01\n",
      "0    898379\n",
      "1     13201\n",
      "Name: REACTIVATED_CASA, dtype: int64 911580\n",
      "02\n",
      "0    920735\n",
      "1      9285\n",
      "Name: REACTIVATED_CASA, dtype: int64 930020\n",
      "03\n",
      "0    942082\n",
      "1     20632\n",
      "Name: REACTIVATED_CASA, dtype: int64 962714\n",
      "04\n",
      "0    963443\n",
      "1     22227\n",
      "Name: REACTIVATED_CASA, dtype: int64 985670\n",
      "05\n",
      "0    986695\n",
      "1     24098\n",
      "Name: REACTIVATED_CASA, dtype: int64 1010793\n",
      "06\n",
      "0    988098\n",
      "1     46527\n",
      "Name: REACTIVATED_CASA, dtype: int64 1034625\n",
      "07\n",
      "0    997687\n",
      "1     19045\n",
      "Name: REACTIVATED_CASA, dtype: int64 1016732\n",
      "08\n",
      "0    1002951\n",
      "1      21240\n",
      "Name: REACTIVATED_CASA, dtype: int64 1024191\n",
      "09\n",
      "0    1018359\n",
      "1      22593\n",
      "Name: REACTIVATED_CASA, dtype: int64 1040952\n",
      "10\n",
      "0    1026635\n",
      "1      29869\n",
      "Name: REACTIVATED_CASA, dtype: int64 1056504\n",
      "11\n",
      "0    1001492\n",
      "1      74182\n",
      "Name: REACTIVATED_CASA, dtype: int64 1075674\n",
      "12\n",
      "0    1022429\n",
      "1      18766\n",
      "Name: REACTIVATED_CASA, dtype: int64 1041195\n"
     ]
    }
   ],
   "source": [
    "for i in l:\n",
    "    print(i)\n",
    "    df = pd.read_parquet(f'/config/workspace/feature-store/reactive_casa/deploy/data/01-{i}-2023/DATA_LABEL')\n",
    "    # print(len(df))\n",
    "    print(df['REACTIVATED_CASA'].value_counts(), df['REACTIVATED_CASA'].value_counts().sum())"
   ]
  },
  {
   "cell_type": "code",
   "execution_count": null,
   "metadata": {},
   "outputs": [],
   "source": []
  }
 ],
 "metadata": {
  "kernelspec": {
   "display_name": "Python 3",
   "language": "python",
   "name": "python3"
  },
  "language_info": {
   "codemirror_mode": {
    "name": "ipython",
    "version": 3
   },
   "file_extension": ".py",
   "mimetype": "text/x-python",
   "name": "python",
   "nbconvert_exporter": "python",
   "pygments_lexer": "ipython3",
   "version": "3.9.17"
  }
 },
 "nbformat": 4,
 "nbformat_minor": 2
}
