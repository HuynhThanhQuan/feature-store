{
 "cells": [
  {
   "cell_type": "code",
   "execution_count": 1,
   "metadata": {},
   "outputs": [
    {
     "name": "stdout",
     "output_type": "stream",
     "text": [
      "['Solarize_Light2', '_classic_test_patch', '_mpl-gallery', '_mpl-gallery-nogrid', 'bmh', 'classic', 'dark_background', 'fast', 'fivethirtyeight', 'ggplot', 'grayscale', 'seaborn-v0_8', 'seaborn-v0_8-bright', 'seaborn-v0_8-colorblind', 'seaborn-v0_8-dark', 'seaborn-v0_8-dark-palette', 'seaborn-v0_8-darkgrid', 'seaborn-v0_8-deep', 'seaborn-v0_8-muted', 'seaborn-v0_8-notebook', 'seaborn-v0_8-paper', 'seaborn-v0_8-pastel', 'seaborn-v0_8-poster', 'seaborn-v0_8-talk', 'seaborn-v0_8-ticks', 'seaborn-v0_8-white', 'seaborn-v0_8-whitegrid', 'tableau-colorblind10']\n",
      "Connected DB CINS_SMY - conn\n",
      "Connected oraDW_ANALYTICS - conn_aly\n"
     ]
    }
   ],
   "source": [
    "from util import *"
   ]
  },
  {
   "cell_type": "code",
   "execution_count": 2,
   "metadata": {},
   "outputs": [],
   "source": [
    "query11 = \"\"\"WITH \n",
    "T0 AS (\n",
    "    SELECT * FROM CINS_REACTIVATED_CASA_CUST_STT_CHG_01112023),\n",
    "T1 AS (\n",
    "    SELECT * FROM CINS_REACTIVATED_CASA_SCORE_01112023),\n",
    "T2 AS (\n",
    "    SELECT *\n",
    "        FROM (SELECT T0.*, T1.SCORE, T1.RANK\n",
    "        FROM T0 INNER JOIN T1 ON T0.CUSTOMER_CDE = T1.CUSTOMER_CDE\n",
    "        ORDER BY SCORE DESC)),\n",
    "T21 AS (\n",
    "    SELECT * FROM DW_ANALYTICS.DW_CUST_PRODUCT_LOC_FCT\n",
    "    WHERE SD_TKTT = 1 AND PROCESS_DT = TO_DATE('31-10-2023', 'DD-MM-YY')),\n",
    "T3 AS (\n",
    "    SELECT T21.*, T2.SCORE, T2.CUST_STT, T2.CUST_STT_LAG, T2.CUST_STT_CHG, T2.REACTIVATED\n",
    "    FROM T21 \n",
    "    INNER JOIN T2 ON T21.CUSTOMER_CDE = T2.CUSTOMER_CDE),\n",
    "T4 AS (\n",
    "    SELECT * FROM DW_ANALYTICS.DW_ORG_LOCATION_DIM),\n",
    "T5 AS (\n",
    "    SELECT * FROM DW_ANALYTICS.DW_CUSTOMER_FULL_DIM),\n",
    "T6 AS (\n",
    "    SELECT * FROM DW_ANALYTICS.DW_DEPOSIT_FCT),\n",
    "T7 AS (\n",
    "    SELECT * FROM DW_ANALYTICS.DW_LOAN_FCT),\n",
    "T8 AS (\n",
    "    SELECT * FROM DW_ANALYTICS.DW_SBVCODE_DIM),\n",
    "T9 AS (\n",
    "    SELECT * FROM DW_ANALYTICS.DW_CUSTOMER_DIM\n",
    "    WHERE ACTIVE = 1),\n",
    "T10 AS (\n",
    "    SELECT * FROM CINS_FEATURE_STORE_REACTIVATED_01112023\n",
    "    WHERE FTR_NM='CASA_DAY_SINCE_LAST_TXN_CT_36M'),\n",
    "D1 AS (\n",
    "    SELECT \n",
    "    T4.AREA_NAME, T5.SUB_BRANCH_CDE, T4.SUB_BRANCH_NAME, \n",
    "    T5.CUSTOMER_CDE, T5.FULL_NAME, T5.EMAIL, T5.MOBILE_PHONE, \n",
    "    T3.CUST_TYPE, T3.CUST_STATUS, T3.CUST_OPEN_DT,\n",
    "    T3.TKTT, T3.TK, T3.VAY, T3.BH, T3.PAY, T3.IB, T3.MB, T3.SP_KHAC, \n",
    "    T3.LASTEST_TRANS_DT, T10.FTR_VAL AS CASA_DAY_SINCE_LAST_TXN,\n",
    "    T9.DAO_CDE,\n",
    "    T1.SCORE, T1.RANK, T3.REACTIVATED\n",
    "    FROM T5\n",
    "    INNER JOIN T3 ON T5.CUSTOMER_CDE = T3.CUSTOMER_CDE\n",
    "    INNER JOIN T4 ON T5.SUB_BRANCH_CDE = T4.SUB_BRANCH_CDE\n",
    "    INNER JOIN T1 ON T5.CUSTOMER_CDE = T1.CUSTOMER_CDE\n",
    "    INNER JOIN T9 ON T5.CUSTOMER_CDE = T9.CUSTOMER_CDE\n",
    "    INNER JOIN T10 ON T5.CUSTOMER_CDE = T10.CUSTOMER_CDE),\n",
    "D2 AS (\n",
    "    SELECT \n",
    "    T1.CUSTOMER_CDE, SUM(ACTUAL_BAL_LCL) AS TOTAL_BAL\n",
    "    FROM T1 \n",
    "    LEFT JOIN T6 ON T1.CUSTOMER_CDE = T6.CUSTOMER_CDE\n",
    "    INNER JOIN T8 ON T8.SBVCODE_LVL_3 = T6.SBVCODE_LVL_3\n",
    "    WHERE T8.APPLICATION = 'DP' AND T6.PROCESS_DT = TO_DATE('31-10-2023', 'DD-MM-YY')\n",
    "    GROUP BY T1.CUSTOMER_CDE),\n",
    "D3 AS (\n",
    "    SELECT \n",
    "    T1.CUSTOMER_CDE, SUM(OS_AMT_LCL) AS TOTAL_LOAN\n",
    "    FROM T1 \n",
    "    LEFT JOIN T7 ON T1.CUSTOMER_CDE = T7.CUSTOMER_CDE\n",
    "    INNER JOIN T8 ON T8.SBVCODE_LVL_3 = T7.SBVCODE_LVL_3\n",
    "    WHERE T8.APPLICATION = 'LN' AND T7.PROCESS_DT = TO_DATE('31-10-2023', 'DD-MM-YY')\n",
    "    GROUP BY T1.CUSTOMER_CDE),\n",
    "D4 AS (\n",
    "    SELECT \n",
    "    D1.AREA_NAME, D1.SUB_BRANCH_CDE, D1.SUB_BRANCH_NAME, \n",
    "    D1.CUSTOMER_CDE, D1.FULL_NAME, D1.EMAIL, D1.MOBILE_PHONE, \n",
    "    D1.CUST_TYPE, D1.CUST_STATUS, D1.CUST_OPEN_DT,\n",
    "    D1.TKTT, D1.TK, D1.VAY, D1.BH, D1.PAY, D1.IB, D1.MB, D1.SP_KHAC, \n",
    "    NVL(D2.TOTAL_BAL, 0) AS TOTAL_BAL, \n",
    "    NVL(D3.TOTAL_LOAN, 0) AS TOTAL_LOAN,\n",
    "    D1.LASTEST_TRANS_DT, \n",
    "    CASE WHEN D1.CASA_DAY_SINCE_LAST_TXN IS NULL THEN NULL ELSE ROUND(D1.CASA_DAY_SINCE_LAST_TXN / 30) END AS MONTH_TYPE,\n",
    "    D1.DAO_CDE,\n",
    "    D1.CASA_DAY_SINCE_LAST_TXN,\n",
    "    D1.SCORE, D1.RANK, D1.REACTIVATED\n",
    "    FROM D1 \n",
    "    LEFT JOIN D2 ON D1.CUSTOMER_CDE = D2.CUSTOMER_CDE\n",
    "    LEFT JOIN D3 ON D1.CUSTOMER_CDE = D3.CUSTOMER_CDE)\n",
    "SELECT *\n",
    "FROM D4\n",
    "\"\"\""
   ]
  },
  {
   "cell_type": "code",
   "execution_count": 3,
   "metadata": {},
   "outputs": [],
   "source": [
    "query10 = \"\"\"WITH \n",
    "T0 AS (\n",
    "    SELECT * FROM CINS_REACTIVATED_CASA_CUST_STT_CHG_01082023),\n",
    "T1 AS (\n",
    "    SELECT * FROM CINS_REACTIVATED_CASA_SCORE_01082023),\n",
    "T2 AS (\n",
    "    SELECT *\n",
    "        FROM (SELECT T0.*, T1.SCORE, T1.RANK\n",
    "        FROM T0 INNER JOIN T1 ON T0.CUSTOMER_CDE = T1.CUSTOMER_CDE\n",
    "        ORDER BY SCORE DESC)),\n",
    "T21 AS (\n",
    "    SELECT * FROM DW_ANALYTICS.DW_CUST_PRODUCT_LOC_FCT\n",
    "    WHERE SD_TKTT = 1 AND PROCESS_DT = TO_DATE('31-07-2023', 'DD-MM-YY')),\n",
    "T3 AS (\n",
    "    SELECT T21.*, T2.SCORE, T2.CUST_STT, T2.CUST_STT_LAG, T2.CUST_STT_CHG, T2.REACTIVATED\n",
    "    FROM T21 \n",
    "    INNER JOIN T2 ON T21.CUSTOMER_CDE = T2.CUSTOMER_CDE),\n",
    "T4 AS (\n",
    "    SELECT * FROM DW_ANALYTICS.DW_ORG_LOCATION_DIM),\n",
    "T5 AS (\n",
    "    SELECT * FROM DW_ANALYTICS.DW_CUSTOMER_FULL_DIM),\n",
    "T6 AS (\n",
    "    SELECT * FROM DW_ANALYTICS.DW_DEPOSIT_FCT),\n",
    "T7 AS (\n",
    "    SELECT * FROM DW_ANALYTICS.DW_LOAN_FCT),\n",
    "T8 AS (\n",
    "    SELECT * FROM DW_ANALYTICS.DW_SBVCODE_DIM),\n",
    "T9 AS (\n",
    "    SELECT * FROM DW_ANALYTICS.DW_CUSTOMER_DIM\n",
    "    WHERE ACTIVE = 1),\n",
    "T10 AS (\n",
    "    SELECT * FROM CINS_FEATURE_STORE_REACTIVATED_01082023\n",
    "    WHERE FTR_NM='CASA_DAY_SINCE_LAST_TXN_CT_36M'),\n",
    "D1 AS (\n",
    "    SELECT \n",
    "    T4.AREA_NAME, T5.SUB_BRANCH_CDE, T4.SUB_BRANCH_NAME, \n",
    "    T5.CUSTOMER_CDE, T5.FULL_NAME, T5.EMAIL, T5.MOBILE_PHONE, \n",
    "    T3.CUST_TYPE, T3.CUST_STATUS, T3.CUST_OPEN_DT,\n",
    "    T3.TKTT, T3.TK, T3.VAY, T3.BH, T3.PAY, T3.IB, T3.MB, T3.SP_KHAC, \n",
    "    T3.LASTEST_TRANS_DT, T10.FTR_VAL AS CASA_DAY_SINCE_LAST_TXN,\n",
    "    T9.DAO_CDE,\n",
    "    T1.SCORE, T1.RANK, T3.REACTIVATED\n",
    "    FROM T5\n",
    "    INNER JOIN T3 ON T5.CUSTOMER_CDE = T3.CUSTOMER_CDE\n",
    "    INNER JOIN T4 ON T5.SUB_BRANCH_CDE = T4.SUB_BRANCH_CDE\n",
    "    INNER JOIN T1 ON T5.CUSTOMER_CDE = T1.CUSTOMER_CDE\n",
    "    INNER JOIN T9 ON T5.CUSTOMER_CDE = T9.CUSTOMER_CDE\n",
    "    INNER JOIN T10 ON T5.CUSTOMER_CDE = T10.CUSTOMER_CDE),\n",
    "D2 AS (\n",
    "    SELECT \n",
    "    T1.CUSTOMER_CDE, SUM(ACTUAL_BAL_LCL) AS TOTAL_BAL\n",
    "    FROM T1 \n",
    "    LEFT JOIN T6 ON T1.CUSTOMER_CDE = T6.CUSTOMER_CDE\n",
    "    INNER JOIN T8 ON T8.SBVCODE_LVL_3 = T6.SBVCODE_LVL_3\n",
    "    WHERE T8.APPLICATION = 'DP' AND T6.PROCESS_DT = TO_DATE('31-07-2023', 'DD-MM-YY')\n",
    "    GROUP BY T1.CUSTOMER_CDE),\n",
    "D3 AS (\n",
    "    SELECT \n",
    "    T1.CUSTOMER_CDE, SUM(OS_AMT_LCL) AS TOTAL_LOAN\n",
    "    FROM T1 \n",
    "    LEFT JOIN T7 ON T1.CUSTOMER_CDE = T7.CUSTOMER_CDE\n",
    "    INNER JOIN T8 ON T8.SBVCODE_LVL_3 = T7.SBVCODE_LVL_3\n",
    "    WHERE T8.APPLICATION = 'LN' AND T7.PROCESS_DT = TO_DATE('31-07-2023', 'DD-MM-YY')\n",
    "    GROUP BY T1.CUSTOMER_CDE),\n",
    "D4 AS (\n",
    "    SELECT \n",
    "    D1.AREA_NAME, D1.SUB_BRANCH_CDE, D1.SUB_BRANCH_NAME, \n",
    "    D1.CUSTOMER_CDE, D1.FULL_NAME, D1.EMAIL, D1.MOBILE_PHONE, \n",
    "    D1.CUST_TYPE, D1.CUST_STATUS, D1.CUST_OPEN_DT,\n",
    "    D1.TKTT, D1.TK, D1.VAY, D1.BH, D1.PAY, D1.IB, D1.MB, D1.SP_KHAC, \n",
    "    NVL(D2.TOTAL_BAL, 0) AS TOTAL_BAL, \n",
    "    NVL(D3.TOTAL_LOAN, 0) AS TOTAL_LOAN,\n",
    "    D1.LASTEST_TRANS_DT, \n",
    "    CASE WHEN D1.CASA_DAY_SINCE_LAST_TXN IS NULL THEN NULL ELSE ROUND(D1.CASA_DAY_SINCE_LAST_TXN / 30) END AS MONTH_TYPE,\n",
    "    D1.DAO_CDE,\n",
    "    D1.CASA_DAY_SINCE_LAST_TXN,\n",
    "    D1.SCORE, D1.RANK, D1.REACTIVATED\n",
    "    FROM D1 \n",
    "    LEFT JOIN D2 ON D1.CUSTOMER_CDE = D2.CUSTOMER_CDE\n",
    "    LEFT JOIN D3 ON D1.CUSTOMER_CDE = D3.CUSTOMER_CDE)\n",
    "SELECT *\n",
    "FROM D4\n",
    "\"\"\""
   ]
  },
  {
   "cell_type": "code",
   "execution_count": 4,
   "metadata": {},
   "outputs": [],
   "source": [
    "portfolio_10 = download_or_reload('data/PORTFOLIO_08', query10, update=False)"
   ]
  },
  {
   "cell_type": "code",
   "execution_count": null,
   "metadata": {},
   "outputs": [],
   "source": [
    "portfolio_11 = download_or_reload('data/PORTFOLIO_11', query11, update=False)"
   ]
  },
  {
   "cell_type": "code",
   "execution_count": null,
   "metadata": {},
   "outputs": [],
   "source": [
    "portfolio_10['CASA_DAY_SINCE_LAST_TXN'] = portfolio_10['CASA_DAY_SINCE_LAST_TXN'].astype(int)\n",
    "portfolio_11['CASA_DAY_SINCE_LAST_TXN'] = portfolio_11['CASA_DAY_SINCE_LAST_TXN'].astype(int)"
   ]
  },
  {
   "cell_type": "code",
   "execution_count": null,
   "metadata": {},
   "outputs": [],
   "source": [
    "portfolio_10"
   ]
  },
  {
   "cell_type": "code",
   "execution_count": null,
   "metadata": {},
   "outputs": [],
   "source": [
    "portfolio_10['REACTIVATED'].value_counts(dropna=False)"
   ]
  },
  {
   "cell_type": "code",
   "execution_count": null,
   "metadata": {},
   "outputs": [],
   "source": [
    "portfolio_11['REACTIVATED'].value_counts(dropna=False)"
   ]
  },
  {
   "cell_type": "code",
   "execution_count": null,
   "metadata": {},
   "outputs": [],
   "source": [
    "portfolio_10 = portfolio_10[portfolio_10['CUST_STATUS'].isin(['NGU DONG', 'DONG BANG'])]\n",
    "portfolio_10.shape"
   ]
  },
  {
   "cell_type": "code",
   "execution_count": null,
   "metadata": {},
   "outputs": [],
   "source": [
    "portfolio_11 = portfolio_11[portfolio_11['CUST_STATUS'].isin(['NGU DONG', 'DONG BANG'])]\n",
    "portfolio_11.shape"
   ]
  },
  {
   "cell_type": "markdown",
   "metadata": {},
   "source": [
    "# PORTFOLIO 10"
   ]
  },
  {
   "cell_type": "code",
   "execution_count": null,
   "metadata": {},
   "outputs": [],
   "source": [
    "# d1 include d2\n",
    "d1 = portfolio_10.sort_values(by='SCORE', ascending=False)\n",
    "d1"
   ]
  },
  {
   "cell_type": "code",
   "execution_count": null,
   "metadata": {},
   "outputs": [],
   "source": [
    "d1['REACTIVATED'].value_counts()"
   ]
  },
  {
   "cell_type": "markdown",
   "metadata": {},
   "source": [
    "## AUC"
   ]
  },
  {
   "cell_type": "code",
   "execution_count": null,
   "metadata": {},
   "outputs": [],
   "source": [
    "from sklearn import metrics\n",
    "tmp = d1[['REACTIVATED', 'SCORE']].dropna()\n",
    "auc = metrics.roc_auc_score(tmp['REACTIVATED'], tmp['SCORE'])\n",
    "gini = 2 * auc - 1\n",
    "auc, gini"
   ]
  },
  {
   "cell_type": "code",
   "execution_count": null,
   "metadata": {},
   "outputs": [],
   "source": [
    "fig, axs = plt.subplots(1,1, figsize=(5, 5))\n",
    "metrics.RocCurveDisplay.from_predictions(tmp['REACTIVATED'], tmp['SCORE'], plot_chance_level=True, ax=axs)\n",
    "axs.set_title('ROC-AUC Backtest')\n",
    "plt.grid = True\n",
    "plt.show()"
   ]
  },
  {
   "cell_type": "markdown",
   "metadata": {},
   "source": [
    "## BINNING"
   ]
  },
  {
   "cell_type": "code",
   "execution_count": null,
   "metadata": {},
   "outputs": [],
   "source": [
    "num_buckets = 10"
   ]
  },
  {
   "cell_type": "code",
   "execution_count": null,
   "metadata": {},
   "outputs": [],
   "source": [
    "d1['BUCKET'], bins = pd.qcut(d1['SCORE'], num_buckets, labels=range(10, 0, -1), retbins=True)\n",
    "d1['BUCKET'] = d1['BUCKET'].astype(int)"
   ]
  },
  {
   "cell_type": "code",
   "execution_count": null,
   "metadata": {},
   "outputs": [],
   "source": [
    "d1['BUCKET'].unique()"
   ]
  },
  {
   "cell_type": "code",
   "execution_count": null,
   "metadata": {},
   "outputs": [],
   "source": [
    "d1['BUCKET'].value_counts().sort_index()"
   ]
  },
  {
   "cell_type": "code",
   "execution_count": null,
   "metadata": {},
   "outputs": [],
   "source": [
    "bins"
   ]
  },
  {
   "cell_type": "markdown",
   "metadata": {},
   "source": [
    "### CAP"
   ]
  },
  {
   "cell_type": "code",
   "execution_count": null,
   "metadata": {},
   "outputs": [],
   "source": [
    "tmp = d1[['REACTIVATED', 'BUCKET']].dropna()\n",
    "tmp['REACTIVATED'] = tmp['REACTIVATED'].astype(int)\n",
    "tmp = tmp.groupby('BUCKET')['REACTIVATED'].value_counts().to_frame('num_cust').reset_index().pivot(index='BUCKET', columns='REACTIVATED', values='num_cust')\n",
    "tmp['TOTAL_LEAD'] = tmp[0] + tmp[1]\n",
    "tmp"
   ]
  },
  {
   "cell_type": "code",
   "execution_count": null,
   "metadata": {},
   "outputs": [],
   "source": [
    "total_reactivated = tmp[1].sum()\n",
    "total_leads = tmp['TOTAL_LEAD'].sum()\n",
    "total_leads, total_reactivated"
   ]
  },
  {
   "cell_type": "code",
   "execution_count": null,
   "metadata": {},
   "outputs": [],
   "source": [
    "tmp['perc_REACTIVATED'] = tmp[1] / total_reactivated * 100\n",
    "tmp['cumsum_REACTIVATED'] = tmp[1].cumsum()\n",
    "tmp['perc_cumsum_REACTIVATED'] = tmp['cumsum_REACTIVATED'] / total_reactivated * 100\n",
    "tmp['lift'] = tmp['perc_cumsum_REACTIVATED'] / (tmp['TOTAL_LEAD'].cumsum() / total_leads)  / 100"
   ]
  },
  {
   "cell_type": "code",
   "execution_count": null,
   "metadata": {},
   "outputs": [],
   "source": [
    "tmp"
   ]
  },
  {
   "cell_type": "markdown",
   "metadata": {},
   "source": [
    "## PORTFOLIO CHARACTERISTIC - OCT"
   ]
  },
  {
   "cell_type": "code",
   "execution_count": null,
   "metadata": {},
   "outputs": [],
   "source": [
    "# let \n",
    "d11 = d1[d1['REACTIVATED']==1] # reactive only\n",
    "d12 = d1[(d1['BUCKET']==1) & (d1['REACTIVATED']==0)] # bucket 1 - no-reactived\n",
    "\n",
    "d11['REACTIVATED'] = d11['REACTIVATED'].astype(int)\n",
    "d12['REACTIVATED'] = d12['REACTIVATED'].astype(int)"
   ]
  },
  {
   "cell_type": "code",
   "execution_count": null,
   "metadata": {},
   "outputs": [],
   "source": [
    "f, axs = plt.subplots(2, 1, figsize=(10,10))\n",
    "d11['AREA_NAME'].value_counts().sort_values(ascending=False).plot(kind='pie', autopct='%.1f', colormap='Set2', ax=axs[0])\n",
    "d12['AREA_NAME'].value_counts().sort_values(ascending=False).plot(kind='pie', autopct='%.1f', colormap='Set2', ax=axs[1])\n",
    "# d2[d2['BUCKET']==1]['AREA_NAME'].value_counts().sort_values(ascending=False).plot(kind='pie', autopct='%.1f', colormap='Set2', ax=axs[2])\n",
    "plt.show()"
   ]
  },
  {
   "cell_type": "code",
   "execution_count": null,
   "metadata": {},
   "outputs": [],
   "source": [
    "tmp = d11\n",
    "tmp1 = (tmp.reset_index().groupby([pd.Grouper(key='CUST_OPEN_DT', axis=0,freq='3M', sort=True)])['CUSTOMER_CDE'].nunique() / len(tmp)).to_frame('prop').reset_index()\n",
    "tmp1 = tmp.groupby(pd.Grouper(key='CUST_OPEN_DT', axis=0,freq='6M', sort=True))['CUSTOMER_CDE'].nunique().reset_index()\n",
    "fig, axs = plt.subplots(2,1, figsize=(20, 10))\n",
    "sns.barplot(tmp1, x='CUST_OPEN_DT',y='CUSTOMER_CDE', ax=axs[0])\n",
    "\n",
    "tmp = d12\n",
    "tmp1 = (tmp.reset_index().groupby([pd.Grouper(key='CUST_OPEN_DT', axis=0,freq='3M', sort=True)])['CUSTOMER_CDE'].nunique() / len(tmp)).to_frame('prop').reset_index()\n",
    "tmp1 = tmp.groupby(pd.Grouper(key='CUST_OPEN_DT', axis=0,freq='6M', sort=True))['CUSTOMER_CDE'].nunique().reset_index()\n",
    "sns.barplot(tmp1, x='CUST_OPEN_DT',y='CUSTOMER_CDE', ax=axs[1])\n",
    "\n",
    "axs[0].tick_params(axis='x', rotation=45)\n",
    "axs[1].tick_params(axis='x', rotation=45)\n",
    "plt.show()"
   ]
  },
  {
   "cell_type": "code",
   "execution_count": null,
   "metadata": {},
   "outputs": [],
   "source": [
    "f, axs = plt.subplots(1,2,figsize=(15,5))\n",
    "sns.kdeplot(d11, x='SCORE', hue='REACTIVATED', fill=True, common_norm=False, ax=axs[0])\n",
    "sns.kdeplot(d12, x='SCORE', hue='BUCKET', fill=True, common_norm=False, ax=axs[1])\n",
    "# sns.kdeplot(d2, x='SCORE', hue='BUCKET', fill=True, common_norm=False, alpha=0.3, linewidth=0.3, palette='crest', ax=axs[2])\n",
    "plt.show()"
   ]
  },
  {
   "cell_type": "code",
   "execution_count": null,
   "metadata": {},
   "outputs": [],
   "source": [
    "f, axs = plt.subplots(1,2,figsize=(15,5))\n",
    "sns.histplot(d11, x='TOTAL_BAL', hue='REACTIVATED', log_scale=True, stat='density', common_norm=False,ax=axs[0])\n",
    "sns.histplot(d12, x='TOTAL_BAL', hue='BUCKET', log_scale=True, stat='density', common_norm=False,ax=axs[1])\n",
    "# sns.histplot(d2, x='TOTAL_BAL', hue='BUCKET', log_scale=True, stat='density', common_norm=False,palette='crest',ax=axs[2])\n",
    "plt.show()"
   ]
  },
  {
   "cell_type": "code",
   "execution_count": null,
   "metadata": {},
   "outputs": [],
   "source": [
    "d11['TOTAL_LOAN'].sum(), d12['TOTAL_LOAN'].sum()"
   ]
  },
  {
   "cell_type": "code",
   "execution_count": null,
   "metadata": {},
   "outputs": [],
   "source": [
    "# f, axs = plt.subplots(1,2,figsize=(15,5))\n",
    "# tmp = d1[d1['REACTIVATED']==1]\n",
    "# tmp = tmp[tmp['TOTAL_LOAN']>0]\n",
    "# print(len(tmp))\n",
    "# # sns.kdeplot(tmp, x='TOTAL_LOAN', hue='REACTIVATED', log_scale=False, ax=axs[0])\n",
    "\n",
    "# tmp = d1[(d1['BUCKET']==1) & (d1['REACTIVATED']==0)]\n",
    "# tmp = tmp[tmp['TOTAL_LOAN']>0]\n",
    "# print(len(tmp))\n",
    "# # sns.kdeplot(tmp, x='TOTAL_LOAN', hue='BUCKET', log_scale=False, ax=axs[1])\n",
    "# # sns.histplot(d2, x='TOTAL_LOAN', hue='BUCKET', log_scale=True, stat='density',palette='crest', alpha=0.3, ax=axs[2])\n",
    "# # axs[0].set_xlim([0, 1e10])\n",
    "# # axs[1].set_xlim([0, 1e10])\n",
    "# plt.show()"
   ]
  },
  {
   "cell_type": "code",
   "execution_count": null,
   "metadata": {},
   "outputs": [],
   "source": [
    "f, axs = plt.subplots(1,2,figsize=(15,5))\n",
    "sns.histplot(d11, x='MONTH_TYPE', hue='REACTIVATED', fill=True, stat='count',common_norm=True, linewidth=0.3,ax=axs[0])\n",
    "sns.histplot(d12, x='MONTH_TYPE', hue='BUCKET', fill=True, stat='count',common_norm=True, linewidth=0.3,ax=axs[1])\n",
    "# sns.histplot(d2, x='MONTH_TYPE', hue='BUCKET', fill=True, stat='count',common_norm=True, alpha=0.3, linewidth=0.3,palette='crest', ax=axs[2])\n",
    "plt.show()"
   ]
  },
  {
   "cell_type": "code",
   "execution_count": null,
   "metadata": {},
   "outputs": [],
   "source": [
    "f, axs = plt.subplots(1,2,figsize=(15,5))\n",
    "tmp = d11\n",
    "tmp = tmp[tmp['MONTH_TYPE']<37]\n",
    "sns.histplot(tmp,x='MONTH_TYPE', hue='REACTIVATED',common_norm=False,ax=axs[0])\n",
    "# tmp = d1[(d1['BUCKET']>7) & (d1['MONTH_TYPE']<37) & (d1['MONTH_TYPE']>1)].copy()\n",
    "tmp = d12\n",
    "tmp = tmp[tmp['MONTH_TYPE']<37]\n",
    "sns.histplot(tmp,x='MONTH_TYPE', hue='BUCKET',common_norm=False, ax=axs[1])\n",
    "# sns.kdeplot(d2[(d2['MONTH_TYPE']<37) & (d2['MONTH_TYPE']>1) & (d2['BUCKET']>7)],x='MONTH_TYPE', hue='BUCKET',common_norm=False, palette='tab10',ax=axs[2])\n",
    "plt.show()"
   ]
  },
  {
   "cell_type": "markdown",
   "metadata": {},
   "source": [
    "# MAPPING BUCKET - NOV"
   ]
  },
  {
   "cell_type": "code",
   "execution_count": null,
   "metadata": {},
   "outputs": [],
   "source": [
    "d2['CUST_STATUS'].value_counts()"
   ]
  },
  {
   "cell_type": "code",
   "execution_count": null,
   "metadata": {},
   "outputs": [],
   "source": [
    "d2['REACTIVATED'].value_counts()"
   ]
  },
  {
   "cell_type": "code",
   "execution_count": null,
   "metadata": {},
   "outputs": [],
   "source": [
    "# exclude reactivated in port-10\n",
    "d2 = portfolio_11[~portfolio_11['CUSTOMER_CDE'].isin(d11['CUSTOMER_CDE'])].sort_values(by='SCORE', ascending=False)\n",
    "d2"
   ]
  },
  {
   "cell_type": "code",
   "execution_count": null,
   "metadata": {},
   "outputs": [],
   "source": [
    "criteria = [\n",
    "    d2['SCORE'].between(bins[i], bins[i+1], inclusive='right') for i in range(num_buckets)\n",
    "]\n",
    "values=range(10, 0, -1)"
   ]
  },
  {
   "cell_type": "code",
   "execution_count": null,
   "metadata": {},
   "outputs": [],
   "source": [
    "d2['BUCKET'] = np.select(criteria, values, 0)"
   ]
  },
  {
   "cell_type": "code",
   "execution_count": null,
   "metadata": {},
   "outputs": [],
   "source": [
    "d2['BUCKET'].value_counts().sort_index()"
   ]
  },
  {
   "cell_type": "markdown",
   "metadata": {},
   "source": [
    "## BUCKET MAPPING"
   ]
  },
  {
   "cell_type": "code",
   "execution_count": null,
   "metadata": {},
   "outputs": [],
   "source": [
    "tmp = d2[['REACTIVATED', 'BUCKET']].dropna()\n",
    "tmp['REACTIVATED'] = tmp['REACTIVATED'].astype(int)\n",
    "tmp = tmp.groupby('BUCKET')['REACTIVATED'].value_counts().to_frame('num_cust').reset_index().pivot(index='BUCKET', columns='REACTIVATED', values='num_cust')\n",
    "tmp['TOTAL_LEAD'] = tmp[0] + tmp[1]\n",
    "tmp"
   ]
  },
  {
   "cell_type": "code",
   "execution_count": null,
   "metadata": {},
   "outputs": [],
   "source": [
    "total_reactivated = tmp[1].sum()\n",
    "total_leads = tmp['TOTAL_LEAD'].sum()\n",
    "total_leads, total_reactivated"
   ]
  },
  {
   "cell_type": "code",
   "execution_count": null,
   "metadata": {},
   "outputs": [],
   "source": [
    "tmp['perc_REACTIVATED'] = tmp[1] / total_reactivated * 100\n",
    "tmp['cumsum_REACTIVATED'] = tmp[1].cumsum()\n",
    "tmp['perc_cumsum_REACTIVATED'] = tmp['cumsum_REACTIVATED'] / total_reactivated * 100\n",
    "tmp['lift'] = tmp['perc_cumsum_REACTIVATED'] / (tmp['TOTAL_LEAD'].cumsum() / total_leads)  / 100"
   ]
  },
  {
   "cell_type": "code",
   "execution_count": null,
   "metadata": {},
   "outputs": [],
   "source": [
    "tmp"
   ]
  },
  {
   "cell_type": "markdown",
   "metadata": {},
   "source": [
    "## PORTFOLIO-MAPPING CHARACTERISTIC"
   ]
  },
  {
   "cell_type": "code",
   "execution_count": null,
   "metadata": {},
   "outputs": [],
   "source": [
    "d2.groupby('BUCKET')[['TOTAL_LOAN', 'TOTAL_BAL']].describe()"
   ]
  },
  {
   "cell_type": "code",
   "execution_count": null,
   "metadata": {},
   "outputs": [],
   "source": [
    "d21 = d2[d2['BUCKET']==1]"
   ]
  },
  {
   "cell_type": "code",
   "execution_count": null,
   "metadata": {},
   "outputs": [],
   "source": [
    "f, axs = plt.subplots(3, 1, figsize=(10,15))\n",
    "d11['AREA_NAME'].value_counts().sort_values(ascending=False).plot(kind='pie', autopct='%.1f', colormap='Set2', ax=axs[0])\n",
    "d12['AREA_NAME'].value_counts().sort_values(ascending=False).plot(kind='pie', autopct='%.1f', colormap='Set2', ax=axs[1])\n",
    "d21['AREA_NAME'].value_counts().sort_values(ascending=False).plot(kind='pie', autopct='%.1f', colormap='Set2', ax=axs[2])\n",
    "plt.show()"
   ]
  },
  {
   "cell_type": "code",
   "execution_count": null,
   "metadata": {},
   "outputs": [],
   "source": [
    "fig, axs = plt.subplots(3,1, figsize=(20, 15))\n",
    "\n",
    "tmp = d11\n",
    "tmp1 = (tmp.reset_index().groupby([pd.Grouper(key='CUST_OPEN_DT', axis=0,freq='3M', sort=True)])['CUSTOMER_CDE'].nunique() / len(tmp)).to_frame('prop').reset_index()\n",
    "tmp1 = tmp.groupby(pd.Grouper(key='CUST_OPEN_DT', axis=0,freq='6M', sort=True))['CUSTOMER_CDE'].nunique().reset_index()\n",
    "\n",
    "sns.barplot(tmp1, x='CUST_OPEN_DT',y='CUSTOMER_CDE', ax=axs[0])\n",
    "\n",
    "tmp = d12\n",
    "tmp1 = (tmp.reset_index().groupby([pd.Grouper(key='CUST_OPEN_DT', axis=0,freq='3M', sort=True)])['CUSTOMER_CDE'].nunique() / len(tmp)).to_frame('prop').reset_index()\n",
    "tmp1 = tmp.groupby(pd.Grouper(key='CUST_OPEN_DT', axis=0,freq='6M', sort=True))['CUSTOMER_CDE'].nunique().reset_index()\n",
    "sns.barplot(tmp1, x='CUST_OPEN_DT',y='CUSTOMER_CDE', ax=axs[1])\n",
    "\n",
    "tmp = d21\n",
    "tmp1 = (tmp.reset_index().groupby([pd.Grouper(key='CUST_OPEN_DT', axis=0,freq='3M', sort=True)])['CUSTOMER_CDE'].nunique() / len(tmp)).to_frame('prop').reset_index()\n",
    "tmp1 = tmp.groupby(pd.Grouper(key='CUST_OPEN_DT', axis=0,freq='6M', sort=True))['CUSTOMER_CDE'].nunique().reset_index()\n",
    "sns.barplot(tmp1, x='CUST_OPEN_DT',y='CUSTOMER_CDE', ax=axs[2])\n",
    "\n",
    "axs[0].tick_params(axis='x', rotation=45)\n",
    "axs[1].tick_params(axis='x', rotation=45)\n",
    "axs[2].tick_params(axis='x', rotation=45)\n",
    "plt.show()"
   ]
  },
  {
   "cell_type": "code",
   "execution_count": null,
   "metadata": {},
   "outputs": [],
   "source": [
    "f, axs = plt.subplots(1,3,figsize=(15,5))\n",
    "sns.kdeplot(d11, x='SCORE', hue='REACTIVATED', fill=True, common_norm=False, alpha=0.3, linewidth=0.3, palette='crest', ax=axs[0])\n",
    "sns.kdeplot(d12, x='SCORE', hue='BUCKET', fill=True, common_norm=False, alpha=0.3, linewidth=0.3, palette='crest', ax=axs[1])\n",
    "sns.kdeplot(d21, x='SCORE', hue='BUCKET', fill=True, common_norm=False, alpha=0.3, linewidth=0.3, palette='crest', ax=axs[2])\n",
    "plt.show()"
   ]
  },
  {
   "cell_type": "code",
   "execution_count": null,
   "metadata": {},
   "outputs": [],
   "source": [
    "f, axs = plt.subplots(1,3,figsize=(15,5))\n",
    "sns.histplot(d11, x='TOTAL_BAL', hue='REACTIVATED', log_scale=True, stat='density', common_norm=False,ax=axs[0])\n",
    "sns.histplot(d12, x='TOTAL_BAL', hue='BUCKET', log_scale=True, stat='density', common_norm=False,palette='crest',ax=axs[1])\n",
    "sns.histplot(d21, x='TOTAL_BAL', hue='BUCKET', log_scale=True, stat='density', common_norm=False,palette='crest',ax=axs[2])\n",
    "plt.show()"
   ]
  },
  {
   "cell_type": "code",
   "execution_count": null,
   "metadata": {},
   "outputs": [],
   "source": [
    "f, axs = plt.subplots(1,3,figsize=(15,5))\n",
    "sns.histplot(d11, x='TOTAL_LOAN', hue='REACTIVATED', log_scale=True, stat='density', palette='crest', alpha=0.3, ax=axs[0])\n",
    "sns.histplot(d12, x='TOTAL_LOAN', hue='BUCKET', log_scale=True, stat='density', palette='crest', alpha=0.3, ax=axs[1])\n",
    "sns.histplot(d21, x='TOTAL_LOAN', hue='BUCKET', log_scale=True, stat='density',palette='crest', alpha=0.3, ax=axs[2])\n",
    "# axs[0].set_xlim([0, 1e10])\n",
    "# axs[1].set_xlim([0, 1e10])\n",
    "plt.show()"
   ]
  },
  {
   "cell_type": "code",
   "execution_count": null,
   "metadata": {},
   "outputs": [],
   "source": [
    "f, axs = plt.subplots(1,3,figsize=(15,5))\n",
    "sns.histplot(d11, x='MONTH_TYPE', hue='REACTIVATED', fill=True, stat='count',common_norm=True, linewidth=0.3,ax=axs[0])\n",
    "sns.histplot(d12, x='MONTH_TYPE', hue='BUCKET', fill=True, stat='count',common_norm=True, alpha=0.3, linewidth=0.3,palette='crest', ax=axs[1])\n",
    "sns.histplot(d21, x='MONTH_TYPE', hue='BUCKET', fill=True, stat='count',common_norm=True, alpha=0.3, linewidth=0.3,palette='crest', ax=axs[2])\n",
    "plt.show()\n"
   ]
  },
  {
   "cell_type": "code",
   "execution_count": null,
   "metadata": {},
   "outputs": [],
   "source": [
    "f, axs = plt.subplots(1,3,figsize=(15,5))\n",
    "# d1['MONTH_TYPE'] = d1['MONTH_TYPE'].astype(int)\n",
    "# d2['MONTH_TYPE'] = d2['MONTH_TYPE'].astype(int)\n",
    "tmp = d11[d11['MONTH_TYPE']<37]\n",
    "sns.histplot(tmp,x='MONTH_TYPE', hue='REACTIVATED',common_norm=False,ax=axs[0])\n",
    "\n",
    "tmp = d12[d12['MONTH_TYPE']<37]\n",
    "sns.histplot(tmp,x='MONTH_TYPE', hue='BUCKET',common_norm=False, palette='tab10',ax=axs[1])\n",
    "\n",
    "tmp = d21[(d21['MONTH_TYPE']<37) & (d21['MONTH_TYPE']>1)]\n",
    "sns.histplot(tmp,x='MONTH_TYPE', hue='BUCKET',common_norm=False, palette='tab10',ax=axs[2])\n",
    "plt.show()"
   ]
  },
  {
   "cell_type": "code",
   "execution_count": null,
   "metadata": {},
   "outputs": [],
   "source": []
  }
 ],
 "metadata": {
  "kernelspec": {
   "display_name": "Python 3",
   "language": "python",
   "name": "python3"
  },
  "language_info": {
   "codemirror_mode": {
    "name": "ipython",
    "version": 3
   },
   "file_extension": ".py",
   "mimetype": "text/x-python",
   "name": "python",
   "nbconvert_exporter": "python",
   "pygments_lexer": "ipython3",
   "version": "3.9.17"
  }
 },
 "nbformat": 4,
 "nbformat_minor": 2
}
