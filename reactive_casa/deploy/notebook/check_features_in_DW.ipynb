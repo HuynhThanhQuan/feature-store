{
 "cells": [
  {
   "cell_type": "code",
   "execution_count": 1,
   "metadata": {},
   "outputs": [],
   "source": [
    "import pandas as pd\n",
    "import seaborn as sns"
   ]
  },
  {
   "cell_type": "code",
   "execution_count": 2,
   "metadata": {},
   "outputs": [],
   "source": [
    "import xgboost"
   ]
  },
  {
   "cell_type": "code",
   "execution_count": 3,
   "metadata": {},
   "outputs": [],
   "source": [
    "import pickle"
   ]
  },
  {
   "cell_type": "code",
   "execution_count": 6,
   "metadata": {},
   "outputs": [],
   "source": [
    "import util"
   ]
  },
  {
   "cell_type": "markdown",
   "metadata": {},
   "source": [
    "# CHECK FEATURE DISTINCT IN EACH FEATURE STORE"
   ]
  },
  {
   "cell_type": "code",
   "execution_count": 7,
   "metadata": {},
   "outputs": [],
   "source": [
    "mobs = [\n",
    "    '01012023',\n",
    "    '01022023',\n",
    "    '01032023',\n",
    "    '01042023',\n",
    "    '01052023',\n",
    "    '01062023',\n",
    "    '01072023',\n",
    "    '01082023',\n",
    "    '01092023',\n",
    "    '01102023',\n",
    "    '01112023',\n",
    "    '01122023',\n",
    "]"
   ]
  },
  {
   "cell_type": "code",
   "execution_count": 8,
   "metadata": {},
   "outputs": [
    {
     "name": "stderr",
     "output_type": "stream",
     "text": [
      "/usr/local/lib/python3.9/site-packages/pandas/io/sql.py:762: UserWarning: pandas only support SQLAlchemy connectable(engine/connection) ordatabase string URI or sqlite3 DBAPI2 connectionother DBAPI2 objects are not tested, please consider using SQLAlchemy\n",
      "  warnings.warn(\n",
      "/usr/local/lib/python3.9/site-packages/pandas/io/sql.py:762: UserWarning: pandas only support SQLAlchemy connectable(engine/connection) ordatabase string URI or sqlite3 DBAPI2 connectionother DBAPI2 objects are not tested, please consider using SQLAlchemy\n",
      "  warnings.warn(\n",
      "/usr/local/lib/python3.9/site-packages/pandas/io/sql.py:762: UserWarning: pandas only support SQLAlchemy connectable(engine/connection) ordatabase string URI or sqlite3 DBAPI2 connectionother DBAPI2 objects are not tested, please consider using SQLAlchemy\n",
      "  warnings.warn(\n",
      "/usr/local/lib/python3.9/site-packages/pandas/io/sql.py:762: UserWarning: pandas only support SQLAlchemy connectable(engine/connection) ordatabase string URI or sqlite3 DBAPI2 connectionother DBAPI2 objects are not tested, please consider using SQLAlchemy\n",
      "  warnings.warn(\n",
      "/usr/local/lib/python3.9/site-packages/pandas/io/sql.py:762: UserWarning: pandas only support SQLAlchemy connectable(engine/connection) ordatabase string URI or sqlite3 DBAPI2 connectionother DBAPI2 objects are not tested, please consider using SQLAlchemy\n",
      "  warnings.warn(\n",
      "/usr/local/lib/python3.9/site-packages/pandas/io/sql.py:762: UserWarning: pandas only support SQLAlchemy connectable(engine/connection) ordatabase string URI or sqlite3 DBAPI2 connectionother DBAPI2 objects are not tested, please consider using SQLAlchemy\n",
      "  warnings.warn(\n",
      "/usr/local/lib/python3.9/site-packages/pandas/io/sql.py:762: UserWarning: pandas only support SQLAlchemy connectable(engine/connection) ordatabase string URI or sqlite3 DBAPI2 connectionother DBAPI2 objects are not tested, please consider using SQLAlchemy\n",
      "  warnings.warn(\n",
      "/usr/local/lib/python3.9/site-packages/pandas/io/sql.py:762: UserWarning: pandas only support SQLAlchemy connectable(engine/connection) ordatabase string URI or sqlite3 DBAPI2 connectionother DBAPI2 objects are not tested, please consider using SQLAlchemy\n",
      "  warnings.warn(\n",
      "/usr/local/lib/python3.9/site-packages/pandas/io/sql.py:762: UserWarning: pandas only support SQLAlchemy connectable(engine/connection) ordatabase string URI or sqlite3 DBAPI2 connectionother DBAPI2 objects are not tested, please consider using SQLAlchemy\n",
      "  warnings.warn(\n",
      "/usr/local/lib/python3.9/site-packages/pandas/io/sql.py:762: UserWarning: pandas only support SQLAlchemy connectable(engine/connection) ordatabase string URI or sqlite3 DBAPI2 connectionother DBAPI2 objects are not tested, please consider using SQLAlchemy\n",
      "  warnings.warn(\n",
      "/usr/local/lib/python3.9/site-packages/pandas/io/sql.py:762: UserWarning: pandas only support SQLAlchemy connectable(engine/connection) ordatabase string URI or sqlite3 DBAPI2 connectionother DBAPI2 objects are not tested, please consider using SQLAlchemy\n",
      "  warnings.warn(\n",
      "/usr/local/lib/python3.9/site-packages/pandas/io/sql.py:762: UserWarning: pandas only support SQLAlchemy connectable(engine/connection) ordatabase string URI or sqlite3 DBAPI2 connectionother DBAPI2 objects are not tested, please consider using SQLAlchemy\n",
      "  warnings.warn(\n"
     ]
    }
   ],
   "source": [
    "for i, m in enumerate(mobs):\n",
    "    query = f'SELECT DISTINCT FTR_NM FROM CINS_FEATURE_STORE_REACTIVATED_{m}'\n",
    "    filename = f'./data/FEAT_NM_{m}'\n",
    "    util.download_or_reload(filename, query)"
   ]
  },
  {
   "cell_type": "code",
   "execution_count": 13,
   "metadata": {},
   "outputs": [],
   "source": [
    "all_feat = []\n",
    "for i, m in enumerate(mobs):\n",
    "    filename = f'./data/FEAT_NM_{m}'\n",
    "    df = pd.read_parquet(filename)\n",
    "    all_feat.extend(df['FTR_NM'].tolist())\n",
    "all_feat = set(all_feat)"
   ]
  },
  {
   "cell_type": "code",
   "execution_count": 16,
   "metadata": {},
   "outputs": [
    {
     "data": {
      "text/plain": [
       "31"
      ]
     },
     "execution_count": 16,
     "metadata": {},
     "output_type": "execute_result"
    }
   ],
   "source": [
    "len(all_feat)"
   ]
  },
  {
   "cell_type": "code",
   "execution_count": 17,
   "metadata": {},
   "outputs": [
    {
     "data": {
      "text/plain": [
       "{'AREA',\n",
       " 'CARD_CREDIT_HOLD',\n",
       " 'CARD_CREDIT_MAX_LIMIT',\n",
       " 'CARD_CREDIT_SUM_BAL_NOW',\n",
       " 'CASA_ACCT_ACTIVE_CT_12M',\n",
       " 'CASA_ACCT_CT_36M',\n",
       " 'CASA_BAL_MAX_12M',\n",
       " 'CASA_BAL_SUM_12M',\n",
       " 'CASA_BAL_SUM_24M',\n",
       " 'CASA_BAL_SUM_36M',\n",
       " 'CASA_BAL_SUM_NOW',\n",
       " 'CASA_DAY_SINCE_LAST_TXN_CT_36M',\n",
       " 'CASA_HOLD',\n",
       " 'CASA_TXN_AMT_SUM_12M',\n",
       " 'CASA_TXN_AMT_SUM_24M',\n",
       " 'CASA_TXN_AMT_SUM_36M',\n",
       " 'CASA_TXN_CT_12M',\n",
       " 'CASA_TXN_CT_24M',\n",
       " 'CASA_TXN_CT_36M',\n",
       " 'CREDIT_SCORE',\n",
       " 'EB_MBIB_DAY_SINCE_ACTIVE',\n",
       " 'EB_MBIB_HOLD',\n",
       " 'EB_SACOMPAY_DAY_SINCE_LTST_LOGIN',\n",
       " 'EB_SACOMPAY_DAY_SINCE_LTST_TXN',\n",
       " 'EB_SACOMPAY_HOLD',\n",
       " 'GEN_GRP',\n",
       " 'LIFE_STG',\n",
       " 'LOR',\n",
       " 'PROFESSION',\n",
       " 'REACTIVATED',\n",
       " 'REACTIVATED_CASA'}"
      ]
     },
     "execution_count": 17,
     "metadata": {},
     "output_type": "execute_result"
    }
   ],
   "source": [
    "all_feat"
   ]
  },
  {
   "cell_type": "code",
   "execution_count": 15,
   "metadata": {},
   "outputs": [
    {
     "name": "stdout",
     "output_type": "stream",
     "text": [
      "01012023 set()\n",
      "01022023 set()\n",
      "01032023 set()\n",
      "01042023 {'LOR', 'PROFESSION', 'GEN_GRP', 'CASA_TXN_CT_36M'}\n",
      "01052023 {'PROFESSION', 'GEN_GRP', 'CASA_TXN_CT_36M'}\n",
      "01062023 {'PROFESSION', 'GEN_GRP', 'CASA_TXN_CT_36M'}\n",
      "01072023 {'PROFESSION', 'GEN_GRP', 'CASA_TXN_CT_36M'}\n",
      "01082023 {'PROFESSION', 'GEN_GRP', 'CASA_TXN_CT_36M'}\n",
      "01092023 {'PROFESSION', 'GEN_GRP', 'CASA_TXN_CT_36M'}\n",
      "01102023 {'PROFESSION', 'GEN_GRP', 'CASA_TXN_CT_36M'}\n",
      "01112023 {'PROFESSION', 'GEN_GRP', 'CASA_TXN_CT_36M'}\n",
      "01122023 {'PROFESSION', 'CASA_TXN_CT_24M', 'GEN_GRP', 'CASA_TXN_CT_36M'}\n"
     ]
    }
   ],
   "source": [
    "for i, m in enumerate(mobs):\n",
    "    filename = f'./data/FEAT_NM_{m}'\n",
    "    df = pd.read_parquet(filename)\n",
    "    miss_feat = all_feat - set(df['FTR_NM'].tolist())\n",
    "    print(m, miss_feat)"
   ]
  },
  {
   "cell_type": "code",
   "execution_count": null,
   "metadata": {},
   "outputs": [],
   "source": []
  }
 ],
 "metadata": {
  "kernelspec": {
   "display_name": "Python 3",
   "language": "python",
   "name": "python3"
  },
  "language_info": {
   "codemirror_mode": {
    "name": "ipython",
    "version": 3
   },
   "file_extension": ".py",
   "mimetype": "text/x-python",
   "name": "python",
   "nbconvert_exporter": "python",
   "pygments_lexer": "ipython3",
   "version": "3.9.17"
  }
 },
 "nbformat": 4,
 "nbformat_minor": 2
}
