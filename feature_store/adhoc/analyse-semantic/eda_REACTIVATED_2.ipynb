{
 "cells": [
  {
   "cell_type": "code",
   "execution_count": 1,
   "id": "e4bc2485-7ea2-4b5e-963c-0d335a685f5e",
   "metadata": {
    "tags": []
   },
   "outputs": [
    {
     "name": "stdout",
     "output_type": "stream",
     "text": [
      "['Solarize_Light2', '_classic_test_patch', '_mpl-gallery', '_mpl-gallery-nogrid', 'bmh', 'classic', 'dark_background', 'fast', 'fivethirtyeight', 'ggplot', 'grayscale', 'seaborn-v0_8', 'seaborn-v0_8-bright', 'seaborn-v0_8-colorblind', 'seaborn-v0_8-dark', 'seaborn-v0_8-dark-palette', 'seaborn-v0_8-darkgrid', 'seaborn-v0_8-deep', 'seaborn-v0_8-muted', 'seaborn-v0_8-notebook', 'seaborn-v0_8-paper', 'seaborn-v0_8-pastel', 'seaborn-v0_8-poster', 'seaborn-v0_8-talk', 'seaborn-v0_8-ticks', 'seaborn-v0_8-white', 'seaborn-v0_8-whitegrid', 'tableau-colorblind10']\n",
      "Add path ../..\n",
      "Connected DB CINS_SMY - conn\n",
      "Connected oraDW_ANALYTICS - conn_aly\n"
     ]
    }
   ],
   "source": [
    "from util import *"
   ]
  },
  {
   "cell_type": "code",
   "execution_count": 5,
   "id": "d852f533-2b8d-4817-90a7-edcc1e30237b",
   "metadata": {
    "tags": []
   },
   "outputs": [
    {
     "name": "stdout",
     "output_type": "stream",
     "text": [
      "Len 15400281\n"
     ]
    }
   ],
   "source": [
    "cust_status = pd.read_pickle('/opt/bitnami/jupyterhub-singleuser/hcl-quanht/feature_store/adhoc/analyse-db/DW_ANALYTICS/data/DATA_RPT_SLKH_CUST_PRODUCT_ALL/SAMPLE1_SUB3')\n",
    "reactive = download_or_reload('data/reactivated', \"\")"
   ]
  },
  {
   "cell_type": "code",
   "execution_count": 20,
   "id": "76dad275-d724-44da-9421-047e1c95b666",
   "metadata": {
    "tags": []
   },
   "outputs": [],
   "source": [
    "reactive['REACTIVATED'] = (reactive['CUST_STT'] == 2) & (reactive['CUST_STT_CHG'] == 1)"
   ]
  },
  {
   "cell_type": "code",
   "execution_count": 23,
   "id": "dbc36477-9d3b-4372-bce6-4b38b0e04cde",
   "metadata": {
    "tags": []
   },
   "outputs": [
    {
     "data": {
      "text/plain": [
       "<Axes: ylabel='REACTIVATED'>"
      ]
     },
     "execution_count": 23,
     "metadata": {},
     "output_type": "execute_result"
    },
    {
     "data": {
      "image/png": "[encoded data removed]",
      "text/plain": [
       "<Figure size 640x480 with 1 Axes>"
      ]
     },
     "metadata": {},
     "output_type": "display_data"
    }
   ],
   "source": [
    "reactive['REACTIVATED'].value_counts().plot(kind='pie',autopct='%.2f%%')"
   ]
  },
  {
   "cell_type": "code",
   "execution_count": 21,
   "id": "7701af65-7516-4dd0-9620-9ccbb64a9d6f",
   "metadata": {
    "tags": []
   },
   "outputs": [
    {
     "data": {
      "text/html": [
       "<div>\n",
       "<style scoped>\n",
       "    .dataframe tbody tr th:only-of-type {\n",
       "        vertical-align: middle;\n",
       "    }\n",
       "\n",
       "    .dataframe tbody tr th {\n",
       "        vertical-align: top;\n",
       "    }\n",
       "\n",
       "    .dataframe thead th {\n",
       "        text-align: right;\n",
       "    }\n",
       "</style>\n",
       "<table border=\"1\" class=\"dataframe\">\n",
       "  <thead>\n",
       "    <tr style=\"text-align: right;\">\n",
       "      <th></th>\n",
       "      <th>CUSTOMER_CDE</th>\n",
       "      <th>RPT_DT</th>\n",
       "      <th>CUST_STT</th>\n",
       "      <th>CUST_STT_LAG</th>\n",
       "      <th>CUST_STT_CHG</th>\n",
       "      <th>REACTIVATED</th>\n",
       "    </tr>\n",
       "  </thead>\n",
       "  <tbody>\n",
       "    <tr>\n",
       "      <th>0</th>\n",
       "      <td>10</td>\n",
       "      <td>2022-12-31</td>\n",
       "      <td>2</td>\n",
       "      <td>2.0</td>\n",
       "      <td>0.0</td>\n",
       "      <td>False</td>\n",
       "    </tr>\n",
       "    <tr>\n",
       "      <th>1</th>\n",
       "      <td>100</td>\n",
       "      <td>2022-12-31</td>\n",
       "      <td>2</td>\n",
       "      <td>2.0</td>\n",
       "      <td>0.0</td>\n",
       "      <td>False</td>\n",
       "    </tr>\n",
       "    <tr>\n",
       "      <th>2</th>\n",
       "      <td>1000</td>\n",
       "      <td>2022-12-31</td>\n",
       "      <td>2</td>\n",
       "      <td>2.0</td>\n",
       "      <td>0.0</td>\n",
       "      <td>False</td>\n",
       "    </tr>\n",
       "    <tr>\n",
       "      <th>3</th>\n",
       "      <td>10000</td>\n",
       "      <td>2022-12-31</td>\n",
       "      <td>0</td>\n",
       "      <td>0.0</td>\n",
       "      <td>0.0</td>\n",
       "      <td>False</td>\n",
       "    </tr>\n",
       "    <tr>\n",
       "      <th>4</th>\n",
       "      <td>100000</td>\n",
       "      <td>2022-12-31</td>\n",
       "      <td>2</td>\n",
       "      <td>2.0</td>\n",
       "      <td>0.0</td>\n",
       "      <td>False</td>\n",
       "    </tr>\n",
       "    <tr>\n",
       "      <th>...</th>\n",
       "      <td>...</td>\n",
       "      <td>...</td>\n",
       "      <td>...</td>\n",
       "      <td>...</td>\n",
       "      <td>...</td>\n",
       "      <td>...</td>\n",
       "    </tr>\n",
       "    <tr>\n",
       "      <th>15400276</th>\n",
       "      <td>9999913</td>\n",
       "      <td>2022-12-31</td>\n",
       "      <td>0</td>\n",
       "      <td>0.0</td>\n",
       "      <td>0.0</td>\n",
       "      <td>False</td>\n",
       "    </tr>\n",
       "    <tr>\n",
       "      <th>15400277</th>\n",
       "      <td>9999944</td>\n",
       "      <td>2022-12-31</td>\n",
       "      <td>2</td>\n",
       "      <td>2.0</td>\n",
       "      <td>0.0</td>\n",
       "      <td>False</td>\n",
       "    </tr>\n",
       "    <tr>\n",
       "      <th>15400278</th>\n",
       "      <td>9999956</td>\n",
       "      <td>2022-12-31</td>\n",
       "      <td>2</td>\n",
       "      <td>2.0</td>\n",
       "      <td>0.0</td>\n",
       "      <td>False</td>\n",
       "    </tr>\n",
       "    <tr>\n",
       "      <th>15400279</th>\n",
       "      <td>999999</td>\n",
       "      <td>2022-12-31</td>\n",
       "      <td>2</td>\n",
       "      <td>2.0</td>\n",
       "      <td>0.0</td>\n",
       "      <td>False</td>\n",
       "    </tr>\n",
       "    <tr>\n",
       "      <th>15400280</th>\n",
       "      <td>9999999</td>\n",
       "      <td>2022-12-31</td>\n",
       "      <td>2</td>\n",
       "      <td>2.0</td>\n",
       "      <td>0.0</td>\n",
       "      <td>False</td>\n",
       "    </tr>\n",
       "  </tbody>\n",
       "</table>\n",
       "<p>15400281 rows × 6 columns</p>\n",
       "</div>"
      ],
      "text/plain": [
       "         CUSTOMER_CDE     RPT_DT  CUST_STT  CUST_STT_LAG  CUST_STT_CHG  \\\n",
       "0                  10 2022-12-31         2           2.0           0.0   \n",
       "1                 100 2022-12-31         2           2.0           0.0   \n",
       "2                1000 2022-12-31         2           2.0           0.0   \n",
       "3               10000 2022-12-31         0           0.0           0.0   \n",
       "4              100000 2022-12-31         2           2.0           0.0   \n",
       "...               ...        ...       ...           ...           ...   \n",
       "15400276      9999913 2022-12-31         0           0.0           0.0   \n",
       "15400277      9999944 2022-12-31         2           2.0           0.0   \n",
       "15400278      9999956 2022-12-31         2           2.0           0.0   \n",
       "15400279       999999 2022-12-31         2           2.0           0.0   \n",
       "15400280      9999999 2022-12-31         2           2.0           0.0   \n",
       "\n",
       "          REACTIVATED  \n",
       "0               False  \n",
       "1               False  \n",
       "2               False  \n",
       "3               False  \n",
       "4               False  \n",
       "...               ...  \n",
       "15400276        False  \n",
       "15400277        False  \n",
       "15400278        False  \n",
       "15400279        False  \n",
       "15400280        False  \n",
       "\n",
       "[15400281 rows x 6 columns]"
      ]
     },
     "execution_count": 21,
     "metadata": {},
     "output_type": "execute_result"
    }
   ],
   "source": [
    "reactive"
   ]
  },
  {
   "cell_type": "code",
   "execution_count": null,
   "id": "6b01f514-5bf6-42b5-88d9-717a42f3f70b",
   "metadata": {},
   "outputs": [],
   "source": []
  },
  {
   "cell_type": "code",
   "execution_count": 9,
   "id": "ab9c1d71-a7bb-45d7-9842-d6c8ae9356e4",
   "metadata": {
    "tags": []
   },
   "outputs": [],
   "source": [
    "cust_status = cust_status[cust_status['CUST_TYPE']=='CN']"
   ]
  },
  {
   "cell_type": "code",
   "execution_count": 16,
   "id": "9122e7f0-5335-4e26-96dd-e872228a148e",
   "metadata": {
    "tags": []
   },
   "outputs": [],
   "source": [
    "casa = cust_status[cust_status['SD_TKTT']==1]"
   ]
  },
  {
   "cell_type": "code",
   "execution_count": 17,
   "id": "78388ccf-84b1-4c0d-a26e-c0bd6c207019",
   "metadata": {
    "tags": []
   },
   "outputs": [],
   "source": [
    "casa_ngudong = casa[casa['CUST_STATUS'].isin(['NGU DONG', 'DONG BANG'])]"
   ]
  },
  {
   "cell_type": "code",
   "execution_count": 27,
   "id": "5b64f9ed-a8af-4c66-82df-3cb487f1a092",
   "metadata": {
    "tags": []
   },
   "outputs": [],
   "source": [
    "casa_ngudong = casa_ngudong[['CUSTOMER_CDE','CUST_STATUS','LASTEST_TRANS_DT']].merge(reactive[['CUSTOMER_CDE', 'REACTIVATED']], how='inner', left_on='CUSTOMER_CDE', right_on='CUSTOMER_CDE')"
   ]
  },
  {
   "cell_type": "code",
   "execution_count": 32,
   "id": "def8104d-f5e4-492f-a629-08f7c32a7ac1",
   "metadata": {
    "tags": []
   },
   "outputs": [
    {
     "data": {
      "text/html": [
       "<div>\n",
       "<style scoped>\n",
       "    .dataframe tbody tr th:only-of-type {\n",
       "        vertical-align: middle;\n",
       "    }\n",
       "\n",
       "    .dataframe tbody tr th {\n",
       "        vertical-align: top;\n",
       "    }\n",
       "\n",
       "    .dataframe thead th {\n",
       "        text-align: right;\n",
       "    }\n",
       "</style>\n",
       "<table border=\"1\" class=\"dataframe\">\n",
       "  <thead>\n",
       "    <tr style=\"text-align: right;\">\n",
       "      <th></th>\n",
       "      <th>CUSTOMER_CDE</th>\n",
       "      <th>CUST_STATUS</th>\n",
       "      <th>LASTEST_TRANS_DT</th>\n",
       "      <th>REACTIVATED</th>\n",
       "    </tr>\n",
       "  </thead>\n",
       "  <tbody>\n",
       "    <tr>\n",
       "      <th>22</th>\n",
       "      <td>1234172</td>\n",
       "      <td>NGU DONG</td>\n",
       "      <td>2020-10-27</td>\n",
       "      <td>True</td>\n",
       "    </tr>\n",
       "    <tr>\n",
       "      <th>47</th>\n",
       "      <td>12901273</td>\n",
       "      <td>NGU DONG</td>\n",
       "      <td>2021-05-28</td>\n",
       "      <td>True</td>\n",
       "    </tr>\n",
       "    <tr>\n",
       "      <th>149</th>\n",
       "      <td>11784426</td>\n",
       "      <td>NGU DONG</td>\n",
       "      <td>2020-04-07</td>\n",
       "      <td>True</td>\n",
       "    </tr>\n",
       "    <tr>\n",
       "      <th>175</th>\n",
       "      <td>11775446</td>\n",
       "      <td>NGU DONG</td>\n",
       "      <td>2020-06-11</td>\n",
       "      <td>True</td>\n",
       "    </tr>\n",
       "    <tr>\n",
       "      <th>226</th>\n",
       "      <td>13548010</td>\n",
       "      <td>NGU DONG</td>\n",
       "      <td>2021-10-28</td>\n",
       "      <td>True</td>\n",
       "    </tr>\n",
       "    <tr>\n",
       "      <th>...</th>\n",
       "      <td>...</td>\n",
       "      <td>...</td>\n",
       "      <td>...</td>\n",
       "      <td>...</td>\n",
       "    </tr>\n",
       "    <tr>\n",
       "      <th>79120</th>\n",
       "      <td>9247893</td>\n",
       "      <td>NGU DONG</td>\n",
       "      <td>2020-12-01</td>\n",
       "      <td>True</td>\n",
       "    </tr>\n",
       "    <tr>\n",
       "      <th>79124</th>\n",
       "      <td>7608996</td>\n",
       "      <td>NGU DONG</td>\n",
       "      <td>2019-12-05</td>\n",
       "      <td>True</td>\n",
       "    </tr>\n",
       "    <tr>\n",
       "      <th>79142</th>\n",
       "      <td>7585744</td>\n",
       "      <td>NGU DONG</td>\n",
       "      <td>2019-01-30</td>\n",
       "      <td>True</td>\n",
       "    </tr>\n",
       "    <tr>\n",
       "      <th>79165</th>\n",
       "      <td>3592318</td>\n",
       "      <td>NGU DONG</td>\n",
       "      <td>2021-04-29</td>\n",
       "      <td>True</td>\n",
       "    </tr>\n",
       "    <tr>\n",
       "      <th>79168</th>\n",
       "      <td>3532966</td>\n",
       "      <td>NGU DONG</td>\n",
       "      <td>2017-12-20</td>\n",
       "      <td>True</td>\n",
       "    </tr>\n",
       "  </tbody>\n",
       "</table>\n",
       "<p>3270 rows × 4 columns</p>\n",
       "</div>"
      ],
      "text/plain": [
       "      CUSTOMER_CDE CUST_STATUS LASTEST_TRANS_DT  REACTIVATED\n",
       "22         1234172    NGU DONG       2020-10-27         True\n",
       "47        12901273    NGU DONG       2021-05-28         True\n",
       "149       11784426    NGU DONG       2020-04-07         True\n",
       "175       11775446    NGU DONG       2020-06-11         True\n",
       "226       13548010    NGU DONG       2021-10-28         True\n",
       "...            ...         ...              ...          ...\n",
       "79120      9247893    NGU DONG       2020-12-01         True\n",
       "79124      7608996    NGU DONG       2019-12-05         True\n",
       "79142      7585744    NGU DONG       2019-01-30         True\n",
       "79165      3592318    NGU DONG       2021-04-29         True\n",
       "79168      3532966    NGU DONG       2017-12-20         True\n",
       "\n",
       "[3270 rows x 4 columns]"
      ]
     },
     "execution_count": 32,
     "metadata": {},
     "output_type": "execute_result"
    }
   ],
   "source": [
    "casa_ngudong[casa_ngudong['REACTIVATED']==True]"
   ]
  },
  {
   "cell_type": "code",
   "execution_count": null,
   "id": "df55a634-5821-48bf-85e7-421213f3163e",
   "metadata": {},
   "outputs": [],
   "source": []
  }
 ],
 "metadata": {
  "kernelspec": {
   "display_name": "Python 3 (ipykernel)",
   "language": "python",
   "name": "python3"
  },
  "language_info": {
   "codemirror_mode": {
    "name": "ipython",
    "version": 3
   },
   "file_extension": ".py",
   "mimetype": "text/x-python",
   "name": "python",
   "nbconvert_exporter": "python",
   "pygments_lexer": "ipython3",
   "version": "3.8.13"
  }
 },
 "nbformat": 4,
 "nbformat_minor": 5
}
