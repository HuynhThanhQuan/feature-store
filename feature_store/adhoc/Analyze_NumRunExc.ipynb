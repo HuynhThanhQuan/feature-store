{
 "cells": [
  {
   "cell_type": "markdown",
   "id": "5048abde-0bdb-4973-9d24-b2b5d8051fb4",
   "metadata": {},
   "source": [
    "Analyze the statistic of Feature Store"
   ]
  },
  {
   "cell_type": "code",
   "execution_count": 1,
   "id": "37c5617c-396e-4bfe-a4d0-2771f0ea296d",
   "metadata": {
    "tags": []
   },
   "outputs": [],
   "source": [
    "import sys\n",
    "sys.path.append('../')"
   ]
  },
  {
   "cell_type": "code",
   "execution_count": 2,
   "id": "b2f51a13-703a-4540-9e3d-6a45d8f45474",
   "metadata": {
    "tags": []
   },
   "outputs": [],
   "source": [
    "from oraDB import oraDB"
   ]
  },
  {
   "cell_type": "code",
   "execution_count": 3,
   "id": "f54fcf94-7f38-4604-a981-7f5239d2356b",
   "metadata": {
    "tags": []
   },
   "outputs": [],
   "source": [
    "conn, cur = oraDB.connect()"
   ]
  },
  {
   "cell_type": "code",
   "execution_count": 4,
   "id": "479dd5c4-1e8f-47c9-bdff-b2eaf5026dc4",
   "metadata": {
    "tags": []
   },
   "outputs": [],
   "source": [
    "query = \"\"\"select RPT_DT,\n",
    "count(distinct CUSTOMER_CDE) as num_customer,\n",
    "count(distinct FTR_NM) as num_feat,\n",
    "count(distinct ADD_TSTP) as num_run \n",
    "from CINS_FEATURE_STORE\n",
    "group by RPT_DT\n",
    "order by RPT_DT\"\"\""
   ]
  },
  {
   "cell_type": "code",
   "execution_count": 5,
   "id": "12201a02-09af-4768-a158-d5ed514261a1",
   "metadata": {
    "tags": []
   },
   "outputs": [
    {
     "data": {
      "text/plain": [
       "<cx_Oracle.Cursor on <cx_Oracle.Connection to CINS_SMY@192.168.124.100:1521/DWDEV>>"
      ]
     },
     "execution_count": 5,
     "metadata": {},
     "output_type": "execute_result"
    }
   ],
   "source": [
    "cur.execute(query)"
   ]
  },
  {
   "cell_type": "code",
   "execution_count": null,
   "id": "07beaaed-85ea-4b18-a624-81432d36a357",
   "metadata": {
    "tags": []
   },
   "outputs": [],
   "source": [
    "result = cur.fetchall()"
   ]
  },
  {
   "cell_type": "code",
   "execution_count": null,
   "id": "1a9760ac-42ab-4ae2-977e-a576c94044b9",
   "metadata": {
    "tags": []
   },
   "outputs": [],
   "source": [
    "result"
   ]
  },
  {
   "cell_type": "code",
   "execution_count": null,
   "id": "e8cb3588-1790-4b96-94c8-31ca4582cd4f",
   "metadata": {},
   "outputs": [],
   "source": []
  }
 ],
 "metadata": {
  "kernelspec": {
   "display_name": "Python 3 (ipykernel)",
   "language": "python",
   "name": "python3"
  },
  "language_info": {
   "codemirror_mode": {
    "name": "ipython",
    "version": 3
   },
   "file_extension": ".py",
   "mimetype": "text/x-python",
   "name": "python",
   "nbconvert_exporter": "python",
   "pygments_lexer": "ipython3",
   "version": "3.8.13"
  }
 },
 "nbformat": 4,
 "nbformat_minor": 5
}
