{
 "cells": [
  {
   "cell_type": "code",
   "execution_count": 1,
   "id": "38371e35-4061-45db-9e2e-cca86c5fefb5",
   "metadata": {
    "tags": []
   },
   "outputs": [
    {
     "name": "stdout",
     "output_type": "stream",
     "text": [
      "['Solarize_Light2', '_classic_test_patch', '_mpl-gallery', '_mpl-gallery-nogrid', 'bmh', 'classic', 'dark_background', 'fast', 'fivethirtyeight', 'ggplot', 'grayscale', 'seaborn-v0_8', 'seaborn-v0_8-bright', 'seaborn-v0_8-colorblind', 'seaborn-v0_8-dark', 'seaborn-v0_8-dark-palette', 'seaborn-v0_8-darkgrid', 'seaborn-v0_8-deep', 'seaborn-v0_8-muted', 'seaborn-v0_8-notebook', 'seaborn-v0_8-paper', 'seaborn-v0_8-pastel', 'seaborn-v0_8-poster', 'seaborn-v0_8-talk', 'seaborn-v0_8-ticks', 'seaborn-v0_8-white', 'seaborn-v0_8-whitegrid', 'tableau-colorblind10']\n",
      "Add path ../../..\n",
      "Connected DB - conn\n",
      "Connected oraDW_ANALYTICS - conn_aly\n"
     ]
    }
   ],
   "source": [
    "from util import *"
   ]
  },
  {
   "cell_type": "code",
   "execution_count": 2,
   "id": "cd3b7480-1eca-40cb-badd-ea5a4a8cd27c",
   "metadata": {
    "tags": []
   },
   "outputs": [],
   "source": [
    "import os\n",
    "import numpy as np"
   ]
  },
  {
   "cell_type": "code",
   "execution_count": 3,
   "id": "180fc8ac-84ff-4dfc-9d59-9fb9c12674b5",
   "metadata": {
    "tags": []
   },
   "outputs": [],
   "source": [
    "import matplotlib.image as mpimg"
   ]
  },
  {
   "cell_type": "code",
   "execution_count": 4,
   "id": "02916c64-98a7-4261-a5f2-d4ddea8b9623",
   "metadata": {
    "tags": []
   },
   "outputs": [],
   "source": [
    "from IPython.display import HTML"
   ]
  },
  {
   "cell_type": "markdown",
   "id": "dd7f1f14-25b7-4787-b378-e2d90faed4a9",
   "metadata": {},
   "source": [
    "# NAMESPACE"
   ]
  },
  {
   "cell_type": "code",
   "execution_count": 5,
   "id": "3bfd18cb-c9f2-48a0-9478-bd22c3d1e219",
   "metadata": {
    "tags": []
   },
   "outputs": [],
   "source": [
    "class NAMESPACE:\n",
    "    # Base values\n",
    "    TABLE_NAME = 'DWA_STMT_EBANK'\n",
    "    SEL_SAMPLE = 'SAMPLE1_SUB3'\n",
    "    \n",
    "    # Important to look\n",
    "    # QUERY = f\"\"\"SELECT X.* FROM DW_ANALYTICS.{TABLE_NAME} X JOIN CINS_TMP_ALY_CUST_{SEL_SAMPLE} SAM ON X.CUSTOMER_ID = SAM.CUSTOMER_CDE\"\"\"\n",
    "    QUERY = f\"\"\"with \n",
    "    t1 as (\n",
    "        select * from DW_ANALYTICS.DWA_STMT_EBANK\n",
    "    ),\n",
    "    t2 as (\n",
    "        select *\n",
    "        from CINS_TMP_ALY_CUST_SAMPLE1_SUB3\n",
    "        where 1=1\n",
    "        and customer_cde not like '%#%'\n",
    "        and customer_cde not like '%PAY%'\n",
    "        and customer_cde not like '%INS%'\n",
    "    ),\n",
    "    t3 as (\n",
    "        select t1.* from t1\n",
    "        join t2 on t1.CUSTOMER_ID = t2.CUSTOMER_CDE\n",
    "        JOIN DW_ANALYTICS.TRANSACTION_CODE TC ON t1.TRANSACTION_CODE = TC.TRANSACTION_CODE\n",
    "        where t1.PRODUCT_CATEGORY LIKE '10__'\n",
    "        AND TC.INITIATION = 'CUSTOMER'\n",
    "    )\n",
    "    select * from t3\"\"\"\n",
    "    \n",
    "    # Derived values\n",
    "    data_fp = f'./data/{TABLE_NAME}'\n",
    "    data_sample_nm = os.path.join(data_fp, SEL_SAMPLE)\n",
    "    IMG_FP = f'./img/{TABLE_NAME}'\n",
    "    img = f'./img/{TABLE_NAME}/{SEL_SAMPLE}'\n",
    "    \n",
    "    def show():\n",
    "        atts = dir(NAMESPACE)\n",
    "        for a in atts:\n",
    "            if not a.startswith('__'):\n",
    "                print(a)\n",
    "    \n",
    "    @classmethod\n",
    "    def init(cls):\n",
    "        if not os.path.exists(NAMESPACE.data_fp):\n",
    "            os.makedirs(NAMESPACE.data_fp)\n",
    "        if not os.path.exists(NAMESPACE.img):\n",
    "            os.makedirs(NAMESPACE.img)"
   ]
  },
  {
   "cell_type": "code",
   "execution_count": 6,
   "id": "e48f3567-5d00-4460-be90-78273f614712",
   "metadata": {
    "tags": []
   },
   "outputs": [
    {
     "data": {
      "text/plain": [
       "\"with \\n    t1 as (\\n        select * from DW_ANALYTICS.DWA_STMT_EBANK\\n    ),\\n    t2 as (\\n        select *\\n        from CINS_TMP_ALY_CUST_SAMPLE1_SUB3\\n        where 1=1\\n        and customer_cde not like '%#%'\\n        and customer_cde not like '%PAY%'\\n        and customer_cde not like '%INS%'\\n    ),\\n    t3 as (\\n        select t1.* from t1\\n        join t2 on t1.CUSTOMER_ID = t2.CUSTOMER_CDE\\n        JOIN DW_ANALYTICS.TRANSACTION_CODE TC ON t1.TRANSACTION_CODE = TC.TRANSACTION_CODE\\n        where t1.PRODUCT_CATEGORY LIKE '10__'\\n        AND TC.INITIATION = 'CUSTOMER'\\n    )\\n    select * from t3\""
      ]
     },
     "execution_count": 6,
     "metadata": {},
     "output_type": "execute_result"
    }
   ],
   "source": [
    "NAMESPACE.QUERY"
   ]
  },
  {
   "cell_type": "code",
   "execution_count": 7,
   "id": "f4b27ee4-7078-4be8-8504-78c1d299f42f",
   "metadata": {
    "tags": []
   },
   "outputs": [],
   "source": [
    "NAMESPACE.init()"
   ]
  },
  {
   "cell_type": "code",
   "execution_count": 8,
   "id": "09066e6c-9fc1-4461-b400-e2827e7017a1",
   "metadata": {
    "tags": []
   },
   "outputs": [
    {
     "name": "stdout",
     "output_type": "stream",
     "text": [
      "IMG_FP\n",
      "QUERY\n",
      "SEL_SAMPLE\n",
      "TABLE_NAME\n",
      "data_fp\n",
      "data_sample_nm\n",
      "img\n",
      "init\n",
      "show\n"
     ]
    }
   ],
   "source": [
    "NAMESPACE.show()"
   ]
  },
  {
   "cell_type": "code",
   "execution_count": 9,
   "id": "7e3206f1-fefa-45a2-a759-caedd19b991b",
   "metadata": {
    "tags": []
   },
   "outputs": [],
   "source": [
    "stat_opt = [\n",
    "            'count',\n",
    "            'mean',\n",
    "            'median',\n",
    "            'min',\n",
    "            'max',\n",
    "            'std',\n",
    "]\n",
    "ordered_stat_opt = [[i, i + '_pct_chg'] for i in stat_opt]\n",
    "ordered_stat_opt = [j for i in ordered_stat_opt for j in i]"
   ]
  },
  {
   "cell_type": "markdown",
   "id": "82465900-3e10-43df-9142-aecc327e1d78",
   "metadata": {},
   "source": [
    "# Functions"
   ]
  },
  {
   "cell_type": "code",
   "execution_count": 10,
   "id": "9c8481d2-a168-4f43-8ba2-9f9555ed21b6",
   "metadata": {
    "tags": []
   },
   "outputs": [],
   "source": [
    "def aly_datetime(df, date_col, cde_col, resample='1Y', outlier_date='1930-01-01', timedelta='365 days',lvl=3):\n",
    "    display(HTML(f'<h{lvl}>{date_col}</h{lvl}>'))\n",
    "    if cde_col is None:\n",
    "        tmp_df = df[date_col].copy()\n",
    "        tmp_df[date_col] = pd.to_datetime(tmp_df[date_col], errors='coerce')\n",
    "        tmp_df[date_col] = df[date_col].astype('datetime64[D]')\n",
    "        tmp = tmp_df[tmp_df[date_col] > outlier_date]\n",
    "        plot_df = tmp.set_index(date_col).resample(resample).nunique()\n",
    "    else:\n",
    "        tmp_df = df[[date_col, cde_col]].copy()\n",
    "        tmp_df[date_col] = pd.to_datetime(tmp_df[date_col], errors='coerce')\n",
    "        tmp_df[date_col] = df[date_col].astype('datetime64[D]')\n",
    "        tmp = tmp_df[tmp_df[date_col] > outlier_date]\n",
    "        plot_df = tmp.set_index(date_col)[cde_col].resample(resample).nunique()\n",
    "    \n",
    "    fig, axs = plt.subplots(1,2, figsize=(15, 5))\n",
    "    plot_df.plot(kind='bar', rot=70, ax=axs[0])\n",
    "    up2now = ((datetime(2023,11,1) - tmp[date_col]) / pd.Timedelta(timedelta)).apply(float)\n",
    "    sns.histplot(up2now, kde=True, ax=axs[1])\n",
    "    plt.show()"
   ]
  },
  {
   "cell_type": "code",
   "execution_count": 11,
   "id": "c8dc0b07-ab4a-4060-abae-ea8a29a40a08",
   "metadata": {
    "tags": []
   },
   "outputs": [],
   "source": [
    "def default_func(x):\n",
    "    return x"
   ]
  },
  {
   "cell_type": "code",
   "execution_count": 12,
   "id": "9e6fa987-f473-4df9-9e62-05fd08a842a5",
   "metadata": {
    "tags": []
   },
   "outputs": [],
   "source": [
    "def remove_mode_value(x):\n",
    "    return x[~x.isin(x.mode().values)]"
   ]
  },
  {
   "cell_type": "code",
   "execution_count": 13,
   "id": "407d733b-0ebc-467c-bab4-6f9ab5bf844c",
   "metadata": {
    "tags": []
   },
   "outputs": [],
   "source": [
    "def logx(x):\n",
    "    return np.log(x)"
   ]
  },
  {
   "cell_type": "code",
   "execution_count": 14,
   "id": "f8666e61-edcf-4b34-9676-3ae246e4973e",
   "metadata": {
    "tags": []
   },
   "outputs": [],
   "source": [
    "def plot_multi_hist_aly(df,cols=[],funcs=[default_func, remove_mode_value, logx], lvl=3):\n",
    "    def df_stat_after_transformed(df_trans):\n",
    "        def pct_change(series):\n",
    "            first_e = series.iloc[0]\n",
    "            pct_chg = (series - first_e) / first_e * 100\n",
    "            pct_chg.iloc[0] = 100.\n",
    "            return pct_chg\n",
    "        stat_infos = []\n",
    "        for data_trans_series in df_trans:\n",
    "            # Get stats info\n",
    "            stat_info = []\n",
    "            for s in stat_opt:\n",
    "                if s == 'count':\n",
    "                    stat_info.append(data_trans_series.count())\n",
    "                elif s == 'mean':\n",
    "                    stat_info.append(data_trans_series.mean())\n",
    "                elif s == 'median':\n",
    "                    stat_info.append(data_trans_series.median())\n",
    "                elif s == 'min':\n",
    "                    stat_info.append(data_trans_series.min())\n",
    "                elif s == 'max':\n",
    "                    stat_info.append(data_trans_series.max())\n",
    "                elif s == 'std':\n",
    "                    stat_info.append(data_trans_series.std())\n",
    "            stat_infos.append(stat_info)\n",
    "        col_stat = stat_opt\n",
    "        index_stat = [f.__name__ for f in funcs]\n",
    "        stat_df = pd.DataFrame(data=stat_infos, columns=col_stat, index=index_stat)\n",
    "        for c in stat_df.columns:\n",
    "            stat_df[f'{c}_pct_chg'] = pct_change(stat_df[c])\n",
    "        stat_df = stat_df[ordered_stat_opt]\n",
    "        result_df = stat_df.T\n",
    "        return result_df\n",
    "    \n",
    "    nrows, ncols = len(cols), len(funcs)\n",
    "    for i, c in enumerate(cols):\n",
    "        display(HTML(f'<h{lvl}>{c}</h{lvl}>'))\n",
    "        if c in df.columns:\n",
    "            data_trans = []\n",
    "            for f in funcs:\n",
    "                pre_data_tran = data_trans[-1] if len(data_trans) > 0 else df[c]\n",
    "                trans_data = f(pre_data_tran)\n",
    "                data_trans.append(trans_data)\n",
    "            # plot section \n",
    "            fig, axs = plt.subplots(1,ncols, figsize=(4* ncols, 4 ))\n",
    "            for j, d in enumerate(data_trans):\n",
    "                sel_ax = axs[j]\n",
    "                sel_ax.set_title(f'{cols[i]}\\n{funcs[j].__name__}')\n",
    "                d.replace([np.inf, -np.inf], np.nan).plot(kind='hist',bins=100,ax=sel_ax)\n",
    "            pd.options.display.float_format = '{:.3f}'.format\n",
    "            display(df_stat_after_transformed(data_trans))\n",
    "            plt.tight_layout()\n",
    "            plt.savefig(os.path.join(NAMESPACE.img, f'{c}.jpg'), dpi=500)\n",
    "            plt.show()\n",
    "            print('\\n\\n\\n')"
   ]
  },
  {
   "cell_type": "code",
   "execution_count": 15,
   "id": "97c75bff-a364-4f65-8217-27181be6b3da",
   "metadata": {
    "tags": []
   },
   "outputs": [],
   "source": [
    "def aly_cat_col(df,cat_cols,k=10, lvl=3):\n",
    "    for cat_col in cat_cols: \n",
    "        display(HTML(f'<h{lvl}>{cat_col}</h{lvl}>'))\n",
    "        fig,axs=plt.subplots(1,2,figsize=(10,5))\n",
    "        display(df[cat_col].value_counts())\n",
    "        df[cat_col].value_counts()[:k].plot(kind='bar', rot=80,ax=axs[0])\n",
    "        df[cat_col].value_counts()[:k].plot(kind='pie', autopct='%.2f%%',ax=axs[1])\n",
    "        plt.savefig(os.path.join(NAMESPACE.img, f'{cat_col}.jpg'), dpi=500)\n",
    "        plt.show()"
   ]
  },
  {
   "cell_type": "code",
   "execution_count": 16,
   "id": "b5a4ad68-a316-4ac4-863f-7eff6ab3e6e6",
   "metadata": {
    "tags": []
   },
   "outputs": [],
   "source": [
    "def download_or_reload(saved_file):\n",
    "    if not os.path.exists(saved_file):\n",
    "        query = NAMESPACE.QUERY\n",
    "        cur.execute(query)\n",
    "        result = cur.fetchall()\n",
    "        column_names = [c[0] for c in cur.description]\n",
    "        df = pd.DataFrame(result, columns=column_names)\n",
    "        df.to_pickle(saved_file)\n",
    "    df = pd.read_pickle(saved_file)\n",
    "    print(f'Len {len(df)}')\n",
    "    return df"
   ]
  },
  {
   "cell_type": "code",
   "execution_count": 17,
   "id": "bd0ab53c-964f-46a2-816b-de60cb1aef97",
   "metadata": {
    "tags": []
   },
   "outputs": [],
   "source": [
    "def gen_info_stats(df):\n",
    "    def info_stats(c):\n",
    "        dtype = df[c].dtype\n",
    "        n = len(df)\n",
    "        null_pct = (n - df[c].count()) / n\n",
    "        nunique = df[c].nunique()\n",
    "        nunique_pct = nunique / n\n",
    "        unique_values = df[c].unique()[:3]\n",
    "        return c, null_pct, dtype, nunique, nunique_pct, unique_values\n",
    "\n",
    "    data_stats = []\n",
    "    for c in df.columns:\n",
    "        data_stats.append(info_stats(c))\n",
    "    data_stats = pd.DataFrame(data=data_stats,columns=['Column', 'Null Pct', 'Dtype', 'Nunique', 'Nunique Pct', 'Sample Unique Value'])\n",
    "    return data_stats"
   ]
  },
  {
   "cell_type": "markdown",
   "id": "e763f283-0954-4025-861f-2a1d41f8006d",
   "metadata": {},
   "source": [
    "# Sample1-Sub*"
   ]
  },
  {
   "cell_type": "code",
   "execution_count": 18,
   "id": "fa7beaf8-631d-4737-ae21-83b032630489",
   "metadata": {},
   "outputs": [
    {
     "data": {
      "text/plain": [
       "\"with \\n    t1 as (\\n        select * from DW_ANALYTICS.DWA_STMT_EBANK\\n    ),\\n    t2 as (\\n        select *\\n        from CINS_TMP_ALY_CUST_SAMPLE1_SUB3\\n        where 1=1\\n        and customer_cde not like '%#%'\\n        and customer_cde not like '%PAY%'\\n        and customer_cde not like '%INS%'\\n    ),\\n    t3 as (\\n        select t1.* from t1\\n        join t2 on t1.CUSTOMER_ID = t2.CUSTOMER_CDE\\n        JOIN DW_ANALYTICS.TRANSACTION_CODE TC ON t1.TRANSACTION_CODE = TC.TRANSACTION_CODE\\n        where t1.PRODUCT_CATEGORY LIKE '10__'\\n        AND TC.INITIATION = 'CUSTOMER'\\n    )\\n    select * from t3\""
      ]
     },
     "execution_count": 18,
     "metadata": {},
     "output_type": "execute_result"
    }
   ],
   "source": [
    "NAMESPACE.QUERY"
   ]
  },
  {
   "cell_type": "code",
   "execution_count": 19,
   "id": "794d13f2-427f-4a10-8e62-5318bc6d3536",
   "metadata": {
    "tags": []
   },
   "outputs": [
    {
     "ename": "",
     "evalue": "",
     "output_type": "error",
     "traceback": [
      "\u001b[1;31mThe Kernel crashed while executing code in the the current cell or a previous cell. Please review the code in the cell(s) to identify a possible cause of the failure. Click <a href='https://aka.ms/vscodeJupyterKernelCrash'>here</a> for more info. View Jupyter <a href='command:jupyter.viewOutput'>log</a> for further details."
     ]
    },
    {
     "ename": "",
     "evalue": "",
     "output_type": "error",
     "traceback": [
      "\u001b[1;31mThe Kernel crashed while executing code in the the current cell or a previous cell. Please review the code in the cell(s) to identify a possible cause of the failure. Click <a href='https://aka.ms/vscodeJupyterKernelCrash'>here</a> for more info. View Jupyter <a href='command:jupyter.viewOutput'>log</a> for further details."
     ]
    },
    {
     "ename": "",
     "evalue": "",
     "output_type": "error",
     "traceback": [
      "\u001b[1;31mCanceled future for execute_request message before replies were done"
     ]
    }
   ],
   "source": [
    "df = download_or_reload(NAMESPACE.data_sample_nm)"
   ]
  },
  {
   "cell_type": "code",
   "execution_count": 20,
   "id": "9f0b4e99-817b-4465-a9eb-3d664753adb0",
   "metadata": {
    "tags": []
   },
   "outputs": [
    {
     "data": {
      "text/html": [
       "<div>\n",
       "<style scoped>\n",
       "    .dataframe tbody tr th:only-of-type {\n",
       "        vertical-align: middle;\n",
       "    }\n",
       "\n",
       "    .dataframe tbody tr th {\n",
       "        vertical-align: top;\n",
       "    }\n",
       "\n",
       "    .dataframe thead th {\n",
       "        text-align: right;\n",
       "    }\n",
       "</style>\n",
       "<table border=\"1\" class=\"dataframe\">\n",
       "  <thead>\n",
       "    <tr style=\"text-align: right;\">\n",
       "      <th></th>\n",
       "      <th>BANK_ID</th>\n",
       "      <th>STMT_ENTRY_ID</th>\n",
       "      <th>ACCOUNT_NUMBER</th>\n",
       "      <th>COMPANY_CODE</th>\n",
       "      <th>AMT_LCY</th>\n",
       "      <th>TRANSACTION_CODE</th>\n",
       "      <th>THEIR_REFERENCE</th>\n",
       "      <th>NARRATIVE</th>\n",
       "      <th>PL_CATEGORY</th>\n",
       "      <th>CUSTOMER_ID</th>\n",
       "      <th>...</th>\n",
       "      <th>CURR_NO</th>\n",
       "      <th>INPUTTER</th>\n",
       "      <th>DATE_TIME</th>\n",
       "      <th>AUTHORISER</th>\n",
       "      <th>CO_CODE</th>\n",
       "      <th>DEPT_CODE</th>\n",
       "      <th>AUDITOR_CODE</th>\n",
       "      <th>AUDIT_DATE_TIME</th>\n",
       "      <th>EOR</th>\n",
       "      <th>PROCESS_DATE</th>\n",
       "    </tr>\n",
       "  </thead>\n",
       "  <tbody>\n",
       "    <tr>\n",
       "      <th>0</th>\n",
       "      <td>VNI</td>\n",
       "      <td>199685032962117.000001</td>\n",
       "      <td>070072495215</td>\n",
       "      <td>VN0012365</td>\n",
       "      <td>5500000.0</td>\n",
       "      <td>213</td>\n",
       "      <td>None</td>\n",
       "      <td>MBVCB.2403496542.316329.khanh chuyen tien.CT t...</td>\n",
       "      <td>None</td>\n",
       "      <td>10255531</td>\n",
       "      <td>...</td>\n",
       "      <td>5</td>\n",
       "      <td>10_DAVID.1</td>\n",
       "      <td>0901141547</td>\n",
       "      <td>10_DAVID.1</td>\n",
       "      <td>GB0010001</td>\n",
       "      <td>1</td>\n",
       "      <td>None</td>\n",
       "      <td>None</td>\n",
       "      <td>EOR</td>\n",
       "      <td>2022-12-04</td>\n",
       "    </tr>\n",
       "    <tr>\n",
       "      <th>1</th>\n",
       "      <td>VNI</td>\n",
       "      <td>200262548149037.020001</td>\n",
       "      <td>050130431582</td>\n",
       "      <td>VN0014473</td>\n",
       "      <td>-150000.0</td>\n",
       "      <td>213</td>\n",
       "      <td>None</td>\n",
       "      <td>MM2302535688 CASH IN-0913035998-30594165025   ...</td>\n",
       "      <td>None</td>\n",
       "      <td>16126482</td>\n",
       "      <td>...</td>\n",
       "      <td>5</td>\n",
       "      <td>10_DAVID.1</td>\n",
       "      <td>0901141547</td>\n",
       "      <td>10_DAVID.1</td>\n",
       "      <td>GB0010001</td>\n",
       "      <td>1</td>\n",
       "      <td>None</td>\n",
       "      <td>None</td>\n",
       "      <td>EOR</td>\n",
       "      <td>2022-12-04</td>\n",
       "    </tr>\n",
       "    <tr>\n",
       "      <th>2</th>\n",
       "      <td>VNI</td>\n",
       "      <td>199680915332010.000001</td>\n",
       "      <td>060248547191</td>\n",
       "      <td>VN0014113</td>\n",
       "      <td>1000000.0</td>\n",
       "      <td>213</td>\n",
       "      <td>None</td>\n",
       "      <td>PHAM THI NGOC ANH chuyen tien CKN 308479 - PHA...</td>\n",
       "      <td>None</td>\n",
       "      <td>14555128</td>\n",
       "      <td>...</td>\n",
       "      <td>5</td>\n",
       "      <td>10_DAVID.1</td>\n",
       "      <td>0901141547</td>\n",
       "      <td>10_DAVID.1</td>\n",
       "      <td>GB0010001</td>\n",
       "      <td>1</td>\n",
       "      <td>None</td>\n",
       "      <td>None</td>\n",
       "      <td>EOR</td>\n",
       "      <td>2022-12-04</td>\n",
       "    </tr>\n",
       "    <tr>\n",
       "      <th>3</th>\n",
       "      <td>VNI</td>\n",
       "      <td>199674648085012.000001</td>\n",
       "      <td>060248547191</td>\n",
       "      <td>VN0014113</td>\n",
       "      <td>-100000.0</td>\n",
       "      <td>213</td>\n",
       "      <td>None</td>\n",
       "      <td>MM2243366064 CASH IN-01634978882-28299149146  ...</td>\n",
       "      <td>None</td>\n",
       "      <td>14555128</td>\n",
       "      <td>...</td>\n",
       "      <td>5</td>\n",
       "      <td>10_DAVID.1</td>\n",
       "      <td>0901141547</td>\n",
       "      <td>10_DAVID.1</td>\n",
       "      <td>GB0010001</td>\n",
       "      <td>1</td>\n",
       "      <td>None</td>\n",
       "      <td>None</td>\n",
       "      <td>EOR</td>\n",
       "      <td>2022-12-04</td>\n",
       "    </tr>\n",
       "    <tr>\n",
       "      <th>4</th>\n",
       "      <td>VNI</td>\n",
       "      <td>200269079270937.020001</td>\n",
       "      <td>070112932656</td>\n",
       "      <td>VN0012392</td>\n",
       "      <td>9000000.0</td>\n",
       "      <td>213</td>\n",
       "      <td>None</td>\n",
       "      <td>MBVCB.2633328432.068667.DINH THI MINH THU chuy...</td>\n",
       "      <td>None</td>\n",
       "      <td>14252404</td>\n",
       "      <td>...</td>\n",
       "      <td>5</td>\n",
       "      <td>10_DAVID.1</td>\n",
       "      <td>0901141547</td>\n",
       "      <td>10_DAVID.1</td>\n",
       "      <td>GB0010001</td>\n",
       "      <td>1</td>\n",
       "      <td>None</td>\n",
       "      <td>None</td>\n",
       "      <td>EOR</td>\n",
       "      <td>2022-12-04</td>\n",
       "    </tr>\n",
       "    <tr>\n",
       "      <th>...</th>\n",
       "      <td>...</td>\n",
       "      <td>...</td>\n",
       "      <td>...</td>\n",
       "      <td>...</td>\n",
       "      <td>...</td>\n",
       "      <td>...</td>\n",
       "      <td>...</td>\n",
       "      <td>...</td>\n",
       "      <td>...</td>\n",
       "      <td>...</td>\n",
       "      <td>...</td>\n",
       "      <td>...</td>\n",
       "      <td>...</td>\n",
       "      <td>...</td>\n",
       "      <td>...</td>\n",
       "      <td>...</td>\n",
       "      <td>...</td>\n",
       "      <td>...</td>\n",
       "      <td>...</td>\n",
       "      <td>...</td>\n",
       "      <td>...</td>\n",
       "    </tr>\n",
       "    <tr>\n",
       "      <th>1641310</th>\n",
       "      <td>VNI</td>\n",
       "      <td>197246844129466.000001</td>\n",
       "      <td>060213613769</td>\n",
       "      <td>VN0011169</td>\n",
       "      <td>-50000.0</td>\n",
       "      <td>213</td>\n",
       "      <td>None</td>\n",
       "      <td>MM1365788647 CASH IN-0931850606-19461413582   ...</td>\n",
       "      <td>None</td>\n",
       "      <td>12996591</td>\n",
       "      <td>...</td>\n",
       "      <td>5</td>\n",
       "      <td>10_DAVID.1</td>\n",
       "      <td>0901141547</td>\n",
       "      <td>10_DAVID.1</td>\n",
       "      <td>GB0010001</td>\n",
       "      <td>1</td>\n",
       "      <td>None</td>\n",
       "      <td>None</td>\n",
       "      <td>EOR</td>\n",
       "      <td>2022-12-04</td>\n",
       "    </tr>\n",
       "    <tr>\n",
       "      <th>1641311</th>\n",
       "      <td>VNI</td>\n",
       "      <td>197246495833097.030001</td>\n",
       "      <td>060213613769</td>\n",
       "      <td>VN0011169</td>\n",
       "      <td>-50000.0</td>\n",
       "      <td>213</td>\n",
       "      <td>None</td>\n",
       "      <td>MM1365794615 CASH IN-0931850606-19462800725   ...</td>\n",
       "      <td>None</td>\n",
       "      <td>12996591</td>\n",
       "      <td>...</td>\n",
       "      <td>5</td>\n",
       "      <td>10_DAVID.1</td>\n",
       "      <td>0901141547</td>\n",
       "      <td>10_DAVID.1</td>\n",
       "      <td>GB0010001</td>\n",
       "      <td>1</td>\n",
       "      <td>None</td>\n",
       "      <td>None</td>\n",
       "      <td>EOR</td>\n",
       "      <td>2022-12-04</td>\n",
       "    </tr>\n",
       "    <tr>\n",
       "      <th>1641312</th>\n",
       "      <td>VNI</td>\n",
       "      <td>197247335648111.000001</td>\n",
       "      <td>060213613769</td>\n",
       "      <td>VN0011169</td>\n",
       "      <td>-2000000.0</td>\n",
       "      <td>213</td>\n",
       "      <td>None</td>\n",
       "      <td>EWX151040284 IBFT Ngkhoa ck tien COD          ...</td>\n",
       "      <td>None</td>\n",
       "      <td>12996591</td>\n",
       "      <td>...</td>\n",
       "      <td>5</td>\n",
       "      <td>10_DAVID.1</td>\n",
       "      <td>0901141547</td>\n",
       "      <td>10_DAVID.1</td>\n",
       "      <td>GB0010001</td>\n",
       "      <td>1</td>\n",
       "      <td>None</td>\n",
       "      <td>None</td>\n",
       "      <td>EOR</td>\n",
       "      <td>2022-12-04</td>\n",
       "    </tr>\n",
       "    <tr>\n",
       "      <th>1641313</th>\n",
       "      <td>VNI</td>\n",
       "      <td>197827596539369.000001</td>\n",
       "      <td>070099966988</td>\n",
       "      <td>VN0012452</td>\n",
       "      <td>3900000.0</td>\n",
       "      <td>213</td>\n",
       "      <td>None</td>\n",
       "      <td>NGUYEN MINH PHUC NGUYEN MINH PHUC chuyen tien ...</td>\n",
       "      <td>None</td>\n",
       "      <td>12840196</td>\n",
       "      <td>...</td>\n",
       "      <td>5</td>\n",
       "      <td>10_DAVID.1</td>\n",
       "      <td>0901141547</td>\n",
       "      <td>10_DAVID.1</td>\n",
       "      <td>GB0010001</td>\n",
       "      <td>1</td>\n",
       "      <td>None</td>\n",
       "      <td>None</td>\n",
       "      <td>EOR</td>\n",
       "      <td>2022-12-04</td>\n",
       "    </tr>\n",
       "    <tr>\n",
       "      <th>1641314</th>\n",
       "      <td>VNI</td>\n",
       "      <td>197839397849575.000001</td>\n",
       "      <td>070099966988</td>\n",
       "      <td>VN0012452</td>\n",
       "      <td>-200000.0</td>\n",
       "      <td>213</td>\n",
       "      <td>None</td>\n",
       "      <td>EWX177568759 2671238463 VITT 0939822145       ...</td>\n",
       "      <td>None</td>\n",
       "      <td>12840196</td>\n",
       "      <td>...</td>\n",
       "      <td>5</td>\n",
       "      <td>10_DAVID.1</td>\n",
       "      <td>0901141547</td>\n",
       "      <td>10_DAVID.1</td>\n",
       "      <td>GB0010001</td>\n",
       "      <td>1</td>\n",
       "      <td>None</td>\n",
       "      <td>None</td>\n",
       "      <td>EOR</td>\n",
       "      <td>2022-12-04</td>\n",
       "    </tr>\n",
       "  </tbody>\n",
       "</table>\n",
       "<p>1641315 rows × 86 columns</p>\n",
       "</div>"
      ],
      "text/plain": [
       "        BANK_ID           STMT_ENTRY_ID ACCOUNT_NUMBER COMPANY_CODE  \\\n",
       "0           VNI  199685032962117.000001   070072495215    VN0012365   \n",
       "1           VNI  200262548149037.020001   050130431582    VN0014473   \n",
       "2           VNI  199680915332010.000001   060248547191    VN0014113   \n",
       "3           VNI  199674648085012.000001   060248547191    VN0014113   \n",
       "4           VNI  200269079270937.020001   070112932656    VN0012392   \n",
       "...         ...                     ...            ...          ...   \n",
       "1641310     VNI  197246844129466.000001   060213613769    VN0011169   \n",
       "1641311     VNI  197246495833097.030001   060213613769    VN0011169   \n",
       "1641312     VNI  197247335648111.000001   060213613769    VN0011169   \n",
       "1641313     VNI  197827596539369.000001   070099966988    VN0012452   \n",
       "1641314     VNI  197839397849575.000001   070099966988    VN0012452   \n",
       "\n",
       "           AMT_LCY TRANSACTION_CODE THEIR_REFERENCE  \\\n",
       "0        5500000.0              213            None   \n",
       "1        -150000.0              213            None   \n",
       "2        1000000.0              213            None   \n",
       "3        -100000.0              213            None   \n",
       "4        9000000.0              213            None   \n",
       "...            ...              ...             ...   \n",
       "1641310   -50000.0              213            None   \n",
       "1641311   -50000.0              213            None   \n",
       "1641312 -2000000.0              213            None   \n",
       "1641313  3900000.0              213            None   \n",
       "1641314  -200000.0              213            None   \n",
       "\n",
       "                                                 NARRATIVE PL_CATEGORY  \\\n",
       "0        MBVCB.2403496542.316329.khanh chuyen tien.CT t...        None   \n",
       "1        MM2302535688 CASH IN-0913035998-30594165025   ...        None   \n",
       "2        PHAM THI NGOC ANH chuyen tien CKN 308479 - PHA...        None   \n",
       "3        MM2243366064 CASH IN-01634978882-28299149146  ...        None   \n",
       "4        MBVCB.2633328432.068667.DINH THI MINH THU chuy...        None   \n",
       "...                                                    ...         ...   \n",
       "1641310  MM1365788647 CASH IN-0931850606-19461413582   ...        None   \n",
       "1641311  MM1365794615 CASH IN-0931850606-19462800725   ...        None   \n",
       "1641312  EWX151040284 IBFT Ngkhoa ck tien COD          ...        None   \n",
       "1641313  NGUYEN MINH PHUC NGUYEN MINH PHUC chuyen tien ...        None   \n",
       "1641314  EWX177568759 2671238463 VITT 0939822145       ...        None   \n",
       "\n",
       "         CUSTOMER_ID  ... CURR_NO    INPUTTER   DATE_TIME  AUTHORISER  \\\n",
       "0           10255531  ...       5  10_DAVID.1  0901141547  10_DAVID.1   \n",
       "1           16126482  ...       5  10_DAVID.1  0901141547  10_DAVID.1   \n",
       "2           14555128  ...       5  10_DAVID.1  0901141547  10_DAVID.1   \n",
       "3           14555128  ...       5  10_DAVID.1  0901141547  10_DAVID.1   \n",
       "4           14252404  ...       5  10_DAVID.1  0901141547  10_DAVID.1   \n",
       "...              ...  ...     ...         ...         ...         ...   \n",
       "1641310     12996591  ...       5  10_DAVID.1  0901141547  10_DAVID.1   \n",
       "1641311     12996591  ...       5  10_DAVID.1  0901141547  10_DAVID.1   \n",
       "1641312     12996591  ...       5  10_DAVID.1  0901141547  10_DAVID.1   \n",
       "1641313     12840196  ...       5  10_DAVID.1  0901141547  10_DAVID.1   \n",
       "1641314     12840196  ...       5  10_DAVID.1  0901141547  10_DAVID.1   \n",
       "\n",
       "           CO_CODE DEPT_CODE AUDITOR_CODE AUDIT_DATE_TIME  EOR PROCESS_DATE  \n",
       "0        GB0010001         1         None            None  EOR   2022-12-04  \n",
       "1        GB0010001         1         None            None  EOR   2022-12-04  \n",
       "2        GB0010001         1         None            None  EOR   2022-12-04  \n",
       "3        GB0010001         1         None            None  EOR   2022-12-04  \n",
       "4        GB0010001         1         None            None  EOR   2022-12-04  \n",
       "...            ...       ...          ...             ...  ...          ...  \n",
       "1641310  GB0010001         1         None            None  EOR   2022-12-04  \n",
       "1641311  GB0010001         1         None            None  EOR   2022-12-04  \n",
       "1641312  GB0010001         1         None            None  EOR   2022-12-04  \n",
       "1641313  GB0010001         1         None            None  EOR   2022-12-04  \n",
       "1641314  GB0010001         1         None            None  EOR   2022-12-04  \n",
       "\n",
       "[1641315 rows x 86 columns]"
      ]
     },
     "execution_count": 20,
     "metadata": {},
     "output_type": "execute_result"
    }
   ],
   "source": [
    "df"
   ]
  },
  {
   "cell_type": "code",
   "execution_count": 21,
   "id": "5bf2ca50-3f3f-48d7-a1e5-33ffb159c5f6",
   "metadata": {
    "tags": []
   },
   "outputs": [
    {
     "ename": "AttributeError",
     "evalue": "'DataFrame' object has no attribute 'dtype'",
     "output_type": "error",
     "traceback": [
      "\u001b[0;31m---------------------------------------------------------------------------\u001b[0m",
      "\u001b[0;31mAttributeError\u001b[0m                            Traceback (most recent call last)",
      "Cell \u001b[0;32mIn[21], line 1\u001b[0m\n\u001b[0;32m----> 1\u001b[0m data_stats \u001b[38;5;241m=\u001b[39m \u001b[43mgen_info_stats\u001b[49m\u001b[43m(\u001b[49m\u001b[43mdf\u001b[49m\u001b[43m)\u001b[49m\n\u001b[1;32m      2\u001b[0m data_stats\n",
      "Cell \u001b[0;32mIn[17], line 13\u001b[0m, in \u001b[0;36mgen_info_stats\u001b[0;34m(df)\u001b[0m\n\u001b[1;32m     11\u001b[0m data_stats \u001b[38;5;241m=\u001b[39m []\n\u001b[1;32m     12\u001b[0m \u001b[38;5;28;01mfor\u001b[39;00m c \u001b[38;5;129;01min\u001b[39;00m df\u001b[38;5;241m.\u001b[39mcolumns:\n\u001b[0;32m---> 13\u001b[0m     data_stats\u001b[38;5;241m.\u001b[39mappend(\u001b[43minfo_stats\u001b[49m\u001b[43m(\u001b[49m\u001b[43mc\u001b[49m\u001b[43m)\u001b[49m)\n\u001b[1;32m     14\u001b[0m data_stats \u001b[38;5;241m=\u001b[39m pd\u001b[38;5;241m.\u001b[39mDataFrame(data\u001b[38;5;241m=\u001b[39mdata_stats,columns\u001b[38;5;241m=\u001b[39m[\u001b[38;5;124m'\u001b[39m\u001b[38;5;124mColumn\u001b[39m\u001b[38;5;124m'\u001b[39m, \u001b[38;5;124m'\u001b[39m\u001b[38;5;124mNull Pct\u001b[39m\u001b[38;5;124m'\u001b[39m, \u001b[38;5;124m'\u001b[39m\u001b[38;5;124mDtype\u001b[39m\u001b[38;5;124m'\u001b[39m, \u001b[38;5;124m'\u001b[39m\u001b[38;5;124mNunique\u001b[39m\u001b[38;5;124m'\u001b[39m, \u001b[38;5;124m'\u001b[39m\u001b[38;5;124mNunique Pct\u001b[39m\u001b[38;5;124m'\u001b[39m, \u001b[38;5;124m'\u001b[39m\u001b[38;5;124mSample Unique Value\u001b[39m\u001b[38;5;124m'\u001b[39m])\n\u001b[1;32m     15\u001b[0m \u001b[38;5;28;01mreturn\u001b[39;00m data_stats\n",
      "Cell \u001b[0;32mIn[17], line 3\u001b[0m, in \u001b[0;36mgen_info_stats.<locals>.info_stats\u001b[0;34m(c)\u001b[0m\n\u001b[1;32m      2\u001b[0m \u001b[38;5;28;01mdef\u001b[39;00m \u001b[38;5;21minfo_stats\u001b[39m(c):\n\u001b[0;32m----> 3\u001b[0m     dtype \u001b[38;5;241m=\u001b[39m \u001b[43mdf\u001b[49m\u001b[43m[\u001b[49m\u001b[43mc\u001b[49m\u001b[43m]\u001b[49m\u001b[38;5;241;43m.\u001b[39;49m\u001b[43mdtype\u001b[49m\n\u001b[1;32m      4\u001b[0m     n \u001b[38;5;241m=\u001b[39m \u001b[38;5;28mlen\u001b[39m(df)\n\u001b[1;32m      5\u001b[0m     null_pct \u001b[38;5;241m=\u001b[39m (n \u001b[38;5;241m-\u001b[39m df[c]\u001b[38;5;241m.\u001b[39mcount()) \u001b[38;5;241m/\u001b[39m n\n",
      "File \u001b[0;32m/opt/bitnami/miniconda/lib/python3.8/site-packages/pandas/core/generic.py:5902\u001b[0m, in \u001b[0;36mNDFrame.__getattr__\u001b[0;34m(self, name)\u001b[0m\n\u001b[1;32m   5895\u001b[0m \u001b[38;5;28;01mif\u001b[39;00m (\n\u001b[1;32m   5896\u001b[0m     name \u001b[38;5;129;01mnot\u001b[39;00m \u001b[38;5;129;01min\u001b[39;00m \u001b[38;5;28mself\u001b[39m\u001b[38;5;241m.\u001b[39m_internal_names_set\n\u001b[1;32m   5897\u001b[0m     \u001b[38;5;129;01mand\u001b[39;00m name \u001b[38;5;129;01mnot\u001b[39;00m \u001b[38;5;129;01min\u001b[39;00m \u001b[38;5;28mself\u001b[39m\u001b[38;5;241m.\u001b[39m_metadata\n\u001b[1;32m   5898\u001b[0m     \u001b[38;5;129;01mand\u001b[39;00m name \u001b[38;5;129;01mnot\u001b[39;00m \u001b[38;5;129;01min\u001b[39;00m \u001b[38;5;28mself\u001b[39m\u001b[38;5;241m.\u001b[39m_accessors\n\u001b[1;32m   5899\u001b[0m     \u001b[38;5;129;01mand\u001b[39;00m \u001b[38;5;28mself\u001b[39m\u001b[38;5;241m.\u001b[39m_info_axis\u001b[38;5;241m.\u001b[39m_can_hold_identifiers_and_holds_name(name)\n\u001b[1;32m   5900\u001b[0m ):\n\u001b[1;32m   5901\u001b[0m     \u001b[38;5;28;01mreturn\u001b[39;00m \u001b[38;5;28mself\u001b[39m[name]\n\u001b[0;32m-> 5902\u001b[0m \u001b[38;5;28;01mreturn\u001b[39;00m \u001b[38;5;28;43mobject\u001b[39;49m\u001b[38;5;241;43m.\u001b[39;49m\u001b[38;5;21;43m__getattribute__\u001b[39;49m\u001b[43m(\u001b[49m\u001b[38;5;28;43mself\u001b[39;49m\u001b[43m,\u001b[49m\u001b[43m \u001b[49m\u001b[43mname\u001b[49m\u001b[43m)\u001b[49m\n",
      "\u001b[0;31mAttributeError\u001b[0m: 'DataFrame' object has no attribute 'dtype'"
     ]
    }
   ],
   "source": [
    "data_stats = gen_info_stats(df)\n",
    "data_stats"
   ]
  },
  {
   "cell_type": "code",
   "execution_count": null,
   "id": "e304ba95-6c6f-4270-9674-e61b13907f4c",
   "metadata": {
    "tags": []
   },
   "outputs": [],
   "source": [
    "df.describe()"
   ]
  },
  {
   "cell_type": "markdown",
   "id": "c567a62a-5609-4126-81c8-351602cce3c7",
   "metadata": {},
   "source": [
    "## EDA"
   ]
  },
  {
   "cell_type": "markdown",
   "id": "575703f6-2e8c-48d4-8f57-4cf2e60b8df9",
   "metadata": {},
   "source": [
    "Selected some col data to EDA, possible these col are good to go, (can be customized):\n",
    "- Category data:\n",
    "    - Unique Pct <= x (too many leading data can be identified easily)\n",
    "    - Nunique > 1 (=1 doesn't mean anything)\n",
    "- Numerical data: good to select all"
   ]
  },
  {
   "cell_type": "code",
   "execution_count": null,
   "id": "b64045ce-93d6-4bb3-8567-f6c6182c2a2f",
   "metadata": {
    "tags": []
   },
   "outputs": [],
   "source": [
    "valid_info = None \n",
    "try: \n",
    "    valid_info = data_stats[((data_stats['Nunique Pct'] <= 0.3) & (data_stats['Nunique']>1) & (data_stats['Dtype']==object)) | ((data_stats['Dtype']!=object) & (data_stats['Nunique']>1))]\n",
    "    valid_info = valid_info[~valid_info['Column'].isin([\n",
    "        'CARD_KEY', 'CUSTOMER_CDE', 'CUSTOMER_KEY', 'SUB_BRANCH_KEY', 'SUB_BRANCH_CDE', 'COMPANY_KEY',\n",
    "        'DAO_KEY', 'DAO_CDE', 'CREATE_DT', 'UPDATE_DT', 'NHAP_USERID', 'DUYET_USERID', 'NHANTHAMDINH_USERID',\n",
    "        'RECOMMENDER_NO', 'RECOMMENDER_NAME', 'CARDHOLDER_NO', 'CRD_BASIC_CDE', 'NEW_CARDCODE', 'ID_NO', 'INDIVIDUAL_ACCT_ID',\n",
    "        'TXN_ID', 'DAY_KEY', 'USER_KEY', 'USER_CDE', 'CORP_ID', 'ACCT_ID_FROM', 'SUB_BRANCH_KEY_FROM', 'SUB_BRANCH_CDE_FROM',\n",
    "        'SUB_BRANCH_CDE_TO', 'SUB_BRANCH_KEY_TO', 'ACCT_ID_FROM', 'ACCT_NICKNAME_FROM', 'CONSUMER_CDE', \n",
    "        'PARENT_ID', 'USER_ID', 'USER_NAME', 'USER_DO', 'PRODUCT_ID', 'FROM_ACCT_ID', 'TO_ACCT_FULLNAME', \n",
    "        'PAYMENT_REF_NO', 'CARD_NO', \n",
    "    ])]\n",
    "    \n",
    "    display(valid_info.head(50))\n",
    "except Exception as e:\n",
    "    pass"
   ]
  },
  {
   "cell_type": "code",
   "execution_count": null,
   "id": "d2d35454-38fd-4831-b056-67983306026b",
   "metadata": {
    "tags": []
   },
   "outputs": [],
   "source": [
    "for i, r in valid_info.iterrows():\n",
    "    if r['Dtype'] == object:\n",
    "        aly_cat_col(df, [r['Column']])\n",
    "    elif r['Dtype'] == 'datetime64[ns]':\n",
    "        aly_datetime(df, r['Column'], 'CUSTOMER_CDE')\n",
    "    else:\n",
    "        plot_multi_hist_aly(df, [r['Column']])\n",
    "    print('\\n\\n\\n')"
   ]
  },
  {
   "cell_type": "code",
   "execution_count": null,
   "id": "eebf6c4f-fbf9-413e-bd76-0f91c9338bd9",
   "metadata": {
    "tags": []
   },
   "outputs": [],
   "source": [
    "df.columns, len(df.columns)"
   ]
  },
  {
   "cell_type": "code",
   "execution_count": null,
   "id": "14714d43-1742-4583-addc-5372ec5d7aa8",
   "metadata": {
    "tags": []
   },
   "outputs": [],
   "source": [
    "valid_info.set_index('Column').index, len(valid_info['Column'].index)"
   ]
  },
  {
   "cell_type": "code",
   "execution_count": null,
   "id": "171c11d2-4bb4-443d-adca-6197ce1a553e",
   "metadata": {
    "tags": []
   },
   "outputs": [],
   "source": [
    "df.columns"
   ]
  },
  {
   "cell_type": "markdown",
   "id": "a19e3e3f-5de5-4b9d-9243-cdad7bb60c0c",
   "metadata": {},
   "source": [
    "## COMPARE SAMPLES - SUB1/2/3"
   ]
  },
  {
   "cell_type": "raw",
   "id": "58e9d07b-c07b-4f9e-83d1-f2436882b141",
   "metadata": {
    "tags": []
   },
   "source": [
    "subsamples = sorted(os.listdir(NAMESPACE.IMG_FP))\n",
    "subsamples[:3]"
   ]
  },
  {
   "cell_type": "raw",
   "id": "3763f48a-033c-4627-be86-39532266ff46",
   "metadata": {
    "tags": []
   },
   "source": [
    "all_img_names = []\n",
    "for sub in subsamples:\n",
    "    sub_fp = os.path.join(NAMESPACE.IMG_FP, sub)\n",
    "    img_names = os.listdir(sub_fp)\n",
    "    img_names = [i for i in img_names if i.endswith('jpg')]\n",
    "    all_img_names.extend(img_names)\n",
    "all_img_names = list(set(all_img_names))\n",
    "all_img_names[:3]"
   ]
  },
  {
   "cell_type": "raw",
   "id": "22b6c7c8-8cf3-456d-bdbc-64651485e82f",
   "metadata": {
    "tags": []
   },
   "source": [
    "for img_nm in img_names[:]:\n",
    "    display(img_nm)\n",
    "    fig, axes = plt.subplots(len(subsamples),1,figsize=(15,15))\n",
    "    for i, sub in enumerate(subsamples):\n",
    "        img_fp = os.path.join(NAMESPACE.IMG_FP, sub, img_nm)\n",
    "        img = mpimg.imread(img_fp)\n",
    "        axes[i].imshow(img)\n",
    "    plt.show()"
   ]
  },
  {
   "cell_type": "raw",
   "id": "e97103a0-66e3-4192-bec5-32124257cb7d",
   "metadata": {},
   "source": []
  }
 ],
 "metadata": {
  "kernelspec": {
   "display_name": "Python 3 (ipykernel)",
   "language": "python",
   "name": "python3"
  },
  "language_info": {
   "codemirror_mode": {
    "name": "ipython",
    "version": 3
   },
   "file_extension": ".py",
   "mimetype": "text/x-python",
   "name": "python",
   "nbconvert_exporter": "python",
   "pygments_lexer": "ipython3",
   "version": "3.9.17"
  },
  "toc-autonumbering": false,
  "toc-showcode": false,
  "toc-showmarkdowntxt": false
 },
 "nbformat": 4,
 "nbformat_minor": 5
}
