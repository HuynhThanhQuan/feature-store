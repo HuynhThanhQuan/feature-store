{
 "cells": [
  {
   "cell_type": "code",
   "execution_count": 1,
   "id": "38371e35-4061-45db-9e2e-cca86c5fefb5",
   "metadata": {
    "tags": []
   },
   "outputs": [
    {
     "name": "stdout",
     "output_type": "stream",
     "text": [
      "['Solarize_Light2', '_classic_test_patch', '_mpl-gallery', '_mpl-gallery-nogrid', 'bmh', 'classic', 'dark_background', 'fast', 'fivethirtyeight', 'ggplot', 'grayscale', 'seaborn-v0_8', 'seaborn-v0_8-bright', 'seaborn-v0_8-colorblind', 'seaborn-v0_8-dark', 'seaborn-v0_8-dark-palette', 'seaborn-v0_8-darkgrid', 'seaborn-v0_8-deep', 'seaborn-v0_8-muted', 'seaborn-v0_8-notebook', 'seaborn-v0_8-paper', 'seaborn-v0_8-pastel', 'seaborn-v0_8-poster', 'seaborn-v0_8-talk', 'seaborn-v0_8-ticks', 'seaborn-v0_8-white', 'seaborn-v0_8-whitegrid', 'tableau-colorblind10']\n",
      "Add path ../../..\n",
      "Connected DB - conn\n",
      "Connected oraDW_ANALYTICS - conn_aly\n"
     ]
    }
   ],
   "source": [
    "from util import *"
   ]
  },
  {
   "cell_type": "code",
   "execution_count": 2,
   "id": "cd3b7480-1eca-40cb-badd-ea5a4a8cd27c",
   "metadata": {
    "tags": []
   },
   "outputs": [],
   "source": [
    "import os\n",
    "import numpy as np"
   ]
  },
  {
   "cell_type": "code",
   "execution_count": 3,
   "id": "180fc8ac-84ff-4dfc-9d59-9fb9c12674b5",
   "metadata": {
    "tags": []
   },
   "outputs": [],
   "source": [
    "import matplotlib.image as mpimg"
   ]
  },
  {
   "cell_type": "code",
   "execution_count": 4,
   "id": "02916c64-98a7-4261-a5f2-d4ddea8b9623",
   "metadata": {
    "tags": []
   },
   "outputs": [],
   "source": [
    "from IPython.display import HTML"
   ]
  },
  {
   "cell_type": "markdown",
   "id": "dd7f1f14-25b7-4787-b378-e2d90faed4a9",
   "metadata": {},
   "source": [
    "# NAMESPACE"
   ]
  },
  {
   "cell_type": "code",
   "execution_count": 5,
   "id": "3bfd18cb-c9f2-48a0-9478-bd22c3d1e219",
   "metadata": {
    "tags": []
   },
   "outputs": [],
   "source": [
    "class NAMESPACE:\n",
    "    # Base values\n",
    "    TABLE_NAME = 'DW_CARD_TRANSACTION_FCT'\n",
    "    SEL_SAMPLE = 'SAMPLE1_SUB3'\n",
    "    \n",
    "    # Important to look\n",
    "    QUERY = f\"\"\"SELECT X.CUSTOMER_CDE, X.AMT_TXN_LCL, X.PROCESS_DT FROM DW_ANALYTICS.{TABLE_NAME} X JOIN CINS_TMP_ALY_CUST_{SEL_SAMPLE} SAM ON X.CUSTOMER_CDE = SAM.CUSTOMER_CDE\"\"\"\n",
    "    \n",
    "    # Derived values\n",
    "    data_fp = f'./data/{TABLE_NAME}'\n",
    "    data_sample_nm = os.path.join(data_fp, SEL_SAMPLE)\n",
    "    IMG_FP = f'./img/{TABLE_NAME}'\n",
    "    img = f'./img/{TABLE_NAME}/{SEL_SAMPLE}'\n",
    "    \n",
    "    def show():\n",
    "        atts = dir(NAMESPACE)\n",
    "        for a in atts:\n",
    "            if not a.startswith('__'):\n",
    "                print(a)\n",
    "    \n",
    "    @classmethod\n",
    "    def init(cls):\n",
    "        if not os.path.exists(NAMESPACE.data_fp):\n",
    "            os.makedirs(NAMESPACE.data_fp)\n",
    "        if not os.path.exists(NAMESPACE.img):\n",
    "            os.makedirs(NAMESPACE.img)"
   ]
  },
  {
   "cell_type": "code",
   "execution_count": 6,
   "id": "e48f3567-5d00-4460-be90-78273f614712",
   "metadata": {
    "tags": []
   },
   "outputs": [
    {
     "data": {
      "text/plain": [
       "'SELECT X.CUSTOMER_CDE, X.AMT_TXN_LCL, X.PROCESS_DT FROM DW_ANALYTICS.DW_CARD_TRANSACTION_FCT X JOIN CINS_TMP_ALY_CUST_SAMPLE1_SUB3 SAM ON X.CUSTOMER_CDE = SAM.CUSTOMER_CDE'"
      ]
     },
     "execution_count": 6,
     "metadata": {},
     "output_type": "execute_result"
    }
   ],
   "source": [
    "NAMESPACE.QUERY"
   ]
  },
  {
   "cell_type": "code",
   "execution_count": 7,
   "id": "f4b27ee4-7078-4be8-8504-78c1d299f42f",
   "metadata": {
    "tags": []
   },
   "outputs": [],
   "source": [
    "NAMESPACE.init()"
   ]
  },
  {
   "cell_type": "code",
   "execution_count": 8,
   "id": "09066e6c-9fc1-4461-b400-e2827e7017a1",
   "metadata": {
    "tags": []
   },
   "outputs": [
    {
     "name": "stdout",
     "output_type": "stream",
     "text": [
      "IMG_FP\n",
      "QUERY\n",
      "SEL_SAMPLE\n",
      "TABLE_NAME\n",
      "data_fp\n",
      "data_sample_nm\n",
      "img\n",
      "init\n",
      "show\n"
     ]
    }
   ],
   "source": [
    "NAMESPACE.show()"
   ]
  },
  {
   "cell_type": "code",
   "execution_count": 9,
   "id": "7e3206f1-fefa-45a2-a759-caedd19b991b",
   "metadata": {
    "tags": []
   },
   "outputs": [],
   "source": [
    "stat_opt = [\n",
    "            'count',\n",
    "            'mean',\n",
    "            'median',\n",
    "            'min',\n",
    "            'max',\n",
    "            'std',\n",
    "]\n",
    "ordered_stat_opt = [[i, i + '_pct_chg'] for i in stat_opt]\n",
    "ordered_stat_opt = [j for i in ordered_stat_opt for j in i]"
   ]
  },
  {
   "cell_type": "markdown",
   "id": "82465900-3e10-43df-9142-aecc327e1d78",
   "metadata": {},
   "source": [
    "# Functions"
   ]
  },
  {
   "cell_type": "code",
   "execution_count": 10,
   "id": "9c8481d2-a168-4f43-8ba2-9f9555ed21b6",
   "metadata": {
    "tags": []
   },
   "outputs": [],
   "source": [
    "def aly_datetime(df, date_col, cde_col, resample='1Y', outlier_date='1930-01-01', timedelta='365 days',lvl=3):\n",
    "    display(HTML(f'<h{lvl}>{date_col}</h{lvl}>'))\n",
    "    if cde_col is None:\n",
    "        tmp_df = df[date_col].copy()\n",
    "        tmp_df[date_col] = pd.to_datetime(tmp_df[date_col], errors='coerce')\n",
    "        tmp_df[date_col] = df[date_col].astype('datetime64[D]')\n",
    "        tmp = tmp_df[tmp_df[date_col] > outlier_date]\n",
    "        plot_df = tmp.set_index(date_col).resample(resample).nunique()\n",
    "    else:\n",
    "        tmp_df = df[[date_col, cde_col]].copy()\n",
    "        tmp_df[date_col] = pd.to_datetime(tmp_df[date_col], errors='coerce')\n",
    "        tmp_df[date_col] = df[date_col].astype('datetime64[D]')\n",
    "        tmp = tmp_df[tmp_df[date_col] > outlier_date]\n",
    "        plot_df = tmp.set_index(date_col)[cde_col].resample(resample).nunique()\n",
    "    \n",
    "    fig, axs = plt.subplots(1,2, figsize=(15, 5))\n",
    "    plot_df.plot(kind='bar', rot=70, ax=axs[0])\n",
    "    up2now = ((datetime(2023,11,1) - tmp[date_col]) / pd.Timedelta(timedelta)).apply(float)\n",
    "    sns.histplot(up2now, kde=True, ax=axs[1])"
   ]
  },
  {
   "cell_type": "code",
   "execution_count": 11,
   "id": "c8dc0b07-ab4a-4060-abae-ea8a29a40a08",
   "metadata": {
    "tags": []
   },
   "outputs": [],
   "source": [
    "def default_func(x):\n",
    "    return x"
   ]
  },
  {
   "cell_type": "code",
   "execution_count": 12,
   "id": "9e6fa987-f473-4df9-9e62-05fd08a842a5",
   "metadata": {
    "tags": []
   },
   "outputs": [],
   "source": [
    "def remove_mode_value(x):\n",
    "    return x[~x.isin(x.mode().values)]"
   ]
  },
  {
   "cell_type": "code",
   "execution_count": 13,
   "id": "407d733b-0ebc-467c-bab4-6f9ab5bf844c",
   "metadata": {
    "tags": []
   },
   "outputs": [],
   "source": [
    "def logx(x):\n",
    "    return np.log(x)"
   ]
  },
  {
   "cell_type": "code",
   "execution_count": 14,
   "id": "f8666e61-edcf-4b34-9676-3ae246e4973e",
   "metadata": {
    "tags": []
   },
   "outputs": [],
   "source": [
    "def plot_multi_hist_aly(df,cols=[],funcs=[default_func, remove_mode_value, logx], lvl=3):\n",
    "    def df_stat_after_transformed(df_trans):\n",
    "        def pct_change(series):\n",
    "            first_e = series.iloc[0]\n",
    "            pct_chg = (series - first_e) / first_e * 100\n",
    "            pct_chg.iloc[0] = 100.\n",
    "            return pct_chg\n",
    "        stat_infos = []\n",
    "        for data_trans_series in df_trans:\n",
    "            # Get stats info\n",
    "            stat_info = []\n",
    "            for s in stat_opt:\n",
    "                if s == 'count':\n",
    "                    stat_info.append(data_trans_series.count())\n",
    "                elif s == 'mean':\n",
    "                    stat_info.append(data_trans_series.mean())\n",
    "                elif s == 'median':\n",
    "                    stat_info.append(data_trans_series.median())\n",
    "                elif s == 'min':\n",
    "                    stat_info.append(data_trans_series.min())\n",
    "                elif s == 'max':\n",
    "                    stat_info.append(data_trans_series.max())\n",
    "                elif s == 'std':\n",
    "                    stat_info.append(data_trans_series.std())\n",
    "            stat_infos.append(stat_info)\n",
    "        col_stat = stat_opt\n",
    "        index_stat = [f.__name__ for f in funcs]\n",
    "        stat_df = pd.DataFrame(data=stat_infos, columns=col_stat, index=index_stat)\n",
    "        for c in stat_df.columns:\n",
    "            stat_df[f'{c}_pct_chg'] = pct_change(stat_df[c])\n",
    "        stat_df = stat_df[ordered_stat_opt]\n",
    "        result_df = stat_df.T\n",
    "        return result_df\n",
    "    \n",
    "    nrows, ncols = len(cols), len(funcs)\n",
    "    for i, c in enumerate(cols):\n",
    "        display(HTML(f'<h{lvl}>{c}</h{lvl}>'))\n",
    "        if c in df.columns:\n",
    "            data_trans = []\n",
    "            for f in funcs:\n",
    "                pre_data_tran = data_trans[-1] if len(data_trans) > 0 else df[c]\n",
    "                trans_data = f(pre_data_tran)\n",
    "                data_trans.append(trans_data)\n",
    "            # plot section \n",
    "            fig, axs = plt.subplots(1,ncols, figsize=(4* ncols, 4 ))\n",
    "            for j, d in enumerate(data_trans):\n",
    "                sel_ax = axs[j]\n",
    "                sel_ax.set_title(f'{cols[i]}\\n{funcs[j].__name__}')\n",
    "                d.replace([np.inf, -np.inf], np.nan).plot(kind='hist',bins=100,ax=sel_ax)\n",
    "            pd.options.display.float_format = '{:.3f}'.format\n",
    "            display(df_stat_after_transformed(data_trans))\n",
    "            plt.tight_layout()\n",
    "            plt.savefig(os.path.join(NAMESPACE.img, f'{c}.jpg'), dpi=500)\n",
    "            plt.show()\n",
    "            print('\\n\\n\\n')"
   ]
  },
  {
   "cell_type": "code",
   "execution_count": 15,
   "id": "97c75bff-a364-4f65-8217-27181be6b3da",
   "metadata": {
    "tags": []
   },
   "outputs": [],
   "source": [
    "def aly_cat_col(df,cat_cols,k=10, lvl=3):\n",
    "    for cat_col in cat_cols: \n",
    "        display(HTML(f'<h{lvl}>{cat_col}</h{lvl}>'))\n",
    "        fig,axs=plt.subplots(1,2,figsize=(10,5))\n",
    "        display(df[cat_col].value_counts())\n",
    "        df[cat_col].value_counts()[:k].plot(kind='bar', rot=80,ax=axs[0])\n",
    "        df[cat_col].value_counts()[:k].plot(kind='pie', autopct='%.2f%%',ax=axs[1])\n",
    "        plt.savefig(os.path.join(NAMESPACE.img, f'{cat_col}.jpg'), dpi=500)\n",
    "        plt.show()"
   ]
  },
  {
   "cell_type": "code",
   "execution_count": 16,
   "id": "b5a4ad68-a316-4ac4-863f-7eff6ab3e6e6",
   "metadata": {
    "tags": []
   },
   "outputs": [],
   "source": [
    "def download_or_reload(saved_file):\n",
    "    if not os.path.exists(saved_file):\n",
    "        query = NAMESPACE.QUERY\n",
    "        cur.execute(query)\n",
    "        result = cur.fetchall()\n",
    "        column_names = [c[0] for c in cur.description]\n",
    "        df = pd.DataFrame(result, columns=column_names)\n",
    "        df.to_pickle(saved_file)\n",
    "    df = pd.read_pickle(saved_file)\n",
    "    print(f'Len {len(df)}')\n",
    "    return df"
   ]
  },
  {
   "cell_type": "code",
   "execution_count": 17,
   "id": "bd0ab53c-964f-46a2-816b-de60cb1aef97",
   "metadata": {
    "tags": []
   },
   "outputs": [],
   "source": [
    "def gen_info_stats(df):\n",
    "    def info_stats(c):\n",
    "        dtype = df[c].dtype\n",
    "        n = len(df)\n",
    "        null_pct = (n - df[c].count()) / n\n",
    "        nunique = df[c].nunique()\n",
    "        nunique_pct = nunique / n\n",
    "        unique_values = df[c].unique()[:3]\n",
    "        return c, null_pct, dtype, nunique, nunique_pct, unique_values\n",
    "\n",
    "    data_stats = []\n",
    "    for c in df.columns:\n",
    "        data_stats.append(info_stats(c))\n",
    "    data_stats = pd.DataFrame(data=data_stats,columns=['Column', 'Null Pct', 'Dtype', 'Nunique', 'Nunique Pct', 'Sample Unique Value'])\n",
    "    return data_stats"
   ]
  },
  {
   "cell_type": "markdown",
   "id": "e763f283-0954-4025-861f-2a1d41f8006d",
   "metadata": {},
   "source": [
    "# Sample1-Sub*"
   ]
  },
  {
   "cell_type": "code",
   "execution_count": 18,
   "id": "fa7beaf8-631d-4737-ae21-83b032630489",
   "metadata": {},
   "outputs": [
    {
     "data": {
      "text/plain": [
       "'SELECT X.CUSTOMER_CDE, X.AMT_TXN_LCL, X.PROCESS_DT FROM DW_ANALYTICS.DW_CARD_TRANSACTION_FCT X JOIN CINS_TMP_ALY_CUST_SAMPLE1_SUB3 SAM ON X.CUSTOMER_CDE = SAM.CUSTOMER_CDE'"
      ]
     },
     "execution_count": 18,
     "metadata": {},
     "output_type": "execute_result"
    }
   ],
   "source": [
    "NAMESPACE.QUERY"
   ]
  },
  {
   "cell_type": "code",
   "execution_count": 19,
   "id": "794d13f2-427f-4a10-8e62-5318bc6d3536",
   "metadata": {
    "tags": []
   },
   "outputs": [
    {
     "name": "stdout",
     "output_type": "stream",
     "text": [
      "Len 22097143\n"
     ]
    }
   ],
   "source": [
    "df = download_or_reload(NAMESPACE.data_sample_nm)"
   ]
  },
  {
   "cell_type": "code",
   "execution_count": 20,
   "id": "9f0b4e99-817b-4465-a9eb-3d664753adb0",
   "metadata": {
    "tags": []
   },
   "outputs": [
    {
     "data": {
      "text/html": [
       "<div>\n",
       "<style scoped>\n",
       "    .dataframe tbody tr th:only-of-type {\n",
       "        vertical-align: middle;\n",
       "    }\n",
       "\n",
       "    .dataframe tbody tr th {\n",
       "        vertical-align: top;\n",
       "    }\n",
       "\n",
       "    .dataframe thead th {\n",
       "        text-align: right;\n",
       "    }\n",
       "</style>\n",
       "<table border=\"1\" class=\"dataframe\">\n",
       "  <thead>\n",
       "    <tr style=\"text-align: right;\">\n",
       "      <th></th>\n",
       "      <th>CUSTOMER_CDE</th>\n",
       "      <th>AMT_TXN_LCL</th>\n",
       "      <th>PROCESS_DT</th>\n",
       "    </tr>\n",
       "  </thead>\n",
       "  <tbody>\n",
       "    <tr>\n",
       "      <th>0</th>\n",
       "      <td>840862</td>\n",
       "      <td>474100.00</td>\n",
       "      <td>2021-01-12</td>\n",
       "    </tr>\n",
       "    <tr>\n",
       "      <th>1</th>\n",
       "      <td>12736241</td>\n",
       "      <td>1940000.00</td>\n",
       "      <td>2021-01-12</td>\n",
       "    </tr>\n",
       "    <tr>\n",
       "      <th>2</th>\n",
       "      <td>126494</td>\n",
       "      <td>49000.00</td>\n",
       "      <td>2021-01-12</td>\n",
       "    </tr>\n",
       "    <tr>\n",
       "      <th>3</th>\n",
       "      <td>8684432</td>\n",
       "      <td>246430.32</td>\n",
       "      <td>2021-01-12</td>\n",
       "    </tr>\n",
       "    <tr>\n",
       "      <th>4</th>\n",
       "      <td>8048983</td>\n",
       "      <td>10000000.00</td>\n",
       "      <td>2021-01-12</td>\n",
       "    </tr>\n",
       "    <tr>\n",
       "      <th>...</th>\n",
       "      <td>...</td>\n",
       "      <td>...</td>\n",
       "      <td>...</td>\n",
       "    </tr>\n",
       "    <tr>\n",
       "      <th>22097138</th>\n",
       "      <td>14400707</td>\n",
       "      <td>0.00</td>\n",
       "      <td>2024-01-14</td>\n",
       "    </tr>\n",
       "    <tr>\n",
       "      <th>22097139</th>\n",
       "      <td>14408539</td>\n",
       "      <td>0.00</td>\n",
       "      <td>2024-01-14</td>\n",
       "    </tr>\n",
       "    <tr>\n",
       "      <th>22097140</th>\n",
       "      <td>14403284</td>\n",
       "      <td>0.00</td>\n",
       "      <td>2024-01-14</td>\n",
       "    </tr>\n",
       "    <tr>\n",
       "      <th>22097141</th>\n",
       "      <td>14407363</td>\n",
       "      <td>0.00</td>\n",
       "      <td>2024-01-14</td>\n",
       "    </tr>\n",
       "    <tr>\n",
       "      <th>22097142</th>\n",
       "      <td>13565216</td>\n",
       "      <td>102000.00</td>\n",
       "      <td>2024-01-11</td>\n",
       "    </tr>\n",
       "  </tbody>\n",
       "</table>\n",
       "<p>22097143 rows × 3 columns</p>\n",
       "</div>"
      ],
      "text/plain": [
       "         CUSTOMER_CDE  AMT_TXN_LCL PROCESS_DT\n",
       "0              840862    474100.00 2021-01-12\n",
       "1            12736241   1940000.00 2021-01-12\n",
       "2              126494     49000.00 2021-01-12\n",
       "3             8684432    246430.32 2021-01-12\n",
       "4             8048983  10000000.00 2021-01-12\n",
       "...               ...          ...        ...\n",
       "22097138     14400707         0.00 2024-01-14\n",
       "22097139     14408539         0.00 2024-01-14\n",
       "22097140     14403284         0.00 2024-01-14\n",
       "22097141     14407363         0.00 2024-01-14\n",
       "22097142     13565216    102000.00 2024-01-11\n",
       "\n",
       "[22097143 rows x 3 columns]"
      ]
     },
     "execution_count": 20,
     "metadata": {},
     "output_type": "execute_result"
    }
   ],
   "source": [
    "df"
   ]
  },
  {
   "cell_type": "code",
   "execution_count": 21,
   "id": "5bf2ca50-3f3f-48d7-a1e5-33ffb159c5f6",
   "metadata": {
    "tags": []
   },
   "outputs": [
    {
     "data": {
      "text/html": [
       "<div>\n",
       "<style scoped>\n",
       "    .dataframe tbody tr th:only-of-type {\n",
       "        vertical-align: middle;\n",
       "    }\n",
       "\n",
       "    .dataframe tbody tr th {\n",
       "        vertical-align: top;\n",
       "    }\n",
       "\n",
       "    .dataframe thead th {\n",
       "        text-align: right;\n",
       "    }\n",
       "</style>\n",
       "<table border=\"1\" class=\"dataframe\">\n",
       "  <thead>\n",
       "    <tr style=\"text-align: right;\">\n",
       "      <th></th>\n",
       "      <th>Column</th>\n",
       "      <th>Null Pct</th>\n",
       "      <th>Dtype</th>\n",
       "      <th>Nunique</th>\n",
       "      <th>Nunique Pct</th>\n",
       "      <th>Sample Unique Value</th>\n",
       "    </tr>\n",
       "  </thead>\n",
       "  <tbody>\n",
       "    <tr>\n",
       "      <th>0</th>\n",
       "      <td>CUSTOMER_CDE</td>\n",
       "      <td>0.000000</td>\n",
       "      <td>object</td>\n",
       "      <td>178987</td>\n",
       "      <td>0.008100</td>\n",
       "      <td>[840862, 12736241, 126494]</td>\n",
       "    </tr>\n",
       "    <tr>\n",
       "      <th>1</th>\n",
       "      <td>AMT_TXN_LCL</td>\n",
       "      <td>0.002317</td>\n",
       "      <td>float64</td>\n",
       "      <td>723144</td>\n",
       "      <td>0.032726</td>\n",
       "      <td>[474100.0, 1940000.0, 49000.0]</td>\n",
       "    </tr>\n",
       "    <tr>\n",
       "      <th>2</th>\n",
       "      <td>PROCESS_DT</td>\n",
       "      <td>0.000000</td>\n",
       "      <td>datetime64[ns]</td>\n",
       "      <td>1106</td>\n",
       "      <td>0.000050</td>\n",
       "      <td>[2021-01-12T00:00:00.000000000, 2021-01-10T00:...</td>\n",
       "    </tr>\n",
       "  </tbody>\n",
       "</table>\n",
       "</div>"
      ],
      "text/plain": [
       "         Column  Null Pct           Dtype  Nunique  Nunique Pct  \\\n",
       "0  CUSTOMER_CDE  0.000000          object   178987     0.008100   \n",
       "1   AMT_TXN_LCL  0.002317         float64   723144     0.032726   \n",
       "2    PROCESS_DT  0.000000  datetime64[ns]     1106     0.000050   \n",
       "\n",
       "                                 Sample Unique Value  \n",
       "0                         [840862, 12736241, 126494]  \n",
       "1                     [474100.0, 1940000.0, 49000.0]  \n",
       "2  [2021-01-12T00:00:00.000000000, 2021-01-10T00:...  "
      ]
     },
     "execution_count": 21,
     "metadata": {},
     "output_type": "execute_result"
    }
   ],
   "source": [
    "data_stats = gen_info_stats(df)\n",
    "data_stats"
   ]
  },
  {
   "cell_type": "code",
   "execution_count": 22,
   "id": "e304ba95-6c6f-4270-9674-e61b13907f4c",
   "metadata": {
    "tags": []
   },
   "outputs": [
    {
     "data": {
      "text/html": [
       "<div>\n",
       "<style scoped>\n",
       "    .dataframe tbody tr th:only-of-type {\n",
       "        vertical-align: middle;\n",
       "    }\n",
       "\n",
       "    .dataframe tbody tr th {\n",
       "        vertical-align: top;\n",
       "    }\n",
       "\n",
       "    .dataframe thead th {\n",
       "        text-align: right;\n",
       "    }\n",
       "</style>\n",
       "<table border=\"1\" class=\"dataframe\">\n",
       "  <thead>\n",
       "    <tr style=\"text-align: right;\">\n",
       "      <th></th>\n",
       "      <th>AMT_TXN_LCL</th>\n",
       "    </tr>\n",
       "  </thead>\n",
       "  <tbody>\n",
       "    <tr>\n",
       "      <th>count</th>\n",
       "      <td>2.204593e+07</td>\n",
       "    </tr>\n",
       "    <tr>\n",
       "      <th>mean</th>\n",
       "      <td>7.411409e+05</td>\n",
       "    </tr>\n",
       "    <tr>\n",
       "      <th>std</th>\n",
       "      <td>5.957776e+06</td>\n",
       "    </tr>\n",
       "    <tr>\n",
       "      <th>min</th>\n",
       "      <td>-5.000000e+08</td>\n",
       "    </tr>\n",
       "    <tr>\n",
       "      <th>25%</th>\n",
       "      <td>0.000000e+00</td>\n",
       "    </tr>\n",
       "    <tr>\n",
       "      <th>50%</th>\n",
       "      <td>0.000000e+00</td>\n",
       "    </tr>\n",
       "    <tr>\n",
       "      <th>75%</th>\n",
       "      <td>0.000000e+00</td>\n",
       "    </tr>\n",
       "    <tr>\n",
       "      <th>max</th>\n",
       "      <td>5.600000e+09</td>\n",
       "    </tr>\n",
       "  </tbody>\n",
       "</table>\n",
       "</div>"
      ],
      "text/plain": [
       "        AMT_TXN_LCL\n",
       "count  2.204593e+07\n",
       "mean   7.411409e+05\n",
       "std    5.957776e+06\n",
       "min   -5.000000e+08\n",
       "25%    0.000000e+00\n",
       "50%    0.000000e+00\n",
       "75%    0.000000e+00\n",
       "max    5.600000e+09"
      ]
     },
     "execution_count": 22,
     "metadata": {},
     "output_type": "execute_result"
    }
   ],
   "source": [
    "df.describe()"
   ]
  },
  {
   "cell_type": "markdown",
   "id": "c567a62a-5609-4126-81c8-351602cce3c7",
   "metadata": {},
   "source": [
    "## EDA"
   ]
  },
  {
   "cell_type": "markdown",
   "id": "575703f6-2e8c-48d4-8f57-4cf2e60b8df9",
   "metadata": {},
   "source": [
    "Selected some col data to EDA, possible these col are good to go, (can be customized):\n",
    "- Category data:\n",
    "    - Unique Pct <= x (too many leading data can be identified easily)\n",
    "    - Nunique > 1 (=1 doesn't mean anything)\n",
    "- Numerical data: good to select all"
   ]
  },
  {
   "cell_type": "code",
   "execution_count": 23,
   "id": "b64045ce-93d6-4bb3-8567-f6c6182c2a2f",
   "metadata": {
    "tags": []
   },
   "outputs": [
    {
     "data": {
      "text/html": [
       "<div>\n",
       "<style scoped>\n",
       "    .dataframe tbody tr th:only-of-type {\n",
       "        vertical-align: middle;\n",
       "    }\n",
       "\n",
       "    .dataframe tbody tr th {\n",
       "        vertical-align: top;\n",
       "    }\n",
       "\n",
       "    .dataframe thead th {\n",
       "        text-align: right;\n",
       "    }\n",
       "</style>\n",
       "<table border=\"1\" class=\"dataframe\">\n",
       "  <thead>\n",
       "    <tr style=\"text-align: right;\">\n",
       "      <th></th>\n",
       "      <th>Column</th>\n",
       "      <th>Null Pct</th>\n",
       "      <th>Dtype</th>\n",
       "      <th>Nunique</th>\n",
       "      <th>Nunique Pct</th>\n",
       "      <th>Sample Unique Value</th>\n",
       "    </tr>\n",
       "  </thead>\n",
       "  <tbody>\n",
       "    <tr>\n",
       "      <th>0</th>\n",
       "      <td>CUSTOMER_CDE</td>\n",
       "      <td>0.000000</td>\n",
       "      <td>object</td>\n",
       "      <td>178987</td>\n",
       "      <td>0.008100</td>\n",
       "      <td>[840862, 12736241, 126494]</td>\n",
       "    </tr>\n",
       "    <tr>\n",
       "      <th>1</th>\n",
       "      <td>AMT_TXN_LCL</td>\n",
       "      <td>0.002317</td>\n",
       "      <td>float64</td>\n",
       "      <td>723144</td>\n",
       "      <td>0.032726</td>\n",
       "      <td>[474100.0, 1940000.0, 49000.0]</td>\n",
       "    </tr>\n",
       "    <tr>\n",
       "      <th>2</th>\n",
       "      <td>PROCESS_DT</td>\n",
       "      <td>0.000000</td>\n",
       "      <td>datetime64[ns]</td>\n",
       "      <td>1106</td>\n",
       "      <td>0.000050</td>\n",
       "      <td>[2021-01-12T00:00:00.000000000, 2021-01-10T00:...</td>\n",
       "    </tr>\n",
       "  </tbody>\n",
       "</table>\n",
       "</div>"
      ],
      "text/plain": [
       "         Column  Null Pct           Dtype  Nunique  Nunique Pct  \\\n",
       "0  CUSTOMER_CDE  0.000000          object   178987     0.008100   \n",
       "1   AMT_TXN_LCL  0.002317         float64   723144     0.032726   \n",
       "2    PROCESS_DT  0.000000  datetime64[ns]     1106     0.000050   \n",
       "\n",
       "                                 Sample Unique Value  \n",
       "0                         [840862, 12736241, 126494]  \n",
       "1                     [474100.0, 1940000.0, 49000.0]  \n",
       "2  [2021-01-12T00:00:00.000000000, 2021-01-10T00:...  "
      ]
     },
     "metadata": {},
     "output_type": "display_data"
    }
   ],
   "source": [
    "valid_info = None \n",
    "try: \n",
    "    valid_info = data_stats[((data_stats['Nunique Pct'] <= 0.3) & (data_stats['Nunique']>1) & (data_stats['Dtype']==object)) | (data_stats['Dtype']!=object)]\n",
    "    display(valid_info)\n",
    "except Exception as e:\n",
    "    pass"
   ]
  },
  {
   "cell_type": "code",
   "execution_count": 24,
   "id": "eebf6c4f-fbf9-413e-bd76-0f91c9338bd9",
   "metadata": {
    "tags": []
   },
   "outputs": [
    {
     "data": {
      "text/plain": [
       "(Index(['CUSTOMER_CDE', 'AMT_TXN_LCL', 'PROCESS_DT'], dtype='object'), 3)"
      ]
     },
     "execution_count": 24,
     "metadata": {},
     "output_type": "execute_result"
    }
   ],
   "source": [
    "df.columns, len(df.columns)"
   ]
  },
  {
   "cell_type": "code",
   "execution_count": 25,
   "id": "14714d43-1742-4583-addc-5372ec5d7aa8",
   "metadata": {
    "tags": []
   },
   "outputs": [
    {
     "data": {
      "text/plain": [
       "(Index(['CUSTOMER_CDE', 'AMT_TXN_LCL', 'PROCESS_DT'], dtype='object', name='Column'),\n",
       " 3)"
      ]
     },
     "execution_count": 25,
     "metadata": {},
     "output_type": "execute_result"
    }
   ],
   "source": [
    "valid_info.set_index('Column').index, len(valid_info['Column'].index)"
   ]
  }
 ],
 "metadata": {
  "kernelspec": {
   "display_name": "Python 3 (ipykernel)",
   "language": "python",
   "name": "python3"
  },
  "language_info": {
   "codemirror_mode": {
    "name": "ipython",
    "version": 3
   },
   "file_extension": ".py",
   "mimetype": "text/x-python",
   "name": "python",
   "nbconvert_exporter": "python",
   "pygments_lexer": "ipython3",
   "version": "3.8.13"
  }
 },
 "nbformat": 4,
 "nbformat_minor": 5
}
