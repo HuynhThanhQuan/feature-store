{
 "cells": [
  {
   "cell_type": "markdown",
   "metadata": {},
   "source": [
    "# SPARK"
   ]
  },
  {
   "cell_type": "code",
   "execution_count": 1,
   "metadata": {},
   "outputs": [],
   "source": [
    "from pyspark.sql import SparkSession\n",
    "import os"
   ]
  },
  {
   "cell_type": "code",
   "execution_count": 2,
   "metadata": {},
   "outputs": [
    {
     "name": "stderr",
     "output_type": "stream",
     "text": [
      "WARNING: An illegal reflective access operation has occurred\n",
      "WARNING: Illegal reflective access by org.apache.spark.unsafe.Platform (file:/opt/spark/jars/spark-unsafe_2.12-3.2.1.jar) to constructor java.nio.DirectByteBuffer(long,int)\n",
      "WARNING: Please consider reporting this to the maintainers of org.apache.spark.unsafe.Platform\n",
      "WARNING: Use --illegal-access=warn to enable warnings of further illegal reflective access operations\n",
      "WARNING: All illegal access operations will be denied in a future release\n",
      "Using Spark's default log4j profile: org/apache/spark/log4j-defaults.properties\n",
      "Setting default log level to \"WARN\".\n",
      "To adjust logging level use sc.setLogLevel(newLevel). For SparkR, use setLogLevel(newLevel).\n",
      "24/03/06 13:33:34 WARN NativeCodeLoader: Unable to load native-hadoop library for your platform... using builtin-java classes where applicable\n"
     ]
    }
   ],
   "source": [
    "spark = SparkSession.builder\\\n",
    "    .appName(\"ETL\")\\\n",
    "    .config(\"spark.executor.extraJavaOptions\",\"-Dhttps.proxyHost=http://proxy365.sacombank.com -Dhttps.proxyPort=1985\")\\\n",
    "    .getOrCreate()"
   ]
  },
  {
   "cell_type": "code",
   "execution_count": 3,
   "metadata": {},
   "outputs": [
    {
     "name": "stderr",
     "output_type": "stream",
     "text": [
      "24/03/06 13:33:42 WARN package: Truncated the string representation of a plan since it was too large. This behavior can be adjusted by setting 'spark.sql.debug.maxToStringFields'.\n"
     ]
    },
    {
     "ename": "AnalysisException",
     "evalue": "path file:/config/workspace/feature-store/feature_store/adhoc/analyse-db/DW_ANALYTICS/data/USER_TAB_COLUMNS already exists.",
     "output_type": "error",
     "traceback": [
      "\u001b[0;31m---------------------------------------------------------------------------\u001b[0m",
      "\u001b[0;31mAnalysisException\u001b[0m                         Traceback (most recent call last)",
      "\u001b[1;32m/config/workspace/feature-store/feature_store/adhoc/analyse-db/DW_ANALYTICS/analyze_schema.ipynb Cell 4\u001b[0m line \u001b[0;36m1\n\u001b[1;32m      <a href='vscode-notebook-cell://quan-workspace-mlrun.apps.uat-cloud.sacombank.local/config/workspace/feature-store/feature_store/adhoc/analyse-db/DW_ANALYTICS/analyze_schema.ipynb#W2sdnNjb2RlLXJlbW90ZQ%3D%3D?line=0'>1</a>\u001b[0m df \u001b[39m=\u001b[39m spark\u001b[39m.\u001b[39mread\\\n\u001b[1;32m      <a href='vscode-notebook-cell://quan-workspace-mlrun.apps.uat-cloud.sacombank.local/config/workspace/feature-store/feature_store/adhoc/analyse-db/DW_ANALYTICS/analyze_schema.ipynb#W2sdnNjb2RlLXJlbW90ZQ%3D%3D?line=1'>2</a>\u001b[0m     \u001b[39m.\u001b[39mformat(\u001b[39m\"\u001b[39m\u001b[39mjdbc\u001b[39m\u001b[39m\"\u001b[39m)\\\n\u001b[1;32m      <a href='vscode-notebook-cell://quan-workspace-mlrun.apps.uat-cloud.sacombank.local/config/workspace/feature-store/feature_store/adhoc/analyse-db/DW_ANALYTICS/analyze_schema.ipynb#W2sdnNjb2RlLXJlbW90ZQ%3D%3D?line=2'>3</a>\u001b[0m     \u001b[39m.\u001b[39moption(\u001b[39m\"\u001b[39m\u001b[39murl\u001b[39m\u001b[39m\"\u001b[39m, \u001b[39m\"\u001b[39m\u001b[39mjdbc:oracle:thin:@192.168.124.204:1521/X7DWDEV\u001b[39m\u001b[39m\"\u001b[39m)\\\n\u001b[0;32m   (...)\u001b[0m\n\u001b[1;32m      <a href='vscode-notebook-cell://quan-workspace-mlrun.apps.uat-cloud.sacombank.local/config/workspace/feature-store/feature_store/adhoc/analyse-db/DW_ANALYTICS/analyze_schema.ipynb#W2sdnNjb2RlLXJlbW90ZQ%3D%3D?line=7'>8</a>\u001b[0m     \u001b[39m.\u001b[39moption(\u001b[39m\"\u001b[39m\u001b[39mquery\u001b[39m\u001b[39m\"\u001b[39m,\u001b[39m\"\u001b[39m\u001b[39mselect * from USER_TAB_COLUMNS\u001b[39m\u001b[39m\"\u001b[39m)\\\n\u001b[1;32m      <a href='vscode-notebook-cell://quan-workspace-mlrun.apps.uat-cloud.sacombank.local/config/workspace/feature-store/feature_store/adhoc/analyse-db/DW_ANALYTICS/analyze_schema.ipynb#W2sdnNjb2RlLXJlbW90ZQ%3D%3D?line=8'>9</a>\u001b[0m     \u001b[39m.\u001b[39mload()\n\u001b[0;32m---> <a href='vscode-notebook-cell://quan-workspace-mlrun.apps.uat-cloud.sacombank.local/config/workspace/feature-store/feature_store/adhoc/analyse-db/DW_ANALYTICS/analyze_schema.ipynb#W2sdnNjb2RlLXJlbW90ZQ%3D%3D?line=9'>10</a>\u001b[0m df\u001b[39m.\u001b[39;49mwrite\u001b[39m.\u001b[39;49mparquet(\u001b[39m\"\u001b[39;49m\u001b[39m./data/USER_TAB_COLUMNS\u001b[39;49m\u001b[39m\"\u001b[39;49m)\n",
      "File \u001b[0;32m/usr/local/lib/python3.9/site-packages/pyspark/sql/readwriter.py:885\u001b[0m, in \u001b[0;36mDataFrameWriter.parquet\u001b[0;34m(self, path, mode, partitionBy, compression)\u001b[0m\n\u001b[1;32m    883\u001b[0m     \u001b[39mself\u001b[39m\u001b[39m.\u001b[39mpartitionBy(partitionBy)\n\u001b[1;32m    884\u001b[0m \u001b[39mself\u001b[39m\u001b[39m.\u001b[39m_set_opts(compression\u001b[39m=\u001b[39mcompression)\n\u001b[0;32m--> 885\u001b[0m \u001b[39mself\u001b[39;49m\u001b[39m.\u001b[39;49m_jwrite\u001b[39m.\u001b[39;49mparquet(path)\n",
      "File \u001b[0;32m/usr/local/lib/python3.9/site-packages/py4j/java_gateway.py:1321\u001b[0m, in \u001b[0;36mJavaMember.__call__\u001b[0;34m(self, *args)\u001b[0m\n\u001b[1;32m   1315\u001b[0m command \u001b[39m=\u001b[39m proto\u001b[39m.\u001b[39mCALL_COMMAND_NAME \u001b[39m+\u001b[39m\\\n\u001b[1;32m   1316\u001b[0m     \u001b[39mself\u001b[39m\u001b[39m.\u001b[39mcommand_header \u001b[39m+\u001b[39m\\\n\u001b[1;32m   1317\u001b[0m     args_command \u001b[39m+\u001b[39m\\\n\u001b[1;32m   1318\u001b[0m     proto\u001b[39m.\u001b[39mEND_COMMAND_PART\n\u001b[1;32m   1320\u001b[0m answer \u001b[39m=\u001b[39m \u001b[39mself\u001b[39m\u001b[39m.\u001b[39mgateway_client\u001b[39m.\u001b[39msend_command(command)\n\u001b[0;32m-> 1321\u001b[0m return_value \u001b[39m=\u001b[39m get_return_value(\n\u001b[1;32m   1322\u001b[0m     answer, \u001b[39mself\u001b[39;49m\u001b[39m.\u001b[39;49mgateway_client, \u001b[39mself\u001b[39;49m\u001b[39m.\u001b[39;49mtarget_id, \u001b[39mself\u001b[39;49m\u001b[39m.\u001b[39;49mname)\n\u001b[1;32m   1324\u001b[0m \u001b[39mfor\u001b[39;00m temp_arg \u001b[39min\u001b[39;00m temp_args:\n\u001b[1;32m   1325\u001b[0m     temp_arg\u001b[39m.\u001b[39m_detach()\n",
      "File \u001b[0;32m/usr/local/lib/python3.9/site-packages/pyspark/sql/utils.py:117\u001b[0m, in \u001b[0;36mcapture_sql_exception.<locals>.deco\u001b[0;34m(*a, **kw)\u001b[0m\n\u001b[1;32m    113\u001b[0m converted \u001b[39m=\u001b[39m convert_exception(e\u001b[39m.\u001b[39mjava_exception)\n\u001b[1;32m    114\u001b[0m \u001b[39mif\u001b[39;00m \u001b[39mnot\u001b[39;00m \u001b[39misinstance\u001b[39m(converted, UnknownException):\n\u001b[1;32m    115\u001b[0m     \u001b[39m# Hide where the exception came from that shows a non-Pythonic\u001b[39;00m\n\u001b[1;32m    116\u001b[0m     \u001b[39m# JVM exception message.\u001b[39;00m\n\u001b[0;32m--> 117\u001b[0m     \u001b[39mraise\u001b[39;00m converted \u001b[39mfrom\u001b[39;00m \u001b[39mNone\u001b[39;00m\n\u001b[1;32m    118\u001b[0m \u001b[39melse\u001b[39;00m:\n\u001b[1;32m    119\u001b[0m     \u001b[39mraise\u001b[39;00m\n",
      "\u001b[0;31mAnalysisException\u001b[0m: path file:/config/workspace/feature-store/feature_store/adhoc/analyse-db/DW_ANALYTICS/data/USER_TAB_COLUMNS already exists."
     ]
    }
   ],
   "source": [
    "df = spark.read\\\n",
    "    .format(\"jdbc\")\\\n",
    "    .option(\"url\", \"jdbc:oracle:thin:@192.168.124.204:1521/X7DWDEV\")\\\n",
    "    .option(\"driver\",\"oracle.jdbc.driver.OracleDriver\")\\\n",
    "    .option(\"user\",\"CINS_ADS\")\\\n",
    "    .option(\"password\",\"Oracle#123\")\\\n",
    "    .option(\"fetchsize\", 100000)\\\n",
    "    .option(\"query\",\"select * from USER_TAB_COLUMNS\")\\\n",
    "    .load()\n",
    "df.write.parquet(\"./data/USER_TAB_COLUMNS\")"
   ]
  },
  {
   "cell_type": "code",
   "execution_count": 4,
   "id": "e99e1487-914e-422b-b741-f3bbd85680ee",
   "metadata": {
    "tags": []
   },
   "outputs": [],
   "source": [
    "import os\n",
    "import numpy as np\n",
    "import pandas as pd\n",
    "import matplotlib.image as mpimg"
   ]
  },
  {
   "cell_type": "code",
   "execution_count": 5,
   "metadata": {},
   "outputs": [
    {
     "data": {
      "text/html": [
       "<div>\n",
       "<style scoped>\n",
       "    .dataframe tbody tr th:only-of-type {\n",
       "        vertical-align: middle;\n",
       "    }\n",
       "\n",
       "    .dataframe tbody tr th {\n",
       "        vertical-align: top;\n",
       "    }\n",
       "\n",
       "    .dataframe thead th {\n",
       "        text-align: right;\n",
       "    }\n",
       "</style>\n",
       "<table border=\"1\" class=\"dataframe\">\n",
       "  <thead>\n",
       "    <tr style=\"text-align: right;\">\n",
       "      <th></th>\n",
       "      <th>TABLE_NAME</th>\n",
       "      <th>COLUMN_NAME</th>\n",
       "      <th>DATA_TYPE</th>\n",
       "      <th>DATA_TYPE_MOD</th>\n",
       "      <th>DATA_TYPE_OWNER</th>\n",
       "      <th>DATA_LENGTH</th>\n",
       "      <th>DATA_PRECISION</th>\n",
       "      <th>DATA_SCALE</th>\n",
       "      <th>NULLABLE</th>\n",
       "      <th>COLUMN_ID</th>\n",
       "      <th>...</th>\n",
       "      <th>CHAR_USED</th>\n",
       "      <th>V80_FMT_IMAGE</th>\n",
       "      <th>DATA_UPGRADED</th>\n",
       "      <th>HISTOGRAM</th>\n",
       "      <th>DEFAULT_ON_NULL</th>\n",
       "      <th>IDENTITY_COLUMN</th>\n",
       "      <th>EVALUATION_EDITION</th>\n",
       "      <th>UNUSABLE_BEFORE</th>\n",
       "      <th>UNUSABLE_BEGINNING</th>\n",
       "      <th>COLLATION</th>\n",
       "    </tr>\n",
       "  </thead>\n",
       "  <tbody>\n",
       "    <tr>\n",
       "      <th>0</th>\n",
       "      <td>TOI_TRANSFORM1</td>\n",
       "      <td>UPDATED_AT</td>\n",
       "      <td>DATE</td>\n",
       "      <td>None</td>\n",
       "      <td>None</td>\n",
       "      <td>7.0000000000</td>\n",
       "      <td>None</td>\n",
       "      <td>None</td>\n",
       "      <td>Y</td>\n",
       "      <td>6.0000000000</td>\n",
       "      <td>...</td>\n",
       "      <td>None</td>\n",
       "      <td>NO</td>\n",
       "      <td>YES</td>\n",
       "      <td>NONE</td>\n",
       "      <td>NO</td>\n",
       "      <td>NO</td>\n",
       "      <td>None</td>\n",
       "      <td>None</td>\n",
       "      <td>None</td>\n",
       "      <td>None</td>\n",
       "    </tr>\n",
       "    <tr>\n",
       "      <th>1</th>\n",
       "      <td>TOI_TRANSFORM1</td>\n",
       "      <td>CREATED_AT</td>\n",
       "      <td>DATE</td>\n",
       "      <td>None</td>\n",
       "      <td>None</td>\n",
       "      <td>7.0000000000</td>\n",
       "      <td>None</td>\n",
       "      <td>None</td>\n",
       "      <td>Y</td>\n",
       "      <td>5.0000000000</td>\n",
       "      <td>...</td>\n",
       "      <td>None</td>\n",
       "      <td>NO</td>\n",
       "      <td>YES</td>\n",
       "      <td>NONE</td>\n",
       "      <td>NO</td>\n",
       "      <td>NO</td>\n",
       "      <td>None</td>\n",
       "      <td>None</td>\n",
       "      <td>None</td>\n",
       "      <td>None</td>\n",
       "    </tr>\n",
       "    <tr>\n",
       "      <th>2</th>\n",
       "      <td>TOI_TRANSFORM1</td>\n",
       "      <td>VALUE</td>\n",
       "      <td>NUMBER</td>\n",
       "      <td>None</td>\n",
       "      <td>None</td>\n",
       "      <td>22.0000000000</td>\n",
       "      <td>38.0000000000</td>\n",
       "      <td>6.0000000000</td>\n",
       "      <td>Y</td>\n",
       "      <td>4.0000000000</td>\n",
       "      <td>...</td>\n",
       "      <td>None</td>\n",
       "      <td>NO</td>\n",
       "      <td>YES</td>\n",
       "      <td>NONE</td>\n",
       "      <td>NO</td>\n",
       "      <td>NO</td>\n",
       "      <td>None</td>\n",
       "      <td>None</td>\n",
       "      <td>None</td>\n",
       "      <td>None</td>\n",
       "    </tr>\n",
       "    <tr>\n",
       "      <th>3</th>\n",
       "      <td>TOI_TRANSFORM1</td>\n",
       "      <td>TYPE</td>\n",
       "      <td>VARCHAR2</td>\n",
       "      <td>None</td>\n",
       "      <td>None</td>\n",
       "      <td>8.0000000000</td>\n",
       "      <td>None</td>\n",
       "      <td>None</td>\n",
       "      <td>Y</td>\n",
       "      <td>3.0000000000</td>\n",
       "      <td>...</td>\n",
       "      <td>B</td>\n",
       "      <td>NO</td>\n",
       "      <td>YES</td>\n",
       "      <td>NONE</td>\n",
       "      <td>NO</td>\n",
       "      <td>NO</td>\n",
       "      <td>None</td>\n",
       "      <td>None</td>\n",
       "      <td>None</td>\n",
       "      <td>USING_NLS_COMP</td>\n",
       "    </tr>\n",
       "    <tr>\n",
       "      <th>4</th>\n",
       "      <td>TOI_TRANSFORM1</td>\n",
       "      <td>TOI_TIME</td>\n",
       "      <td>VARCHAR2</td>\n",
       "      <td>None</td>\n",
       "      <td>None</td>\n",
       "      <td>16.0000000000</td>\n",
       "      <td>None</td>\n",
       "      <td>None</td>\n",
       "      <td>Y</td>\n",
       "      <td>2.0000000000</td>\n",
       "      <td>...</td>\n",
       "      <td>B</td>\n",
       "      <td>NO</td>\n",
       "      <td>YES</td>\n",
       "      <td>NONE</td>\n",
       "      <td>NO</td>\n",
       "      <td>NO</td>\n",
       "      <td>None</td>\n",
       "      <td>None</td>\n",
       "      <td>None</td>\n",
       "      <td>USING_NLS_COMP</td>\n",
       "    </tr>\n",
       "    <tr>\n",
       "      <th>...</th>\n",
       "      <td>...</td>\n",
       "      <td>...</td>\n",
       "      <td>...</td>\n",
       "      <td>...</td>\n",
       "      <td>...</td>\n",
       "      <td>...</td>\n",
       "      <td>...</td>\n",
       "      <td>...</td>\n",
       "      <td>...</td>\n",
       "      <td>...</td>\n",
       "      <td>...</td>\n",
       "      <td>...</td>\n",
       "      <td>...</td>\n",
       "      <td>...</td>\n",
       "      <td>...</td>\n",
       "      <td>...</td>\n",
       "      <td>...</td>\n",
       "      <td>...</td>\n",
       "      <td>...</td>\n",
       "      <td>...</td>\n",
       "      <td>...</td>\n",
       "    </tr>\n",
       "    <tr>\n",
       "      <th>6015</th>\n",
       "      <td>V_CHECKLIST_CINS</td>\n",
       "      <td>TARGET</td>\n",
       "      <td>NUMBER</td>\n",
       "      <td>None</td>\n",
       "      <td>None</td>\n",
       "      <td>22.0000000000</td>\n",
       "      <td>None</td>\n",
       "      <td>None</td>\n",
       "      <td>Y</td>\n",
       "      <td>4.0000000000</td>\n",
       "      <td>...</td>\n",
       "      <td>None</td>\n",
       "      <td>NO</td>\n",
       "      <td>N/A</td>\n",
       "      <td>NONE</td>\n",
       "      <td>NO</td>\n",
       "      <td>NO</td>\n",
       "      <td>None</td>\n",
       "      <td>None</td>\n",
       "      <td>None</td>\n",
       "      <td>None</td>\n",
       "    </tr>\n",
       "    <tr>\n",
       "      <th>6016</th>\n",
       "      <td>C$_0DD_YR_BGN</td>\n",
       "      <td>CST_CODE</td>\n",
       "      <td>VARCHAR2</td>\n",
       "      <td>None</td>\n",
       "      <td>None</td>\n",
       "      <td>15.0000000000</td>\n",
       "      <td>None</td>\n",
       "      <td>None</td>\n",
       "      <td>Y</td>\n",
       "      <td>1.0000000000</td>\n",
       "      <td>...</td>\n",
       "      <td>B</td>\n",
       "      <td>NO</td>\n",
       "      <td>N/A</td>\n",
       "      <td>NONE</td>\n",
       "      <td>NO</td>\n",
       "      <td>NO</td>\n",
       "      <td>None</td>\n",
       "      <td>None</td>\n",
       "      <td>None</td>\n",
       "      <td>USING_NLS_COMP</td>\n",
       "    </tr>\n",
       "    <tr>\n",
       "      <th>6017</th>\n",
       "      <td>C$_0A0VPL8M5U81GVI407K2A1FPBNQ</td>\n",
       "      <td>CST_CODE</td>\n",
       "      <td>VARCHAR2</td>\n",
       "      <td>None</td>\n",
       "      <td>None</td>\n",
       "      <td>50.0000000000</td>\n",
       "      <td>None</td>\n",
       "      <td>None</td>\n",
       "      <td>Y</td>\n",
       "      <td>1.0000000000</td>\n",
       "      <td>...</td>\n",
       "      <td>B</td>\n",
       "      <td>NO</td>\n",
       "      <td>YES</td>\n",
       "      <td>NONE</td>\n",
       "      <td>NO</td>\n",
       "      <td>NO</td>\n",
       "      <td>None</td>\n",
       "      <td>None</td>\n",
       "      <td>None</td>\n",
       "      <td>USING_NLS_COMP</td>\n",
       "    </tr>\n",
       "    <tr>\n",
       "      <th>6018</th>\n",
       "      <td>C$_0AMPQEB5U27IN614S7TDN8L6ALE</td>\n",
       "      <td>CATEGORY_CDE</td>\n",
       "      <td>VARCHAR2</td>\n",
       "      <td>None</td>\n",
       "      <td>None</td>\n",
       "      <td>15.0000000000</td>\n",
       "      <td>None</td>\n",
       "      <td>None</td>\n",
       "      <td>Y</td>\n",
       "      <td>2.0000000000</td>\n",
       "      <td>...</td>\n",
       "      <td>B</td>\n",
       "      <td>NO</td>\n",
       "      <td>YES</td>\n",
       "      <td>NONE</td>\n",
       "      <td>NO</td>\n",
       "      <td>NO</td>\n",
       "      <td>None</td>\n",
       "      <td>None</td>\n",
       "      <td>None</td>\n",
       "      <td>USING_NLS_COMP</td>\n",
       "    </tr>\n",
       "    <tr>\n",
       "      <th>6019</th>\n",
       "      <td>V_CINS_TOI_TRANSFORM</td>\n",
       "      <td>VALUE</td>\n",
       "      <td>NUMBER</td>\n",
       "      <td>None</td>\n",
       "      <td>None</td>\n",
       "      <td>22.0000000000</td>\n",
       "      <td>38.0000000000</td>\n",
       "      <td>6.0000000000</td>\n",
       "      <td>Y</td>\n",
       "      <td>2.0000000000</td>\n",
       "      <td>...</td>\n",
       "      <td>None</td>\n",
       "      <td>NO</td>\n",
       "      <td>N/A</td>\n",
       "      <td>NONE</td>\n",
       "      <td>NO</td>\n",
       "      <td>NO</td>\n",
       "      <td>None</td>\n",
       "      <td>None</td>\n",
       "      <td>None</td>\n",
       "      <td>None</td>\n",
       "    </tr>\n",
       "  </tbody>\n",
       "</table>\n",
       "<p>6020 rows × 36 columns</p>\n",
       "</div>"
      ],
      "text/plain": [
       "                          TABLE_NAME   COLUMN_NAME DATA_TYPE DATA_TYPE_MOD  \\\n",
       "0                     TOI_TRANSFORM1    UPDATED_AT      DATE          None   \n",
       "1                     TOI_TRANSFORM1    CREATED_AT      DATE          None   \n",
       "2                     TOI_TRANSFORM1         VALUE    NUMBER          None   \n",
       "3                     TOI_TRANSFORM1          TYPE  VARCHAR2          None   \n",
       "4                     TOI_TRANSFORM1      TOI_TIME  VARCHAR2          None   \n",
       "...                              ...           ...       ...           ...   \n",
       "6015                V_CHECKLIST_CINS        TARGET    NUMBER          None   \n",
       "6016                   C$_0DD_YR_BGN      CST_CODE  VARCHAR2          None   \n",
       "6017  C$_0A0VPL8M5U81GVI407K2A1FPBNQ      CST_CODE  VARCHAR2          None   \n",
       "6018  C$_0AMPQEB5U27IN614S7TDN8L6ALE  CATEGORY_CDE  VARCHAR2          None   \n",
       "6019            V_CINS_TOI_TRANSFORM         VALUE    NUMBER          None   \n",
       "\n",
       "     DATA_TYPE_OWNER    DATA_LENGTH DATA_PRECISION    DATA_SCALE NULLABLE  \\\n",
       "0               None   7.0000000000           None          None        Y   \n",
       "1               None   7.0000000000           None          None        Y   \n",
       "2               None  22.0000000000  38.0000000000  6.0000000000        Y   \n",
       "3               None   8.0000000000           None          None        Y   \n",
       "4               None  16.0000000000           None          None        Y   \n",
       "...              ...            ...            ...           ...      ...   \n",
       "6015            None  22.0000000000           None          None        Y   \n",
       "6016            None  15.0000000000           None          None        Y   \n",
       "6017            None  50.0000000000           None          None        Y   \n",
       "6018            None  15.0000000000           None          None        Y   \n",
       "6019            None  22.0000000000  38.0000000000  6.0000000000        Y   \n",
       "\n",
       "         COLUMN_ID  ... CHAR_USED V80_FMT_IMAGE DATA_UPGRADED HISTOGRAM  \\\n",
       "0     6.0000000000  ...      None            NO           YES      NONE   \n",
       "1     5.0000000000  ...      None            NO           YES      NONE   \n",
       "2     4.0000000000  ...      None            NO           YES      NONE   \n",
       "3     3.0000000000  ...         B            NO           YES      NONE   \n",
       "4     2.0000000000  ...         B            NO           YES      NONE   \n",
       "...            ...  ...       ...           ...           ...       ...   \n",
       "6015  4.0000000000  ...      None            NO           N/A      NONE   \n",
       "6016  1.0000000000  ...         B            NO           N/A      NONE   \n",
       "6017  1.0000000000  ...         B            NO           YES      NONE   \n",
       "6018  2.0000000000  ...         B            NO           YES      NONE   \n",
       "6019  2.0000000000  ...      None            NO           N/A      NONE   \n",
       "\n",
       "     DEFAULT_ON_NULL IDENTITY_COLUMN EVALUATION_EDITION UNUSABLE_BEFORE  \\\n",
       "0                 NO              NO               None            None   \n",
       "1                 NO              NO               None            None   \n",
       "2                 NO              NO               None            None   \n",
       "3                 NO              NO               None            None   \n",
       "4                 NO              NO               None            None   \n",
       "...              ...             ...                ...             ...   \n",
       "6015              NO              NO               None            None   \n",
       "6016              NO              NO               None            None   \n",
       "6017              NO              NO               None            None   \n",
       "6018              NO              NO               None            None   \n",
       "6019              NO              NO               None            None   \n",
       "\n",
       "     UNUSABLE_BEGINNING       COLLATION  \n",
       "0                  None            None  \n",
       "1                  None            None  \n",
       "2                  None            None  \n",
       "3                  None  USING_NLS_COMP  \n",
       "4                  None  USING_NLS_COMP  \n",
       "...                 ...             ...  \n",
       "6015               None            None  \n",
       "6016               None  USING_NLS_COMP  \n",
       "6017               None  USING_NLS_COMP  \n",
       "6018               None  USING_NLS_COMP  \n",
       "6019               None            None  \n",
       "\n",
       "[6020 rows x 36 columns]"
      ]
     },
     "execution_count": 5,
     "metadata": {},
     "output_type": "execute_result"
    }
   ],
   "source": [
    "df = pd.read_parquet('./data/USER_TAB_COLUMNS')\n",
    "df"
   ]
  },
  {
   "cell_type": "code",
   "execution_count": 6,
   "id": "a21cfd59-1d7c-4c21-8a04-e410485938f3",
   "metadata": {
    "tags": []
   },
   "outputs": [
    {
     "data": {
      "text/plain": [
       "703"
      ]
     },
     "execution_count": 6,
     "metadata": {},
     "output_type": "execute_result"
    }
   ],
   "source": [
    "df['TABLE_NAME'].nunique()"
   ]
  },
  {
   "cell_type": "code",
   "execution_count": 7,
   "id": "912efc16-6208-4a8a-b879-76c37b990ef4",
   "metadata": {
    "tags": []
   },
   "outputs": [],
   "source": [
    "df1 = df[df['TABLE_NAME'].apply(lambda x: x.startswith('DW'))]"
   ]
  },
  {
   "cell_type": "code",
   "execution_count": 8,
   "id": "811839d1-cf55-4235-8580-4649f4d68805",
   "metadata": {
    "tags": []
   },
   "outputs": [
    {
     "data": {
      "text/plain": [
       "14"
      ]
     },
     "execution_count": 8,
     "metadata": {},
     "output_type": "execute_result"
    }
   ],
   "source": [
    "df1['TABLE_NAME'].nunique()"
   ]
  },
  {
   "cell_type": "code",
   "execution_count": 9,
   "id": "675db17f-bdf8-44a2-ab86-10f0e00cbba6",
   "metadata": {
    "tags": []
   },
   "outputs": [
    {
     "data": {
      "text/plain": [
       "array(['DW_CUSTOMER_DIM', 'DW_ORG_LOCATION_DIM', 'DW_TIME_DAY_DIM',\n",
       "       'DW_CASA_ACCOUNT_MASTER_DIM', 'DW_EWALL_TRANSACTION_FCT_TEST',\n",
       "       'DW_CARD_PRODUCT_DIM', 'DWL_PRODUCT_MASTER_DIM',\n",
       "       'DWA_STMT_EBANK_TEST', 'DWA_STMT_EBANK_TEST_02',\n",
       "       'DW_CARD_TRANSACTION_FCT', 'DW_CUST_PRODUCT_LOC_FCT_TEST',\n",
       "       'DW_EWALL_ACCT_BAL_FCT_TEST', 'DW_SBVCODE_DIM',\n",
       "       'DW_EB_UTTT_TRANSACTION_FCT_TEST'], dtype=object)"
      ]
     },
     "execution_count": 9,
     "metadata": {},
     "output_type": "execute_result"
    }
   ],
   "source": [
    "df1['TABLE_NAME'].unique()"
   ]
  },
  {
   "cell_type": "code",
   "execution_count": 10,
   "id": "ae59239f-a354-4334-89be-54cf5b846135",
   "metadata": {},
   "outputs": [
    {
     "data": {
      "text/plain": [
       "array([], dtype=object)"
      ]
     },
     "execution_count": 10,
     "metadata": {},
     "output_type": "execute_result"
    }
   ],
   "source": [
    "df1[df1['TABLE_NAME'].apply(lambda x: 'DW_DATA_SOURCE' in x)]['TABLE_NAME'].unique()"
   ]
  },
  {
   "cell_type": "code",
   "execution_count": null,
   "id": "8e0fc9cd-405e-4faf-baa5-cacdbae222c1",
   "metadata": {},
   "outputs": [],
   "source": []
  }
 ],
 "metadata": {
  "kernelspec": {
   "display_name": "Python 3 (ipykernel)",
   "language": "python",
   "name": "python3"
  },
  "language_info": {
   "codemirror_mode": {
    "name": "ipython",
    "version": 3
   },
   "file_extension": ".py",
   "mimetype": "text/x-python",
   "name": "python",
   "nbconvert_exporter": "python",
   "pygments_lexer": "ipython3",
   "version": "3.9.17"
  }
 },
 "nbformat": 4,
 "nbformat_minor": 5
}
