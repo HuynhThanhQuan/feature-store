{
 "cells": [
  {
   "cell_type": "code",
   "execution_count": 1,
   "id": "80f3d3ed-f468-41ec-83a7-de995919b007",
   "metadata": {
    "tags": []
   },
   "outputs": [
    {
     "name": "stdout",
     "output_type": "stream",
     "text": [
      "['Solarize_Light2', '_classic_test_patch', '_mpl-gallery', '_mpl-gallery-nogrid', 'bmh', 'classic', 'dark_background', 'fast', 'fivethirtyeight', 'ggplot', 'grayscale', 'seaborn-v0_8', 'seaborn-v0_8-bright', 'seaborn-v0_8-colorblind', 'seaborn-v0_8-dark', 'seaborn-v0_8-dark-palette', 'seaborn-v0_8-darkgrid', 'seaborn-v0_8-deep', 'seaborn-v0_8-muted', 'seaborn-v0_8-notebook', 'seaborn-v0_8-paper', 'seaborn-v0_8-pastel', 'seaborn-v0_8-poster', 'seaborn-v0_8-talk', 'seaborn-v0_8-ticks', 'seaborn-v0_8-white', 'seaborn-v0_8-whitegrid', 'tableau-colorblind10']\n",
      "Add path ../../..\n",
      "Connected DB - conn\n",
      "Connected oraDW_ANALYTICS - conn_aly\n"
     ]
    }
   ],
   "source": [
    "from util import *"
   ]
  },
  {
   "cell_type": "code",
   "execution_count": 2,
   "id": "e99e1487-914e-422b-b741-f3bbd85680ee",
   "metadata": {
    "tags": []
   },
   "outputs": [],
   "source": [
    "import os\n",
    "import numpy as np"
   ]
  },
  {
   "cell_type": "code",
   "execution_count": 3,
   "id": "055d8390-4c1a-4881-936a-44e479eafd72",
   "metadata": {
    "tags": []
   },
   "outputs": [],
   "source": [
    "import matplotlib.image as mpimg"
   ]
  },
  {
   "cell_type": "code",
   "execution_count": 4,
   "id": "924084d7-58d1-4b2e-b47a-d6e9cb180982",
   "metadata": {
    "tags": []
   },
   "outputs": [],
   "source": [
    "from IPython.display import HTML"
   ]
  },
  {
   "cell_type": "code",
   "execution_count": 5,
   "id": "658edf71-e909-48df-bd50-d89b0217dedf",
   "metadata": {
    "tags": []
   },
   "outputs": [],
   "source": [
    "def download_or_reload(saved_file):\n",
    "    if not os.path.exists(saved_file):\n",
    "        query = \"\"\"select * from USER_TAB_COLUMNS\"\"\"\n",
    "        cur_aly.execute(query)\n",
    "        result = cur_aly.fetchall()\n",
    "        column_names = [c[0] for c in cur_aly.description]\n",
    "        df = pd.DataFrame(result, columns=column_names)\n",
    "        df.to_pickle(saved_file)\n",
    "    df = pd.read_pickle(saved_file)\n",
    "    print(f'Len {len(df)}')\n",
    "    return df"
   ]
  },
  {
   "cell_type": "code",
   "execution_count": 7,
   "id": "9e7c69f3-a276-4f52-8afe-5e411265cb69",
   "metadata": {
    "tags": []
   },
   "outputs": [
    {
     "name": "stdout",
     "output_type": "stream",
     "text": [
      "Len 17180\n"
     ]
    }
   ],
   "source": [
    "df = download_or_reload('./data/USER_TAB_COLUMNS')"
   ]
  },
  {
   "cell_type": "code",
   "execution_count": 8,
   "id": "065feda8-314d-4713-a8c4-df40cf7fc52e",
   "metadata": {
    "tags": []
   },
   "outputs": [
    {
     "data": {
      "text/html": [
       "<div>\n",
       "<style scoped>\n",
       "    .dataframe tbody tr th:only-of-type {\n",
       "        vertical-align: middle;\n",
       "    }\n",
       "\n",
       "    .dataframe tbody tr th {\n",
       "        vertical-align: top;\n",
       "    }\n",
       "\n",
       "    .dataframe thead th {\n",
       "        text-align: right;\n",
       "    }\n",
       "</style>\n",
       "<table border=\"1\" class=\"dataframe\">\n",
       "  <thead>\n",
       "    <tr style=\"text-align: right;\">\n",
       "      <th></th>\n",
       "      <th>TABLE_NAME</th>\n",
       "      <th>COLUMN_NAME</th>\n",
       "      <th>DATA_TYPE</th>\n",
       "      <th>DATA_TYPE_MOD</th>\n",
       "      <th>DATA_TYPE_OWNER</th>\n",
       "      <th>DATA_LENGTH</th>\n",
       "      <th>DATA_PRECISION</th>\n",
       "      <th>DATA_SCALE</th>\n",
       "      <th>NULLABLE</th>\n",
       "      <th>COLUMN_ID</th>\n",
       "      <th>...</th>\n",
       "      <th>CHAR_USED</th>\n",
       "      <th>V80_FMT_IMAGE</th>\n",
       "      <th>DATA_UPGRADED</th>\n",
       "      <th>HISTOGRAM</th>\n",
       "      <th>DEFAULT_ON_NULL</th>\n",
       "      <th>IDENTITY_COLUMN</th>\n",
       "      <th>EVALUATION_EDITION</th>\n",
       "      <th>UNUSABLE_BEFORE</th>\n",
       "      <th>UNUSABLE_BEGINNING</th>\n",
       "      <th>COLLATION</th>\n",
       "    </tr>\n",
       "  </thead>\n",
       "  <tbody>\n",
       "    <tr>\n",
       "      <th>0</th>\n",
       "      <td>TMP_CREDIT_CARD_TRANSACTION</td>\n",
       "      <td>AMT_FEE</td>\n",
       "      <td>NUMBER</td>\n",
       "      <td>None</td>\n",
       "      <td>None</td>\n",
       "      <td>22</td>\n",
       "      <td>38.0</td>\n",
       "      <td>6.0</td>\n",
       "      <td>Y</td>\n",
       "      <td>14</td>\n",
       "      <td>...</td>\n",
       "      <td>None</td>\n",
       "      <td>NO</td>\n",
       "      <td>YES</td>\n",
       "      <td>FREQUENCY</td>\n",
       "      <td>NO</td>\n",
       "      <td>NO</td>\n",
       "      <td>None</td>\n",
       "      <td>None</td>\n",
       "      <td>None</td>\n",
       "      <td>None</td>\n",
       "    </tr>\n",
       "    <tr>\n",
       "      <th>1</th>\n",
       "      <td>TMP_CREDIT_CARD_TRANSACTION</td>\n",
       "      <td>TXN_OM_CDE</td>\n",
       "      <td>VARCHAR2</td>\n",
       "      <td>None</td>\n",
       "      <td>None</td>\n",
       "      <td>10</td>\n",
       "      <td>NaN</td>\n",
       "      <td>NaN</td>\n",
       "      <td>Y</td>\n",
       "      <td>13</td>\n",
       "      <td>...</td>\n",
       "      <td>B</td>\n",
       "      <td>NO</td>\n",
       "      <td>YES</td>\n",
       "      <td>NONE</td>\n",
       "      <td>NO</td>\n",
       "      <td>NO</td>\n",
       "      <td>None</td>\n",
       "      <td>None</td>\n",
       "      <td>None</td>\n",
       "      <td>USING_NLS_COMP</td>\n",
       "    </tr>\n",
       "    <tr>\n",
       "      <th>2</th>\n",
       "      <td>TMP_CREDIT_CARD_TRANSACTION</td>\n",
       "      <td>TXN_OL_CDE</td>\n",
       "      <td>VARCHAR2</td>\n",
       "      <td>None</td>\n",
       "      <td>None</td>\n",
       "      <td>1</td>\n",
       "      <td>NaN</td>\n",
       "      <td>NaN</td>\n",
       "      <td>Y</td>\n",
       "      <td>12</td>\n",
       "      <td>...</td>\n",
       "      <td>B</td>\n",
       "      <td>NO</td>\n",
       "      <td>YES</td>\n",
       "      <td>FREQUENCY</td>\n",
       "      <td>NO</td>\n",
       "      <td>NO</td>\n",
       "      <td>None</td>\n",
       "      <td>None</td>\n",
       "      <td>None</td>\n",
       "      <td>USING_NLS_COMP</td>\n",
       "    </tr>\n",
       "    <tr>\n",
       "      <th>3</th>\n",
       "      <td>TMP_CREDIT_CARD_TRANSACTION</td>\n",
       "      <td>MCC_CDE</td>\n",
       "      <td>NUMBER</td>\n",
       "      <td>None</td>\n",
       "      <td>None</td>\n",
       "      <td>22</td>\n",
       "      <td>10.0</td>\n",
       "      <td>0.0</td>\n",
       "      <td>Y</td>\n",
       "      <td>11</td>\n",
       "      <td>...</td>\n",
       "      <td>None</td>\n",
       "      <td>NO</td>\n",
       "      <td>YES</td>\n",
       "      <td>TOP-FREQUENCY</td>\n",
       "      <td>NO</td>\n",
       "      <td>NO</td>\n",
       "      <td>None</td>\n",
       "      <td>None</td>\n",
       "      <td>None</td>\n",
       "      <td>None</td>\n",
       "    </tr>\n",
       "    <tr>\n",
       "      <th>4</th>\n",
       "      <td>TMP_CREDIT_CARD_TRANSACTION</td>\n",
       "      <td>PRODUCT_CDE</td>\n",
       "      <td>VARCHAR2</td>\n",
       "      <td>None</td>\n",
       "      <td>None</td>\n",
       "      <td>10</td>\n",
       "      <td>NaN</td>\n",
       "      <td>NaN</td>\n",
       "      <td>Y</td>\n",
       "      <td>10</td>\n",
       "      <td>...</td>\n",
       "      <td>B</td>\n",
       "      <td>NO</td>\n",
       "      <td>YES</td>\n",
       "      <td>TOP-FREQUENCY</td>\n",
       "      <td>NO</td>\n",
       "      <td>NO</td>\n",
       "      <td>None</td>\n",
       "      <td>None</td>\n",
       "      <td>None</td>\n",
       "      <td>USING_NLS_COMP</td>\n",
       "    </tr>\n",
       "    <tr>\n",
       "      <th>...</th>\n",
       "      <td>...</td>\n",
       "      <td>...</td>\n",
       "      <td>...</td>\n",
       "      <td>...</td>\n",
       "      <td>...</td>\n",
       "      <td>...</td>\n",
       "      <td>...</td>\n",
       "      <td>...</td>\n",
       "      <td>...</td>\n",
       "      <td>...</td>\n",
       "      <td>...</td>\n",
       "      <td>...</td>\n",
       "      <td>...</td>\n",
       "      <td>...</td>\n",
       "      <td>...</td>\n",
       "      <td>...</td>\n",
       "      <td>...</td>\n",
       "      <td>...</td>\n",
       "      <td>...</td>\n",
       "      <td>...</td>\n",
       "      <td>...</td>\n",
       "    </tr>\n",
       "    <tr>\n",
       "      <th>17175</th>\n",
       "      <td>C$_0ASV03BHFC8USH2DN7UQCH58RPD</td>\n",
       "      <td>PROCESS_DT</td>\n",
       "      <td>DATE</td>\n",
       "      <td>None</td>\n",
       "      <td>None</td>\n",
       "      <td>7</td>\n",
       "      <td>NaN</td>\n",
       "      <td>NaN</td>\n",
       "      <td>Y</td>\n",
       "      <td>5</td>\n",
       "      <td>...</td>\n",
       "      <td>None</td>\n",
       "      <td>NO</td>\n",
       "      <td>YES</td>\n",
       "      <td>NONE</td>\n",
       "      <td>NO</td>\n",
       "      <td>NO</td>\n",
       "      <td>None</td>\n",
       "      <td>None</td>\n",
       "      <td>None</td>\n",
       "      <td>None</td>\n",
       "    </tr>\n",
       "    <tr>\n",
       "      <th>17176</th>\n",
       "      <td>C$_1AD6UHNASVEJT6GFT7T5RM169D8</td>\n",
       "      <td>SUB_BRANCH_CDE</td>\n",
       "      <td>VARCHAR2</td>\n",
       "      <td>None</td>\n",
       "      <td>None</td>\n",
       "      <td>15</td>\n",
       "      <td>NaN</td>\n",
       "      <td>NaN</td>\n",
       "      <td>Y</td>\n",
       "      <td>1</td>\n",
       "      <td>...</td>\n",
       "      <td>B</td>\n",
       "      <td>NO</td>\n",
       "      <td>YES</td>\n",
       "      <td>NONE</td>\n",
       "      <td>NO</td>\n",
       "      <td>NO</td>\n",
       "      <td>None</td>\n",
       "      <td>None</td>\n",
       "      <td>None</td>\n",
       "      <td>USING_NLS_COMP</td>\n",
       "    </tr>\n",
       "    <tr>\n",
       "      <th>17177</th>\n",
       "      <td>C$_5AGG_STMT_T4AAFRIH4IRGQA304I6JG0RKDUUM</td>\n",
       "      <td>ACCOUNT_NUMBER</td>\n",
       "      <td>VARCHAR2</td>\n",
       "      <td>None</td>\n",
       "      <td>None</td>\n",
       "      <td>255</td>\n",
       "      <td>NaN</td>\n",
       "      <td>NaN</td>\n",
       "      <td>Y</td>\n",
       "      <td>1</td>\n",
       "      <td>...</td>\n",
       "      <td>B</td>\n",
       "      <td>NO</td>\n",
       "      <td>YES</td>\n",
       "      <td>NONE</td>\n",
       "      <td>NO</td>\n",
       "      <td>NO</td>\n",
       "      <td>None</td>\n",
       "      <td>None</td>\n",
       "      <td>None</td>\n",
       "      <td>USING_NLS_COMP</td>\n",
       "    </tr>\n",
       "    <tr>\n",
       "      <th>17178</th>\n",
       "      <td>C$_DAGG_STMT_T12AR762PKDAGLTVGHH7UNAOK9P90</td>\n",
       "      <td>ACCOUNT_NUMBER</td>\n",
       "      <td>VARCHAR2</td>\n",
       "      <td>None</td>\n",
       "      <td>None</td>\n",
       "      <td>255</td>\n",
       "      <td>NaN</td>\n",
       "      <td>NaN</td>\n",
       "      <td>Y</td>\n",
       "      <td>1</td>\n",
       "      <td>...</td>\n",
       "      <td>B</td>\n",
       "      <td>NO</td>\n",
       "      <td>YES</td>\n",
       "      <td>NONE</td>\n",
       "      <td>NO</td>\n",
       "      <td>NO</td>\n",
       "      <td>None</td>\n",
       "      <td>None</td>\n",
       "      <td>None</td>\n",
       "      <td>USING_NLS_COMP</td>\n",
       "    </tr>\n",
       "    <tr>\n",
       "      <th>17179</th>\n",
       "      <td>C$_0ACI8NF87NUCCEJLA6K0BU5O795</td>\n",
       "      <td>ACTIVE</td>\n",
       "      <td>NUMBER</td>\n",
       "      <td>None</td>\n",
       "      <td>None</td>\n",
       "      <td>22</td>\n",
       "      <td>NaN</td>\n",
       "      <td>0.0</td>\n",
       "      <td>Y</td>\n",
       "      <td>6</td>\n",
       "      <td>...</td>\n",
       "      <td>None</td>\n",
       "      <td>NO</td>\n",
       "      <td>YES</td>\n",
       "      <td>NONE</td>\n",
       "      <td>NO</td>\n",
       "      <td>NO</td>\n",
       "      <td>None</td>\n",
       "      <td>None</td>\n",
       "      <td>None</td>\n",
       "      <td>None</td>\n",
       "    </tr>\n",
       "  </tbody>\n",
       "</table>\n",
       "<p>17180 rows × 36 columns</p>\n",
       "</div>"
      ],
      "text/plain": [
       "                                       TABLE_NAME     COLUMN_NAME DATA_TYPE  \\\n",
       "0                     TMP_CREDIT_CARD_TRANSACTION         AMT_FEE    NUMBER   \n",
       "1                     TMP_CREDIT_CARD_TRANSACTION      TXN_OM_CDE  VARCHAR2   \n",
       "2                     TMP_CREDIT_CARD_TRANSACTION      TXN_OL_CDE  VARCHAR2   \n",
       "3                     TMP_CREDIT_CARD_TRANSACTION         MCC_CDE    NUMBER   \n",
       "4                     TMP_CREDIT_CARD_TRANSACTION     PRODUCT_CDE  VARCHAR2   \n",
       "...                                           ...             ...       ...   \n",
       "17175              C$_0ASV03BHFC8USH2DN7UQCH58RPD      PROCESS_DT      DATE   \n",
       "17176              C$_1AD6UHNASVEJT6GFT7T5RM169D8  SUB_BRANCH_CDE  VARCHAR2   \n",
       "17177   C$_5AGG_STMT_T4AAFRIH4IRGQA304I6JG0RKDUUM  ACCOUNT_NUMBER  VARCHAR2   \n",
       "17178  C$_DAGG_STMT_T12AR762PKDAGLTVGHH7UNAOK9P90  ACCOUNT_NUMBER  VARCHAR2   \n",
       "17179              C$_0ACI8NF87NUCCEJLA6K0BU5O795          ACTIVE    NUMBER   \n",
       "\n",
       "      DATA_TYPE_MOD DATA_TYPE_OWNER  DATA_LENGTH  DATA_PRECISION  DATA_SCALE  \\\n",
       "0              None            None           22            38.0         6.0   \n",
       "1              None            None           10             NaN         NaN   \n",
       "2              None            None            1             NaN         NaN   \n",
       "3              None            None           22            10.0         0.0   \n",
       "4              None            None           10             NaN         NaN   \n",
       "...             ...             ...          ...             ...         ...   \n",
       "17175          None            None            7             NaN         NaN   \n",
       "17176          None            None           15             NaN         NaN   \n",
       "17177          None            None          255             NaN         NaN   \n",
       "17178          None            None          255             NaN         NaN   \n",
       "17179          None            None           22             NaN         0.0   \n",
       "\n",
       "      NULLABLE  COLUMN_ID  ...  CHAR_USED V80_FMT_IMAGE  DATA_UPGRADED  \\\n",
       "0            Y         14  ...       None            NO            YES   \n",
       "1            Y         13  ...          B            NO            YES   \n",
       "2            Y         12  ...          B            NO            YES   \n",
       "3            Y         11  ...       None            NO            YES   \n",
       "4            Y         10  ...          B            NO            YES   \n",
       "...        ...        ...  ...        ...           ...            ...   \n",
       "17175        Y          5  ...       None            NO            YES   \n",
       "17176        Y          1  ...          B            NO            YES   \n",
       "17177        Y          1  ...          B            NO            YES   \n",
       "17178        Y          1  ...          B            NO            YES   \n",
       "17179        Y          6  ...       None            NO            YES   \n",
       "\n",
       "           HISTOGRAM DEFAULT_ON_NULL  IDENTITY_COLUMN  EVALUATION_EDITION  \\\n",
       "0          FREQUENCY              NO               NO                None   \n",
       "1               NONE              NO               NO                None   \n",
       "2          FREQUENCY              NO               NO                None   \n",
       "3      TOP-FREQUENCY              NO               NO                None   \n",
       "4      TOP-FREQUENCY              NO               NO                None   \n",
       "...              ...             ...              ...                 ...   \n",
       "17175           NONE              NO               NO                None   \n",
       "17176           NONE              NO               NO                None   \n",
       "17177           NONE              NO               NO                None   \n",
       "17178           NONE              NO               NO                None   \n",
       "17179           NONE              NO               NO                None   \n",
       "\n",
       "       UNUSABLE_BEFORE UNUSABLE_BEGINNING       COLLATION  \n",
       "0                 None               None            None  \n",
       "1                 None               None  USING_NLS_COMP  \n",
       "2                 None               None  USING_NLS_COMP  \n",
       "3                 None               None            None  \n",
       "4                 None               None  USING_NLS_COMP  \n",
       "...                ...                ...             ...  \n",
       "17175             None               None            None  \n",
       "17176             None               None  USING_NLS_COMP  \n",
       "17177             None               None  USING_NLS_COMP  \n",
       "17178             None               None  USING_NLS_COMP  \n",
       "17179             None               None            None  \n",
       "\n",
       "[17180 rows x 36 columns]"
      ]
     },
     "execution_count": 8,
     "metadata": {},
     "output_type": "execute_result"
    }
   ],
   "source": [
    "df"
   ]
  },
  {
   "cell_type": "code",
   "execution_count": 9,
   "id": "a21cfd59-1d7c-4c21-8a04-e410485938f3",
   "metadata": {
    "tags": []
   },
   "outputs": [
    {
     "data": {
      "text/plain": [
       "2362"
      ]
     },
     "execution_count": 9,
     "metadata": {},
     "output_type": "execute_result"
    }
   ],
   "source": [
    "df['TABLE_NAME'].nunique()"
   ]
  },
  {
   "cell_type": "code",
   "execution_count": 10,
   "id": "912efc16-6208-4a8a-b879-76c37b990ef4",
   "metadata": {
    "tags": []
   },
   "outputs": [],
   "source": [
    "df1 = df[df['TABLE_NAME'].apply(lambda x: x.startswith('DW'))]"
   ]
  },
  {
   "cell_type": "code",
   "execution_count": 11,
   "id": "811839d1-cf55-4235-8580-4649f4d68805",
   "metadata": {
    "tags": []
   },
   "outputs": [
    {
     "data": {
      "text/plain": [
       "95"
      ]
     },
     "execution_count": 11,
     "metadata": {},
     "output_type": "execute_result"
    }
   ],
   "source": [
    "df1['TABLE_NAME'].nunique()"
   ]
  },
  {
   "cell_type": "code",
   "execution_count": 12,
   "id": "675db17f-bdf8-44a2-ab86-10f0e00cbba6",
   "metadata": {
    "tags": []
   },
   "outputs": [
    {
     "data": {
      "text/plain": [
       "array(['DW_ORG_BRANCH_DIM', 'DW_CARD_TRANSACTION_FCT', 'DW_CUSTOMER_DIM',\n",
       "       'DW_ACCOUNT_MASTER_DIM', 'DW_CARD_MERCHANT_DIM',\n",
       "       'DW_CARD_PRODUCT_DIM', 'DW_CARD_TERMINAL_DIM',\n",
       "       'DW_COLLATERAL_TYPE_DIM', 'DW_DAO_DIM', 'DW_DEPOSIT_MASTER_DIM',\n",
       "       'DW_EB_PARTNER_DIM', 'DW_EB_TRANSACTION_TYPE_DIM',\n",
       "       'DW_EB_UTTT_CPAY_DIM', 'DW_EB_UTTT_PARTNER_DIM',\n",
       "       'DW_EWALL_PRODUCT_DIM', 'DW_EWALL_PROVIDER_DIM', 'DW_INDUSTRY_DIM',\n",
       "       'DW_INS_CUSTOMER_DIM', 'DW_INS_PRODUCT_DIM',\n",
       "       'DW_INTEREST_OF_RANGE_DIM', 'DW_ORG_LOCATION_DIM',\n",
       "       'DWL_PRODUCT_MASTER_DIM', 'DW_CARD_MASTER_DIM',\n",
       "       'DW_CUSTOMER_FULL_DIM', 'DW_LOS_CUSTOMER_INCOME',\n",
       "       'DW_EB_BILL_PARTNER_DIM', 'DW_NAS_ALERT_SUBSCRIPTION',\n",
       "       'DW_CUSTOMER_CHANGE_FCT', 'DW_EB_BILL_TRANSACTION_FCT',\n",
       "       'DW_EB_UTTT_TRANSACTION_FCT', 'DW_EWALL_TRANSACTION_FCT',\n",
       "       'DW_INS_POLICY_FCT', 'DWD_CLOSED_DEPOSIT_FCT', 'DWA_CARD_TOI_FCT',\n",
       "       'DW_EWALL_ACCT_BAL_FCT', 'DW_COLLATERAL_FCT',\n",
       "       'DW_CUSTOMER_RELATION', 'DW_EB_CUSTOMER_BILL_PAYEE',\n",
       "       'DW_EB_TRANSACTION_FCT', 'DW_GL_STATEMENT_PL_FCT',\n",
       "       'DW_DEPOSIT_FCT', 'DW_LIMIT_FCT', 'DWD_LOAN_PROVISION_FCT',\n",
       "       'DWA_STMT_EBANK', 'DWD_TOI_FCT', 'DW_CARD_FCT', 'DW_EB_USER',\n",
       "       'DW_DEPOSIT_FTP_FCT', 'DW_FOREX_FCT',\n",
       "       'DWD_INTERNATIONAL_TRANSFER_FCT', 'DW_CARD_ATM_DIM',\n",
       "       'DW_CARD_POS_DIM', 'DW_CARD_TERMINAL_SALE_FCT',\n",
       "       'DW_CARD_MERCHANT_TXN_FCT', 'DWD_REMITTANCE_FCT',\n",
       "       'DW_REMITTANCE_TYPE_DIM', 'DW_REMITTANCE_PARTNER_DIM',\n",
       "       'DW_EB_ALERT_SUBSCRIPT_ACCOUNT', 'DW_NAT_OCCUPATION_DIM',\n",
       "       'DW_ORG_AREA_DIM', 'DW_ORG_COMPANY_DIM', 'DW_PRODUCT_TYPE_DIM',\n",
       "       'DW_PRODUCT_DIM', 'DWA_CUSTOMER_BY_PRODUCT_FCT',\n",
       "       'DW_AC_LOCKED_EVENTS_FCT', 'DWA_CUST_TOI_FCT',\n",
       "       'DW_CUST_PRODUCT_LOC_FCT', 'DW_TIME_DAY_DIM', 'DW_EWALL_USER_DIM',\n",
       "       'DW_LOAN_FCT', 'DW_EB_PERIODIC_FEE_FCT',\n",
       "       'DW_EB_CUSTOMER_GROUP_DIM', 'DW_EB_ENTRY_LIMIT_DIM',\n",
       "       'DW_EB_CUSTOMER_LIMIT_DIM', 'DWA_DOMESTIC_PAYMENT_FCT',\n",
       "       'DW_NAS_SMS_TRANSACTION_FCT', 'DW_EB_USER_MAINTANANCE',\n",
       "       'DW_TELLER_FCT', 'DW_LD_SCHEDULE_HIS_FCT', 'DW_EB_USER_DIM',\n",
       "       'DW_USERT24_DIM', 'DW_LOAN_FTP_FCT', 'DW_INS_REFERAL_NB_DIM',\n",
       "       'DW_INS_FEE_FCT', 'DW_INS_TRANFER_FCT',\n",
       "       'DW_EB_TXN_FILE_UPLOAD_FCT', 'DW_CUST_LEVEL_FCT',\n",
       "       'DW_EB_UTTT_PRODUCT_DIM', 'DW_EB_FILE_UPLOAD_FCT',\n",
       "       'DW_CARD_MCC_DIM', 'DW_EB_ALERT_TYPE_DIM', 'DW_SBVCODE_DIM',\n",
       "       'DWD_CUSTOMER_BY_DBGRP_FCT', 'DWL_NOPROD_4P_DIM',\n",
       "       'DWD_CUSTOMER_BY_4P_FCT'], dtype=object)"
      ]
     },
     "execution_count": 12,
     "metadata": {},
     "output_type": "execute_result"
    }
   ],
   "source": [
    "df1['TABLE_NAME'].unique()"
   ]
  },
  {
   "cell_type": "code",
   "execution_count": 13,
   "id": "ae59239f-a354-4334-89be-54cf5b846135",
   "metadata": {},
   "outputs": [
    {
     "data": {
      "text/plain": [
       "array([], dtype=object)"
      ]
     },
     "execution_count": 13,
     "metadata": {},
     "output_type": "execute_result"
    }
   ],
   "source": [
    "df1[df1['TABLE_NAME'].apply(lambda x: 'DW_DATA_SOURCE' in x)]['TABLE_NAME'].unique()"
   ]
  },
  {
   "cell_type": "code",
   "execution_count": null,
   "id": "8e0fc9cd-405e-4faf-baa5-cacdbae222c1",
   "metadata": {},
   "outputs": [],
   "source": []
  }
 ],
 "metadata": {
  "kernelspec": {
   "display_name": "Python 3 (ipykernel)",
   "language": "python",
   "name": "python3"
  },
  "language_info": {
   "codemirror_mode": {
    "name": "ipython",
    "version": 3
   },
   "file_extension": ".py",
   "mimetype": "text/x-python",
   "name": "python",
   "nbconvert_exporter": "python",
   "pygments_lexer": "ipython3",
   "version": "3.8.13"
  }
 },
 "nbformat": 4,
 "nbformat_minor": 5
}
