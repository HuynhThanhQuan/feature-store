{
 "cells": [
  {
   "cell_type": "code",
   "execution_count": 1,
   "id": "38371e35-4061-45db-9e2e-cca86c5fefb5",
   "metadata": {
    "tags": []
   },
   "outputs": [
    {
     "name": "stdout",
     "output_type": "stream",
     "text": [
      "['Solarize_Light2', '_classic_test_patch', '_mpl-gallery', '_mpl-gallery-nogrid', 'bmh', 'classic', 'dark_background', 'fast', 'fivethirtyeight', 'ggplot', 'grayscale', 'seaborn-v0_8', 'seaborn-v0_8-bright', 'seaborn-v0_8-colorblind', 'seaborn-v0_8-dark', 'seaborn-v0_8-dark-palette', 'seaborn-v0_8-darkgrid', 'seaborn-v0_8-deep', 'seaborn-v0_8-muted', 'seaborn-v0_8-notebook', 'seaborn-v0_8-paper', 'seaborn-v0_8-pastel', 'seaborn-v0_8-poster', 'seaborn-v0_8-talk', 'seaborn-v0_8-ticks', 'seaborn-v0_8-white', 'seaborn-v0_8-whitegrid', 'tableau-colorblind10']\n",
      "Add path ../../..\n",
      "Connected DB\n",
      "Connected oraDW_ANALYTICS\n"
     ]
    }
   ],
   "source": [
    "from util import *"
   ]
  },
  {
   "cell_type": "code",
   "execution_count": 2,
   "id": "cd3b7480-1eca-40cb-badd-ea5a4a8cd27c",
   "metadata": {
    "tags": []
   },
   "outputs": [],
   "source": [
    "import os\n",
    "import numpy as np"
   ]
  },
  {
   "cell_type": "code",
   "execution_count": 3,
   "id": "180fc8ac-84ff-4dfc-9d59-9fb9c12674b5",
   "metadata": {
    "tags": []
   },
   "outputs": [],
   "source": [
    "import matplotlib.image as mpimg"
   ]
  },
  {
   "cell_type": "code",
   "execution_count": 4,
   "id": "02916c64-98a7-4261-a5f2-d4ddea8b9623",
   "metadata": {
    "tags": []
   },
   "outputs": [],
   "source": [
    "from IPython.display import HTML"
   ]
  },
  {
   "cell_type": "markdown",
   "id": "dd7f1f14-25b7-4787-b378-e2d90faed4a9",
   "metadata": {},
   "source": [
    "# NAMESPACE"
   ]
  },
  {
   "cell_type": "code",
   "execution_count": 5,
   "id": "3bfd18cb-c9f2-48a0-9478-bd22c3d1e219",
   "metadata": {
    "tags": []
   },
   "outputs": [],
   "source": [
    "class NAMESPACE:\n",
    "    # Base values\n",
    "    TABLE_NAME = 'DW_INS_TRANFER_FCT'\n",
    "    SEL_SAMPLE = 'SAMPLE1_SUB1'\n",
    "    \n",
    "    # Important to look\n",
    "    QUERY = f\"\"\"SELECT X.* FROM DW_ANALYTICS.{TABLE_NAME} X JOIN CINS_TMP_ALY_CUST_{SEL_SAMPLE} SAM ON X.CUSTOMER_CDE = SAM.CUSTOMER_CDE\"\"\"\n",
    "    \n",
    "    # Derived values\n",
    "    data_fp = f'./data/{TABLE_NAME}'\n",
    "    data_sample_nm = os.path.join(data_fp, SEL_SAMPLE)\n",
    "    IMG_FP = f'./img/{TABLE_NAME}'\n",
    "    img = f'./img/{TABLE_NAME}/{SEL_SAMPLE}'\n",
    "    \n",
    "    def show():\n",
    "        atts = dir(NAMESPACE)\n",
    "        for a in atts:\n",
    "            if not a.startswith('__'):\n",
    "                print(a)\n",
    "    \n",
    "    @classmethod\n",
    "    def init(cls):\n",
    "        if not os.path.exists(NAMESPACE.data_fp):\n",
    "            os.makedirs(NAMESPACE.data_fp)\n",
    "        if not os.path.exists(NAMESPACE.img):\n",
    "            os.makedirs(NAMESPACE.img)"
   ]
  },
  {
   "cell_type": "code",
   "execution_count": 6,
   "id": "e48f3567-5d00-4460-be90-78273f614712",
   "metadata": {
    "tags": []
   },
   "outputs": [
    {
     "data": {
      "text/plain": [
       "'SELECT X.* FROM DW_ANALYTICS.DW_INS_TRANFER_FCT X JOIN CINS_TMP_ALY_CUST_SAMPLE1_SUB1 SAM ON X.CUSTOMER_CDE = SAM.CUSTOMER_CDE'"
      ]
     },
     "execution_count": 6,
     "metadata": {},
     "output_type": "execute_result"
    }
   ],
   "source": [
    "NAMESPACE.QUERY"
   ]
  },
  {
   "cell_type": "code",
   "execution_count": 7,
   "id": "f4b27ee4-7078-4be8-8504-78c1d299f42f",
   "metadata": {
    "tags": []
   },
   "outputs": [],
   "source": [
    "NAMESPACE.init()"
   ]
  },
  {
   "cell_type": "code",
   "execution_count": 8,
   "id": "09066e6c-9fc1-4461-b400-e2827e7017a1",
   "metadata": {
    "tags": []
   },
   "outputs": [
    {
     "name": "stdout",
     "output_type": "stream",
     "text": [
      "IMG_FP\n",
      "QUERY\n",
      "SEL_SAMPLE\n",
      "TABLE_NAME\n",
      "data_fp\n",
      "data_sample_nm\n",
      "img\n",
      "init\n",
      "show\n"
     ]
    }
   ],
   "source": [
    "NAMESPACE.show()"
   ]
  },
  {
   "cell_type": "code",
   "execution_count": 9,
   "id": "7e3206f1-fefa-45a2-a759-caedd19b991b",
   "metadata": {
    "tags": []
   },
   "outputs": [],
   "source": [
    "stat_opt = [\n",
    "            'count',\n",
    "            'mean',\n",
    "            'median',\n",
    "            'min',\n",
    "            'max',\n",
    "            'std',\n",
    "]\n",
    "ordered_stat_opt = [[i, i + '_pct_chg'] for i in stat_opt]\n",
    "ordered_stat_opt = [j for i in ordered_stat_opt for j in i]"
   ]
  },
  {
   "cell_type": "markdown",
   "id": "82465900-3e10-43df-9142-aecc327e1d78",
   "metadata": {},
   "source": [
    "# Functions"
   ]
  },
  {
   "cell_type": "code",
   "execution_count": 10,
   "id": "9c8481d2-a168-4f43-8ba2-9f9555ed21b6",
   "metadata": {
    "tags": []
   },
   "outputs": [],
   "source": [
    "def aly_datetime(df, date_col, cde_col, resample='1Y', outlier_date='1930-01-01', timedelta='365 days',lvl=3):\n",
    "    display(HTML(f'<h{lvl}>{date_col}</h{lvl}>'))\n",
    "    if cde_col is None:\n",
    "        tmp_df = df[date_col].copy()\n",
    "        tmp_df[date_col] = pd.to_datetime(tmp_df[date_col], errors='coerce')\n",
    "        tmp_df[date_col] = df[date_col].astype('datetime64[D]')\n",
    "        tmp = tmp_df[tmp_df[date_col] > outlier_date]\n",
    "        plot_df = tmp.set_index(date_col).resample(resample).nunique()\n",
    "    else:\n",
    "        tmp_df = df[[date_col, cde_col]].copy()\n",
    "        tmp_df[date_col] = pd.to_datetime(tmp_df[date_col], errors='coerce')\n",
    "        tmp_df[date_col] = df[date_col].astype('datetime64[D]')\n",
    "        tmp = tmp_df[tmp_df[date_col] > outlier_date]\n",
    "        plot_df = tmp.set_index(date_col)[cde_col].resample(resample).nunique()\n",
    "    \n",
    "    fig, axs = plt.subplots(1,2, figsize=(15, 5))\n",
    "    plot_df.plot(kind='bar', rot=70, ax=axs[0])\n",
    "    up2now = ((datetime(2023,11,1) - tmp[date_col]) / pd.Timedelta(timedelta)).apply(float)\n",
    "    sns.histplot(up2now, kde=True, ax=axs[1])\n",
    "    plt.show()"
   ]
  },
  {
   "cell_type": "code",
   "execution_count": 11,
   "id": "c8dc0b07-ab4a-4060-abae-ea8a29a40a08",
   "metadata": {
    "tags": []
   },
   "outputs": [],
   "source": [
    "def default_func(x):\n",
    "    return x"
   ]
  },
  {
   "cell_type": "code",
   "execution_count": 12,
   "id": "9e6fa987-f473-4df9-9e62-05fd08a842a5",
   "metadata": {
    "tags": []
   },
   "outputs": [],
   "source": [
    "def remove_mode_value(x):\n",
    "    return x[~x.isin(x.mode().values)]"
   ]
  },
  {
   "cell_type": "code",
   "execution_count": 13,
   "id": "407d733b-0ebc-467c-bab4-6f9ab5bf844c",
   "metadata": {
    "tags": []
   },
   "outputs": [],
   "source": [
    "def logx(x):\n",
    "    return np.log(x)"
   ]
  },
  {
   "cell_type": "code",
   "execution_count": 14,
   "id": "f8666e61-edcf-4b34-9676-3ae246e4973e",
   "metadata": {
    "tags": []
   },
   "outputs": [],
   "source": [
    "def plot_multi_hist_aly(df,cols=[],funcs=[default_func, remove_mode_value, logx], lvl=3):\n",
    "    def df_stat_after_transformed(df_trans):\n",
    "        def pct_change(series):\n",
    "            first_e = series.iloc[0]\n",
    "            pct_chg = (series - first_e) / first_e * 100\n",
    "            pct_chg.iloc[0] = 100.\n",
    "            return pct_chg\n",
    "        stat_infos = []\n",
    "        for data_trans_series in df_trans:\n",
    "            # Get stats info\n",
    "            stat_info = []\n",
    "            for s in stat_opt:\n",
    "                if s == 'count':\n",
    "                    stat_info.append(data_trans_series.count())\n",
    "                elif s == 'mean':\n",
    "                    stat_info.append(data_trans_series.mean())\n",
    "                elif s == 'median':\n",
    "                    stat_info.append(data_trans_series.median())\n",
    "                elif s == 'min':\n",
    "                    stat_info.append(data_trans_series.min())\n",
    "                elif s == 'max':\n",
    "                    stat_info.append(data_trans_series.max())\n",
    "                elif s == 'std':\n",
    "                    stat_info.append(data_trans_series.std())\n",
    "            stat_infos.append(stat_info)\n",
    "        col_stat = stat_opt\n",
    "        index_stat = [f.__name__ for f in funcs]\n",
    "        stat_df = pd.DataFrame(data=stat_infos, columns=col_stat, index=index_stat)\n",
    "        for c in stat_df.columns:\n",
    "            stat_df[f'{c}_pct_chg'] = pct_change(stat_df[c])\n",
    "        stat_df = stat_df[ordered_stat_opt]\n",
    "        result_df = stat_df.T\n",
    "        return result_df\n",
    "    \n",
    "    nrows, ncols = len(cols), len(funcs)\n",
    "    for i, c in enumerate(cols):\n",
    "        display(HTML(f'<h{lvl}>{c}</h{lvl}>'))\n",
    "        if c in df.columns:\n",
    "            data_trans = []\n",
    "            for f in funcs:\n",
    "                pre_data_tran = data_trans[-1] if len(data_trans) > 0 else df[c]\n",
    "                trans_data = f(pre_data_tran)\n",
    "                data_trans.append(trans_data)\n",
    "            # plot section \n",
    "            fig, axs = plt.subplots(1,ncols, figsize=(4* ncols, 4 ))\n",
    "            for j, d in enumerate(data_trans):\n",
    "                sel_ax = axs[j]\n",
    "                sel_ax.set_title(f'{cols[i]}\\n{funcs[j].__name__}')\n",
    "                d.replace([np.inf, -np.inf], np.nan).plot(kind='hist',bins=100,ax=sel_ax)\n",
    "            pd.options.display.float_format = '{:.3f}'.format\n",
    "            display(df_stat_after_transformed(data_trans))\n",
    "            plt.tight_layout()\n",
    "            plt.savefig(os.path.join(NAMESPACE.img, f'{c}.jpg'), dpi=500)\n",
    "            plt.show()\n",
    "            print('\\n\\n\\n')"
   ]
  },
  {
   "cell_type": "code",
   "execution_count": 15,
   "id": "97c75bff-a364-4f65-8217-27181be6b3da",
   "metadata": {
    "tags": []
   },
   "outputs": [],
   "source": [
    "def aly_cat_col(df,cat_cols,k=10, lvl=3):\n",
    "    for cat_col in cat_cols: \n",
    "        display(HTML(f'<h{lvl}>{cat_col}</h{lvl}>'))\n",
    "        fig,axs=plt.subplots(1,2,figsize=(10,5))\n",
    "        display(df[cat_col].value_counts())\n",
    "        df[cat_col].value_counts()[:k].plot(kind='bar', rot=80,ax=axs[0])\n",
    "        df[cat_col].value_counts()[:k].plot(kind='pie', autopct='%.2f%%',ax=axs[1])\n",
    "        plt.savefig(os.path.join(NAMESPACE.img, f'{cat_col}.jpg'), dpi=500)\n",
    "        plt.show()"
   ]
  },
  {
   "cell_type": "code",
   "execution_count": 16,
   "id": "b5a4ad68-a316-4ac4-863f-7eff6ab3e6e6",
   "metadata": {
    "tags": []
   },
   "outputs": [],
   "source": [
    "def download_or_reload(saved_file):\n",
    "    if not os.path.exists(saved_file):\n",
    "        query = NAMESPACE.QUERY\n",
    "        cur.execute(query)\n",
    "        result = cur.fetchall()\n",
    "        column_names = [c[0] for c in cur.description]\n",
    "        df = pd.DataFrame(result, columns=column_names)\n",
    "        df.to_pickle(saved_file)\n",
    "    df = pd.read_pickle(saved_file)\n",
    "    print(f'Len {len(df)}')\n",
    "    return df"
   ]
  },
  {
   "cell_type": "code",
   "execution_count": 17,
   "id": "bd0ab53c-964f-46a2-816b-de60cb1aef97",
   "metadata": {
    "tags": []
   },
   "outputs": [],
   "source": [
    "def gen_info_stats(df):\n",
    "    def info_stats(c):\n",
    "        dtype = df[c].dtype\n",
    "        n = len(df)\n",
    "        null_pct = (n - df[c].count()) / n\n",
    "        nunique = df[c].nunique()\n",
    "        nunique_pct = nunique / n\n",
    "        unique_values = df[c].unique()[:3]\n",
    "        return c, null_pct, dtype, nunique, nunique_pct, unique_values\n",
    "\n",
    "    data_stats = []\n",
    "    for c in df.columns:\n",
    "        data_stats.append(info_stats(c))\n",
    "    data_stats = pd.DataFrame(data=data_stats,columns=['Column', 'Null Pct', 'Dtype', 'Nunique', 'Nunique Pct', 'Sample Unique Value'])\n",
    "    return data_stats"
   ]
  },
  {
   "cell_type": "markdown",
   "id": "e763f283-0954-4025-861f-2a1d41f8006d",
   "metadata": {},
   "source": [
    "# Sample1-Sub*"
   ]
  },
  {
   "cell_type": "code",
   "execution_count": 18,
   "id": "fa7beaf8-631d-4737-ae21-83b032630489",
   "metadata": {},
   "outputs": [
    {
     "data": {
      "text/plain": [
       "'SELECT X.* FROM DW_ANALYTICS.DW_INS_TRANFER_FCT X JOIN CINS_TMP_ALY_CUST_SAMPLE1_SUB1 SAM ON X.CUSTOMER_CDE = SAM.CUSTOMER_CDE'"
      ]
     },
     "execution_count": 18,
     "metadata": {},
     "output_type": "execute_result"
    }
   ],
   "source": [
    "NAMESPACE.QUERY"
   ]
  },
  {
   "cell_type": "code",
   "execution_count": 19,
   "id": "794d13f2-427f-4a10-8e62-5318bc6d3536",
   "metadata": {
    "tags": []
   },
   "outputs": [
    {
     "name": "stdout",
     "output_type": "stream",
     "text": [
      "Len 6\n"
     ]
    }
   ],
   "source": [
    "df = download_or_reload(NAMESPACE.data_sample_nm)"
   ]
  },
  {
   "cell_type": "code",
   "execution_count": 20,
   "id": "9f0b4e99-817b-4465-a9eb-3d664753adb0",
   "metadata": {
    "tags": []
   },
   "outputs": [
    {
     "data": {
      "text/html": [
       "<div>\n",
       "<style scoped>\n",
       "    .dataframe tbody tr th:only-of-type {\n",
       "        vertical-align: middle;\n",
       "    }\n",
       "\n",
       "    .dataframe tbody tr th {\n",
       "        vertical-align: top;\n",
       "    }\n",
       "\n",
       "    .dataframe thead th {\n",
       "        text-align: right;\n",
       "    }\n",
       "</style>\n",
       "<table border=\"1\" class=\"dataframe\">\n",
       "  <thead>\n",
       "    <tr style=\"text-align: right;\">\n",
       "      <th></th>\n",
       "      <th>TXN_NO</th>\n",
       "      <th>SUB_BRANCH_KEY</th>\n",
       "      <th>SUB_BRANCH_CDE</th>\n",
       "      <th>ACCT_NO_1</th>\n",
       "      <th>ACCT_NO_2</th>\n",
       "      <th>CUSTOMER_KEY</th>\n",
       "      <th>CUSTOMER_CDE</th>\n",
       "      <th>PARTNER_CDE</th>\n",
       "      <th>SUB_SECTOR_CDE</th>\n",
       "      <th>DAO_KEY</th>\n",
       "      <th>...</th>\n",
       "      <th>SUB_PRODUCT_CDE</th>\n",
       "      <th>SUB_PRODUCT_NM</th>\n",
       "      <th>VALUE_DT</th>\n",
       "      <th>AMT</th>\n",
       "      <th>AMT_LCL</th>\n",
       "      <th>PROCESS_DT</th>\n",
       "      <th>REC_CREATE_DT</th>\n",
       "      <th>REC_UPDATE_DT</th>\n",
       "      <th>SALES_ID</th>\n",
       "      <th>SALES_NAME</th>\n",
       "    </tr>\n",
       "  </thead>\n",
       "  <tbody>\n",
       "    <tr>\n",
       "      <th>0</th>\n",
       "      <td>-1</td>\n",
       "      <td>118</td>\n",
       "      <td>VN0011551</td>\n",
       "      <td>040007291592</td>\n",
       "      <td>020058699668</td>\n",
       "      <td>33172691</td>\n",
       "      <td>1971887</td>\n",
       "      <td>543354</td>\n",
       "      <td>1700</td>\n",
       "      <td>-1</td>\n",
       "      <td>...</td>\n",
       "      <td>Covid19</td>\n",
       "      <td>None</td>\n",
       "      <td>2020-03-26</td>\n",
       "      <td>2000000.0</td>\n",
       "      <td>2000000.0</td>\n",
       "      <td>2020-03-26</td>\n",
       "      <td>2020-03-27 10:02:25</td>\n",
       "      <td>2020-03-27 10:02:25</td>\n",
       "      <td>None</td>\n",
       "      <td>None</td>\n",
       "    </tr>\n",
       "    <tr>\n",
       "      <th>1</th>\n",
       "      <td>-1</td>\n",
       "      <td>118</td>\n",
       "      <td>VN0011551</td>\n",
       "      <td>040007291592</td>\n",
       "      <td>020058699668</td>\n",
       "      <td>33172691</td>\n",
       "      <td>1971887</td>\n",
       "      <td>543354</td>\n",
       "      <td>1700</td>\n",
       "      <td>-1</td>\n",
       "      <td>...</td>\n",
       "      <td>Covid19</td>\n",
       "      <td>None</td>\n",
       "      <td>2020-03-26</td>\n",
       "      <td>2000000.0</td>\n",
       "      <td>2000000.0</td>\n",
       "      <td>2020-03-26</td>\n",
       "      <td>2020-03-27 10:02:25</td>\n",
       "      <td>2020-03-27 10:02:25</td>\n",
       "      <td>None</td>\n",
       "      <td>None</td>\n",
       "    </tr>\n",
       "    <tr>\n",
       "      <th>2</th>\n",
       "      <td>FT20087D1J5V</td>\n",
       "      <td>276</td>\n",
       "      <td>VN0012962</td>\n",
       "      <td>VND-10001-8606-2962</td>\n",
       "      <td>020058699668</td>\n",
       "      <td>34024557</td>\n",
       "      <td>3501473</td>\n",
       "      <td>543354</td>\n",
       "      <td>1700</td>\n",
       "      <td>30138</td>\n",
       "      <td>...</td>\n",
       "      <td>Covid19</td>\n",
       "      <td>None</td>\n",
       "      <td>2020-03-27</td>\n",
       "      <td>100000.0</td>\n",
       "      <td>100000.0</td>\n",
       "      <td>2020-03-27</td>\n",
       "      <td>2020-03-28 09:25:49</td>\n",
       "      <td>2020-03-28 09:25:49</td>\n",
       "      <td>None</td>\n",
       "      <td>None</td>\n",
       "    </tr>\n",
       "    <tr>\n",
       "      <th>3</th>\n",
       "      <td>-1</td>\n",
       "      <td>118</td>\n",
       "      <td>VN0011551</td>\n",
       "      <td>040007291592</td>\n",
       "      <td>020058699668</td>\n",
       "      <td>33172691</td>\n",
       "      <td>1971887</td>\n",
       "      <td>543354</td>\n",
       "      <td>1700</td>\n",
       "      <td>-1</td>\n",
       "      <td>...</td>\n",
       "      <td>Covid19</td>\n",
       "      <td>None</td>\n",
       "      <td>2020-03-27</td>\n",
       "      <td>1600000.0</td>\n",
       "      <td>1600000.0</td>\n",
       "      <td>2020-03-27</td>\n",
       "      <td>2020-03-28 09:25:49</td>\n",
       "      <td>2020-03-28 09:25:49</td>\n",
       "      <td>None</td>\n",
       "      <td>None</td>\n",
       "    </tr>\n",
       "    <tr>\n",
       "      <th>4</th>\n",
       "      <td>-1</td>\n",
       "      <td>118</td>\n",
       "      <td>VN0011551</td>\n",
       "      <td>040007291592</td>\n",
       "      <td>020058699668</td>\n",
       "      <td>33172691</td>\n",
       "      <td>1971887</td>\n",
       "      <td>543354</td>\n",
       "      <td>1700</td>\n",
       "      <td>-1</td>\n",
       "      <td>...</td>\n",
       "      <td>Covid19</td>\n",
       "      <td>None</td>\n",
       "      <td>2020-03-27</td>\n",
       "      <td>1600000.0</td>\n",
       "      <td>1600000.0</td>\n",
       "      <td>2020-03-27</td>\n",
       "      <td>2020-03-28 09:25:49</td>\n",
       "      <td>2020-03-28 09:25:49</td>\n",
       "      <td>None</td>\n",
       "      <td>None</td>\n",
       "    </tr>\n",
       "    <tr>\n",
       "      <th>5</th>\n",
       "      <td>FT20087YZ8QT</td>\n",
       "      <td>118</td>\n",
       "      <td>VN0011551</td>\n",
       "      <td>040007291592</td>\n",
       "      <td>020058699668</td>\n",
       "      <td>33172691</td>\n",
       "      <td>1971887</td>\n",
       "      <td>543354</td>\n",
       "      <td>1700</td>\n",
       "      <td>-1</td>\n",
       "      <td>...</td>\n",
       "      <td>Covid19</td>\n",
       "      <td>None</td>\n",
       "      <td>2020-03-27</td>\n",
       "      <td>1600000.0</td>\n",
       "      <td>1600000.0</td>\n",
       "      <td>2020-03-27</td>\n",
       "      <td>2020-03-28 09:25:49</td>\n",
       "      <td>2020-03-28 09:25:49</td>\n",
       "      <td>None</td>\n",
       "      <td>None</td>\n",
       "    </tr>\n",
       "  </tbody>\n",
       "</table>\n",
       "<p>6 rows × 24 columns</p>\n",
       "</div>"
      ],
      "text/plain": [
       "         TXN_NO  SUB_BRANCH_KEY SUB_BRANCH_CDE            ACCT_NO_1  \\\n",
       "0            -1             118      VN0011551         040007291592   \n",
       "1            -1             118      VN0011551         040007291592   \n",
       "2  FT20087D1J5V             276      VN0012962  VND-10001-8606-2962   \n",
       "3            -1             118      VN0011551         040007291592   \n",
       "4            -1             118      VN0011551         040007291592   \n",
       "5  FT20087YZ8QT             118      VN0011551         040007291592   \n",
       "\n",
       "      ACCT_NO_2  CUSTOMER_KEY CUSTOMER_CDE PARTNER_CDE SUB_SECTOR_CDE  \\\n",
       "0  020058699668      33172691      1971887      543354           1700   \n",
       "1  020058699668      33172691      1971887      543354           1700   \n",
       "2  020058699668      34024557      3501473      543354           1700   \n",
       "3  020058699668      33172691      1971887      543354           1700   \n",
       "4  020058699668      33172691      1971887      543354           1700   \n",
       "5  020058699668      33172691      1971887      543354           1700   \n",
       "\n",
       "   DAO_KEY  ... SUB_PRODUCT_CDE SUB_PRODUCT_NM   VALUE_DT        AMT  \\\n",
       "0       -1  ...         Covid19           None 2020-03-26  2000000.0   \n",
       "1       -1  ...         Covid19           None 2020-03-26  2000000.0   \n",
       "2    30138  ...         Covid19           None 2020-03-27   100000.0   \n",
       "3       -1  ...         Covid19           None 2020-03-27  1600000.0   \n",
       "4       -1  ...         Covid19           None 2020-03-27  1600000.0   \n",
       "5       -1  ...         Covid19           None 2020-03-27  1600000.0   \n",
       "\n",
       "     AMT_LCL PROCESS_DT       REC_CREATE_DT       REC_UPDATE_DT  SALES_ID  \\\n",
       "0  2000000.0 2020-03-26 2020-03-27 10:02:25 2020-03-27 10:02:25      None   \n",
       "1  2000000.0 2020-03-26 2020-03-27 10:02:25 2020-03-27 10:02:25      None   \n",
       "2   100000.0 2020-03-27 2020-03-28 09:25:49 2020-03-28 09:25:49      None   \n",
       "3  1600000.0 2020-03-27 2020-03-28 09:25:49 2020-03-28 09:25:49      None   \n",
       "4  1600000.0 2020-03-27 2020-03-28 09:25:49 2020-03-28 09:25:49      None   \n",
       "5  1600000.0 2020-03-27 2020-03-28 09:25:49 2020-03-28 09:25:49      None   \n",
       "\n",
       "  SALES_NAME  \n",
       "0       None  \n",
       "1       None  \n",
       "2       None  \n",
       "3       None  \n",
       "4       None  \n",
       "5       None  \n",
       "\n",
       "[6 rows x 24 columns]"
      ]
     },
     "execution_count": 20,
     "metadata": {},
     "output_type": "execute_result"
    }
   ],
   "source": [
    "df"
   ]
  },
  {
   "cell_type": "code",
   "execution_count": 21,
   "id": "5bf2ca50-3f3f-48d7-a1e5-33ffb159c5f6",
   "metadata": {
    "tags": []
   },
   "outputs": [
    {
     "data": {
      "text/html": [
       "<div>\n",
       "<style scoped>\n",
       "    .dataframe tbody tr th:only-of-type {\n",
       "        vertical-align: middle;\n",
       "    }\n",
       "\n",
       "    .dataframe tbody tr th {\n",
       "        vertical-align: top;\n",
       "    }\n",
       "\n",
       "    .dataframe thead th {\n",
       "        text-align: right;\n",
       "    }\n",
       "</style>\n",
       "<table border=\"1\" class=\"dataframe\">\n",
       "  <thead>\n",
       "    <tr style=\"text-align: right;\">\n",
       "      <th></th>\n",
       "      <th>Column</th>\n",
       "      <th>Null Pct</th>\n",
       "      <th>Dtype</th>\n",
       "      <th>Nunique</th>\n",
       "      <th>Nunique Pct</th>\n",
       "      <th>Sample Unique Value</th>\n",
       "    </tr>\n",
       "  </thead>\n",
       "  <tbody>\n",
       "    <tr>\n",
       "      <th>0</th>\n",
       "      <td>TXN_NO</td>\n",
       "      <td>0.0</td>\n",
       "      <td>object</td>\n",
       "      <td>3</td>\n",
       "      <td>0.500000</td>\n",
       "      <td>[-1, FT20087D1J5V, FT20087YZ8QT]</td>\n",
       "    </tr>\n",
       "    <tr>\n",
       "      <th>1</th>\n",
       "      <td>SUB_BRANCH_KEY</td>\n",
       "      <td>0.0</td>\n",
       "      <td>int64</td>\n",
       "      <td>2</td>\n",
       "      <td>0.333333</td>\n",
       "      <td>[118, 276]</td>\n",
       "    </tr>\n",
       "    <tr>\n",
       "      <th>2</th>\n",
       "      <td>SUB_BRANCH_CDE</td>\n",
       "      <td>0.0</td>\n",
       "      <td>object</td>\n",
       "      <td>2</td>\n",
       "      <td>0.333333</td>\n",
       "      <td>[VN0011551, VN0012962]</td>\n",
       "    </tr>\n",
       "    <tr>\n",
       "      <th>3</th>\n",
       "      <td>ACCT_NO_1</td>\n",
       "      <td>0.0</td>\n",
       "      <td>object</td>\n",
       "      <td>2</td>\n",
       "      <td>0.333333</td>\n",
       "      <td>[040007291592, VND-10001-8606-2962]</td>\n",
       "    </tr>\n",
       "    <tr>\n",
       "      <th>4</th>\n",
       "      <td>ACCT_NO_2</td>\n",
       "      <td>0.0</td>\n",
       "      <td>object</td>\n",
       "      <td>1</td>\n",
       "      <td>0.166667</td>\n",
       "      <td>[020058699668]</td>\n",
       "    </tr>\n",
       "    <tr>\n",
       "      <th>5</th>\n",
       "      <td>CUSTOMER_KEY</td>\n",
       "      <td>0.0</td>\n",
       "      <td>int64</td>\n",
       "      <td>2</td>\n",
       "      <td>0.333333</td>\n",
       "      <td>[33172691, 34024557]</td>\n",
       "    </tr>\n",
       "    <tr>\n",
       "      <th>6</th>\n",
       "      <td>CUSTOMER_CDE</td>\n",
       "      <td>0.0</td>\n",
       "      <td>object</td>\n",
       "      <td>2</td>\n",
       "      <td>0.333333</td>\n",
       "      <td>[1971887, 3501473]</td>\n",
       "    </tr>\n",
       "    <tr>\n",
       "      <th>7</th>\n",
       "      <td>PARTNER_CDE</td>\n",
       "      <td>0.0</td>\n",
       "      <td>object</td>\n",
       "      <td>1</td>\n",
       "      <td>0.166667</td>\n",
       "      <td>[543354]</td>\n",
       "    </tr>\n",
       "    <tr>\n",
       "      <th>8</th>\n",
       "      <td>SUB_SECTOR_CDE</td>\n",
       "      <td>0.0</td>\n",
       "      <td>object</td>\n",
       "      <td>1</td>\n",
       "      <td>0.166667</td>\n",
       "      <td>[1700]</td>\n",
       "    </tr>\n",
       "    <tr>\n",
       "      <th>9</th>\n",
       "      <td>DAO_KEY</td>\n",
       "      <td>0.0</td>\n",
       "      <td>int64</td>\n",
       "      <td>2</td>\n",
       "      <td>0.333333</td>\n",
       "      <td>[-1, 30138]</td>\n",
       "    </tr>\n",
       "    <tr>\n",
       "      <th>10</th>\n",
       "      <td>DAO_CDE</td>\n",
       "      <td>0.0</td>\n",
       "      <td>object</td>\n",
       "      <td>2</td>\n",
       "      <td>0.333333</td>\n",
       "      <td>[28706, 13550]</td>\n",
       "    </tr>\n",
       "    <tr>\n",
       "      <th>11</th>\n",
       "      <td>CURRENCY_CDE</td>\n",
       "      <td>0.0</td>\n",
       "      <td>object</td>\n",
       "      <td>1</td>\n",
       "      <td>0.166667</td>\n",
       "      <td>[VND]</td>\n",
       "    </tr>\n",
       "    <tr>\n",
       "      <th>12</th>\n",
       "      <td>NARRATIVE</td>\n",
       "      <td>0.0</td>\n",
       "      <td>object</td>\n",
       "      <td>3</td>\n",
       "      <td>0.500000</td>\n",
       "      <td>[RB:HDBH:null TRAN THI KIM THANH\\t TT PHI BAO ...</td>\n",
       "    </tr>\n",
       "    <tr>\n",
       "      <th>13</th>\n",
       "      <td>POLICY_NO</td>\n",
       "      <td>0.0</td>\n",
       "      <td>object</td>\n",
       "      <td>1</td>\n",
       "      <td>0.166667</td>\n",
       "      <td>[null]</td>\n",
       "    </tr>\n",
       "    <tr>\n",
       "      <th>14</th>\n",
       "      <td>SUB_PRODUCT_CDE</td>\n",
       "      <td>0.0</td>\n",
       "      <td>object</td>\n",
       "      <td>1</td>\n",
       "      <td>0.166667</td>\n",
       "      <td>[Covid19]</td>\n",
       "    </tr>\n",
       "    <tr>\n",
       "      <th>15</th>\n",
       "      <td>SUB_PRODUCT_NM</td>\n",
       "      <td>1.0</td>\n",
       "      <td>object</td>\n",
       "      <td>0</td>\n",
       "      <td>0.000000</td>\n",
       "      <td>[None]</td>\n",
       "    </tr>\n",
       "    <tr>\n",
       "      <th>16</th>\n",
       "      <td>VALUE_DT</td>\n",
       "      <td>0.0</td>\n",
       "      <td>datetime64[ns]</td>\n",
       "      <td>2</td>\n",
       "      <td>0.333333</td>\n",
       "      <td>[2020-03-26T00:00:00.000000000, 2020-03-27T00:...</td>\n",
       "    </tr>\n",
       "    <tr>\n",
       "      <th>17</th>\n",
       "      <td>AMT</td>\n",
       "      <td>0.0</td>\n",
       "      <td>float64</td>\n",
       "      <td>3</td>\n",
       "      <td>0.500000</td>\n",
       "      <td>[2000000.0, 100000.0, 1600000.0]</td>\n",
       "    </tr>\n",
       "    <tr>\n",
       "      <th>18</th>\n",
       "      <td>AMT_LCL</td>\n",
       "      <td>0.0</td>\n",
       "      <td>float64</td>\n",
       "      <td>3</td>\n",
       "      <td>0.500000</td>\n",
       "      <td>[2000000.0, 100000.0, 1600000.0]</td>\n",
       "    </tr>\n",
       "    <tr>\n",
       "      <th>19</th>\n",
       "      <td>PROCESS_DT</td>\n",
       "      <td>0.0</td>\n",
       "      <td>datetime64[ns]</td>\n",
       "      <td>2</td>\n",
       "      <td>0.333333</td>\n",
       "      <td>[2020-03-26T00:00:00.000000000, 2020-03-27T00:...</td>\n",
       "    </tr>\n",
       "    <tr>\n",
       "      <th>20</th>\n",
       "      <td>REC_CREATE_DT</td>\n",
       "      <td>0.0</td>\n",
       "      <td>datetime64[ns]</td>\n",
       "      <td>2</td>\n",
       "      <td>0.333333</td>\n",
       "      <td>[2020-03-27T10:02:25.000000000, 2020-03-28T09:...</td>\n",
       "    </tr>\n",
       "    <tr>\n",
       "      <th>21</th>\n",
       "      <td>REC_UPDATE_DT</td>\n",
       "      <td>0.0</td>\n",
       "      <td>datetime64[ns]</td>\n",
       "      <td>2</td>\n",
       "      <td>0.333333</td>\n",
       "      <td>[2020-03-27T10:02:25.000000000, 2020-03-28T09:...</td>\n",
       "    </tr>\n",
       "    <tr>\n",
       "      <th>22</th>\n",
       "      <td>SALES_ID</td>\n",
       "      <td>1.0</td>\n",
       "      <td>object</td>\n",
       "      <td>0</td>\n",
       "      <td>0.000000</td>\n",
       "      <td>[None]</td>\n",
       "    </tr>\n",
       "    <tr>\n",
       "      <th>23</th>\n",
       "      <td>SALES_NAME</td>\n",
       "      <td>1.0</td>\n",
       "      <td>object</td>\n",
       "      <td>0</td>\n",
       "      <td>0.000000</td>\n",
       "      <td>[None]</td>\n",
       "    </tr>\n",
       "  </tbody>\n",
       "</table>\n",
       "</div>"
      ],
      "text/plain": [
       "             Column  Null Pct           Dtype  Nunique  Nunique Pct  \\\n",
       "0            TXN_NO       0.0          object        3     0.500000   \n",
       "1    SUB_BRANCH_KEY       0.0           int64        2     0.333333   \n",
       "2    SUB_BRANCH_CDE       0.0          object        2     0.333333   \n",
       "3         ACCT_NO_1       0.0          object        2     0.333333   \n",
       "4         ACCT_NO_2       0.0          object        1     0.166667   \n",
       "5      CUSTOMER_KEY       0.0           int64        2     0.333333   \n",
       "6      CUSTOMER_CDE       0.0          object        2     0.333333   \n",
       "7       PARTNER_CDE       0.0          object        1     0.166667   \n",
       "8    SUB_SECTOR_CDE       0.0          object        1     0.166667   \n",
       "9           DAO_KEY       0.0           int64        2     0.333333   \n",
       "10          DAO_CDE       0.0          object        2     0.333333   \n",
       "11     CURRENCY_CDE       0.0          object        1     0.166667   \n",
       "12        NARRATIVE       0.0          object        3     0.500000   \n",
       "13        POLICY_NO       0.0          object        1     0.166667   \n",
       "14  SUB_PRODUCT_CDE       0.0          object        1     0.166667   \n",
       "15   SUB_PRODUCT_NM       1.0          object        0     0.000000   \n",
       "16         VALUE_DT       0.0  datetime64[ns]        2     0.333333   \n",
       "17              AMT       0.0         float64        3     0.500000   \n",
       "18          AMT_LCL       0.0         float64        3     0.500000   \n",
       "19       PROCESS_DT       0.0  datetime64[ns]        2     0.333333   \n",
       "20    REC_CREATE_DT       0.0  datetime64[ns]        2     0.333333   \n",
       "21    REC_UPDATE_DT       0.0  datetime64[ns]        2     0.333333   \n",
       "22         SALES_ID       1.0          object        0     0.000000   \n",
       "23       SALES_NAME       1.0          object        0     0.000000   \n",
       "\n",
       "                                  Sample Unique Value  \n",
       "0                    [-1, FT20087D1J5V, FT20087YZ8QT]  \n",
       "1                                          [118, 276]  \n",
       "2                              [VN0011551, VN0012962]  \n",
       "3                 [040007291592, VND-10001-8606-2962]  \n",
       "4                                      [020058699668]  \n",
       "5                                [33172691, 34024557]  \n",
       "6                                  [1971887, 3501473]  \n",
       "7                                            [543354]  \n",
       "8                                              [1700]  \n",
       "9                                         [-1, 30138]  \n",
       "10                                     [28706, 13550]  \n",
       "11                                              [VND]  \n",
       "12  [RB:HDBH:null TRAN THI KIM THANH\\t TT PHI BAO ...  \n",
       "13                                             [null]  \n",
       "14                                          [Covid19]  \n",
       "15                                             [None]  \n",
       "16  [2020-03-26T00:00:00.000000000, 2020-03-27T00:...  \n",
       "17                   [2000000.0, 100000.0, 1600000.0]  \n",
       "18                   [2000000.0, 100000.0, 1600000.0]  \n",
       "19  [2020-03-26T00:00:00.000000000, 2020-03-27T00:...  \n",
       "20  [2020-03-27T10:02:25.000000000, 2020-03-28T09:...  \n",
       "21  [2020-03-27T10:02:25.000000000, 2020-03-28T09:...  \n",
       "22                                             [None]  \n",
       "23                                             [None]  "
      ]
     },
     "execution_count": 21,
     "metadata": {},
     "output_type": "execute_result"
    }
   ],
   "source": [
    "data_stats = gen_info_stats(df)\n",
    "data_stats"
   ]
  },
  {
   "cell_type": "code",
   "execution_count": 22,
   "id": "e304ba95-6c6f-4270-9674-e61b13907f4c",
   "metadata": {
    "tags": []
   },
   "outputs": [
    {
     "data": {
      "text/html": [
       "<div>\n",
       "<style scoped>\n",
       "    .dataframe tbody tr th:only-of-type {\n",
       "        vertical-align: middle;\n",
       "    }\n",
       "\n",
       "    .dataframe tbody tr th {\n",
       "        vertical-align: top;\n",
       "    }\n",
       "\n",
       "    .dataframe thead th {\n",
       "        text-align: right;\n",
       "    }\n",
       "</style>\n",
       "<table border=\"1\" class=\"dataframe\">\n",
       "  <thead>\n",
       "    <tr style=\"text-align: right;\">\n",
       "      <th></th>\n",
       "      <th>SUB_BRANCH_KEY</th>\n",
       "      <th>CUSTOMER_KEY</th>\n",
       "      <th>DAO_KEY</th>\n",
       "      <th>AMT</th>\n",
       "      <th>AMT_LCL</th>\n",
       "    </tr>\n",
       "  </thead>\n",
       "  <tbody>\n",
       "    <tr>\n",
       "      <th>count</th>\n",
       "      <td>6.000000</td>\n",
       "      <td>6.000000e+00</td>\n",
       "      <td>6.000000</td>\n",
       "      <td>6.000000e+00</td>\n",
       "      <td>6.000000e+00</td>\n",
       "    </tr>\n",
       "    <tr>\n",
       "      <th>mean</th>\n",
       "      <td>144.333333</td>\n",
       "      <td>3.331467e+07</td>\n",
       "      <td>5022.166667</td>\n",
       "      <td>1.483333e+06</td>\n",
       "      <td>1.483333e+06</td>\n",
       "    </tr>\n",
       "    <tr>\n",
       "      <th>std</th>\n",
       "      <td>64.503230</td>\n",
       "      <td>3.477728e+05</td>\n",
       "      <td>12304.195226</td>\n",
       "      <td>7.054549e+05</td>\n",
       "      <td>7.054549e+05</td>\n",
       "    </tr>\n",
       "    <tr>\n",
       "      <th>min</th>\n",
       "      <td>118.000000</td>\n",
       "      <td>3.317269e+07</td>\n",
       "      <td>-1.000000</td>\n",
       "      <td>1.000000e+05</td>\n",
       "      <td>1.000000e+05</td>\n",
       "    </tr>\n",
       "    <tr>\n",
       "      <th>25%</th>\n",
       "      <td>118.000000</td>\n",
       "      <td>3.317269e+07</td>\n",
       "      <td>-1.000000</td>\n",
       "      <td>1.600000e+06</td>\n",
       "      <td>1.600000e+06</td>\n",
       "    </tr>\n",
       "    <tr>\n",
       "      <th>50%</th>\n",
       "      <td>118.000000</td>\n",
       "      <td>3.317269e+07</td>\n",
       "      <td>-1.000000</td>\n",
       "      <td>1.600000e+06</td>\n",
       "      <td>1.600000e+06</td>\n",
       "    </tr>\n",
       "    <tr>\n",
       "      <th>75%</th>\n",
       "      <td>118.000000</td>\n",
       "      <td>3.317269e+07</td>\n",
       "      <td>-1.000000</td>\n",
       "      <td>1.900000e+06</td>\n",
       "      <td>1.900000e+06</td>\n",
       "    </tr>\n",
       "    <tr>\n",
       "      <th>max</th>\n",
       "      <td>276.000000</td>\n",
       "      <td>3.402456e+07</td>\n",
       "      <td>30138.000000</td>\n",
       "      <td>2.000000e+06</td>\n",
       "      <td>2.000000e+06</td>\n",
       "    </tr>\n",
       "  </tbody>\n",
       "</table>\n",
       "</div>"
      ],
      "text/plain": [
       "       SUB_BRANCH_KEY  CUSTOMER_KEY       DAO_KEY           AMT       AMT_LCL\n",
       "count        6.000000  6.000000e+00      6.000000  6.000000e+00  6.000000e+00\n",
       "mean       144.333333  3.331467e+07   5022.166667  1.483333e+06  1.483333e+06\n",
       "std         64.503230  3.477728e+05  12304.195226  7.054549e+05  7.054549e+05\n",
       "min        118.000000  3.317269e+07     -1.000000  1.000000e+05  1.000000e+05\n",
       "25%        118.000000  3.317269e+07     -1.000000  1.600000e+06  1.600000e+06\n",
       "50%        118.000000  3.317269e+07     -1.000000  1.600000e+06  1.600000e+06\n",
       "75%        118.000000  3.317269e+07     -1.000000  1.900000e+06  1.900000e+06\n",
       "max        276.000000  3.402456e+07  30138.000000  2.000000e+06  2.000000e+06"
      ]
     },
     "execution_count": 22,
     "metadata": {},
     "output_type": "execute_result"
    }
   ],
   "source": [
    "df.describe()"
   ]
  },
  {
   "cell_type": "markdown",
   "id": "c567a62a-5609-4126-81c8-351602cce3c7",
   "metadata": {},
   "source": [
    "## EDA"
   ]
  },
  {
   "cell_type": "markdown",
   "id": "575703f6-2e8c-48d4-8f57-4cf2e60b8df9",
   "metadata": {},
   "source": [
    "Selected some col data to EDA, possible these col are good to go, (can be customized):\n",
    "- Category data:\n",
    "    - Unique Pct <= x (too many leading data can be identified easily)\n",
    "    - Nunique > 1 (=1 doesn't mean anything)\n",
    "- Numerical data: good to select all"
   ]
  },
  {
   "cell_type": "code",
   "execution_count": 23,
   "id": "b64045ce-93d6-4bb3-8567-f6c6182c2a2f",
   "metadata": {
    "tags": []
   },
   "outputs": [
    {
     "data": {
      "text/html": [
       "<div>\n",
       "<style scoped>\n",
       "    .dataframe tbody tr th:only-of-type {\n",
       "        vertical-align: middle;\n",
       "    }\n",
       "\n",
       "    .dataframe tbody tr th {\n",
       "        vertical-align: top;\n",
       "    }\n",
       "\n",
       "    .dataframe thead th {\n",
       "        text-align: right;\n",
       "    }\n",
       "</style>\n",
       "<table border=\"1\" class=\"dataframe\">\n",
       "  <thead>\n",
       "    <tr style=\"text-align: right;\">\n",
       "      <th></th>\n",
       "      <th>Column</th>\n",
       "      <th>Null Pct</th>\n",
       "      <th>Dtype</th>\n",
       "      <th>Nunique</th>\n",
       "      <th>Nunique Pct</th>\n",
       "      <th>Sample Unique Value</th>\n",
       "    </tr>\n",
       "  </thead>\n",
       "  <tbody>\n",
       "    <tr>\n",
       "      <th>16</th>\n",
       "      <td>VALUE_DT</td>\n",
       "      <td>0.0</td>\n",
       "      <td>datetime64[ns]</td>\n",
       "      <td>2</td>\n",
       "      <td>0.333333</td>\n",
       "      <td>[2020-03-26T00:00:00.000000000, 2020-03-27T00:...</td>\n",
       "    </tr>\n",
       "    <tr>\n",
       "      <th>17</th>\n",
       "      <td>AMT</td>\n",
       "      <td>0.0</td>\n",
       "      <td>float64</td>\n",
       "      <td>3</td>\n",
       "      <td>0.500000</td>\n",
       "      <td>[2000000.0, 100000.0, 1600000.0]</td>\n",
       "    </tr>\n",
       "    <tr>\n",
       "      <th>18</th>\n",
       "      <td>AMT_LCL</td>\n",
       "      <td>0.0</td>\n",
       "      <td>float64</td>\n",
       "      <td>3</td>\n",
       "      <td>0.500000</td>\n",
       "      <td>[2000000.0, 100000.0, 1600000.0]</td>\n",
       "    </tr>\n",
       "    <tr>\n",
       "      <th>19</th>\n",
       "      <td>PROCESS_DT</td>\n",
       "      <td>0.0</td>\n",
       "      <td>datetime64[ns]</td>\n",
       "      <td>2</td>\n",
       "      <td>0.333333</td>\n",
       "      <td>[2020-03-26T00:00:00.000000000, 2020-03-27T00:...</td>\n",
       "    </tr>\n",
       "  </tbody>\n",
       "</table>\n",
       "</div>"
      ],
      "text/plain": [
       "        Column  Null Pct           Dtype  Nunique  Nunique Pct  \\\n",
       "16    VALUE_DT       0.0  datetime64[ns]        2     0.333333   \n",
       "17         AMT       0.0         float64        3     0.500000   \n",
       "18     AMT_LCL       0.0         float64        3     0.500000   \n",
       "19  PROCESS_DT       0.0  datetime64[ns]        2     0.333333   \n",
       "\n",
       "                                  Sample Unique Value  \n",
       "16  [2020-03-26T00:00:00.000000000, 2020-03-27T00:...  \n",
       "17                   [2000000.0, 100000.0, 1600000.0]  \n",
       "18                   [2000000.0, 100000.0, 1600000.0]  \n",
       "19  [2020-03-26T00:00:00.000000000, 2020-03-27T00:...  "
      ]
     },
     "metadata": {},
     "output_type": "display_data"
    }
   ],
   "source": [
    "valid_info = None \n",
    "try: \n",
    "    valid_info = data_stats[((data_stats['Nunique Pct'] <= 0.3) & (data_stats['Nunique']>1) & (data_stats['Dtype']==object)) | ((data_stats['Dtype']!=object) & (data_stats['Nunique']>1))]\n",
    "    valid_info = valid_info[~valid_info['Column'].isin([\n",
    "        'CARD_KEY', 'CUSTOMER_CDE', 'CUSTOMER_KEY', 'SUB_BRANCH_KEY', 'SUB_BRANCH_CDE', 'COMPANY_KEY',\n",
    "        'DAO_KEY', 'DAO_CDE', 'CREATE_DT', 'UPDATE_DT', 'NHAP_USERID', 'DUYET_USERID', 'NHANTHAMDINH_USERID',\n",
    "        'RECOMMENDER_NO', 'RECOMMENDER_NAME', 'CARDHOLDER_NO', 'CRD_BASIC_CDE', 'NEW_CARDCODE', 'ID_NO', 'INDIVIDUAL_ACCT_ID',\n",
    "        'TXN_ID', 'DAY_KEY', 'USER_KEY', 'USER_CDE', 'CORP_ID', 'ACCT_ID_FROM', 'SUB_BRANCH_KEY_FROM', 'SUB_BRANCH_CDE_FROM',\n",
    "        'SUB_BRANCH_CDE_TO', 'SUB_BRANCH_KEY_TO', 'ACCT_ID_FROM', 'ACCT_NICKNAME_FROM', 'CONSUMER_CDE', \n",
    "        'PARENT_ID', 'USER_ID', 'USER_NAME', 'USER_DO', 'PRODUCT_ID', 'FROM_ACCT_ID', 'TO_ACCT_FULLNAME', \n",
    "        'PAYMENT_REF_NO', 'CARD_NO', 'COLLATERAL_ID', 'LOCAL_REF', 'DESCRIPTION', 'ADDRESS', 'INPUTTER', 'AUTHOR_ID', 'REC_UPDATE_DT','REC_CREATE_DT',\n",
    "        'BLOCK_INDEX', 'CUSTOMER_ID', 'SUB_SECTOR_CDE', 'SMS_PHONE', 'ACCT_ID', 'PROCESS_DT'\n",
    "    ])]\n",
    "    \n",
    "    display(valid_info.head(50))\n",
    "except Exception as e:\n",
    "    pass"
   ]
  },
  {
   "cell_type": "code",
   "execution_count": 24,
   "id": "d2d35454-38fd-4831-b056-67983306026b",
   "metadata": {
    "tags": []
   },
   "outputs": [
    {
     "data": {
      "text/html": [
       "<h3>VALUE_DT</h3>"
      ],
      "text/plain": [
       "<IPython.core.display.HTML object>"
      ]
     },
     "metadata": {},
     "output_type": "display_data"
    },
    {
     "data": {
      "image/png": "[encoded data removed]",
      "text/plain": [
       "<Figure size 1500x500 with 2 Axes>"
      ]
     },
     "metadata": {},
     "output_type": "display_data"
    },
    {
     "name": "stdout",
     "output_type": "stream",
     "text": [
      "\n",
      "\n",
      "\n",
      "\n"
     ]
    },
    {
     "data": {
      "text/html": [
       "<h3>AMT</h3>"
      ],
      "text/plain": [
       "<IPython.core.display.HTML object>"
      ]
     },
     "metadata": {},
     "output_type": "display_data"
    },
    {
     "data": {
      "text/html": [
       "<div>\n",
       "<style scoped>\n",
       "    .dataframe tbody tr th:only-of-type {\n",
       "        vertical-align: middle;\n",
       "    }\n",
       "\n",
       "    .dataframe tbody tr th {\n",
       "        vertical-align: top;\n",
       "    }\n",
       "\n",
       "    .dataframe thead th {\n",
       "        text-align: right;\n",
       "    }\n",
       "</style>\n",
       "<table border=\"1\" class=\"dataframe\">\n",
       "  <thead>\n",
       "    <tr style=\"text-align: right;\">\n",
       "      <th></th>\n",
       "      <th>default_func</th>\n",
       "      <th>remove_mode_value</th>\n",
       "      <th>logx</th>\n",
       "    </tr>\n",
       "  </thead>\n",
       "  <tbody>\n",
       "    <tr>\n",
       "      <th>count</th>\n",
       "      <td>6.000</td>\n",
       "      <td>3.000</td>\n",
       "      <td>3.000</td>\n",
       "    </tr>\n",
       "    <tr>\n",
       "      <th>count_pct_chg</th>\n",
       "      <td>100.000</td>\n",
       "      <td>-50.000</td>\n",
       "      <td>-50.000</td>\n",
       "    </tr>\n",
       "    <tr>\n",
       "      <th>mean</th>\n",
       "      <td>1483333.333</td>\n",
       "      <td>1366666.667</td>\n",
       "      <td>13.510</td>\n",
       "    </tr>\n",
       "    <tr>\n",
       "      <th>mean_pct_chg</th>\n",
       "      <td>100.000</td>\n",
       "      <td>-7.865</td>\n",
       "      <td>-99.999</td>\n",
       "    </tr>\n",
       "    <tr>\n",
       "      <th>median</th>\n",
       "      <td>1600000.000</td>\n",
       "      <td>2000000.000</td>\n",
       "      <td>14.509</td>\n",
       "    </tr>\n",
       "    <tr>\n",
       "      <th>median_pct_chg</th>\n",
       "      <td>100.000</td>\n",
       "      <td>25.000</td>\n",
       "      <td>-99.999</td>\n",
       "    </tr>\n",
       "    <tr>\n",
       "      <th>min</th>\n",
       "      <td>100000.000</td>\n",
       "      <td>100000.000</td>\n",
       "      <td>11.513</td>\n",
       "    </tr>\n",
       "    <tr>\n",
       "      <th>min_pct_chg</th>\n",
       "      <td>100.000</td>\n",
       "      <td>0.000</td>\n",
       "      <td>-99.988</td>\n",
       "    </tr>\n",
       "    <tr>\n",
       "      <th>max</th>\n",
       "      <td>2000000.000</td>\n",
       "      <td>2000000.000</td>\n",
       "      <td>14.509</td>\n",
       "    </tr>\n",
       "    <tr>\n",
       "      <th>max_pct_chg</th>\n",
       "      <td>100.000</td>\n",
       "      <td>0.000</td>\n",
       "      <td>-99.999</td>\n",
       "    </tr>\n",
       "    <tr>\n",
       "      <th>std</th>\n",
       "      <td>705454.936</td>\n",
       "      <td>1096965.511</td>\n",
       "      <td>1.730</td>\n",
       "    </tr>\n",
       "    <tr>\n",
       "      <th>std_pct_chg</th>\n",
       "      <td>100.000</td>\n",
       "      <td>55.498</td>\n",
       "      <td>-100.000</td>\n",
       "    </tr>\n",
       "  </tbody>\n",
       "</table>\n",
       "</div>"
      ],
      "text/plain": [
       "                default_func  remove_mode_value     logx\n",
       "count                  6.000              3.000    3.000\n",
       "count_pct_chg        100.000            -50.000  -50.000\n",
       "mean             1483333.333        1366666.667   13.510\n",
       "mean_pct_chg         100.000             -7.865  -99.999\n",
       "median           1600000.000        2000000.000   14.509\n",
       "median_pct_chg       100.000             25.000  -99.999\n",
       "min               100000.000         100000.000   11.513\n",
       "min_pct_chg          100.000              0.000  -99.988\n",
       "max              2000000.000        2000000.000   14.509\n",
       "max_pct_chg          100.000              0.000  -99.999\n",
       "std               705454.936        1096965.511    1.730\n",
       "std_pct_chg          100.000             55.498 -100.000"
      ]
     },
     "metadata": {},
     "output_type": "display_data"
    },
    {
     "data": {
      "image/png": "[encoded data removed]",
      "text/plain": [
       "<Figure size 1200x400 with 3 Axes>"
      ]
     },
     "metadata": {},
     "output_type": "display_data"
    },
    {
     "name": "stdout",
     "output_type": "stream",
     "text": [
      "\n",
      "\n",
      "\n",
      "\n",
      "\n",
      "\n",
      "\n",
      "\n"
     ]
    },
    {
     "data": {
      "text/html": [
       "<h3>AMT_LCL</h3>"
      ],
      "text/plain": [
       "<IPython.core.display.HTML object>"
      ]
     },
     "metadata": {},
     "output_type": "display_data"
    },
    {
     "data": {
      "text/html": [
       "<div>\n",
       "<style scoped>\n",
       "    .dataframe tbody tr th:only-of-type {\n",
       "        vertical-align: middle;\n",
       "    }\n",
       "\n",
       "    .dataframe tbody tr th {\n",
       "        vertical-align: top;\n",
       "    }\n",
       "\n",
       "    .dataframe thead th {\n",
       "        text-align: right;\n",
       "    }\n",
       "</style>\n",
       "<table border=\"1\" class=\"dataframe\">\n",
       "  <thead>\n",
       "    <tr style=\"text-align: right;\">\n",
       "      <th></th>\n",
       "      <th>default_func</th>\n",
       "      <th>remove_mode_value</th>\n",
       "      <th>logx</th>\n",
       "    </tr>\n",
       "  </thead>\n",
       "  <tbody>\n",
       "    <tr>\n",
       "      <th>count</th>\n",
       "      <td>6.000</td>\n",
       "      <td>3.000</td>\n",
       "      <td>3.000</td>\n",
       "    </tr>\n",
       "    <tr>\n",
       "      <th>count_pct_chg</th>\n",
       "      <td>100.000</td>\n",
       "      <td>-50.000</td>\n",
       "      <td>-50.000</td>\n",
       "    </tr>\n",
       "    <tr>\n",
       "      <th>mean</th>\n",
       "      <td>1483333.333</td>\n",
       "      <td>1366666.667</td>\n",
       "      <td>13.510</td>\n",
       "    </tr>\n",
       "    <tr>\n",
       "      <th>mean_pct_chg</th>\n",
       "      <td>100.000</td>\n",
       "      <td>-7.865</td>\n",
       "      <td>-99.999</td>\n",
       "    </tr>\n",
       "    <tr>\n",
       "      <th>median</th>\n",
       "      <td>1600000.000</td>\n",
       "      <td>2000000.000</td>\n",
       "      <td>14.509</td>\n",
       "    </tr>\n",
       "    <tr>\n",
       "      <th>median_pct_chg</th>\n",
       "      <td>100.000</td>\n",
       "      <td>25.000</td>\n",
       "      <td>-99.999</td>\n",
       "    </tr>\n",
       "    <tr>\n",
       "      <th>min</th>\n",
       "      <td>100000.000</td>\n",
       "      <td>100000.000</td>\n",
       "      <td>11.513</td>\n",
       "    </tr>\n",
       "    <tr>\n",
       "      <th>min_pct_chg</th>\n",
       "      <td>100.000</td>\n",
       "      <td>0.000</td>\n",
       "      <td>-99.988</td>\n",
       "    </tr>\n",
       "    <tr>\n",
       "      <th>max</th>\n",
       "      <td>2000000.000</td>\n",
       "      <td>2000000.000</td>\n",
       "      <td>14.509</td>\n",
       "    </tr>\n",
       "    <tr>\n",
       "      <th>max_pct_chg</th>\n",
       "      <td>100.000</td>\n",
       "      <td>0.000</td>\n",
       "      <td>-99.999</td>\n",
       "    </tr>\n",
       "    <tr>\n",
       "      <th>std</th>\n",
       "      <td>705454.936</td>\n",
       "      <td>1096965.511</td>\n",
       "      <td>1.730</td>\n",
       "    </tr>\n",
       "    <tr>\n",
       "      <th>std_pct_chg</th>\n",
       "      <td>100.000</td>\n",
       "      <td>55.498</td>\n",
       "      <td>-100.000</td>\n",
       "    </tr>\n",
       "  </tbody>\n",
       "</table>\n",
       "</div>"
      ],
      "text/plain": [
       "                default_func  remove_mode_value     logx\n",
       "count                  6.000              3.000    3.000\n",
       "count_pct_chg        100.000            -50.000  -50.000\n",
       "mean             1483333.333        1366666.667   13.510\n",
       "mean_pct_chg         100.000             -7.865  -99.999\n",
       "median           1600000.000        2000000.000   14.509\n",
       "median_pct_chg       100.000             25.000  -99.999\n",
       "min               100000.000         100000.000   11.513\n",
       "min_pct_chg          100.000              0.000  -99.988\n",
       "max              2000000.000        2000000.000   14.509\n",
       "max_pct_chg          100.000              0.000  -99.999\n",
       "std               705454.936        1096965.511    1.730\n",
       "std_pct_chg          100.000             55.498 -100.000"
      ]
     },
     "metadata": {},
     "output_type": "display_data"
    },
    {
     "data": {
      "image/png": "[encoded data removed]",
      "text/plain": [
       "<Figure size 1200x400 with 3 Axes>"
      ]
     },
     "metadata": {},
     "output_type": "display_data"
    },
    {
     "name": "stdout",
     "output_type": "stream",
     "text": [
      "\n",
      "\n",
      "\n",
      "\n",
      "\n",
      "\n",
      "\n",
      "\n"
     ]
    },
    {
     "data": {
      "text/html": [
       "<h3>PROCESS_DT</h3>"
      ],
      "text/plain": [
       "<IPython.core.display.HTML object>"
      ]
     },
     "metadata": {},
     "output_type": "display_data"
    },
    {
     "data": {
      "image/png": "[encoded data removed]",
      "text/plain": [
       "<Figure size 1500x500 with 2 Axes>"
      ]
     },
     "metadata": {},
     "output_type": "display_data"
    },
    {
     "name": "stdout",
     "output_type": "stream",
     "text": [
      "\n",
      "\n",
      "\n",
      "\n"
     ]
    }
   ],
   "source": [
    "for i, r in valid_info.iterrows():\n",
    "    if r['Dtype'] == object:\n",
    "        aly_cat_col(df, [r['Column']])\n",
    "    elif r['Dtype'] == 'datetime64[ns]':\n",
    "        aly_datetime(df, r['Column'], 'CUSTOMER_CDE')\n",
    "    else:\n",
    "        plot_multi_hist_aly(df, [r['Column']])\n",
    "    print('\\n\\n\\n')"
   ]
  },
  {
   "cell_type": "code",
   "execution_count": 25,
   "id": "eebf6c4f-fbf9-413e-bd76-0f91c9338bd9",
   "metadata": {
    "tags": []
   },
   "outputs": [
    {
     "data": {
      "text/plain": [
       "(Index(['TXN_NO', 'SUB_BRANCH_KEY', 'SUB_BRANCH_CDE', 'ACCT_NO_1', 'ACCT_NO_2',\n",
       "        'CUSTOMER_KEY', 'CUSTOMER_CDE', 'PARTNER_CDE', 'SUB_SECTOR_CDE',\n",
       "        'DAO_KEY', 'DAO_CDE', 'CURRENCY_CDE', 'NARRATIVE', 'POLICY_NO',\n",
       "        'SUB_PRODUCT_CDE', 'SUB_PRODUCT_NM', 'VALUE_DT', 'AMT', 'AMT_LCL',\n",
       "        'PROCESS_DT', 'REC_CREATE_DT', 'REC_UPDATE_DT', 'SALES_ID',\n",
       "        'SALES_NAME'],\n",
       "       dtype='object'),\n",
       " 24)"
      ]
     },
     "execution_count": 25,
     "metadata": {},
     "output_type": "execute_result"
    }
   ],
   "source": [
    "df.columns, len(df.columns)"
   ]
  },
  {
   "cell_type": "code",
   "execution_count": 26,
   "id": "14714d43-1742-4583-addc-5372ec5d7aa8",
   "metadata": {
    "tags": []
   },
   "outputs": [
    {
     "data": {
      "text/plain": [
       "(Index(['VALUE_DT', 'AMT', 'AMT_LCL', 'PROCESS_DT'], dtype='object', name='Column'),\n",
       " 4)"
      ]
     },
     "execution_count": 26,
     "metadata": {},
     "output_type": "execute_result"
    }
   ],
   "source": [
    "valid_info.set_index('Column').index, len(valid_info['Column'].index)"
   ]
  },
  {
   "cell_type": "code",
   "execution_count": 27,
   "id": "171c11d2-4bb4-443d-adca-6197ce1a553e",
   "metadata": {
    "tags": []
   },
   "outputs": [
    {
     "data": {
      "text/plain": [
       "Index(['TXN_NO', 'SUB_BRANCH_KEY', 'SUB_BRANCH_CDE', 'ACCT_NO_1', 'ACCT_NO_2',\n",
       "       'CUSTOMER_KEY', 'CUSTOMER_CDE', 'PARTNER_CDE', 'SUB_SECTOR_CDE',\n",
       "       'DAO_KEY', 'DAO_CDE', 'CURRENCY_CDE', 'NARRATIVE', 'POLICY_NO',\n",
       "       'SUB_PRODUCT_CDE', 'SUB_PRODUCT_NM', 'VALUE_DT', 'AMT', 'AMT_LCL',\n",
       "       'PROCESS_DT', 'REC_CREATE_DT', 'REC_UPDATE_DT', 'SALES_ID',\n",
       "       'SALES_NAME'],\n",
       "      dtype='object')"
      ]
     },
     "execution_count": 27,
     "metadata": {},
     "output_type": "execute_result"
    }
   ],
   "source": [
    "df.columns"
   ]
  },
  {
   "cell_type": "markdown",
   "id": "a19e3e3f-5de5-4b9d-9243-cdad7bb60c0c",
   "metadata": {},
   "source": [
    "## COMPARE SAMPLES - SUB1/2/3"
   ]
  },
  {
   "cell_type": "raw",
   "id": "58e9d07b-c07b-4f9e-83d1-f2436882b141",
   "metadata": {
    "tags": []
   },
   "source": [
    "subsamples = sorted(os.listdir(NAMESPACE.IMG_FP))\n",
    "subsamples[:3]"
   ]
  },
  {
   "cell_type": "raw",
   "id": "3763f48a-033c-4627-be86-39532266ff46",
   "metadata": {
    "tags": []
   },
   "source": [
    "all_img_names = []\n",
    "for sub in subsamples:\n",
    "    sub_fp = os.path.join(NAMESPACE.IMG_FP, sub)\n",
    "    img_names = os.listdir(sub_fp)\n",
    "    img_names = [i for i in img_names if i.endswith('jpg')]\n",
    "    all_img_names.extend(img_names)\n",
    "all_img_names = list(set(all_img_names))\n",
    "all_img_names[:3]"
   ]
  },
  {
   "cell_type": "raw",
   "id": "22b6c7c8-8cf3-456d-bdbc-64651485e82f",
   "metadata": {
    "tags": []
   },
   "source": [
    "for img_nm in img_names[:]:\n",
    "    display(img_nm)\n",
    "    fig, axes = plt.subplots(len(subsamples),1,figsize=(15,15))\n",
    "    for i, sub in enumerate(subsamples):\n",
    "        img_fp = os.path.join(NAMESPACE.IMG_FP, sub, img_nm)\n",
    "        img = mpimg.imread(img_fp)\n",
    "        axes[i].imshow(img)\n",
    "    plt.show()"
   ]
  },
  {
   "cell_type": "raw",
   "id": "e97103a0-66e3-4192-bec5-32124257cb7d",
   "metadata": {},
   "source": []
  }
 ],
 "metadata": {
  "kernelspec": {
   "display_name": "Python 3 (ipykernel)",
   "language": "python",
   "name": "python3"
  },
  "language_info": {
   "codemirror_mode": {
    "name": "ipython",
    "version": 3
   },
   "file_extension": ".py",
   "mimetype": "text/x-python",
   "name": "python",
   "nbconvert_exporter": "python",
   "pygments_lexer": "ipython3",
   "version": "3.8.13"
  },
  "toc-autonumbering": false,
  "toc-showcode": false,
  "toc-showmarkdowntxt": false
 },
 "nbformat": 4,
 "nbformat_minor": 5
}
