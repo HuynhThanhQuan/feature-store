{
 "cells": [
  {
   "cell_type": "code",
   "execution_count": 1,
   "id": "eb083a0b-d042-4f8e-b5cd-f450d1035b4f",
   "metadata": {},
   "outputs": [],
   "source": [
    "import pandas as pd"
   ]
  },
  {
   "cell_type": "code",
   "execution_count": 2,
   "id": "bbd59aeb-9269-48b9-a682-226e9a38fd56",
   "metadata": {},
   "outputs": [],
   "source": [
    "SEL_FTR = pd.read_excel('STB_FIS_FeatureStore_21082023.xlsx')"
   ]
  },
  {
   "cell_type": "code",
   "execution_count": 3,
   "id": "b9577cfd-241f-4b3d-8b76-3748949feaca",
   "metadata": {},
   "outputs": [],
   "source": [
    "FULL_FTR = pd.read_excel('STB_FIS_FeatureStore_21082023.xlsx', sheet_name='FEATURE_STORE')"
   ]
  },
  {
   "cell_type": "code",
   "execution_count": 4,
   "id": "010e5f39-8ea1-4948-8d2c-cbebff53f19e",
   "metadata": {},
   "outputs": [],
   "source": [
    "REAC_FTR = pd.read_excel('STB_FIS_FeatureStore_21082023.xlsx', sheet_name='REACTIVATE')"
   ]
  },
  {
   "cell_type": "code",
   "execution_count": 5,
   "id": "d2ba6418-512f-4634-9ec1-478c0d5a48de",
   "metadata": {},
   "outputs": [],
   "source": [
    "MAP = pd.read_excel('Tổng hợp Mapping STB_v2.xlsx')"
   ]
  },
  {
   "cell_type": "code",
   "execution_count": 6,
   "id": "8183d2cb-76a0-456c-9f4e-305cb3b658c1",
   "metadata": {},
   "outputs": [
    {
     "data": {
      "text/plain": [
       "['AREA',\n",
       " 'LOR',\n",
       " 'EB_SACOMPAY_DAY_SINCE_LTST_LOGIN',\n",
       " 'EB_SACOMPAY_HOLD',\n",
       " 'LIFE_STG',\n",
       " 'EB_MBIB_HOLD',\n",
       " 'CASA_DAY_SINCE_LTST_TXN',\n",
       " 'EB_MBIB_DAY_SINCE_ACTIVE',\n",
       " 'CASA_SUM_BAL_NOW',\n",
       " 'CARD_CREDIT_CT_OTHER_BNK',\n",
       " 'CARD_CREDIT_MAX_LIMIT',\n",
       " 'EB_SACOMPAY_DAY_SINCE_LTST_TXN',\n",
       " 'CREDIT_SCORE',\n",
       " 'CARD_CREDIT_SUM_BAL_NOW']"
      ]
     },
     "execution_count": 6,
     "metadata": {},
     "output_type": "execute_result"
    }
   ],
   "source": [
    "REAC_FTR.merge(FULL_FTR, how='inner', left_on='FTR_NM', right_on='FEAT_NM')['FTR_NM'].tolist()"
   ]
  },
  {
   "cell_type": "code",
   "execution_count": null,
   "id": "33eb5866-b5dc-486a-86c6-ef416d39f465",
   "metadata": {},
   "outputs": [],
   "source": []
  }
 ],
 "metadata": {
  "kernelspec": {
   "display_name": "Python 3 (ipykernel)",
   "language": "python",
   "name": "python3"
  },
  "language_info": {
   "codemirror_mode": {
    "name": "ipython",
    "version": 3
   },
   "file_extension": ".py",
   "mimetype": "text/x-python",
   "name": "python",
   "nbconvert_exporter": "python",
   "pygments_lexer": "ipython3",
   "version": "3.10.13"
  }
 },
 "nbformat": 4,
 "nbformat_minor": 5
}
