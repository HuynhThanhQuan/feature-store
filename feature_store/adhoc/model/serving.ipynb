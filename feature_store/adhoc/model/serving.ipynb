{
 "cells": [
  {
   "cell_type": "code",
   "execution_count": 1,
   "id": "6a549bec-6500-4c5f-a63e-d46e73b895d4",
   "metadata": {},
   "outputs": [
    {
     "name": "stdout",
     "output_type": "stream",
     "text": [
      "['Solarize_Light2', '_classic_test_patch', '_mpl-gallery', '_mpl-gallery-nogrid', 'bmh', 'classic', 'dark_background', 'fast', 'fivethirtyeight', 'ggplot', 'grayscale', 'seaborn-v0_8', 'seaborn-v0_8-bright', 'seaborn-v0_8-colorblind', 'seaborn-v0_8-dark', 'seaborn-v0_8-dark-palette', 'seaborn-v0_8-darkgrid', 'seaborn-v0_8-deep', 'seaborn-v0_8-muted', 'seaborn-v0_8-notebook', 'seaborn-v0_8-paper', 'seaborn-v0_8-pastel', 'seaborn-v0_8-poster', 'seaborn-v0_8-talk', 'seaborn-v0_8-ticks', 'seaborn-v0_8-white', 'seaborn-v0_8-whitegrid', 'tableau-colorblind10']\n",
      "Connected DB CINS_SMY - conn\n"
     ]
    }
   ],
   "source": [
    "from util import *\n",
    "import pathlib\n",
    "import os\n",
    "\n",
    "from sklearn.compose import ColumnTransformer\n",
    "from sklearn.impute import SimpleImputer\n",
    "from sklearn.pipeline import Pipeline\n",
    "from sklearn.model_selection import train_test_split\n",
    "from sklearn.preprocessing import OneHotEncoder, StandardScaler"
   ]
  },
  {
   "cell_type": "markdown",
   "id": "a36db39f-02cb-4faa-8b99-75d39a3f5895",
   "metadata": {},
   "source": [
    "# CONSTANTS"
   ]
  },
  {
   "cell_type": "code",
   "execution_count": 2,
   "id": "957efdd6-236f-46ab-ba1e-a7396d987ba2",
   "metadata": {
    "tags": []
   },
   "outputs": [],
   "source": [
    "feat_data_cols = [\n",
    "    'CASA_HOLD','CARD_CREDIT_HOLD','EB_SACOMPAY_HOLD','EB_MBIB_HOLD',\n",
    "    'LIFE_STG', 'AREA',\n",
    "    'LOR','CREDIT_SCORE',\n",
    "    'CASA_BAL_SUM_NOW','CASA_DAY_SINCE_LAST_TXN_CT_36M',\n",
    "    'CARD_CREDIT_MAX_LIMIT','CARD_CREDIT_SUM_BAL_NOW',\n",
    "    'EB_SACOMPAY_DAY_SINCE_LTST_LOGIN','EB_SACOMPAY_DAY_SINCE_LTST_TXN','EB_MBIB_DAY_SINCE_ACTIVE',\n",
    "]"
   ]
  }
 ],
 "metadata": {
  "kernelspec": {
   "display_name": "Python 3 (ipykernel)",
   "language": "python",
   "name": "python3"
  },
  "language_info": {
   "codemirror_mode": {
    "name": "ipython",
    "version": 3
   },
   "file_extension": ".py",
   "mimetype": "text/x-python",
   "name": "python",
   "nbconvert_exporter": "python",
   "pygments_lexer": "ipython3",
   "version": "3.8.13"
  }
 },
 "nbformat": 4,
 "nbformat_minor": 5
}
