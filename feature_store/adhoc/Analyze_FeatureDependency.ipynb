{
 "cells": [
  {
   "cell_type": "code",
   "execution_count": 4,
   "id": "26326cfa-289a-4f8c-b981-906693acbd6b",
   "metadata": {
    "tags": []
   },
   "outputs": [],
   "source": [
    "import pandas as pd"
   ]
  },
  {
   "cell_type": "code",
   "execution_count": 12,
   "id": "a86d5f6d-d708-48e3-a9de-434464514567",
   "metadata": {
    "tags": []
   },
   "outputs": [],
   "source": [
    "df = pd.read_csv('../output/feature_dependency_20231031_030205.csv', index_col=0)"
   ]
  },
  {
   "cell_type": "code",
   "execution_count": 13,
   "id": "f291c073-92c5-456f-87e0-37fa654efe3e",
   "metadata": {
    "tags": []
   },
   "outputs": [
    {
     "data": {
      "text/html": [
       "<div>\n",
       "<style scoped>\n",
       "    .dataframe tbody tr th:only-of-type {\n",
       "        vertical-align: middle;\n",
       "    }\n",
       "\n",
       "    .dataframe tbody tr th {\n",
       "        vertical-align: top;\n",
       "    }\n",
       "\n",
       "    .dataframe thead th {\n",
       "        text-align: right;\n",
       "    }\n",
       "</style>\n",
       "<table border=\"1\" class=\"dataframe\">\n",
       "  <thead>\n",
       "    <tr style=\"text-align: right;\">\n",
       "      <th></th>\n",
       "      <th>feature_name</th>\n",
       "      <th>derived_table</th>\n",
       "    </tr>\n",
       "  </thead>\n",
       "  <tbody>\n",
       "    <tr>\n",
       "      <th>0</th>\n",
       "      <td>FAV_POS_6M_CT</td>\n",
       "      <td>CINS_TMP_POS_MERCHANT_6M_11062023</td>\n",
       "    </tr>\n",
       "    <tr>\n",
       "      <th>1</th>\n",
       "      <td>FAV_POS_6M_CT</td>\n",
       "      <td>CINS_TMP_POS_TERMINAL_6M_11062023</td>\n",
       "    </tr>\n",
       "    <tr>\n",
       "      <th>2</th>\n",
       "      <td>FAV_POS_6M_SM</td>\n",
       "      <td>CINS_TMP_POS_TERMINAL_AMT_6M_11062023</td>\n",
       "    </tr>\n",
       "    <tr>\n",
       "      <th>3</th>\n",
       "      <td>FAV_POS_6M_SM</td>\n",
       "      <td>CINS_TMP_POS_MERCHANT_AMT_6M_11062023</td>\n",
       "    </tr>\n",
       "    <tr>\n",
       "      <th>4</th>\n",
       "      <td>LOR</td>\n",
       "      <td>DW_CUSTOMER_DIM</td>\n",
       "    </tr>\n",
       "    <tr>\n",
       "      <th>...</th>\n",
       "      <td>...</td>\n",
       "      <td>...</td>\n",
       "    </tr>\n",
       "    <tr>\n",
       "      <th>301</th>\n",
       "      <td>TRAVEL_SM_AMT_3M</td>\n",
       "      <td>DW_CARD_TRANSACTION_FCT</td>\n",
       "    </tr>\n",
       "    <tr>\n",
       "      <th>302</th>\n",
       "      <td>TRAVEL_SM_AMT_3M</td>\n",
       "      <td>DW_CUSTOMER_DIM</td>\n",
       "    </tr>\n",
       "    <tr>\n",
       "      <th>303</th>\n",
       "      <td>TRAVEL_SM_AMT_6M</td>\n",
       "      <td>CINS_MCC_CATEGORY</td>\n",
       "    </tr>\n",
       "    <tr>\n",
       "      <th>304</th>\n",
       "      <td>TRAVEL_SM_AMT_6M</td>\n",
       "      <td>DW_CARD_TRANSACTION_FCT</td>\n",
       "    </tr>\n",
       "    <tr>\n",
       "      <th>305</th>\n",
       "      <td>TRAVEL_SM_AMT_6M</td>\n",
       "      <td>DW_CUSTOMER_DIM</td>\n",
       "    </tr>\n",
       "  </tbody>\n",
       "</table>\n",
       "<p>306 rows × 2 columns</p>\n",
       "</div>"
      ],
      "text/plain": [
       "         feature_name                          derived_table\n",
       "0       FAV_POS_6M_CT      CINS_TMP_POS_MERCHANT_6M_11062023\n",
       "1       FAV_POS_6M_CT      CINS_TMP_POS_TERMINAL_6M_11062023\n",
       "2       FAV_POS_6M_SM  CINS_TMP_POS_TERMINAL_AMT_6M_11062023\n",
       "3       FAV_POS_6M_SM  CINS_TMP_POS_MERCHANT_AMT_6M_11062023\n",
       "4                 LOR                        DW_CUSTOMER_DIM\n",
       "..                ...                                    ...\n",
       "301  TRAVEL_SM_AMT_3M                DW_CARD_TRANSACTION_FCT\n",
       "302  TRAVEL_SM_AMT_3M                        DW_CUSTOMER_DIM\n",
       "303  TRAVEL_SM_AMT_6M                      CINS_MCC_CATEGORY\n",
       "304  TRAVEL_SM_AMT_6M                DW_CARD_TRANSACTION_FCT\n",
       "305  TRAVEL_SM_AMT_6M                        DW_CUSTOMER_DIM\n",
       "\n",
       "[306 rows x 2 columns]"
      ]
     },
     "execution_count": 13,
     "metadata": {},
     "output_type": "execute_result"
    }
   ],
   "source": [
    "df"
   ]
  },
  {
   "cell_type": "code",
   "execution_count": 18,
   "id": "9e72fc2d-7ab0-4c97-939d-46f7ac9838ce",
   "metadata": {
    "tags": []
   },
   "outputs": [],
   "source": [
    "d1 = df[df['derived_table'].apply(lambda x:not x.startswith('CINS_TMP'))]"
   ]
  },
  {
   "cell_type": "code",
   "execution_count": 21,
   "id": "0d712126-bdf9-401e-916c-c98fcce2d3ec",
   "metadata": {
    "tags": []
   },
   "outputs": [
    {
     "data": {
      "text/plain": [
       "4                                   LOR\n",
       "5                          CREDIT_SCORE\n",
       "7                 CARD_CREDIT_MAX_LIMIT\n",
       "10     EB_SACOMPAY_DAY_SINCE_LTST_LOGIN\n",
       "12          CARD_CREDIT_MAX_BRAND_LIMIT\n",
       "                     ...               \n",
       "291                 CASA_SUM_TXN_AMT_3M\n",
       "294                 CASA_SUM_TXN_AMT_6M\n",
       "297                    TRAVEL_SM_AMT_1M\n",
       "300                    TRAVEL_SM_AMT_3M\n",
       "303                    TRAVEL_SM_AMT_6M\n",
       "Name: feature_name, Length: 113, dtype: object"
      ]
     },
     "execution_count": 21,
     "metadata": {},
     "output_type": "execute_result"
    }
   ],
   "source": [
    "d1['feature_name'].drop_duplicates()"
   ]
  },
  {
   "cell_type": "code",
   "execution_count": null,
   "id": "7db9698c-12f7-4039-b5a6-5c81df488bfb",
   "metadata": {},
   "outputs": [],
   "source": []
  }
 ],
 "metadata": {
  "kernelspec": {
   "display_name": "Python 3 (ipykernel)",
   "language": "python",
   "name": "python3"
  },
  "language_info": {
   "codemirror_mode": {
    "name": "ipython",
    "version": 3
   },
   "file_extension": ".py",
   "mimetype": "text/x-python",
   "name": "python",
   "nbconvert_exporter": "python",
   "pygments_lexer": "ipython3",
   "version": "3.8.13"
  }
 },
 "nbformat": 4,
 "nbformat_minor": 5
}
